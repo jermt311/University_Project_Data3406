{
 "cells": [
  {
   "cell_type": "markdown",
   "metadata": {},
   "source": [
    "# Calculating Step Count Metrics"
   ]
  },
  {
   "cell_type": "markdown",
   "metadata": {},
   "source": [
    "### Driving Question\n",
    "This booklet will give Python code for calculating each of the relevant step-count metrics, given as Python functions which can act on Pandas databases in the required format. The data will come from the User1.csv file and will work on other files strucutred in the same way."
   ]
  },
  {
   "cell_type": "markdown",
   "metadata": {},
   "source": [
    "### Importing the Data"
   ]
  },
  {
   "cell_type": "code",
   "execution_count": 2,
   "metadata": {},
   "outputs": [],
   "source": [
    "#Import required packages\n",
    "import numpy as np\n",
    "import pandas as pd\n",
    "import matplotlib.pyplot as plt\n",
    "from datetime import datetime"
   ]
  },
  {
   "cell_type": "markdown",
   "metadata": {},
   "source": [
    "We import the `User1.csv` file from the data folder."
   ]
  },
  {
   "cell_type": "code",
   "execution_count": 3,
   "metadata": {},
   "outputs": [
    {
     "data": {
      "text/html": [
       "<div>\n",
       "<style scoped>\n",
       "    .dataframe tbody tr th:only-of-type {\n",
       "        vertical-align: middle;\n",
       "    }\n",
       "\n",
       "    .dataframe tbody tr th {\n",
       "        vertical-align: top;\n",
       "    }\n",
       "\n",
       "    .dataframe thead th {\n",
       "        text-align: right;\n",
       "    }\n",
       "</style>\n",
       "<table border=\"1\" class=\"dataframe\">\n",
       "  <thead>\n",
       "    <tr style=\"text-align: right;\">\n",
       "      <th></th>\n",
       "      <th>Start</th>\n",
       "      <th>Finish</th>\n",
       "      <th>Steps (count)</th>\n",
       "    </tr>\n",
       "  </thead>\n",
       "  <tbody>\n",
       "    <tr>\n",
       "      <th>0</th>\n",
       "      <td>07-Dec-2014 09:00</td>\n",
       "      <td>07-Dec-2014 10:00</td>\n",
       "      <td>941.0</td>\n",
       "    </tr>\n",
       "    <tr>\n",
       "      <th>1</th>\n",
       "      <td>07-Dec-2014 10:00</td>\n",
       "      <td>07-Dec-2014 11:00</td>\n",
       "      <td>408.0</td>\n",
       "    </tr>\n",
       "    <tr>\n",
       "      <th>2</th>\n",
       "      <td>07-Dec-2014 11:00</td>\n",
       "      <td>07-Dec-2014 12:00</td>\n",
       "      <td>157.0</td>\n",
       "    </tr>\n",
       "    <tr>\n",
       "      <th>3</th>\n",
       "      <td>07-Dec-2014 12:00</td>\n",
       "      <td>07-Dec-2014 13:00</td>\n",
       "      <td>1017.0</td>\n",
       "    </tr>\n",
       "  </tbody>\n",
       "</table>\n",
       "</div>"
      ],
      "text/plain": [
       "               Start             Finish  Steps (count)\n",
       "0  07-Dec-2014 09:00  07-Dec-2014 10:00          941.0\n",
       "1  07-Dec-2014 10:00  07-Dec-2014 11:00          408.0\n",
       "2  07-Dec-2014 11:00  07-Dec-2014 12:00          157.0\n",
       "3  07-Dec-2014 12:00  07-Dec-2014 13:00         1017.0"
      ]
     },
     "execution_count": 3,
     "metadata": {},
     "output_type": "execute_result"
    }
   ],
   "source": [
    "dat = pd.read_csv(\"../data/User1.csv\")\n",
    "dat.head(4)"
   ]
  },
  {
   "cell_type": "markdown",
   "metadata": {},
   "source": [
    "If the data has been properly imported, the first 4 rows should appear. We rename the column heading for ease of use later."
   ]
  },
  {
   "cell_type": "code",
   "execution_count": 4,
   "metadata": {},
   "outputs": [],
   "source": [
    "dat.columns = [\"Start\", \"Finish\", \"Steps\"]"
   ]
  },
  {
   "cell_type": "markdown",
   "metadata": {},
   "source": [
    "### Calculating Daily Total Steps and Number of Hours Walked\n",
    "\n",
    "The most simple metric is to simply find the total number of steps walked and how many hours in that day had non-zero walking hours. This will be the basis of our other metrics. We also want to remove the first and last days of measurement if they do not have all 24 hours measured in order to maintain fairness."
   ]
  },
  {
   "cell_type": "code",
   "execution_count": 5,
   "metadata": {},
   "outputs": [
    {
     "data": {
      "text/html": [
       "<div>\n",
       "<style scoped>\n",
       "    .dataframe tbody tr th:only-of-type {\n",
       "        vertical-align: middle;\n",
       "    }\n",
       "\n",
       "    .dataframe tbody tr th {\n",
       "        vertical-align: top;\n",
       "    }\n",
       "\n",
       "    .dataframe thead th {\n",
       "        text-align: right;\n",
       "    }\n",
       "</style>\n",
       "<table border=\"1\" class=\"dataframe\">\n",
       "  <thead>\n",
       "    <tr style=\"text-align: right;\">\n",
       "      <th></th>\n",
       "      <th>Start</th>\n",
       "      <th>Finish</th>\n",
       "      <th>Steps</th>\n",
       "      <th>Date</th>\n",
       "      <th>Hour</th>\n",
       "    </tr>\n",
       "  </thead>\n",
       "  <tbody>\n",
       "    <tr>\n",
       "      <th>0</th>\n",
       "      <td>07-Dec-2014 09:00</td>\n",
       "      <td>07-Dec-2014 10:00</td>\n",
       "      <td>941.0</td>\n",
       "      <td>07-Dec-2014</td>\n",
       "      <td>9</td>\n",
       "    </tr>\n",
       "    <tr>\n",
       "      <th>1</th>\n",
       "      <td>07-Dec-2014 10:00</td>\n",
       "      <td>07-Dec-2014 11:00</td>\n",
       "      <td>408.0</td>\n",
       "      <td>07-Dec-2014</td>\n",
       "      <td>10</td>\n",
       "    </tr>\n",
       "    <tr>\n",
       "      <th>2</th>\n",
       "      <td>07-Dec-2014 11:00</td>\n",
       "      <td>07-Dec-2014 12:00</td>\n",
       "      <td>157.0</td>\n",
       "      <td>07-Dec-2014</td>\n",
       "      <td>11</td>\n",
       "    </tr>\n",
       "    <tr>\n",
       "      <th>3</th>\n",
       "      <td>07-Dec-2014 12:00</td>\n",
       "      <td>07-Dec-2014 13:00</td>\n",
       "      <td>1017.0</td>\n",
       "      <td>07-Dec-2014</td>\n",
       "      <td>12</td>\n",
       "    </tr>\n",
       "  </tbody>\n",
       "</table>\n",
       "</div>"
      ],
      "text/plain": [
       "               Start             Finish   Steps         Date  Hour\n",
       "0  07-Dec-2014 09:00  07-Dec-2014 10:00   941.0  07-Dec-2014     9\n",
       "1  07-Dec-2014 10:00  07-Dec-2014 11:00   408.0  07-Dec-2014    10\n",
       "2  07-Dec-2014 11:00  07-Dec-2014 12:00   157.0  07-Dec-2014    11\n",
       "3  07-Dec-2014 12:00  07-Dec-2014 13:00  1017.0  07-Dec-2014    12"
      ]
     },
     "execution_count": 5,
     "metadata": {},
     "output_type": "execute_result"
    }
   ],
   "source": [
    "dat[\"Date\"] = [s.split(\" \")[0] for s in dat[\"Start\"]]\n",
    "dat[\"Hour\"] = [int((s.split(\":\")[0])[-2:]) for s in dat[\"Start\"]]\n",
    "dat.head(4)"
   ]
  },
  {
   "cell_type": "markdown",
   "metadata": {},
   "source": [
    "We can see that we have extracted the date and hour of each observation. This will help when aggregating the number of steps over each day."
   ]
  },
  {
   "cell_type": "code",
   "execution_count": 6,
   "metadata": {},
   "outputs": [
    {
     "name": "stdout",
     "output_type": "stream",
     "text": [
      "42076 41832\n"
     ]
    }
   ],
   "source": [
    "#Removes dates from the data frame that do not have a record for each hour\n",
    "def rmv_partial_dates(df):\n",
    "    #Count which dates do not have 24 measurements\n",
    "    date_counts = dat[\"Date\"].value_counts() != 24\n",
    "    #Create a list of these dates\n",
    "    partial_dates = date_counts.index[date_counts == True].to_list()\n",
    "    \n",
    "    #Filter out all dates that do not have the required number\n",
    "    for date in partial_dates:\n",
    "        df = df[df[\"Date\"] != date]\n",
    "    \n",
    "    return df\n",
    "    \n",
    "    \n",
    "dat1 = rmv_partial_dates(dat)\n",
    "print(dat.shape[0], dat1.shape[0])"
   ]
  },
  {
   "cell_type": "markdown",
   "metadata": {},
   "source": [
    "### Only counting days with at least n hours of non-zero observations\n",
    "\n",
    "Notice that we dropped a few rows that correspond to days that did not contain a full 24 hours. Now we can count how many hours of non-zero observations are in each day."
   ]
  },
  {
   "cell_type": "code",
   "execution_count": 18,
   "metadata": {},
   "outputs": [],
   "source": [
    "def days_with_required_hours(df, n = 10, minsteps = 0):\n",
    "    #Only look at observations with more than minsteps\n",
    "    df1 = df[df[\"Steps\"] > minsteps]\n",
    "    #List the days that have more than n hours of observations left\n",
    "    required_hours = df1[\"Date\"].value_counts() > n\n",
    "    \n",
    "    return required_hours.index[required_hours.values].to_list()"
   ]
  },
  {
   "cell_type": "markdown",
   "metadata": {},
   "source": [
    "We now put everything together, creating a new dataframe that gives the number of hours walked in each day and whether or not the day achieved the required number of steps. For this we do not need to use the previous function, we simply do a count and then introduce a new Boolean variable."
   ]
  },
  {
   "cell_type": "code",
   "execution_count": 28,
   "metadata": {},
   "outputs": [
    {
     "data": {
      "text/html": [
       "<div>\n",
       "<style scoped>\n",
       "    .dataframe tbody tr th:only-of-type {\n",
       "        vertical-align: middle;\n",
       "    }\n",
       "\n",
       "    .dataframe tbody tr th {\n",
       "        vertical-align: top;\n",
       "    }\n",
       "\n",
       "    .dataframe thead th {\n",
       "        text-align: right;\n",
       "    }\n",
       "</style>\n",
       "<table border=\"1\" class=\"dataframe\">\n",
       "  <thead>\n",
       "    <tr style=\"text-align: right;\">\n",
       "      <th></th>\n",
       "      <th>sum</th>\n",
       "      <th>nonzero</th>\n",
       "      <th>required</th>\n",
       "    </tr>\n",
       "    <tr>\n",
       "      <th>Date</th>\n",
       "      <th></th>\n",
       "      <th></th>\n",
       "      <th></th>\n",
       "    </tr>\n",
       "  </thead>\n",
       "  <tbody>\n",
       "    <tr>\n",
       "      <th>01-Apr-2015</th>\n",
       "      <td>7828.000000</td>\n",
       "      <td>10</td>\n",
       "      <td>True</td>\n",
       "    </tr>\n",
       "    <tr>\n",
       "      <th>01-Apr-2016</th>\n",
       "      <td>6831.350375</td>\n",
       "      <td>15</td>\n",
       "      <td>True</td>\n",
       "    </tr>\n",
       "    <tr>\n",
       "      <th>01-Apr-2017</th>\n",
       "      <td>4122.000000</td>\n",
       "      <td>7</td>\n",
       "      <td>True</td>\n",
       "    </tr>\n",
       "    <tr>\n",
       "      <th>01-Apr-2019</th>\n",
       "      <td>5484.000000</td>\n",
       "      <td>22</td>\n",
       "      <td>True</td>\n",
       "    </tr>\n",
       "    <tr>\n",
       "      <th>01-Aug-2015</th>\n",
       "      <td>5746.000000</td>\n",
       "      <td>6</td>\n",
       "      <td>True</td>\n",
       "    </tr>\n",
       "    <tr>\n",
       "      <th>01-Aug-2016</th>\n",
       "      <td>4758.000000</td>\n",
       "      <td>11</td>\n",
       "      <td>True</td>\n",
       "    </tr>\n",
       "    <tr>\n",
       "      <th>01-Aug-2017</th>\n",
       "      <td>4986.000000</td>\n",
       "      <td>10</td>\n",
       "      <td>True</td>\n",
       "    </tr>\n",
       "    <tr>\n",
       "      <th>01-Aug-2018</th>\n",
       "      <td>4282.000000</td>\n",
       "      <td>6</td>\n",
       "      <td>True</td>\n",
       "    </tr>\n",
       "    <tr>\n",
       "      <th>01-Aug-2019</th>\n",
       "      <td>21837.000000</td>\n",
       "      <td>10</td>\n",
       "      <td>True</td>\n",
       "    </tr>\n",
       "    <tr>\n",
       "      <th>01-Dec-2015</th>\n",
       "      <td>3593.000000</td>\n",
       "      <td>6</td>\n",
       "      <td>True</td>\n",
       "    </tr>\n",
       "  </tbody>\n",
       "</table>\n",
       "</div>"
      ],
      "text/plain": [
       "                      sum  nonzero  required\n",
       "Date                                        \n",
       "01-Apr-2015   7828.000000       10      True\n",
       "01-Apr-2016   6831.350375       15      True\n",
       "01-Apr-2017   4122.000000        7      True\n",
       "01-Apr-2019   5484.000000       22      True\n",
       "01-Aug-2015   5746.000000        6      True\n",
       "01-Aug-2016   4758.000000       11      True\n",
       "01-Aug-2017   4986.000000       10      True\n",
       "01-Aug-2018   4282.000000        6      True\n",
       "01-Aug-2019  21837.000000       10      True\n",
       "01-Dec-2015   3593.000000        6      True"
      ]
     },
     "execution_count": 28,
     "metadata": {},
     "output_type": "execute_result"
    }
   ],
   "source": [
    "def daily_steps_df(df):\n",
    "    #Remove any partial dates and select required columns\n",
    "    df1 = rmv_partial_dates(dat)[[\"Steps\",\"Date\",\"Hour\"]]\n",
    "    #Pivot data which helps with aggregating\n",
    "    df1 = df1.pivot(index = \"Date\", columns = \"Hour\")\n",
    "    #Find number of nonzero measurements and sum of steps\n",
    "    df1[\"nonzero\"] = df1.agg(np.count_nonzero, axis = 1)\n",
    "    df1[\"sum\"] = df1.drop(columns = [\"nonzero\"]).agg(sum, axis = 1)\n",
    "    #Create new dataframe with this information\n",
    "    df2 = pd.DataFrame(df1[\"sum\"])\n",
    "    df2[\"nonzero\"] = df1[\"nonzero\"]\n",
    "    \n",
    "    return df2\n",
    "    \n",
    "\n",
    "dat1 = daily_steps_df(dat)\n",
    "dat1[\"required\"] = dat1[\"nonzero\"] >= 5\n",
    "dat1.head(10)"
   ]
  },
  {
   "cell_type": "code",
   "execution_count": 29,
   "metadata": {},
   "outputs": [
    {
     "name": "stdout",
     "output_type": "stream",
     "text": [
      "(1743, 3)\n"
     ]
    },
    {
     "data": {
      "text/plain": [
       "1373"
      ]
     },
     "execution_count": 29,
     "metadata": {},
     "output_type": "execute_result"
    }
   ],
   "source": [
    "print(dat1.shape)\n",
    "#print(dat1[\"required\" == True])\n",
    "sum(dat1[\"required\"])"
   ]
  },
  {
   "cell_type": "code",
   "execution_count": null,
   "metadata": {},
   "outputs": [],
   "source": []
  }
 ],
 "metadata": {
  "kernelspec": {
   "display_name": "Python 3",
   "language": "python",
   "name": "python3"
  },
  "language_info": {
   "codemirror_mode": {
    "name": "ipython",
    "version": 3
   },
   "file_extension": ".py",
   "mimetype": "text/x-python",
   "name": "python",
   "nbconvert_exporter": "python",
   "pygments_lexer": "ipython3",
   "version": "3.7.3"
  }
 },
 "nbformat": 4,
 "nbformat_minor": 2
}
