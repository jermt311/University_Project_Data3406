{
  "nbformat": 4,
  "nbformat_minor": 0,
  "metadata": {
    "colab": {
      "name": "Week 9 -Mini Assignment.ipynb Stanley - Adherence/Valid Days ",
      "provenance": [],
      "collapsed_sections": []
    },
    "kernelspec": {
      "name": "python3",
      "display_name": "Python 3"
    }
  },
  "cells": [
    {
      "cell_type": "markdown",
      "metadata": {
        "id": "ICvqK1Tx3yCe"
      },
      "source": [
        "Stanley Dong - 480428169\n",
        "\n",
        "Personal Informatics \n",
        "\n",
        "Part Assigned: Data Processing Pipeline, more specifically --> time blocks/ adherence measures, what counts as a 'valid day'"
      ]
    },
    {
      "cell_type": "markdown",
      "metadata": {
        "id": "ztoQRM-EvAks"
      },
      "source": [
        "**Driving Question :** What is the difference between the Althoff et al (2017) calculation of step counts with one that requires 10-hours of the day with steps for a small number of users?"
      ]
    },
    {
      "cell_type": "markdown",
      "metadata": {
        "id": "iAnuXfHf-cu2"
      },
      "source": [
        "The purpose of this EDA is to define adherence or what counts as a valid day. We want to find substitutes to the 10 hour day of non zero steps. I drew inspiration from Assignment 1 Paper 2's 3 valid day definitions. \n",
        "\n",
        "Valid day Criteria\n",
        "1. Total step count for the day greater than 500 steps.\n",
        "2. 10 hours of non-zero step counts. (This is our current driving question)\n",
        "3. Between 3 time blocks ( 3am-11am, 11am-3pm, 3pm-3am), if all 3 timeblocks contain more than 0 step count, then it counts as a valid day.\n",
        "\n",
        "Thus we will be exploring 1 and 3 as possible further research section and see how many days of the original dataset is left once we apply this. "
      ]
    },
    {
      "cell_type": "code",
      "metadata": {
        "id": "8aCScAK5sTqY"
      },
      "source": [
        "#Importing Library\n",
        "import numpy as np\n",
        "import pandas as pd\n",
        "import matplotlib.pyplot as plt\n",
        "from datetime import datetime"
      ],
      "execution_count": null,
      "outputs": []
    },
    {
      "cell_type": "code",
      "metadata": {
        "id": "L6CJi-BTsZz-"
      },
      "source": [
        "#Reading in data\n",
        "df = pd.read_csv(\"/content/User1.csv\")"
      ],
      "execution_count": null,
      "outputs": []
    },
    {
      "cell_type": "code",
      "metadata": {
        "id": "bcc2zracs6xi",
        "outputId": "59f12ad9-bc30-4562-f398-c053599b8306",
        "colab": {
          "base_uri": "https://localhost:8080/",
          "height": 419
        }
      },
      "source": [
        "#Having a quick look at the data again\n",
        "df"
      ],
      "execution_count": null,
      "outputs": [
        {
          "output_type": "execute_result",
          "data": {
            "text/html": [
              "<div>\n",
              "<style scoped>\n",
              "    .dataframe tbody tr th:only-of-type {\n",
              "        vertical-align: middle;\n",
              "    }\n",
              "\n",
              "    .dataframe tbody tr th {\n",
              "        vertical-align: top;\n",
              "    }\n",
              "\n",
              "    .dataframe thead th {\n",
              "        text-align: right;\n",
              "    }\n",
              "</style>\n",
              "<table border=\"1\" class=\"dataframe\">\n",
              "  <thead>\n",
              "    <tr style=\"text-align: right;\">\n",
              "      <th></th>\n",
              "      <th>Start</th>\n",
              "      <th>Finish</th>\n",
              "      <th>Steps (count)</th>\n",
              "    </tr>\n",
              "  </thead>\n",
              "  <tbody>\n",
              "    <tr>\n",
              "      <th>0</th>\n",
              "      <td>07-Dec-2014 09:00</td>\n",
              "      <td>07-Dec-2014 10:00</td>\n",
              "      <td>941.0</td>\n",
              "    </tr>\n",
              "    <tr>\n",
              "      <th>1</th>\n",
              "      <td>07-Dec-2014 10:00</td>\n",
              "      <td>07-Dec-2014 11:00</td>\n",
              "      <td>408.0</td>\n",
              "    </tr>\n",
              "    <tr>\n",
              "      <th>2</th>\n",
              "      <td>07-Dec-2014 11:00</td>\n",
              "      <td>07-Dec-2014 12:00</td>\n",
              "      <td>157.0</td>\n",
              "    </tr>\n",
              "    <tr>\n",
              "      <th>3</th>\n",
              "      <td>07-Dec-2014 12:00</td>\n",
              "      <td>07-Dec-2014 13:00</td>\n",
              "      <td>1017.0</td>\n",
              "    </tr>\n",
              "    <tr>\n",
              "      <th>4</th>\n",
              "      <td>07-Dec-2014 13:00</td>\n",
              "      <td>07-Dec-2014 14:00</td>\n",
              "      <td>0.0</td>\n",
              "    </tr>\n",
              "    <tr>\n",
              "      <th>...</th>\n",
              "      <td>...</td>\n",
              "      <td>...</td>\n",
              "      <td>...</td>\n",
              "    </tr>\n",
              "    <tr>\n",
              "      <th>42071</th>\n",
              "      <td>25-Sep-2019 07:00</td>\n",
              "      <td>25-Sep-2019 08:00</td>\n",
              "      <td>0.0</td>\n",
              "    </tr>\n",
              "    <tr>\n",
              "      <th>42072</th>\n",
              "      <td>25-Sep-2019 08:00</td>\n",
              "      <td>25-Sep-2019 09:00</td>\n",
              "      <td>0.0</td>\n",
              "    </tr>\n",
              "    <tr>\n",
              "      <th>42073</th>\n",
              "      <td>25-Sep-2019 09:00</td>\n",
              "      <td>25-Sep-2019 10:00</td>\n",
              "      <td>0.0</td>\n",
              "    </tr>\n",
              "    <tr>\n",
              "      <th>42074</th>\n",
              "      <td>25-Sep-2019 10:00</td>\n",
              "      <td>25-Sep-2019 11:00</td>\n",
              "      <td>0.0</td>\n",
              "    </tr>\n",
              "    <tr>\n",
              "      <th>42075</th>\n",
              "      <td>25-Sep-2019 11:00</td>\n",
              "      <td>25-Sep-2019 12:00</td>\n",
              "      <td>0.0</td>\n",
              "    </tr>\n",
              "  </tbody>\n",
              "</table>\n",
              "<p>42076 rows × 3 columns</p>\n",
              "</div>"
            ],
            "text/plain": [
              "                   Start             Finish  Steps (count)\n",
              "0      07-Dec-2014 09:00  07-Dec-2014 10:00          941.0\n",
              "1      07-Dec-2014 10:00  07-Dec-2014 11:00          408.0\n",
              "2      07-Dec-2014 11:00  07-Dec-2014 12:00          157.0\n",
              "3      07-Dec-2014 12:00  07-Dec-2014 13:00         1017.0\n",
              "4      07-Dec-2014 13:00  07-Dec-2014 14:00            0.0\n",
              "...                  ...                ...            ...\n",
              "42071  25-Sep-2019 07:00  25-Sep-2019 08:00            0.0\n",
              "42072  25-Sep-2019 08:00  25-Sep-2019 09:00            0.0\n",
              "42073  25-Sep-2019 09:00  25-Sep-2019 10:00            0.0\n",
              "42074  25-Sep-2019 10:00  25-Sep-2019 11:00            0.0\n",
              "42075  25-Sep-2019 11:00  25-Sep-2019 12:00            0.0\n",
              "\n",
              "[42076 rows x 3 columns]"
            ]
          },
          "metadata": {
            "tags": []
          },
          "execution_count": 3
        }
      ]
    },
    {
      "cell_type": "code",
      "metadata": {
        "id": "WhQpIAOJs7b4",
        "outputId": "b409d1ef-461a-4406-e670-0415cf1a2704",
        "colab": {
          "base_uri": "https://localhost:8080/",
          "height": 419
        }
      },
      "source": [
        "#Splitting the start into a date and hour column. This will help ease our computation later on. \n",
        "df[\"Date\"] = [s.split(\" \")[0] for s in df[\"Start\"]]\n",
        "df[\"Hour\"] = [int((s.split(\":\")[0])[-2:]) for s in df[\"Start\"]]\n",
        "df "
      ],
      "execution_count": null,
      "outputs": [
        {
          "output_type": "execute_result",
          "data": {
            "text/html": [
              "<div>\n",
              "<style scoped>\n",
              "    .dataframe tbody tr th:only-of-type {\n",
              "        vertical-align: middle;\n",
              "    }\n",
              "\n",
              "    .dataframe tbody tr th {\n",
              "        vertical-align: top;\n",
              "    }\n",
              "\n",
              "    .dataframe thead th {\n",
              "        text-align: right;\n",
              "    }\n",
              "</style>\n",
              "<table border=\"1\" class=\"dataframe\">\n",
              "  <thead>\n",
              "    <tr style=\"text-align: right;\">\n",
              "      <th></th>\n",
              "      <th>Start</th>\n",
              "      <th>Finish</th>\n",
              "      <th>Steps (count)</th>\n",
              "      <th>Date</th>\n",
              "      <th>Hour</th>\n",
              "    </tr>\n",
              "  </thead>\n",
              "  <tbody>\n",
              "    <tr>\n",
              "      <th>0</th>\n",
              "      <td>07-Dec-2014 09:00</td>\n",
              "      <td>07-Dec-2014 10:00</td>\n",
              "      <td>941.0</td>\n",
              "      <td>07-Dec-2014</td>\n",
              "      <td>9</td>\n",
              "    </tr>\n",
              "    <tr>\n",
              "      <th>1</th>\n",
              "      <td>07-Dec-2014 10:00</td>\n",
              "      <td>07-Dec-2014 11:00</td>\n",
              "      <td>408.0</td>\n",
              "      <td>07-Dec-2014</td>\n",
              "      <td>10</td>\n",
              "    </tr>\n",
              "    <tr>\n",
              "      <th>2</th>\n",
              "      <td>07-Dec-2014 11:00</td>\n",
              "      <td>07-Dec-2014 12:00</td>\n",
              "      <td>157.0</td>\n",
              "      <td>07-Dec-2014</td>\n",
              "      <td>11</td>\n",
              "    </tr>\n",
              "    <tr>\n",
              "      <th>3</th>\n",
              "      <td>07-Dec-2014 12:00</td>\n",
              "      <td>07-Dec-2014 13:00</td>\n",
              "      <td>1017.0</td>\n",
              "      <td>07-Dec-2014</td>\n",
              "      <td>12</td>\n",
              "    </tr>\n",
              "    <tr>\n",
              "      <th>4</th>\n",
              "      <td>07-Dec-2014 13:00</td>\n",
              "      <td>07-Dec-2014 14:00</td>\n",
              "      <td>0.0</td>\n",
              "      <td>07-Dec-2014</td>\n",
              "      <td>13</td>\n",
              "    </tr>\n",
              "    <tr>\n",
              "      <th>...</th>\n",
              "      <td>...</td>\n",
              "      <td>...</td>\n",
              "      <td>...</td>\n",
              "      <td>...</td>\n",
              "      <td>...</td>\n",
              "    </tr>\n",
              "    <tr>\n",
              "      <th>42071</th>\n",
              "      <td>25-Sep-2019 07:00</td>\n",
              "      <td>25-Sep-2019 08:00</td>\n",
              "      <td>0.0</td>\n",
              "      <td>25-Sep-2019</td>\n",
              "      <td>7</td>\n",
              "    </tr>\n",
              "    <tr>\n",
              "      <th>42072</th>\n",
              "      <td>25-Sep-2019 08:00</td>\n",
              "      <td>25-Sep-2019 09:00</td>\n",
              "      <td>0.0</td>\n",
              "      <td>25-Sep-2019</td>\n",
              "      <td>8</td>\n",
              "    </tr>\n",
              "    <tr>\n",
              "      <th>42073</th>\n",
              "      <td>25-Sep-2019 09:00</td>\n",
              "      <td>25-Sep-2019 10:00</td>\n",
              "      <td>0.0</td>\n",
              "      <td>25-Sep-2019</td>\n",
              "      <td>9</td>\n",
              "    </tr>\n",
              "    <tr>\n",
              "      <th>42074</th>\n",
              "      <td>25-Sep-2019 10:00</td>\n",
              "      <td>25-Sep-2019 11:00</td>\n",
              "      <td>0.0</td>\n",
              "      <td>25-Sep-2019</td>\n",
              "      <td>10</td>\n",
              "    </tr>\n",
              "    <tr>\n",
              "      <th>42075</th>\n",
              "      <td>25-Sep-2019 11:00</td>\n",
              "      <td>25-Sep-2019 12:00</td>\n",
              "      <td>0.0</td>\n",
              "      <td>25-Sep-2019</td>\n",
              "      <td>11</td>\n",
              "    </tr>\n",
              "  </tbody>\n",
              "</table>\n",
              "<p>42076 rows × 5 columns</p>\n",
              "</div>"
            ],
            "text/plain": [
              "                   Start             Finish  Steps (count)         Date  Hour\n",
              "0      07-Dec-2014 09:00  07-Dec-2014 10:00          941.0  07-Dec-2014     9\n",
              "1      07-Dec-2014 10:00  07-Dec-2014 11:00          408.0  07-Dec-2014    10\n",
              "2      07-Dec-2014 11:00  07-Dec-2014 12:00          157.0  07-Dec-2014    11\n",
              "3      07-Dec-2014 12:00  07-Dec-2014 13:00         1017.0  07-Dec-2014    12\n",
              "4      07-Dec-2014 13:00  07-Dec-2014 14:00            0.0  07-Dec-2014    13\n",
              "...                  ...                ...            ...          ...   ...\n",
              "42071  25-Sep-2019 07:00  25-Sep-2019 08:00            0.0  25-Sep-2019     7\n",
              "42072  25-Sep-2019 08:00  25-Sep-2019 09:00            0.0  25-Sep-2019     8\n",
              "42073  25-Sep-2019 09:00  25-Sep-2019 10:00            0.0  25-Sep-2019     9\n",
              "42074  25-Sep-2019 10:00  25-Sep-2019 11:00            0.0  25-Sep-2019    10\n",
              "42075  25-Sep-2019 11:00  25-Sep-2019 12:00            0.0  25-Sep-2019    11\n",
              "\n",
              "[42076 rows x 5 columns]"
            ]
          },
          "metadata": {
            "tags": []
          },
          "execution_count": 4
        }
      ]
    },
    {
      "cell_type": "code",
      "metadata": {
        "id": "Angbvl1k4kPg",
        "outputId": "2937351d-6c03-4b34-9457-b0ab4514af0e",
        "colab": {
          "base_uri": "https://localhost:8080/",
          "height": 238
        }
      },
      "source": [
        "#Issues of daylight savings, and not starting from the start of a day (first and last entry of dataset)\n",
        "df1 = df.value_counts(\"Date\") \n",
        "df1 "
      ],
      "execution_count": null,
      "outputs": [
        {
          "output_type": "execute_result",
          "data": {
            "text/plain": [
              "Date\n",
              "03-Apr-2016    25\n",
              "02-Apr-2017    25\n",
              "01-Apr-2018    25\n",
              "05-Apr-2015    25\n",
              "07-Apr-2019    25\n",
              "               ..\n",
              "01-Oct-2017    23\n",
              "02-Oct-2016    23\n",
              "04-Oct-2015    23\n",
              "07-Dec-2014    15\n",
              "25-Sep-2019    12\n",
              "Length: 1754, dtype: int64"
            ]
          },
          "metadata": {
            "tags": []
          },
          "execution_count": 5
        }
      ]
    },
    {
      "cell_type": "markdown",
      "metadata": {
        "id": "OpqJQwC4APz6"
      },
      "source": [
        "We also seem to encounter issues of daylight savings here, will affect our computation but we will assume there is no effect for now. (Another group member is resposnible for resolving this)"
      ]
    },
    {
      "cell_type": "markdown",
      "metadata": {
        "id": "7jRH-9opBZIs"
      },
      "source": [
        "Ok on to our exploration of how many days are there greater than 500 steps. This is one of the ways in which Tang et al. constituted it as a valid day."
      ]
    },
    {
      "cell_type": "code",
      "metadata": {
        "id": "waQ3TUca95o0",
        "outputId": "832ef6da-56d8-4daa-e824-5a79616367d3",
        "colab": {
          "base_uri": "https://localhost:8080/",
          "height": 238
        }
      },
      "source": [
        "#Adding up all the steps in a day\n",
        "df1 = df['Steps (count)'].groupby(df['Date']).sum()\n",
        "print(df1)"
      ],
      "execution_count": null,
      "outputs": [
        {
          "output_type": "stream",
          "text": [
            "Date\n",
            "01-Apr-2015     7828.000000\n",
            "01-Apr-2016     6831.350375\n",
            "01-Apr-2017     4122.000000\n",
            "01-Apr-2018    11518.000000\n",
            "01-Apr-2019     5484.000000\n",
            "                   ...     \n",
            "31-May-2019     6424.000000\n",
            "31-Oct-2015     7534.000000\n",
            "31-Oct-2016      453.000000\n",
            "31-Oct-2017     2198.000000\n",
            "31-Oct-2018     6444.139901\n",
            "Name: Steps (count), Length: 1754, dtype: float64\n"
          ],
          "name": "stdout"
        }
      ]
    },
    {
      "cell_type": "markdown",
      "metadata": {
        "id": "pa0tuFqlAoFF"
      },
      "source": [
        "Here we just aggregated all the steps up per day. "
      ]
    },
    {
      "cell_type": "markdown",
      "metadata": {
        "id": "DUjsny-qCZFQ"
      },
      "source": [
        "Now we are going to apply a 500 step filter and find out the percentage of days that are valid by the 500 step definition. "
      ]
    },
    {
      "cell_type": "code",
      "metadata": {
        "id": "wGbZUtQjA0Ap",
        "outputId": "97e967d7-bf2e-4636-c638-37491b985201",
        "colab": {
          "base_uri": "https://localhost:8080/",
          "height": 51
        }
      },
      "source": [
        "#Number of days with steps greater than 500\n",
        "print(sum(df1 > 500))\n",
        "print(sum(df1 > 500)/len(df1))"
      ],
      "execution_count": null,
      "outputs": [
        {
          "output_type": "stream",
          "text": [
            "1533\n",
            "0.8740022805017104\n"
          ],
          "name": "stdout"
        }
      ]
    },
    {
      "cell_type": "markdown",
      "metadata": {
        "id": "fybwcAUiCi45"
      },
      "source": [
        "It appears that there are 1533 records out of 1754 rows that are considered valid. This is 87% of records. "
      ]
    },
    {
      "cell_type": "markdown",
      "metadata": {
        "id": "FOFlqGLwCrA4"
      },
      "source": [
        "Now moving on to our second exploration, we are going to apply the 3 time block. "
      ]
    },
    {
      "cell_type": "code",
      "metadata": {
        "id": "PRqe0Fiv6cOf",
        "outputId": "e519d015-39a7-4465-b247-a0b54695ef40",
        "colab": {
          "base_uri": "https://localhost:8080/",
          "height": 419
        }
      },
      "source": [
        "#Valid day is if there is data within 3 time periods, 3am-11am,11am-3pm,3pm-3am\n",
        "bins = [-1,2,10,14,25,np.inf]\n",
        "names = ['3','1','2', '3', '3']\n",
        "df2 = df\n",
        "df2['3timeblock'] = pd.cut(df['Hour'],bins, labels = names, ordered=False)\n",
        "df2"
      ],
      "execution_count": null,
      "outputs": [
        {
          "output_type": "execute_result",
          "data": {
            "text/html": [
              "<div>\n",
              "<style scoped>\n",
              "    .dataframe tbody tr th:only-of-type {\n",
              "        vertical-align: middle;\n",
              "    }\n",
              "\n",
              "    .dataframe tbody tr th {\n",
              "        vertical-align: top;\n",
              "    }\n",
              "\n",
              "    .dataframe thead th {\n",
              "        text-align: right;\n",
              "    }\n",
              "</style>\n",
              "<table border=\"1\" class=\"dataframe\">\n",
              "  <thead>\n",
              "    <tr style=\"text-align: right;\">\n",
              "      <th></th>\n",
              "      <th>Start</th>\n",
              "      <th>Finish</th>\n",
              "      <th>Steps (count)</th>\n",
              "      <th>Date</th>\n",
              "      <th>Hour</th>\n",
              "      <th>3timeblock</th>\n",
              "    </tr>\n",
              "  </thead>\n",
              "  <tbody>\n",
              "    <tr>\n",
              "      <th>0</th>\n",
              "      <td>07-Dec-2014 09:00</td>\n",
              "      <td>07-Dec-2014 10:00</td>\n",
              "      <td>941.0</td>\n",
              "      <td>07-Dec-2014</td>\n",
              "      <td>9</td>\n",
              "      <td>1</td>\n",
              "    </tr>\n",
              "    <tr>\n",
              "      <th>1</th>\n",
              "      <td>07-Dec-2014 10:00</td>\n",
              "      <td>07-Dec-2014 11:00</td>\n",
              "      <td>408.0</td>\n",
              "      <td>07-Dec-2014</td>\n",
              "      <td>10</td>\n",
              "      <td>1</td>\n",
              "    </tr>\n",
              "    <tr>\n",
              "      <th>2</th>\n",
              "      <td>07-Dec-2014 11:00</td>\n",
              "      <td>07-Dec-2014 12:00</td>\n",
              "      <td>157.0</td>\n",
              "      <td>07-Dec-2014</td>\n",
              "      <td>11</td>\n",
              "      <td>2</td>\n",
              "    </tr>\n",
              "    <tr>\n",
              "      <th>3</th>\n",
              "      <td>07-Dec-2014 12:00</td>\n",
              "      <td>07-Dec-2014 13:00</td>\n",
              "      <td>1017.0</td>\n",
              "      <td>07-Dec-2014</td>\n",
              "      <td>12</td>\n",
              "      <td>2</td>\n",
              "    </tr>\n",
              "    <tr>\n",
              "      <th>4</th>\n",
              "      <td>07-Dec-2014 13:00</td>\n",
              "      <td>07-Dec-2014 14:00</td>\n",
              "      <td>0.0</td>\n",
              "      <td>07-Dec-2014</td>\n",
              "      <td>13</td>\n",
              "      <td>2</td>\n",
              "    </tr>\n",
              "    <tr>\n",
              "      <th>...</th>\n",
              "      <td>...</td>\n",
              "      <td>...</td>\n",
              "      <td>...</td>\n",
              "      <td>...</td>\n",
              "      <td>...</td>\n",
              "      <td>...</td>\n",
              "    </tr>\n",
              "    <tr>\n",
              "      <th>42071</th>\n",
              "      <td>25-Sep-2019 07:00</td>\n",
              "      <td>25-Sep-2019 08:00</td>\n",
              "      <td>0.0</td>\n",
              "      <td>25-Sep-2019</td>\n",
              "      <td>7</td>\n",
              "      <td>1</td>\n",
              "    </tr>\n",
              "    <tr>\n",
              "      <th>42072</th>\n",
              "      <td>25-Sep-2019 08:00</td>\n",
              "      <td>25-Sep-2019 09:00</td>\n",
              "      <td>0.0</td>\n",
              "      <td>25-Sep-2019</td>\n",
              "      <td>8</td>\n",
              "      <td>1</td>\n",
              "    </tr>\n",
              "    <tr>\n",
              "      <th>42073</th>\n",
              "      <td>25-Sep-2019 09:00</td>\n",
              "      <td>25-Sep-2019 10:00</td>\n",
              "      <td>0.0</td>\n",
              "      <td>25-Sep-2019</td>\n",
              "      <td>9</td>\n",
              "      <td>1</td>\n",
              "    </tr>\n",
              "    <tr>\n",
              "      <th>42074</th>\n",
              "      <td>25-Sep-2019 10:00</td>\n",
              "      <td>25-Sep-2019 11:00</td>\n",
              "      <td>0.0</td>\n",
              "      <td>25-Sep-2019</td>\n",
              "      <td>10</td>\n",
              "      <td>1</td>\n",
              "    </tr>\n",
              "    <tr>\n",
              "      <th>42075</th>\n",
              "      <td>25-Sep-2019 11:00</td>\n",
              "      <td>25-Sep-2019 12:00</td>\n",
              "      <td>0.0</td>\n",
              "      <td>25-Sep-2019</td>\n",
              "      <td>11</td>\n",
              "      <td>2</td>\n",
              "    </tr>\n",
              "  </tbody>\n",
              "</table>\n",
              "<p>42076 rows × 6 columns</p>\n",
              "</div>"
            ],
            "text/plain": [
              "                   Start             Finish  ...  Hour 3timeblock\n",
              "0      07-Dec-2014 09:00  07-Dec-2014 10:00  ...     9          1\n",
              "1      07-Dec-2014 10:00  07-Dec-2014 11:00  ...    10          1\n",
              "2      07-Dec-2014 11:00  07-Dec-2014 12:00  ...    11          2\n",
              "3      07-Dec-2014 12:00  07-Dec-2014 13:00  ...    12          2\n",
              "4      07-Dec-2014 13:00  07-Dec-2014 14:00  ...    13          2\n",
              "...                  ...                ...  ...   ...        ...\n",
              "42071  25-Sep-2019 07:00  25-Sep-2019 08:00  ...     7          1\n",
              "42072  25-Sep-2019 08:00  25-Sep-2019 09:00  ...     8          1\n",
              "42073  25-Sep-2019 09:00  25-Sep-2019 10:00  ...     9          1\n",
              "42074  25-Sep-2019 10:00  25-Sep-2019 11:00  ...    10          1\n",
              "42075  25-Sep-2019 11:00  25-Sep-2019 12:00  ...    11          2\n",
              "\n",
              "[42076 rows x 6 columns]"
            ]
          },
          "metadata": {
            "tags": []
          },
          "execution_count": 8
        }
      ]
    },
    {
      "cell_type": "markdown",
      "metadata": {
        "id": "vDlzkI5RDhTf"
      },
      "source": [
        "AS the data was shaped in 24 hours zones, there was a bit of complication regarding the timeblock assigning but all resolved now"
      ]
    },
    {
      "cell_type": "markdown",
      "metadata": {
        "id": "CKeWGsfIDrGg"
      },
      "source": [
        "Now we are aggregating all the step counts within the same timeblock of the day. We are also applying a boolean of True or False to see if there is any activity. "
      ]
    },
    {
      "cell_type": "code",
      "metadata": {
        "id": "1lx9usbt69U9",
        "outputId": "6a94e0d8-1ca8-4d92-c95b-a1842b3c7c94",
        "colab": {
          "base_uri": "https://localhost:8080/",
          "height": 493
        }
      },
      "source": [
        "df2 = df2.groupby(['Date','3timeblock'], as_index=False)['Steps (count)'].sum()\n",
        "print(df2)\n",
        "df2['Activity'] = df2['Steps (count)'] > 0\n",
        "print(df2)"
      ],
      "execution_count": null,
      "outputs": [
        {
          "output_type": "stream",
          "text": [
            "             Date 3timeblock  Steps (count)\n",
            "0     01-Apr-2015          1    1721.000000\n",
            "1     01-Apr-2015          2    4105.000000\n",
            "2     01-Apr-2015          3    2002.000000\n",
            "3     01-Apr-2016          1    3671.836598\n",
            "4     01-Apr-2016          2    1608.797745\n",
            "...           ...        ...            ...\n",
            "5257  31-Oct-2017          2       0.000000\n",
            "5258  31-Oct-2017          3    1425.000000\n",
            "5259  31-Oct-2018          1    2148.046634\n",
            "5260  31-Oct-2018          2    1074.023317\n",
            "5261  31-Oct-2018          3    3222.069951\n",
            "\n",
            "[5262 rows x 3 columns]\n",
            "             Date 3timeblock  Steps (count)  Activity\n",
            "0     01-Apr-2015          1    1721.000000      True\n",
            "1     01-Apr-2015          2    4105.000000      True\n",
            "2     01-Apr-2015          3    2002.000000      True\n",
            "3     01-Apr-2016          1    3671.836598      True\n",
            "4     01-Apr-2016          2    1608.797745      True\n",
            "...           ...        ...            ...       ...\n",
            "5257  31-Oct-2017          2       0.000000     False\n",
            "5258  31-Oct-2017          3    1425.000000      True\n",
            "5259  31-Oct-2018          1    2148.046634      True\n",
            "5260  31-Oct-2018          2    1074.023317      True\n",
            "5261  31-Oct-2018          3    3222.069951      True\n",
            "\n",
            "[5262 rows x 4 columns]\n"
          ],
          "name": "stdout"
        }
      ]
    },
    {
      "cell_type": "markdown",
      "metadata": {
        "id": "2expaU6TDybd"
      },
      "source": [
        "Pretty self explanatory here, you can just see the steps being applied."
      ]
    },
    {
      "cell_type": "markdown",
      "metadata": {
        "id": "7O2tuDEZEcHo"
      },
      "source": [
        "Now we are going to sum up the 'Activity' column and see if each day hits 3 Trues. If it does, then it counts as a full day by our definition"
      ]
    },
    {
      "cell_type": "code",
      "metadata": {
        "id": "P2Sr6xHuHiW8",
        "outputId": "2c925262-aea9-4395-c168-b8e832d870c7",
        "colab": {
          "base_uri": "https://localhost:8080/",
          "height": 51
        }
      },
      "source": [
        "df2 = df2['Activity'].groupby(df2['Date']).sum()\n",
        "print(sum(df2==3))\n",
        "print(sum(df2==3)/(len(df2)))"
      ],
      "execution_count": null,
      "outputs": [
        {
          "output_type": "stream",
          "text": [
            "985\n",
            "0.5615735461801596\n"
          ],
          "name": "stdout"
        }
      ]
    },
    {
      "cell_type": "markdown",
      "metadata": {
        "id": "EyIyQ8aXFH3z"
      },
      "source": [
        "As you can see, using this method yields 985 rows and out of the 1754 rows this represents 56% of the original data."
      ]
    },
    {
      "cell_type": "code",
      "metadata": {
        "id": "cZ9HmGgKVsj8"
      },
      "source": [
        ""
      ],
      "execution_count": null,
      "outputs": []
    }
  ]
}