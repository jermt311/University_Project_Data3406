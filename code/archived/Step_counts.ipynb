{
 "cells": [
  {
   "cell_type": "markdown",
   "metadata": {
    "id": "ztoQRM-EvAks"
   },
   "source": [
    "**Driving Question :** What is the difference between the Althoff et al (2017) calculation of step counts with one that requires 10-hours of the day with steps for a small number of users?"
   ]
  },
  {
   "cell_type": "code",
   "execution_count": 1,
   "metadata": {
    "id": "8aCScAK5sTqY"
   },
   "outputs": [],
   "source": [
    "import numpy as np\n",
    "import pandas as pd\n",
    "import matplotlib.pyplot as plt\n",
    "from datetime import datetime"
   ]
  },
  {
   "cell_type": "code",
   "execution_count": 2,
   "metadata": {
    "id": "L6CJi-BTsZz-"
   },
   "outputs": [],
   "source": [
    "df = pd.read_csv(\"/content/User1.csv\")"
   ]
  },
  {
   "cell_type": "code",
   "execution_count": 3,
   "metadata": {
    "colab": {
     "base_uri": "https://localhost:8080/",
     "height": 419
    },
    "id": "bcc2zracs6xi",
    "outputId": "6df54e6e-37e5-462c-9586-8625dc2c6f8c"
   },
   "outputs": [
    {
     "data": {
      "text/html": [
       "<div>\n",
       "<style scoped>\n",
       "    .dataframe tbody tr th:only-of-type {\n",
       "        vertical-align: middle;\n",
       "    }\n",
       "\n",
       "    .dataframe tbody tr th {\n",
       "        vertical-align: top;\n",
       "    }\n",
       "\n",
       "    .dataframe thead th {\n",
       "        text-align: right;\n",
       "    }\n",
       "</style>\n",
       "<table border=\"1\" class=\"dataframe\">\n",
       "  <thead>\n",
       "    <tr style=\"text-align: right;\">\n",
       "      <th></th>\n",
       "      <th>Start</th>\n",
       "      <th>Finish</th>\n",
       "      <th>Steps (count)</th>\n",
       "    </tr>\n",
       "  </thead>\n",
       "  <tbody>\n",
       "    <tr>\n",
       "      <th>0</th>\n",
       "      <td>07-Dec-2014 09:00</td>\n",
       "      <td>07-Dec-2014 10:00</td>\n",
       "      <td>941.0</td>\n",
       "    </tr>\n",
       "    <tr>\n",
       "      <th>1</th>\n",
       "      <td>07-Dec-2014 10:00</td>\n",
       "      <td>07-Dec-2014 11:00</td>\n",
       "      <td>408.0</td>\n",
       "    </tr>\n",
       "    <tr>\n",
       "      <th>2</th>\n",
       "      <td>07-Dec-2014 11:00</td>\n",
       "      <td>07-Dec-2014 12:00</td>\n",
       "      <td>157.0</td>\n",
       "    </tr>\n",
       "    <tr>\n",
       "      <th>3</th>\n",
       "      <td>07-Dec-2014 12:00</td>\n",
       "      <td>07-Dec-2014 13:00</td>\n",
       "      <td>1017.0</td>\n",
       "    </tr>\n",
       "    <tr>\n",
       "      <th>4</th>\n",
       "      <td>07-Dec-2014 13:00</td>\n",
       "      <td>07-Dec-2014 14:00</td>\n",
       "      <td>0.0</td>\n",
       "    </tr>\n",
       "    <tr>\n",
       "      <th>...</th>\n",
       "      <td>...</td>\n",
       "      <td>...</td>\n",
       "      <td>...</td>\n",
       "    </tr>\n",
       "    <tr>\n",
       "      <th>42071</th>\n",
       "      <td>25-Sep-2019 07:00</td>\n",
       "      <td>25-Sep-2019 08:00</td>\n",
       "      <td>0.0</td>\n",
       "    </tr>\n",
       "    <tr>\n",
       "      <th>42072</th>\n",
       "      <td>25-Sep-2019 08:00</td>\n",
       "      <td>25-Sep-2019 09:00</td>\n",
       "      <td>0.0</td>\n",
       "    </tr>\n",
       "    <tr>\n",
       "      <th>42073</th>\n",
       "      <td>25-Sep-2019 09:00</td>\n",
       "      <td>25-Sep-2019 10:00</td>\n",
       "      <td>0.0</td>\n",
       "    </tr>\n",
       "    <tr>\n",
       "      <th>42074</th>\n",
       "      <td>25-Sep-2019 10:00</td>\n",
       "      <td>25-Sep-2019 11:00</td>\n",
       "      <td>0.0</td>\n",
       "    </tr>\n",
       "    <tr>\n",
       "      <th>42075</th>\n",
       "      <td>25-Sep-2019 11:00</td>\n",
       "      <td>25-Sep-2019 12:00</td>\n",
       "      <td>0.0</td>\n",
       "    </tr>\n",
       "  </tbody>\n",
       "</table>\n",
       "<p>42076 rows × 3 columns</p>\n",
       "</div>"
      ],
      "text/plain": [
       "                   Start             Finish  Steps (count)\n",
       "0      07-Dec-2014 09:00  07-Dec-2014 10:00          941.0\n",
       "1      07-Dec-2014 10:00  07-Dec-2014 11:00          408.0\n",
       "2      07-Dec-2014 11:00  07-Dec-2014 12:00          157.0\n",
       "3      07-Dec-2014 12:00  07-Dec-2014 13:00         1017.0\n",
       "4      07-Dec-2014 13:00  07-Dec-2014 14:00            0.0\n",
       "...                  ...                ...            ...\n",
       "42071  25-Sep-2019 07:00  25-Sep-2019 08:00            0.0\n",
       "42072  25-Sep-2019 08:00  25-Sep-2019 09:00            0.0\n",
       "42073  25-Sep-2019 09:00  25-Sep-2019 10:00            0.0\n",
       "42074  25-Sep-2019 10:00  25-Sep-2019 11:00            0.0\n",
       "42075  25-Sep-2019 11:00  25-Sep-2019 12:00            0.0\n",
       "\n",
       "[42076 rows x 3 columns]"
      ]
     },
     "execution_count": 3,
     "metadata": {
      "tags": []
     },
     "output_type": "execute_result"
    }
   ],
   "source": [
    "df"
   ]
  },
  {
   "cell_type": "code",
   "execution_count": 4,
   "metadata": {
    "colab": {
     "base_uri": "https://localhost:8080/",
     "height": 419
    },
    "id": "WhQpIAOJs7b4",
    "outputId": "7008214a-2f38-4c97-8d95-0356952e5f84"
   },
   "outputs": [
    {
     "data": {
      "text/html": [
       "<div>\n",
       "<style scoped>\n",
       "    .dataframe tbody tr th:only-of-type {\n",
       "        vertical-align: middle;\n",
       "    }\n",
       "\n",
       "    .dataframe tbody tr th {\n",
       "        vertical-align: top;\n",
       "    }\n",
       "\n",
       "    .dataframe thead th {\n",
       "        text-align: right;\n",
       "    }\n",
       "</style>\n",
       "<table border=\"1\" class=\"dataframe\">\n",
       "  <thead>\n",
       "    <tr style=\"text-align: right;\">\n",
       "      <th></th>\n",
       "      <th>Start</th>\n",
       "      <th>Finish</th>\n",
       "      <th>Steps (count)</th>\n",
       "      <th>Date</th>\n",
       "      <th>Hour</th>\n",
       "    </tr>\n",
       "  </thead>\n",
       "  <tbody>\n",
       "    <tr>\n",
       "      <th>0</th>\n",
       "      <td>07-Dec-2014 09:00</td>\n",
       "      <td>07-Dec-2014 10:00</td>\n",
       "      <td>941.0</td>\n",
       "      <td>07-Dec-2014</td>\n",
       "      <td>9</td>\n",
       "    </tr>\n",
       "    <tr>\n",
       "      <th>1</th>\n",
       "      <td>07-Dec-2014 10:00</td>\n",
       "      <td>07-Dec-2014 11:00</td>\n",
       "      <td>408.0</td>\n",
       "      <td>07-Dec-2014</td>\n",
       "      <td>10</td>\n",
       "    </tr>\n",
       "    <tr>\n",
       "      <th>2</th>\n",
       "      <td>07-Dec-2014 11:00</td>\n",
       "      <td>07-Dec-2014 12:00</td>\n",
       "      <td>157.0</td>\n",
       "      <td>07-Dec-2014</td>\n",
       "      <td>11</td>\n",
       "    </tr>\n",
       "    <tr>\n",
       "      <th>3</th>\n",
       "      <td>07-Dec-2014 12:00</td>\n",
       "      <td>07-Dec-2014 13:00</td>\n",
       "      <td>1017.0</td>\n",
       "      <td>07-Dec-2014</td>\n",
       "      <td>12</td>\n",
       "    </tr>\n",
       "    <tr>\n",
       "      <th>4</th>\n",
       "      <td>07-Dec-2014 13:00</td>\n",
       "      <td>07-Dec-2014 14:00</td>\n",
       "      <td>0.0</td>\n",
       "      <td>07-Dec-2014</td>\n",
       "      <td>13</td>\n",
       "    </tr>\n",
       "    <tr>\n",
       "      <th>...</th>\n",
       "      <td>...</td>\n",
       "      <td>...</td>\n",
       "      <td>...</td>\n",
       "      <td>...</td>\n",
       "      <td>...</td>\n",
       "    </tr>\n",
       "    <tr>\n",
       "      <th>42071</th>\n",
       "      <td>25-Sep-2019 07:00</td>\n",
       "      <td>25-Sep-2019 08:00</td>\n",
       "      <td>0.0</td>\n",
       "      <td>25-Sep-2019</td>\n",
       "      <td>7</td>\n",
       "    </tr>\n",
       "    <tr>\n",
       "      <th>42072</th>\n",
       "      <td>25-Sep-2019 08:00</td>\n",
       "      <td>25-Sep-2019 09:00</td>\n",
       "      <td>0.0</td>\n",
       "      <td>25-Sep-2019</td>\n",
       "      <td>8</td>\n",
       "    </tr>\n",
       "    <tr>\n",
       "      <th>42073</th>\n",
       "      <td>25-Sep-2019 09:00</td>\n",
       "      <td>25-Sep-2019 10:00</td>\n",
       "      <td>0.0</td>\n",
       "      <td>25-Sep-2019</td>\n",
       "      <td>9</td>\n",
       "    </tr>\n",
       "    <tr>\n",
       "      <th>42074</th>\n",
       "      <td>25-Sep-2019 10:00</td>\n",
       "      <td>25-Sep-2019 11:00</td>\n",
       "      <td>0.0</td>\n",
       "      <td>25-Sep-2019</td>\n",
       "      <td>10</td>\n",
       "    </tr>\n",
       "    <tr>\n",
       "      <th>42075</th>\n",
       "      <td>25-Sep-2019 11:00</td>\n",
       "      <td>25-Sep-2019 12:00</td>\n",
       "      <td>0.0</td>\n",
       "      <td>25-Sep-2019</td>\n",
       "      <td>11</td>\n",
       "    </tr>\n",
       "  </tbody>\n",
       "</table>\n",
       "<p>42076 rows × 5 columns</p>\n",
       "</div>"
      ],
      "text/plain": [
       "                   Start             Finish  Steps (count)         Date  Hour\n",
       "0      07-Dec-2014 09:00  07-Dec-2014 10:00          941.0  07-Dec-2014     9\n",
       "1      07-Dec-2014 10:00  07-Dec-2014 11:00          408.0  07-Dec-2014    10\n",
       "2      07-Dec-2014 11:00  07-Dec-2014 12:00          157.0  07-Dec-2014    11\n",
       "3      07-Dec-2014 12:00  07-Dec-2014 13:00         1017.0  07-Dec-2014    12\n",
       "4      07-Dec-2014 13:00  07-Dec-2014 14:00            0.0  07-Dec-2014    13\n",
       "...                  ...                ...            ...          ...   ...\n",
       "42071  25-Sep-2019 07:00  25-Sep-2019 08:00            0.0  25-Sep-2019     7\n",
       "42072  25-Sep-2019 08:00  25-Sep-2019 09:00            0.0  25-Sep-2019     8\n",
       "42073  25-Sep-2019 09:00  25-Sep-2019 10:00            0.0  25-Sep-2019     9\n",
       "42074  25-Sep-2019 10:00  25-Sep-2019 11:00            0.0  25-Sep-2019    10\n",
       "42075  25-Sep-2019 11:00  25-Sep-2019 12:00            0.0  25-Sep-2019    11\n",
       "\n",
       "[42076 rows x 5 columns]"
      ]
     },
     "execution_count": 4,
     "metadata": {
      "tags": []
     },
     "output_type": "execute_result"
    }
   ],
   "source": [
    "df[\"Date\"] = [s.split(\" \")[0] for s in df[\"Start\"]]\n",
    "df[\"Hour\"] = [int((s.split(\":\")[0])[-2:]) for s in df[\"Start\"]]\n",
    "df "
   ]
  },
  {
   "cell_type": "code",
   "execution_count": 5,
   "metadata": {
    "colab": {
     "base_uri": "https://localhost:8080/",
     "height": 238
    },
    "id": "Angbvl1k4kPg",
    "outputId": "31d1f9e6-8b2e-443d-a307-3d8d47aeaa38"
   },
   "outputs": [
    {
     "data": {
      "text/plain": [
       "Date\n",
       "03-Apr-2016    25\n",
       "02-Apr-2017    25\n",
       "01-Apr-2018    25\n",
       "05-Apr-2015    25\n",
       "07-Apr-2019    25\n",
       "               ..\n",
       "01-Oct-2017    23\n",
       "02-Oct-2016    23\n",
       "04-Oct-2015    23\n",
       "07-Dec-2014    15\n",
       "25-Sep-2019    12\n",
       "Length: 1754, dtype: int64"
      ]
     },
     "execution_count": 5,
     "metadata": {
      "tags": []
     },
     "output_type": "execute_result"
    }
   ],
   "source": [
    "df1 = df.value_counts(\"Date\") \n",
    "df1 \n",
    "\n",
    "# issues of daylight savings, and not starting from the start of a day (first and last entry of dataset)"
   ]
  },
  {
   "cell_type": "code",
   "execution_count": 6,
   "metadata": {
    "colab": {
     "base_uri": "https://localhost:8080/",
     "height": 238
    },
    "id": "waQ3TUca95o0",
    "outputId": "aedd33b6-1b6d-41a8-c8b6-3aba3ae17da5"
   },
   "outputs": [
    {
     "name": "stdout",
     "output_type": "stream",
     "text": [
      "Date\n",
      "01-Apr-2015     7828.000000\n",
      "01-Apr-2016     6831.350375\n",
      "01-Apr-2017     4122.000000\n",
      "01-Apr-2018    11518.000000\n",
      "01-Apr-2019     5484.000000\n",
      "                   ...     \n",
      "31-May-2019     6424.000000\n",
      "31-Oct-2015     7534.000000\n",
      "31-Oct-2016      453.000000\n",
      "31-Oct-2017     2198.000000\n",
      "31-Oct-2018     6444.139901\n",
      "Name: Steps (count), Length: 1754, dtype: float64\n"
     ]
    }
   ],
   "source": [
    "#Valid day is a day greater than 500 steps total\n",
    "df1 = df['Steps (count)'].groupby(df['Date']).sum()\n",
    "print(df1)"
   ]
  },
  {
   "cell_type": "code",
   "execution_count": 7,
   "metadata": {
    "colab": {
     "base_uri": "https://localhost:8080/",
     "height": 34
    },
    "id": "wGbZUtQjA0Ap",
    "outputId": "4dde7d61-0eef-409d-f598-6d9d90df3e38"
   },
   "outputs": [
    {
     "data": {
      "text/plain": [
       "1533"
      ]
     },
     "execution_count": 7,
     "metadata": {
      "tags": []
     },
     "output_type": "execute_result"
    }
   ],
   "source": [
    "#Number of days with steps greater than 1533, original = 1754\n",
    "sum(df1 > 500)"
   ]
  },
  {
   "cell_type": "code",
   "execution_count": 8,
   "metadata": {
    "colab": {
     "base_uri": "https://localhost:8080/",
     "height": 419
    },
    "id": "PRqe0Fiv6cOf",
    "outputId": "aa5993a5-1d46-445d-8e2f-28be921d6ff5"
   },
   "outputs": [
    {
     "data": {
      "text/html": [
       "<div>\n",
       "<style scoped>\n",
       "    .dataframe tbody tr th:only-of-type {\n",
       "        vertical-align: middle;\n",
       "    }\n",
       "\n",
       "    .dataframe tbody tr th {\n",
       "        vertical-align: top;\n",
       "    }\n",
       "\n",
       "    .dataframe thead th {\n",
       "        text-align: right;\n",
       "    }\n",
       "</style>\n",
       "<table border=\"1\" class=\"dataframe\">\n",
       "  <thead>\n",
       "    <tr style=\"text-align: right;\">\n",
       "      <th></th>\n",
       "      <th>Start</th>\n",
       "      <th>Finish</th>\n",
       "      <th>Steps (count)</th>\n",
       "      <th>Date</th>\n",
       "      <th>Hour</th>\n",
       "      <th>3timeblock</th>\n",
       "    </tr>\n",
       "  </thead>\n",
       "  <tbody>\n",
       "    <tr>\n",
       "      <th>0</th>\n",
       "      <td>07-Dec-2014 09:00</td>\n",
       "      <td>07-Dec-2014 10:00</td>\n",
       "      <td>941.0</td>\n",
       "      <td>07-Dec-2014</td>\n",
       "      <td>9</td>\n",
       "      <td>1</td>\n",
       "    </tr>\n",
       "    <tr>\n",
       "      <th>1</th>\n",
       "      <td>07-Dec-2014 10:00</td>\n",
       "      <td>07-Dec-2014 11:00</td>\n",
       "      <td>408.0</td>\n",
       "      <td>07-Dec-2014</td>\n",
       "      <td>10</td>\n",
       "      <td>1</td>\n",
       "    </tr>\n",
       "    <tr>\n",
       "      <th>2</th>\n",
       "      <td>07-Dec-2014 11:00</td>\n",
       "      <td>07-Dec-2014 12:00</td>\n",
       "      <td>157.0</td>\n",
       "      <td>07-Dec-2014</td>\n",
       "      <td>11</td>\n",
       "      <td>2</td>\n",
       "    </tr>\n",
       "    <tr>\n",
       "      <th>3</th>\n",
       "      <td>07-Dec-2014 12:00</td>\n",
       "      <td>07-Dec-2014 13:00</td>\n",
       "      <td>1017.0</td>\n",
       "      <td>07-Dec-2014</td>\n",
       "      <td>12</td>\n",
       "      <td>2</td>\n",
       "    </tr>\n",
       "    <tr>\n",
       "      <th>4</th>\n",
       "      <td>07-Dec-2014 13:00</td>\n",
       "      <td>07-Dec-2014 14:00</td>\n",
       "      <td>0.0</td>\n",
       "      <td>07-Dec-2014</td>\n",
       "      <td>13</td>\n",
       "      <td>2</td>\n",
       "    </tr>\n",
       "    <tr>\n",
       "      <th>...</th>\n",
       "      <td>...</td>\n",
       "      <td>...</td>\n",
       "      <td>...</td>\n",
       "      <td>...</td>\n",
       "      <td>...</td>\n",
       "      <td>...</td>\n",
       "    </tr>\n",
       "    <tr>\n",
       "      <th>42071</th>\n",
       "      <td>25-Sep-2019 07:00</td>\n",
       "      <td>25-Sep-2019 08:00</td>\n",
       "      <td>0.0</td>\n",
       "      <td>25-Sep-2019</td>\n",
       "      <td>7</td>\n",
       "      <td>1</td>\n",
       "    </tr>\n",
       "    <tr>\n",
       "      <th>42072</th>\n",
       "      <td>25-Sep-2019 08:00</td>\n",
       "      <td>25-Sep-2019 09:00</td>\n",
       "      <td>0.0</td>\n",
       "      <td>25-Sep-2019</td>\n",
       "      <td>8</td>\n",
       "      <td>1</td>\n",
       "    </tr>\n",
       "    <tr>\n",
       "      <th>42073</th>\n",
       "      <td>25-Sep-2019 09:00</td>\n",
       "      <td>25-Sep-2019 10:00</td>\n",
       "      <td>0.0</td>\n",
       "      <td>25-Sep-2019</td>\n",
       "      <td>9</td>\n",
       "      <td>1</td>\n",
       "    </tr>\n",
       "    <tr>\n",
       "      <th>42074</th>\n",
       "      <td>25-Sep-2019 10:00</td>\n",
       "      <td>25-Sep-2019 11:00</td>\n",
       "      <td>0.0</td>\n",
       "      <td>25-Sep-2019</td>\n",
       "      <td>10</td>\n",
       "      <td>1</td>\n",
       "    </tr>\n",
       "    <tr>\n",
       "      <th>42075</th>\n",
       "      <td>25-Sep-2019 11:00</td>\n",
       "      <td>25-Sep-2019 12:00</td>\n",
       "      <td>0.0</td>\n",
       "      <td>25-Sep-2019</td>\n",
       "      <td>11</td>\n",
       "      <td>2</td>\n",
       "    </tr>\n",
       "  </tbody>\n",
       "</table>\n",
       "<p>42076 rows × 6 columns</p>\n",
       "</div>"
      ],
      "text/plain": [
       "                   Start             Finish  ...  Hour 3timeblock\n",
       "0      07-Dec-2014 09:00  07-Dec-2014 10:00  ...     9          1\n",
       "1      07-Dec-2014 10:00  07-Dec-2014 11:00  ...    10          1\n",
       "2      07-Dec-2014 11:00  07-Dec-2014 12:00  ...    11          2\n",
       "3      07-Dec-2014 12:00  07-Dec-2014 13:00  ...    12          2\n",
       "4      07-Dec-2014 13:00  07-Dec-2014 14:00  ...    13          2\n",
       "...                  ...                ...  ...   ...        ...\n",
       "42071  25-Sep-2019 07:00  25-Sep-2019 08:00  ...     7          1\n",
       "42072  25-Sep-2019 08:00  25-Sep-2019 09:00  ...     8          1\n",
       "42073  25-Sep-2019 09:00  25-Sep-2019 10:00  ...     9          1\n",
       "42074  25-Sep-2019 10:00  25-Sep-2019 11:00  ...    10          1\n",
       "42075  25-Sep-2019 11:00  25-Sep-2019 12:00  ...    11          2\n",
       "\n",
       "[42076 rows x 6 columns]"
      ]
     },
     "execution_count": 8,
     "metadata": {
      "tags": []
     },
     "output_type": "execute_result"
    }
   ],
   "source": [
    "#Valid day is if there is data within 3 time periods, 3am-11am,11am-3pm,3pm-3am\n",
    "bins = [-1,2,10,14,25,np.inf]\n",
    "names = ['3','1','2', '3', '3']\n",
    "df2 = df\n",
    "df2['3timeblock'] = pd.cut(df['Hour'],bins, labels = names, ordered=False)\n",
    "df2"
   ]
  },
  {
   "cell_type": "code",
   "execution_count": 9,
   "metadata": {
    "colab": {
     "base_uri": "https://localhost:8080/",
     "height": 493
    },
    "id": "1lx9usbt69U9",
    "outputId": "6b5fb84b-c9ae-4199-d9ba-467387ba1206"
   },
   "outputs": [
    {
     "name": "stdout",
     "output_type": "stream",
     "text": [
      "             Date 3timeblock  Steps (count)\n",
      "0     01-Apr-2015          1    1721.000000\n",
      "1     01-Apr-2015          2    4105.000000\n",
      "2     01-Apr-2015          3    2002.000000\n",
      "3     01-Apr-2016          1    3671.836598\n",
      "4     01-Apr-2016          2    1608.797745\n",
      "...           ...        ...            ...\n",
      "5257  31-Oct-2017          2       0.000000\n",
      "5258  31-Oct-2017          3    1425.000000\n",
      "5259  31-Oct-2018          1    2148.046634\n",
      "5260  31-Oct-2018          2    1074.023317\n",
      "5261  31-Oct-2018          3    3222.069951\n",
      "\n",
      "[5262 rows x 3 columns]\n",
      "             Date 3timeblock  Steps (count)  Activity\n",
      "0     01-Apr-2015          1    1721.000000      True\n",
      "1     01-Apr-2015          2    4105.000000      True\n",
      "2     01-Apr-2015          3    2002.000000      True\n",
      "3     01-Apr-2016          1    3671.836598      True\n",
      "4     01-Apr-2016          2    1608.797745      True\n",
      "...           ...        ...            ...       ...\n",
      "5257  31-Oct-2017          2       0.000000     False\n",
      "5258  31-Oct-2017          3    1425.000000      True\n",
      "5259  31-Oct-2018          1    2148.046634      True\n",
      "5260  31-Oct-2018          2    1074.023317      True\n",
      "5261  31-Oct-2018          3    3222.069951      True\n",
      "\n",
      "[5262 rows x 4 columns]\n"
     ]
    }
   ],
   "source": [
    "df2 = df2.groupby(['Date','3timeblock'], as_index=False)['Steps (count)'].sum()\n",
    "print(df2)\n",
    "df2['Activity'] = df2['Steps (count)'] > 0\n",
    "print(df2)"
   ]
  },
  {
   "cell_type": "code",
   "execution_count": 10,
   "metadata": {
    "colab": {
     "base_uri": "https://localhost:8080/",
     "height": 34
    },
    "id": "P2Sr6xHuHiW8",
    "outputId": "ee82a58e-9f17-4ec6-b2de-39cf69084e65"
   },
   "outputs": [
    {
     "data": {
      "text/plain": [
       "985"
      ]
     },
     "execution_count": 10,
     "metadata": {
      "tags": []
     },
     "output_type": "execute_result"
    }
   ],
   "source": [
    "df2 = df2['Activity'].groupby(df2['Date']).sum()\n",
    "sum(df2==3)\n",
    "\n",
    "# Original is 1754\n"
   ]
  },
  {
   "cell_type": "code",
   "execution_count": 10,
   "metadata": {
    "id": "cZ9HmGgKVsj8"
   },
   "outputs": [],
   "source": [
    "#10 hours continous \n",
    "df2['Activity'] = df2['Steps (count)'] > 0\n"
   ]
  }
 ],
 "metadata": {
  "colab": {
   "collapsed_sections": [],
   "name": "Step counts.ipynb",
   "provenance": []
  },
  "kernelspec": {
   "display_name": "Python 3",
   "language": "python",
   "name": "python3"
  },
  "language_info": {
   "codemirror_mode": {
    "name": "ipython",
    "version": 3
   },
   "file_extension": ".py",
   "mimetype": "text/x-python",
   "name": "python",
   "nbconvert_exporter": "python",
   "pygments_lexer": "ipython3",
   "version": "3.7.3"
  }
 },
 "nbformat": 4,
 "nbformat_minor": 1
}
