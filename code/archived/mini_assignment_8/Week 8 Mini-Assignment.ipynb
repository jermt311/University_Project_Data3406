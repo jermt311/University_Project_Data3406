{
 "cells": [
  {
   "cell_type": "markdown",
   "metadata": {},
   "source": [
    "## Week 8 Mini-Assignment\n",
    "### 480381381 - Group 3"
   ]
  },
  {
   "cell_type": "markdown",
   "metadata": {},
   "source": [
    "### Part 1\n",
    "\n",
    "The 'intro_to_pandas' was reasonably helpful to me. I have had previous experience with pandas so I understand how the package works, but I often forget how to do the routine tasks. Having some extra tools such as reindexing is also very useful.\n",
    "\n",
    "The 'charts' workbook was also helpful, but I already knew many aspects of it since I have extensive experience using matplotlib and pyplot. However, I had not seen many of the packages presented toward the end of the booklet, and I may look into these further for future data visualisation projects (including this one!)"
   ]
  },
  {
   "cell_type": "markdown",
   "metadata": {},
   "source": [
    "### Part 2\n",
    "In this notebook, we perform some initial exploratory analysis on the two movement datasets provided for each participant in the study. The driving question is the following:\n",
    "\n",
    "*What is the best way to extract the data provided by the QSAccess app and what initial insights are we able to gain into the data that will be useful for later analysis?*"
   ]
  },
  {
   "cell_type": "code",
   "execution_count": 131,
   "metadata": {},
   "outputs": [],
   "source": [
    "import numpy as np\n",
    "import pandas as pd\n",
    "import matplotlib.pyplot as plt"
   ]
  },
  {
   "cell_type": "markdown",
   "metadata": {},
   "source": [
    "The data we import is stored in two csv files. We initially just look at the data for User1, and we can repeat much of this for User 2 when needed."
   ]
  },
  {
   "cell_type": "code",
   "execution_count": 132,
   "metadata": {},
   "outputs": [
    {
     "data": {
      "text/html": [
       "<div>\n",
       "<style scoped>\n",
       "    .dataframe tbody tr th:only-of-type {\n",
       "        vertical-align: middle;\n",
       "    }\n",
       "\n",
       "    .dataframe tbody tr th {\n",
       "        vertical-align: top;\n",
       "    }\n",
       "\n",
       "    .dataframe thead th {\n",
       "        text-align: right;\n",
       "    }\n",
       "</style>\n",
       "<table border=\"1\" class=\"dataframe\">\n",
       "  <thead>\n",
       "    <tr style=\"text-align: right;\">\n",
       "      <th></th>\n",
       "      <th>Start</th>\n",
       "      <th>Finish</th>\n",
       "      <th>Steps (count)</th>\n",
       "    </tr>\n",
       "  </thead>\n",
       "  <tbody>\n",
       "    <tr>\n",
       "      <th>0</th>\n",
       "      <td>07-Dec-2014 09:00</td>\n",
       "      <td>07-Dec-2014 10:00</td>\n",
       "      <td>941.0</td>\n",
       "    </tr>\n",
       "    <tr>\n",
       "      <th>1</th>\n",
       "      <td>07-Dec-2014 10:00</td>\n",
       "      <td>07-Dec-2014 11:00</td>\n",
       "      <td>408.0</td>\n",
       "    </tr>\n",
       "    <tr>\n",
       "      <th>2</th>\n",
       "      <td>07-Dec-2014 11:00</td>\n",
       "      <td>07-Dec-2014 12:00</td>\n",
       "      <td>157.0</td>\n",
       "    </tr>\n",
       "    <tr>\n",
       "      <th>3</th>\n",
       "      <td>07-Dec-2014 12:00</td>\n",
       "      <td>07-Dec-2014 13:00</td>\n",
       "      <td>1017.0</td>\n",
       "    </tr>\n",
       "    <tr>\n",
       "      <th>4</th>\n",
       "      <td>07-Dec-2014 13:00</td>\n",
       "      <td>07-Dec-2014 14:00</td>\n",
       "      <td>0.0</td>\n",
       "    </tr>\n",
       "  </tbody>\n",
       "</table>\n",
       "</div>"
      ],
      "text/plain": [
       "               Start             Finish  Steps (count)\n",
       "0  07-Dec-2014 09:00  07-Dec-2014 10:00          941.0\n",
       "1  07-Dec-2014 10:00  07-Dec-2014 11:00          408.0\n",
       "2  07-Dec-2014 11:00  07-Dec-2014 12:00          157.0\n",
       "3  07-Dec-2014 12:00  07-Dec-2014 13:00         1017.0\n",
       "4  07-Dec-2014 13:00  07-Dec-2014 14:00            0.0"
      ]
     },
     "execution_count": 132,
     "metadata": {},
     "output_type": "execute_result"
    }
   ],
   "source": [
    "#Allow for adjustment of file path\n",
    "FILEPATH = \"\"\n",
    "\n",
    "df1 = pd.read_csv(FILEPATH + \"User1.csv\")\n",
    "df1.head()"
   ]
  },
  {
   "cell_type": "markdown",
   "metadata": {},
   "source": [
    "One point of initial analysis is to make sure the data is properly formatted. To do this, we can check for the number of na values and plot a histogram of the step counts to make sure there are no negative values etc. We also want to relabel the \"Steps (count)\" column and convert each of these to integers."
   ]
  },
  {
   "cell_type": "code",
   "execution_count": 133,
   "metadata": {},
   "outputs": [
    {
     "name": "stdout",
     "output_type": "stream",
     "text": [
      "Start            0\n",
      "Finish           0\n",
      "Steps (count)    0\n",
      "dtype: int64\n"
     ]
    }
   ],
   "source": [
    "print(df1.isnull().sum())"
   ]
  },
  {
   "cell_type": "code",
   "execution_count": 134,
   "metadata": {},
   "outputs": [
    {
     "data": {
      "image/png": "[encoded data removed]",
      "text/plain": [
       "<Figure size 432x288 with 1 Axes>"
      ]
     },
     "metadata": {
      "needs_background": "light"
     },
     "output_type": "display_data"
    }
   ],
   "source": [
    "df1.columns = [\"Start\", \"Finish\", \"Steps\"]\n",
    "df1[\"Steps\"] = list(map(int, df1[\"Steps\"]))\n",
    "df1.hist(bins = 50)\n",
    "plt.show()"
   ]
  },
  {
   "cell_type": "markdown",
   "metadata": {},
   "source": [
    "This histogram seems reasonable. There will be many hours of the day where 0 steps (or very few) are recorded. We can also print out a numeric summary of the steps column:"
   ]
  },
  {
   "cell_type": "code",
   "execution_count": 135,
   "metadata": {},
   "outputs": [
    {
     "name": "stdout",
     "output_type": "stream",
     "text": [
      "count    42076.0\n",
      "mean       203.0\n",
      "std        517.0\n",
      "min          0.0\n",
      "25%          0.0\n",
      "50%          0.0\n",
      "75%        122.0\n",
      "max       7204.0\n",
      "Name: Steps, dtype: float64\n"
     ]
    }
   ],
   "source": [
    "print(np.round(df1[\"Steps\"].describe()))"
   ]
  },
  {
   "cell_type": "markdown",
   "metadata": {},
   "source": [
    "Hence, we see that over half of the data contains no step counts. The maximum number of steps in an hour was 7204, which is equivalent to almost exactly 2 steps per second for the entire hour. This is physically possible so we have no reason to disclude it from the data."
   ]
  },
  {
   "cell_type": "markdown",
   "metadata": {},
   "source": [
    "As a first step of data analysis, we want to see if we can plot the average number of steps taken by the user at each hour throughout the day, grouped by the day of the week it occured on. To do this, we first need to segment the start and finish time into its components. We do this in the dataframe using some datetime formatting."
   ]
  },
  {
   "cell_type": "code",
   "execution_count": 136,
   "metadata": {},
   "outputs": [
    {
     "data": {
      "text/html": [
       "<div>\n",
       "<style scoped>\n",
       "    .dataframe tbody tr th:only-of-type {\n",
       "        vertical-align: middle;\n",
       "    }\n",
       "\n",
       "    .dataframe tbody tr th {\n",
       "        vertical-align: top;\n",
       "    }\n",
       "\n",
       "    .dataframe thead th {\n",
       "        text-align: right;\n",
       "    }\n",
       "</style>\n",
       "<table border=\"1\" class=\"dataframe\">\n",
       "  <thead>\n",
       "    <tr style=\"text-align: right;\">\n",
       "      <th></th>\n",
       "      <th>Start</th>\n",
       "      <th>Finish</th>\n",
       "      <th>Steps</th>\n",
       "      <th>day</th>\n",
       "      <th>hour</th>\n",
       "    </tr>\n",
       "  </thead>\n",
       "  <tbody>\n",
       "    <tr>\n",
       "      <th>0</th>\n",
       "      <td>07-Dec-2014 09:00</td>\n",
       "      <td>07-Dec-2014 10:00</td>\n",
       "      <td>941</td>\n",
       "      <td>6</td>\n",
       "      <td>9</td>\n",
       "    </tr>\n",
       "    <tr>\n",
       "      <th>1</th>\n",
       "      <td>07-Dec-2014 10:00</td>\n",
       "      <td>07-Dec-2014 11:00</td>\n",
       "      <td>408</td>\n",
       "      <td>6</td>\n",
       "      <td>10</td>\n",
       "    </tr>\n",
       "    <tr>\n",
       "      <th>2</th>\n",
       "      <td>07-Dec-2014 11:00</td>\n",
       "      <td>07-Dec-2014 12:00</td>\n",
       "      <td>157</td>\n",
       "      <td>6</td>\n",
       "      <td>11</td>\n",
       "    </tr>\n",
       "    <tr>\n",
       "      <th>3</th>\n",
       "      <td>07-Dec-2014 12:00</td>\n",
       "      <td>07-Dec-2014 13:00</td>\n",
       "      <td>1017</td>\n",
       "      <td>6</td>\n",
       "      <td>12</td>\n",
       "    </tr>\n",
       "  </tbody>\n",
       "</table>\n",
       "</div>"
      ],
      "text/plain": [
       "               Start             Finish  Steps  day  hour\n",
       "0  07-Dec-2014 09:00  07-Dec-2014 10:00    941    6     9\n",
       "1  07-Dec-2014 10:00  07-Dec-2014 11:00    408    6    10\n",
       "2  07-Dec-2014 11:00  07-Dec-2014 12:00    157    6    11\n",
       "3  07-Dec-2014 12:00  07-Dec-2014 13:00   1017    6    12"
      ]
     },
     "execution_count": 136,
     "metadata": {},
     "output_type": "execute_result"
    }
   ],
   "source": [
    "start_dts = pd.to_datetime(df1[\"Start\"])\n",
    "df1[\"day\"] = [d.weekday() for d in start_dts]\n",
    "df1[\"hour\"] = [d.hour for d in start_dts]\n",
    "df1.head(4)"
   ]
  },
  {
   "cell_type": "markdown",
   "metadata": {},
   "source": [
    "Since all finish times are exactly one hour after the start time, we just record the start day and hour for each measurement. Now we can group by these to find the average number."
   ]
  },
  {
   "cell_type": "code",
   "execution_count": 137,
   "metadata": {},
   "outputs": [
    {
     "data": {
      "image/png": "[encoded data removed]",
      "text/plain": [
       "<Figure size 432x288 with 1 Axes>"
      ]
     },
     "metadata": {
      "needs_background": "light"
     },
     "output_type": "display_data"
    }
   ],
   "source": [
    "daily = df1.groupby([\"day\",\"hour\"]).mean().reset_index()\n",
    "daily.columns = [\"day\", \"hour\", \"steps\"]\n",
    "fig, ax = plt.subplots()\n",
    "for i in range(7):\n",
    "    daily_temp = daily[daily[\"day\"] == i]\n",
    "    ax.plot(daily_temp[\"hour\"],daily_temp[\"steps\"], color = [1/8 * i,0.4,0.2])\n",
    "\n",
    "ax.set_xlabel(\"Hour\")\n",
    "ax.set_ylabel(\"Average Steps\")\n",
    "ax.set_title(\"Number of steps taken each hour, segmented by day\")\n",
    "plt.show()"
   ]
  },
  {
   "cell_type": "code",
   "execution_count": null,
   "metadata": {},
   "outputs": [],
   "source": []
  }
 ],
 "metadata": {
  "kernelspec": {
   "display_name": "Python 3",
   "language": "python",
   "name": "python3"
  },
  "language_info": {
   "codemirror_mode": {
    "name": "ipython",
    "version": 3
   },
   "file_extension": ".py",
   "mimetype": "text/x-python",
   "name": "python",
   "nbconvert_exporter": "python",
   "pygments_lexer": "ipython3",
   "version": "3.7.1"
  }
 },
 "nbformat": 4,
 "nbformat_minor": 2
}
