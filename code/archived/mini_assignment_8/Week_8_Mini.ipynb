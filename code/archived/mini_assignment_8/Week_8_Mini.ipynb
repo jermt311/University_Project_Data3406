{
  "nbformat": 4,
  "nbformat_minor": 0,
  "metadata": {
    "colab": {
      "name": "Week 8 Mini ",
      "provenance": [],
      "collapsed_sections": []
    },
    "kernelspec": {
      "name": "python3",
      "display_name": "Python 3"
    }
  },
  "cells": [
    {
      "cell_type": "markdown",
      "metadata": {
        "id": "6fboQSAt37Qf"
      },
      "source": [
        "Our group is concerned with personal informatics, where we track a users step count over several periods. We are going to perform our initial data exploration to see if there any issues with the data and subsequently allows us to gain quick insights about the data."
      ]
    },
    {
      "cell_type": "code",
      "metadata": {
        "id": "6BYAMBT7jCWj"
      },
      "source": [
        "#Import libraries\n",
        "import pandas as pd\n",
        "import numpy as np\n",
        "import matplotlib.pyplot as plt"
      ],
      "execution_count": null,
      "outputs": []
    },
    {
      "cell_type": "code",
      "metadata": {
        "id": "rtlsy-oBlgAm"
      },
      "source": [
        "#Reading the data in, and in this case, we are examining User 2 \n",
        "df = pd.read_csv('/content/User2.csv')"
      ],
      "execution_count": null,
      "outputs": []
    },
    {
      "cell_type": "code",
      "metadata": {
        "id": "vckcDPcFyexr",
        "outputId": "704c7345-eefd-4bc1-b42b-7ad09cc978a9",
        "colab": {
          "base_uri": "https://localhost:8080/",
          "height": 85
        }
      },
      "source": [
        "#Checking if any of the data is null\n",
        "df.isnull().sum()"
      ],
      "execution_count": null,
      "outputs": [
        {
          "output_type": "execute_result",
          "data": {
            "text/plain": [
              "Start            0\n",
              "Finish           0\n",
              "Steps (count)    0\n",
              "dtype: int64"
            ]
          },
          "metadata": {
            "tags": []
          },
          "execution_count": 15
        }
      ]
    },
    {
      "cell_type": "markdown",
      "metadata": {
        "id": "TRY8aVdtcAFi"
      },
      "source": [
        "Checking if there are any Trues from df.isnull() - there is not, so good to go ahead with analysis. "
      ]
    },
    {
      "cell_type": "code",
      "metadata": {
        "id": "2ARcoOIEyeoJ",
        "outputId": "0edbb0f9-cc69-4417-a1b5-fcfb0c7dbd00",
        "colab": {
          "base_uri": "https://localhost:8080/",
          "height": 419
        }
      },
      "source": [
        "#Quick visulisation\n",
        "df"
      ],
      "execution_count": null,
      "outputs": [
        {
          "output_type": "execute_result",
          "data": {
            "text/html": [
              "<div>\n",
              "<style scoped>\n",
              "    .dataframe tbody tr th:only-of-type {\n",
              "        vertical-align: middle;\n",
              "    }\n",
              "\n",
              "    .dataframe tbody tr th {\n",
              "        vertical-align: top;\n",
              "    }\n",
              "\n",
              "    .dataframe thead th {\n",
              "        text-align: right;\n",
              "    }\n",
              "</style>\n",
              "<table border=\"1\" class=\"dataframe\">\n",
              "  <thead>\n",
              "    <tr style=\"text-align: right;\">\n",
              "      <th></th>\n",
              "      <th>Start</th>\n",
              "      <th>Finish</th>\n",
              "      <th>Steps (count)</th>\n",
              "    </tr>\n",
              "  </thead>\n",
              "  <tbody>\n",
              "    <tr>\n",
              "      <th>0</th>\n",
              "      <td>29-Nov-2014 00:00</td>\n",
              "      <td>29-Nov-2014 01:00</td>\n",
              "      <td>502.666667</td>\n",
              "    </tr>\n",
              "    <tr>\n",
              "      <th>1</th>\n",
              "      <td>29-Nov-2014 01:00</td>\n",
              "      <td>29-Nov-2014 02:00</td>\n",
              "      <td>502.666667</td>\n",
              "    </tr>\n",
              "    <tr>\n",
              "      <th>2</th>\n",
              "      <td>29-Nov-2014 02:00</td>\n",
              "      <td>29-Nov-2014 03:00</td>\n",
              "      <td>502.666667</td>\n",
              "    </tr>\n",
              "    <tr>\n",
              "      <th>3</th>\n",
              "      <td>29-Nov-2014 03:00</td>\n",
              "      <td>29-Nov-2014 04:00</td>\n",
              "      <td>502.666667</td>\n",
              "    </tr>\n",
              "    <tr>\n",
              "      <th>4</th>\n",
              "      <td>29-Nov-2014 04:00</td>\n",
              "      <td>29-Nov-2014 05:00</td>\n",
              "      <td>502.666667</td>\n",
              "    </tr>\n",
              "    <tr>\n",
              "      <th>...</th>\n",
              "      <td>...</td>\n",
              "      <td>...</td>\n",
              "      <td>...</td>\n",
              "    </tr>\n",
              "    <tr>\n",
              "      <th>42272</th>\n",
              "      <td>25-Sep-2019 07:00</td>\n",
              "      <td>25-Sep-2019 08:00</td>\n",
              "      <td>0.000000</td>\n",
              "    </tr>\n",
              "    <tr>\n",
              "      <th>42273</th>\n",
              "      <td>25-Sep-2019 08:00</td>\n",
              "      <td>25-Sep-2019 09:00</td>\n",
              "      <td>0.000000</td>\n",
              "    </tr>\n",
              "    <tr>\n",
              "      <th>42274</th>\n",
              "      <td>25-Sep-2019 09:00</td>\n",
              "      <td>25-Sep-2019 10:00</td>\n",
              "      <td>31.000000</td>\n",
              "    </tr>\n",
              "    <tr>\n",
              "      <th>42275</th>\n",
              "      <td>25-Sep-2019 10:00</td>\n",
              "      <td>25-Sep-2019 11:00</td>\n",
              "      <td>418.000000</td>\n",
              "    </tr>\n",
              "    <tr>\n",
              "      <th>42276</th>\n",
              "      <td>25-Sep-2019 11:00</td>\n",
              "      <td>25-Sep-2019 12:00</td>\n",
              "      <td>726.000000</td>\n",
              "    </tr>\n",
              "  </tbody>\n",
              "</table>\n",
              "<p>42277 rows × 3 columns</p>\n",
              "</div>"
            ],
            "text/plain": [
              "                   Start             Finish  Steps (count)\n",
              "0      29-Nov-2014 00:00  29-Nov-2014 01:00     502.666667\n",
              "1      29-Nov-2014 01:00  29-Nov-2014 02:00     502.666667\n",
              "2      29-Nov-2014 02:00  29-Nov-2014 03:00     502.666667\n",
              "3      29-Nov-2014 03:00  29-Nov-2014 04:00     502.666667\n",
              "4      29-Nov-2014 04:00  29-Nov-2014 05:00     502.666667\n",
              "...                  ...                ...            ...\n",
              "42272  25-Sep-2019 07:00  25-Sep-2019 08:00       0.000000\n",
              "42273  25-Sep-2019 08:00  25-Sep-2019 09:00       0.000000\n",
              "42274  25-Sep-2019 09:00  25-Sep-2019 10:00      31.000000\n",
              "42275  25-Sep-2019 10:00  25-Sep-2019 11:00     418.000000\n",
              "42276  25-Sep-2019 11:00  25-Sep-2019 12:00     726.000000\n",
              "\n",
              "[42277 rows x 3 columns]"
            ]
          },
          "metadata": {
            "tags": []
          },
          "execution_count": 16
        }
      ]
    },
    {
      "cell_type": "markdown",
      "metadata": {
        "id": "ioBNsdUUcIrX"
      },
      "source": [
        "Quick visualisation about the df to see what is available to use."
      ]
    },
    {
      "cell_type": "code",
      "metadata": {
        "id": "yrjPHpl54n9x",
        "outputId": "0cf750a2-04c4-4e11-e481-d7d051245906",
        "colab": {
          "base_uri": "https://localhost:8080/",
          "height": 419
        }
      },
      "source": [
        "#Roudning it to 0 dp. \n",
        "df.round(0)"
      ],
      "execution_count": null,
      "outputs": [
        {
          "output_type": "execute_result",
          "data": {
            "text/html": [
              "<div>\n",
              "<style scoped>\n",
              "    .dataframe tbody tr th:only-of-type {\n",
              "        vertical-align: middle;\n",
              "    }\n",
              "\n",
              "    .dataframe tbody tr th {\n",
              "        vertical-align: top;\n",
              "    }\n",
              "\n",
              "    .dataframe thead th {\n",
              "        text-align: right;\n",
              "    }\n",
              "</style>\n",
              "<table border=\"1\" class=\"dataframe\">\n",
              "  <thead>\n",
              "    <tr style=\"text-align: right;\">\n",
              "      <th></th>\n",
              "      <th>Start</th>\n",
              "      <th>Finish</th>\n",
              "      <th>Steps (count)</th>\n",
              "    </tr>\n",
              "  </thead>\n",
              "  <tbody>\n",
              "    <tr>\n",
              "      <th>0</th>\n",
              "      <td>29-Nov-2014 00:00</td>\n",
              "      <td>29-Nov-2014 01:00</td>\n",
              "      <td>503.0</td>\n",
              "    </tr>\n",
              "    <tr>\n",
              "      <th>1</th>\n",
              "      <td>29-Nov-2014 01:00</td>\n",
              "      <td>29-Nov-2014 02:00</td>\n",
              "      <td>503.0</td>\n",
              "    </tr>\n",
              "    <tr>\n",
              "      <th>2</th>\n",
              "      <td>29-Nov-2014 02:00</td>\n",
              "      <td>29-Nov-2014 03:00</td>\n",
              "      <td>503.0</td>\n",
              "    </tr>\n",
              "    <tr>\n",
              "      <th>3</th>\n",
              "      <td>29-Nov-2014 03:00</td>\n",
              "      <td>29-Nov-2014 04:00</td>\n",
              "      <td>503.0</td>\n",
              "    </tr>\n",
              "    <tr>\n",
              "      <th>4</th>\n",
              "      <td>29-Nov-2014 04:00</td>\n",
              "      <td>29-Nov-2014 05:00</td>\n",
              "      <td>503.0</td>\n",
              "    </tr>\n",
              "    <tr>\n",
              "      <th>...</th>\n",
              "      <td>...</td>\n",
              "      <td>...</td>\n",
              "      <td>...</td>\n",
              "    </tr>\n",
              "    <tr>\n",
              "      <th>42272</th>\n",
              "      <td>25-Sep-2019 07:00</td>\n",
              "      <td>25-Sep-2019 08:00</td>\n",
              "      <td>0.0</td>\n",
              "    </tr>\n",
              "    <tr>\n",
              "      <th>42273</th>\n",
              "      <td>25-Sep-2019 08:00</td>\n",
              "      <td>25-Sep-2019 09:00</td>\n",
              "      <td>0.0</td>\n",
              "    </tr>\n",
              "    <tr>\n",
              "      <th>42274</th>\n",
              "      <td>25-Sep-2019 09:00</td>\n",
              "      <td>25-Sep-2019 10:00</td>\n",
              "      <td>31.0</td>\n",
              "    </tr>\n",
              "    <tr>\n",
              "      <th>42275</th>\n",
              "      <td>25-Sep-2019 10:00</td>\n",
              "      <td>25-Sep-2019 11:00</td>\n",
              "      <td>418.0</td>\n",
              "    </tr>\n",
              "    <tr>\n",
              "      <th>42276</th>\n",
              "      <td>25-Sep-2019 11:00</td>\n",
              "      <td>25-Sep-2019 12:00</td>\n",
              "      <td>726.0</td>\n",
              "    </tr>\n",
              "  </tbody>\n",
              "</table>\n",
              "<p>42277 rows × 3 columns</p>\n",
              "</div>"
            ],
            "text/plain": [
              "                   Start             Finish  Steps (count)\n",
              "0      29-Nov-2014 00:00  29-Nov-2014 01:00          503.0\n",
              "1      29-Nov-2014 01:00  29-Nov-2014 02:00          503.0\n",
              "2      29-Nov-2014 02:00  29-Nov-2014 03:00          503.0\n",
              "3      29-Nov-2014 03:00  29-Nov-2014 04:00          503.0\n",
              "4      29-Nov-2014 04:00  29-Nov-2014 05:00          503.0\n",
              "...                  ...                ...            ...\n",
              "42272  25-Sep-2019 07:00  25-Sep-2019 08:00            0.0\n",
              "42273  25-Sep-2019 08:00  25-Sep-2019 09:00            0.0\n",
              "42274  25-Sep-2019 09:00  25-Sep-2019 10:00           31.0\n",
              "42275  25-Sep-2019 10:00  25-Sep-2019 11:00          418.0\n",
              "42276  25-Sep-2019 11:00  25-Sep-2019 12:00          726.0\n",
              "\n",
              "[42277 rows x 3 columns]"
            ]
          },
          "metadata": {
            "tags": []
          },
          "execution_count": 17
        }
      ]
    },
    {
      "cell_type": "markdown",
      "metadata": {
        "id": "jVbdsAcd4mXg"
      },
      "source": [
        "The whole dataframe will be rounded (only applied to Steps as it is a float), this is as you cannot have half a step. "
      ]
    },
    {
      "cell_type": "code",
      "metadata": {
        "id": "bDrlVC52li-T",
        "outputId": "6b622837-9abd-408c-adc2-d4658ab4df9c",
        "colab": {
          "base_uri": "https://localhost:8080/",
          "height": 367
        }
      },
      "source": [
        "#Having a quick look\n",
        "plt.hist(df['Steps (count)'])"
      ],
      "execution_count": null,
      "outputs": [
        {
          "output_type": "execute_result",
          "data": {
            "text/plain": [
              "(array([3.5364e+04, 4.1150e+03, 1.4210e+03, 5.4400e+02, 3.1300e+02,\n",
              "        1.9400e+02, 1.8000e+02, 1.1600e+02, 2.5000e+01, 5.0000e+00]),\n",
              " array([   0.        ,  726.18168669, 1452.36337338, 2178.54506008,\n",
              "        2904.72674677, 3630.90843346, 4357.09012015, 5083.27180684,\n",
              "        5809.45349354, 6535.63518023, 7261.81686692]),\n",
              " <a list of 10 Patch objects>)"
            ]
          },
          "metadata": {
            "tags": []
          },
          "execution_count": 18
        },
        {
          "output_type": "display_data",
          "data": {
            "image/png": "[encoded data removed]",
            "text/plain": [
              "<Figure size 432x288 with 1 Axes>"
            ]
          },
          "metadata": {
            "tags": [],
            "needs_background": "light"
          }
        }
      ]
    },
    {
      "cell_type": "markdown",
      "metadata": {
        "id": "snX90UNFck9A"
      },
      "source": [
        "It seems like the steps count follows an exponential distribution, although it is difficult to tell as most of the step counts fall into the first bin. Would be beneficial if it is separated into more bins. "
      ]
    },
    {
      "cell_type": "code",
      "metadata": {
        "id": "uBgnmD-Yc9GN",
        "outputId": "b321eb16-8840-4701-d5b1-1517f7ea56f6",
        "colab": {
          "base_uri": "https://localhost:8080/",
          "height": 486
        }
      },
      "source": [
        "#Just to show it better than the graph above. \n",
        "bin = np.arange(0,5000,100)\n",
        "plt.hist(df['Steps (count)'],bins=bin)"
      ],
      "execution_count": null,
      "outputs": [
        {
          "output_type": "execute_result",
          "data": {
            "text/plain": [
              "(array([17568.,  4690.,  4572.,  3221.,  2079.,  1703.,  1249.,   903.,\n",
              "          754.,   633.,   531.,   529.,   438.,   421.,   335.,   308.,\n",
              "          230.,   181.,   166.,   156.,   138.,   118.,   109.,    76.,\n",
              "          100.,    61.,    68.,    53.,    54.,    56.,    56.,    41.,\n",
              "           46.,    33.,    38.,    36.,    26.,    36.,    23.,    28.,\n",
              "           27.,    26.,    24.,    29.,    30.,    23.,    26.,    21.,\n",
              "           18.]),\n",
              " array([   0,  100,  200,  300,  400,  500,  600,  700,  800,  900, 1000,\n",
              "        1100, 1200, 1300, 1400, 1500, 1600, 1700, 1800, 1900, 2000, 2100,\n",
              "        2200, 2300, 2400, 2500, 2600, 2700, 2800, 2900, 3000, 3100, 3200,\n",
              "        3300, 3400, 3500, 3600, 3700, 3800, 3900, 4000, 4100, 4200, 4300,\n",
              "        4400, 4500, 4600, 4700, 4800, 4900]),\n",
              " <a list of 49 Patch objects>)"
            ]
          },
          "metadata": {
            "tags": []
          },
          "execution_count": 19
        },
        {
          "output_type": "display_data",
          "data": {
            "image/png": "[encoded data removed]",
            "text/plain": [
              "<Figure size 432x288 with 1 Axes>"
            ]
          },
          "metadata": {
            "tags": [],
            "needs_background": "light"
          }
        }
      ]
    },
    {
      "cell_type": "markdown",
      "metadata": {
        "id": "AuUwma6HdbwY"
      },
      "source": [
        "It appears that there is an excessive number of steps under a 100. We may need to breakdown the steps underneath a 100 further but not at moment. "
      ]
    },
    {
      "cell_type": "code",
      "metadata": {
        "id": "hXOC6ErxlmuD",
        "outputId": "b1c5039f-d2f1-4ac8-dfe3-041491830232",
        "colab": {
          "base_uri": "https://localhost:8080/",
          "height": 282
        }
      },
      "source": [
        "plt.plot(df.set_index(df.index // 24).sum(level=0))  #Adding up every 24 hours to form a day.\n"
      ],
      "execution_count": null,
      "outputs": [
        {
          "output_type": "execute_result",
          "data": {
            "text/plain": [
              "[<matplotlib.lines.Line2D at 0x7f6778ae6a90>]"
            ]
          },
          "metadata": {
            "tags": []
          },
          "execution_count": 20
        },
        {
          "output_type": "display_data",
          "data": {
            "image/png": "[encoded data removed]",
            "text/plain": [
              "<Figure size 432x288 with 1 Axes>"
            ]
          },
          "metadata": {
            "tags": [],
            "needs_background": "light"
          }
        }
      ]
    },
    {
      "cell_type": "markdown",
      "metadata": {
        "id": "zTYaB0YPiCI8"
      },
      "source": [
        "Steps everday summed up. Does not tell us much. "
      ]
    },
    {
      "cell_type": "code",
      "metadata": {
        "id": "XEXC-FKGh8Oa",
        "outputId": "8dc94711-abca-480e-ca56-18ca32c8e769",
        "colab": {
          "base_uri": "https://localhost:8080/",
          "height": 282
        }
      },
      "source": [
        "plt.plot(df.set_index(df.index // 720).sum(level=0))"
      ],
      "execution_count": null,
      "outputs": [
        {
          "output_type": "execute_result",
          "data": {
            "text/plain": [
              "[<matplotlib.lines.Line2D at 0x7f6778a503c8>]"
            ]
          },
          "metadata": {
            "tags": []
          },
          "execution_count": 21
        },
        {
          "output_type": "display_data",
          "data": {
            "image/png": "[encoded data removed]",
            "text/plain": [
              "<Figure size 432x288 with 1 Axes>"
            ]
          },
          "metadata": {
            "tags": [],
            "needs_background": "light"
          }
        }
      ]
    },
    {
      "cell_type": "markdown",
      "metadata": {
        "id": "_Yr_2T3nh8qk"
      },
      "source": [
        "Based on months, trends are more visible- it seems like step counts over the months are quite sporadic/random\n",
        "\n"
      ]
    },
    {
      "cell_type": "code",
      "metadata": {
        "id": "mA6YqB_8hjMm",
        "outputId": "074f5607-63c6-4d94-bd6a-cfad9b36707b",
        "colab": {
          "base_uri": "https://localhost:8080/",
          "height": 453
        }
      },
      "source": [
        "df['Date'], df['Time starting'] = df['Start'].str.split(' ', 1).str\n",
        "df['Date'] = pd.to_datetime(df['Date'], errors='coerce')\n",
        "df['day_of_week'] = df['Date'].dt.day_name()  #adding a day of week\n",
        "df['month'] = df['Date'].dt.month_name()   #adding month tag\n",
        "df"
      ],
      "execution_count": null,
      "outputs": [
        {
          "output_type": "stream",
          "text": [
            "/usr/local/lib/python3.6/dist-packages/ipykernel_launcher.py:1: FutureWarning: Columnar iteration over characters will be deprecated in future releases.\n",
            "  \"\"\"Entry point for launching an IPython kernel.\n"
          ],
          "name": "stderr"
        },
        {
          "output_type": "execute_result",
          "data": {
            "text/html": [
              "<div>\n",
              "<style scoped>\n",
              "    .dataframe tbody tr th:only-of-type {\n",
              "        vertical-align: middle;\n",
              "    }\n",
              "\n",
              "    .dataframe tbody tr th {\n",
              "        vertical-align: top;\n",
              "    }\n",
              "\n",
              "    .dataframe thead th {\n",
              "        text-align: right;\n",
              "    }\n",
              "</style>\n",
              "<table border=\"1\" class=\"dataframe\">\n",
              "  <thead>\n",
              "    <tr style=\"text-align: right;\">\n",
              "      <th></th>\n",
              "      <th>Start</th>\n",
              "      <th>Finish</th>\n",
              "      <th>Steps (count)</th>\n",
              "      <th>Date</th>\n",
              "      <th>Time starting</th>\n",
              "      <th>day_of_week</th>\n",
              "      <th>month</th>\n",
              "    </tr>\n",
              "  </thead>\n",
              "  <tbody>\n",
              "    <tr>\n",
              "      <th>0</th>\n",
              "      <td>29-Nov-2014 00:00</td>\n",
              "      <td>29-Nov-2014 01:00</td>\n",
              "      <td>502.666667</td>\n",
              "      <td>2014-11-29</td>\n",
              "      <td>00:00</td>\n",
              "      <td>Saturday</td>\n",
              "      <td>November</td>\n",
              "    </tr>\n",
              "    <tr>\n",
              "      <th>1</th>\n",
              "      <td>29-Nov-2014 01:00</td>\n",
              "      <td>29-Nov-2014 02:00</td>\n",
              "      <td>502.666667</td>\n",
              "      <td>2014-11-29</td>\n",
              "      <td>01:00</td>\n",
              "      <td>Saturday</td>\n",
              "      <td>November</td>\n",
              "    </tr>\n",
              "    <tr>\n",
              "      <th>2</th>\n",
              "      <td>29-Nov-2014 02:00</td>\n",
              "      <td>29-Nov-2014 03:00</td>\n",
              "      <td>502.666667</td>\n",
              "      <td>2014-11-29</td>\n",
              "      <td>02:00</td>\n",
              "      <td>Saturday</td>\n",
              "      <td>November</td>\n",
              "    </tr>\n",
              "    <tr>\n",
              "      <th>3</th>\n",
              "      <td>29-Nov-2014 03:00</td>\n",
              "      <td>29-Nov-2014 04:00</td>\n",
              "      <td>502.666667</td>\n",
              "      <td>2014-11-29</td>\n",
              "      <td>03:00</td>\n",
              "      <td>Saturday</td>\n",
              "      <td>November</td>\n",
              "    </tr>\n",
              "    <tr>\n",
              "      <th>4</th>\n",
              "      <td>29-Nov-2014 04:00</td>\n",
              "      <td>29-Nov-2014 05:00</td>\n",
              "      <td>502.666667</td>\n",
              "      <td>2014-11-29</td>\n",
              "      <td>04:00</td>\n",
              "      <td>Saturday</td>\n",
              "      <td>November</td>\n",
              "    </tr>\n",
              "    <tr>\n",
              "      <th>...</th>\n",
              "      <td>...</td>\n",
              "      <td>...</td>\n",
              "      <td>...</td>\n",
              "      <td>...</td>\n",
              "      <td>...</td>\n",
              "      <td>...</td>\n",
              "      <td>...</td>\n",
              "    </tr>\n",
              "    <tr>\n",
              "      <th>42272</th>\n",
              "      <td>25-Sep-2019 07:00</td>\n",
              "      <td>25-Sep-2019 08:00</td>\n",
              "      <td>0.000000</td>\n",
              "      <td>2019-09-25</td>\n",
              "      <td>07:00</td>\n",
              "      <td>Wednesday</td>\n",
              "      <td>September</td>\n",
              "    </tr>\n",
              "    <tr>\n",
              "      <th>42273</th>\n",
              "      <td>25-Sep-2019 08:00</td>\n",
              "      <td>25-Sep-2019 09:00</td>\n",
              "      <td>0.000000</td>\n",
              "      <td>2019-09-25</td>\n",
              "      <td>08:00</td>\n",
              "      <td>Wednesday</td>\n",
              "      <td>September</td>\n",
              "    </tr>\n",
              "    <tr>\n",
              "      <th>42274</th>\n",
              "      <td>25-Sep-2019 09:00</td>\n",
              "      <td>25-Sep-2019 10:00</td>\n",
              "      <td>31.000000</td>\n",
              "      <td>2019-09-25</td>\n",
              "      <td>09:00</td>\n",
              "      <td>Wednesday</td>\n",
              "      <td>September</td>\n",
              "    </tr>\n",
              "    <tr>\n",
              "      <th>42275</th>\n",
              "      <td>25-Sep-2019 10:00</td>\n",
              "      <td>25-Sep-2019 11:00</td>\n",
              "      <td>418.000000</td>\n",
              "      <td>2019-09-25</td>\n",
              "      <td>10:00</td>\n",
              "      <td>Wednesday</td>\n",
              "      <td>September</td>\n",
              "    </tr>\n",
              "    <tr>\n",
              "      <th>42276</th>\n",
              "      <td>25-Sep-2019 11:00</td>\n",
              "      <td>25-Sep-2019 12:00</td>\n",
              "      <td>726.000000</td>\n",
              "      <td>2019-09-25</td>\n",
              "      <td>11:00</td>\n",
              "      <td>Wednesday</td>\n",
              "      <td>September</td>\n",
              "    </tr>\n",
              "  </tbody>\n",
              "</table>\n",
              "<p>42277 rows × 7 columns</p>\n",
              "</div>"
            ],
            "text/plain": [
              "                   Start             Finish  ...  day_of_week      month\n",
              "0      29-Nov-2014 00:00  29-Nov-2014 01:00  ...     Saturday   November\n",
              "1      29-Nov-2014 01:00  29-Nov-2014 02:00  ...     Saturday   November\n",
              "2      29-Nov-2014 02:00  29-Nov-2014 03:00  ...     Saturday   November\n",
              "3      29-Nov-2014 03:00  29-Nov-2014 04:00  ...     Saturday   November\n",
              "4      29-Nov-2014 04:00  29-Nov-2014 05:00  ...     Saturday   November\n",
              "...                  ...                ...  ...          ...        ...\n",
              "42272  25-Sep-2019 07:00  25-Sep-2019 08:00  ...    Wednesday  September\n",
              "42273  25-Sep-2019 08:00  25-Sep-2019 09:00  ...    Wednesday  September\n",
              "42274  25-Sep-2019 09:00  25-Sep-2019 10:00  ...    Wednesday  September\n",
              "42275  25-Sep-2019 10:00  25-Sep-2019 11:00  ...    Wednesday  September\n",
              "42276  25-Sep-2019 11:00  25-Sep-2019 12:00  ...    Wednesday  September\n",
              "\n",
              "[42277 rows x 7 columns]"
            ]
          },
          "metadata": {
            "tags": []
          },
          "execution_count": 22
        }
      ]
    },
    {
      "cell_type": "markdown",
      "metadata": {
        "id": "tx9XNUihdzTU"
      },
      "source": [
        "Firstly, I added up every 24 hours to form a data for consolidation purposes. In here, I have used the 'Start' column to assign a day of week and month to that particular record. This will be useful later on. "
      ]
    },
    {
      "cell_type": "code",
      "metadata": {
        "id": "GLNKrN2sYL_T",
        "outputId": "95197506-059a-46ee-9cd6-03944ba329bb",
        "colab": {
          "base_uri": "https://localhost:8080/",
          "height": 282
        }
      },
      "source": [
        "#Grouping based on day of week\n",
        "df.groupby('day_of_week')['Steps (count)'].median()\n",
        "plt.plot(df.groupby('day_of_week')['Steps (count)'].median())"
      ],
      "execution_count": null,
      "outputs": [
        {
          "output_type": "execute_result",
          "data": {
            "text/plain": [
              "[<matplotlib.lines.Line2D at 0x7f6777d24160>]"
            ]
          },
          "metadata": {
            "tags": []
          },
          "execution_count": 23
        },
        {
          "output_type": "display_data",
          "data": {
            "image/png": "[encoded data removed]",
            "text/plain": [
              "<Figure size 432x288 with 1 Axes>"
            ]
          },
          "metadata": {
            "tags": [],
            "needs_background": "light"
          }
        }
      ]
    },
    {
      "cell_type": "markdown",
      "metadata": {
        "id": "uUmmizzJ34w5"
      },
      "source": [
        "Using the median over all the years, it appears that there is a steep decline in terms of step count on Saturday. Otherwise, for every other weekday it tends to fluctuate between 180 and 200 step counts or so. "
      ]
    },
    {
      "cell_type": "code",
      "metadata": {
        "id": "UXXlay3tx6M2",
        "outputId": "ace2e2f6-9d93-4797-fdaa-456979543b97",
        "colab": {
          "base_uri": "https://localhost:8080/",
          "height": 282
        }
      },
      "source": [
        "#Grouping based on the month\n",
        "df.groupby('month')['Steps (count)'].median()\n",
        "plt.plot(df.groupby('month')['Steps (count)'].median())"
      ],
      "execution_count": null,
      "outputs": [
        {
          "output_type": "execute_result",
          "data": {
            "text/plain": [
              "[<matplotlib.lines.Line2D at 0x7f6778276cf8>]"
            ]
          },
          "metadata": {
            "tags": []
          },
          "execution_count": 24
        },
        {
          "output_type": "display_data",
          "data": {
            "image/png": "[encoded data removed]",
            "text/plain": [
              "<Figure size 432x288 with 1 Axes>"
            ]
          },
          "metadata": {
            "tags": [],
            "needs_background": "light"
          }
        }
      ]
    },
    {
      "cell_type": "markdown",
      "metadata": {
        "id": "1NUGNNy3ZhBI"
      },
      "source": [
        "Judging by the graph, it seems that data is largely sporadic. "
      ]
    }
  ]
}