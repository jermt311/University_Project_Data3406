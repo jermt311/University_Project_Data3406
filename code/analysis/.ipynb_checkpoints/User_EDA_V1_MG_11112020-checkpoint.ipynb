{
 "cells": [
  {
   "cell_type": "markdown",
   "metadata": {},
   "source": [
    "# User EDA\n",
    "\n",
    "### Driving Question\n",
    "We have not yet been able to do an over-arching analysis on all of the users that have contributed their data. Hence, we want to do some EDA to see which users will be most useful in our various analyses and visualisations that will make up the product notebook."
   ]
  },
  {
   "cell_type": "markdown",
   "metadata": {},
   "source": [
    "### Importing the Data\n",
    "\n"
   ]
  },
  {
   "cell_type": "code",
   "execution_count": 1,
   "metadata": {},
   "outputs": [],
   "source": [
    "import numpy as np\n",
    "import pandas as pd\n",
    "import matplotlib.pyplot as plt\n",
    "import os"
   ]
  },
  {
   "cell_type": "code",
   "execution_count": 2,
   "metadata": {},
   "outputs": [],
   "source": [
    "def read_CLEAN_data(filename):\n",
    "    #Read in CSV file\n",
    "    dat = pd.read_csv(filename)\n",
    "    #Convert datetimes\n",
    "    dat[\"Date\"] = pd.to_datetime(dat[\"Date\"], format = '%Y-%m-%d').dt.date\n",
    "    \n",
    "    return dat"
   ]
  },
  {
   "cell_type": "markdown",
   "metadata": {},
   "source": [
    "We use the *pre-cleaned* data from the worksheet `reading/DataCleaning_`, which means we don't have to preprocess everything again. We create an array of data sets and an array of the names of each of the files so that we can identify each of the datasets."
   ]
  },
  {
   "cell_type": "code",
   "execution_count": 3,
   "metadata": {},
   "outputs": [],
   "source": [
    "filenames = []\n",
    "dfs = []\n",
    "\n",
    "FILEPATH = \"../../data/cleaned\"\n",
    "for file in os.scandir(FILEPATH):\n",
    "    filenames.append(file.path)\n",
    "    dfs.append(read_CLEAN_data(file.path))"
   ]
  },
  {
   "cell_type": "markdown",
   "metadata": {},
   "source": [
    "### Introductory EDA\n",
    "\n",
    "We want to calculate some basic statistics for each dataset, including the number, mean, zero-step counts etc."
   ]
  },
  {
   "cell_type": "code",
   "execution_count": 4,
   "metadata": {},
   "outputs": [
    {
     "data": {
      "text/html": [
       "<div>\n",
       "<style scoped>\n",
       "    .dataframe tbody tr th:only-of-type {\n",
       "        vertical-align: middle;\n",
       "    }\n",
       "\n",
       "    .dataframe tbody tr th {\n",
       "        vertical-align: top;\n",
       "    }\n",
       "\n",
       "    .dataframe thead th {\n",
       "        text-align: right;\n",
       "    }\n",
       "</style>\n",
       "<table border=\"1\" class=\"dataframe\">\n",
       "  <thead>\n",
       "    <tr style=\"text-align: right;\">\n",
       "      <th></th>\n",
       "      <th>User</th>\n",
       "      <th>N</th>\n",
       "      <th>Avg</th>\n",
       "      <th>Zero %</th>\n",
       "    </tr>\n",
       "  </thead>\n",
       "  <tbody>\n",
       "    <tr>\n",
       "      <th>0</th>\n",
       "      <td>participant1</td>\n",
       "      <td>164</td>\n",
       "      <td>137.0</td>\n",
       "      <td>40.9</td>\n",
       "    </tr>\n",
       "    <tr>\n",
       "      <th>1</th>\n",
       "      <td>participant2</td>\n",
       "      <td>26722</td>\n",
       "      <td>369.8</td>\n",
       "      <td>52.7</td>\n",
       "    </tr>\n",
       "    <tr>\n",
       "      <th>2</th>\n",
       "      <td>participant3</td>\n",
       "      <td>28503</td>\n",
       "      <td>243.4</td>\n",
       "      <td>52.1</td>\n",
       "    </tr>\n",
       "    <tr>\n",
       "      <th>3</th>\n",
       "      <td>participant6</td>\n",
       "      <td>159</td>\n",
       "      <td>67.2</td>\n",
       "      <td>27.7</td>\n",
       "    </tr>\n",
       "    <tr>\n",
       "      <th>4</th>\n",
       "      <td>participant7</td>\n",
       "      <td>1036</td>\n",
       "      <td>2943.6</td>\n",
       "      <td>0.1</td>\n",
       "    </tr>\n",
       "    <tr>\n",
       "      <th>5</th>\n",
       "      <td>serena</td>\n",
       "      <td>42794</td>\n",
       "      <td>195.0</td>\n",
       "      <td>54.7</td>\n",
       "    </tr>\n",
       "    <tr>\n",
       "      <th>6</th>\n",
       "      <td>user1</td>\n",
       "      <td>42076</td>\n",
       "      <td>203.1</td>\n",
       "      <td>63.8</td>\n",
       "    </tr>\n",
       "    <tr>\n",
       "      <th>7</th>\n",
       "      <td>user2</td>\n",
       "      <td>42277</td>\n",
       "      <td>415.9</td>\n",
       "      <td>30.3</td>\n",
       "    </tr>\n",
       "  </tbody>\n",
       "</table>\n",
       "</div>"
      ],
      "text/plain": [
       "           User      N     Avg  Zero %\n",
       "0  participant1    164   137.0    40.9\n",
       "1  participant2  26722   369.8    52.7\n",
       "2  participant3  28503   243.4    52.1\n",
       "3  participant6    159    67.2    27.7\n",
       "4  participant7   1036  2943.6     0.1\n",
       "5        serena  42794   195.0    54.7\n",
       "6         user1  42076   203.1    63.8\n",
       "7         user2  42277   415.9    30.3"
      ]
     },
     "execution_count": 4,
     "metadata": {},
     "output_type": "execute_result"
    }
   ],
   "source": [
    "names = [fn.split(\"\\\\\")[1].split(\".\")[0] for fn in filenames]\n",
    "N = np.array([df.shape[0] for df in dfs])\n",
    "Avg = np.array([np.mean(df[\"Steps\"]) for df in dfs])\n",
    "Zeros = np.array([np.sum(df[\"Steps\"] == 0) for df in dfs])\n",
    "d = {'User':names,'N':N,'Avg':np.round(Avg,1),'Zero %':np.round(Zeros/N*100,1)}\n",
    "pd.DataFrame(data=d)"
   ]
  },
  {
   "cell_type": "markdown",
   "metadata": {},
   "source": [
    "### Flagging Adherence Measures\n",
    "\n",
    "For each user, we want to determine what proportion of days each user achieves the relevant adherence measure. We implement the functions developed by Stanley, which can be found in `reading/adherenceQS_`."
   ]
  },
  {
   "cell_type": "code",
   "execution_count": 5,
   "metadata": {},
   "outputs": [],
   "source": [
    "# 10 hours of non zeroes \n",
    "def ten_hours_non_zeros(df,hours):\n",
    "    df1 = df.copy()\n",
    "    df1['Not Zero'] = df1['Steps'] > 0\n",
    "    df1 = df1.groupby('Date').sum()\n",
    "    df1 = df1['Not Zero'] > hours \n",
    "    return df1\n",
    "\n",
    "#Greater than 500 steps\n",
    "def greater_than_certain_steps(df,min_steps):\n",
    "    df1 = df.copy()\n",
    "    df1 = df1.groupby('Date').sum()\n",
    "    df1 = df1['Steps']> min_steps\n",
    "    return df1 \n",
    "\n",
    "#Active in 3 time blocks \n",
    "def three_time_blocks(df):\n",
    "    df1 = df.copy()\n",
    "    bins = [-1,2,10,14,25,np.inf]\n",
    "    names = ['3','1','2', '4', '5']\n",
    "    df1['3timeblock'] = pd.cut(df1['Hour'],bins, labels = names)\n",
    "    df1 = df1.replace({'3timeblock':r'4'},{'3timeblock':'3'},regex = True)\n",
    "    df1 = df1.replace({'3timeblock':r'5'},{'3timeblock':'3'},regex = True)\n",
    "    df1 = df1.groupby(['Date','3timeblock'], as_index=False)['Steps'].sum()\n",
    "    df1['Steps within timeblock'] = df1['Steps']> 0 \n",
    "    df1 = df1.groupby('Date').sum()\n",
    "    df1 = df1['Steps within timeblock'] ==3 \n",
    "    return df1\n",
    "\n",
    "#Combining it all into 1 dataframe\n",
    "def three_method_table(x):\n",
    "    valid_1= ten_hours_non_zeros(x,10)\n",
    "    valid_2= greater_than_certain_steps(x,500)\n",
    "    valid_3= three_time_blocks(x)\n",
    "    result = pd.concat([valid_1,valid_2,valid_3], axis=1, join='inner')\n",
    "    result.reset_index(level=0, inplace=True)\n",
    "    result.columns = [\"Date\", \"Ten Hours Non Zero\",\"Steps > Five Hundred\",\"Three Timeblock\"]\n",
    "    result['All Three True'] = result[\"Three Timeblock\"]&result[\"Ten Hours Non Zero\"]&result[\"Steps > Five Hundred\"]\n",
    "    result_sum = result.sum()\n",
    "    return result , result_sum"
   ]
  },
  {
   "cell_type": "markdown",
   "metadata": {},
   "source": [
    "We first do the required analysis on one of the dataframes, and then we can do it on all of them."
   ]
  },
  {
   "cell_type": "code",
   "execution_count": 6,
   "metadata": {},
   "outputs": [
    {
     "data": {
      "text/html": [
       "<div>\n",
       "<style scoped>\n",
       "    .dataframe tbody tr th:only-of-type {\n",
       "        vertical-align: middle;\n",
       "    }\n",
       "\n",
       "    .dataframe tbody tr th {\n",
       "        vertical-align: top;\n",
       "    }\n",
       "\n",
       "    .dataframe thead th {\n",
       "        text-align: right;\n",
       "    }\n",
       "</style>\n",
       "<table border=\"1\" class=\"dataframe\">\n",
       "  <thead>\n",
       "    <tr style=\"text-align: right;\">\n",
       "      <th></th>\n",
       "      <th>Date</th>\n",
       "      <th>Ten Hours Non Zero</th>\n",
       "      <th>Steps &gt; Five Hundred</th>\n",
       "      <th>Three Timeblock</th>\n",
       "      <th>All Three True</th>\n",
       "    </tr>\n",
       "  </thead>\n",
       "  <tbody>\n",
       "    <tr>\n",
       "      <th>0</th>\n",
       "      <td>2020-10-18</td>\n",
       "      <td>True</td>\n",
       "      <td>True</td>\n",
       "      <td>True</td>\n",
       "      <td>True</td>\n",
       "    </tr>\n",
       "    <tr>\n",
       "      <th>1</th>\n",
       "      <td>2020-10-19</td>\n",
       "      <td>True</td>\n",
       "      <td>True</td>\n",
       "      <td>True</td>\n",
       "      <td>True</td>\n",
       "    </tr>\n",
       "    <tr>\n",
       "      <th>2</th>\n",
       "      <td>2020-10-20</td>\n",
       "      <td>True</td>\n",
       "      <td>True</td>\n",
       "      <td>True</td>\n",
       "      <td>True</td>\n",
       "    </tr>\n",
       "    <tr>\n",
       "      <th>3</th>\n",
       "      <td>2020-10-21</td>\n",
       "      <td>True</td>\n",
       "      <td>True</td>\n",
       "      <td>True</td>\n",
       "      <td>True</td>\n",
       "    </tr>\n",
       "    <tr>\n",
       "      <th>4</th>\n",
       "      <td>2020-10-22</td>\n",
       "      <td>False</td>\n",
       "      <td>True</td>\n",
       "      <td>True</td>\n",
       "      <td>False</td>\n",
       "    </tr>\n",
       "    <tr>\n",
       "      <th>5</th>\n",
       "      <td>2020-10-23</td>\n",
       "      <td>False</td>\n",
       "      <td>True</td>\n",
       "      <td>True</td>\n",
       "      <td>False</td>\n",
       "    </tr>\n",
       "    <tr>\n",
       "      <th>6</th>\n",
       "      <td>2020-10-24</td>\n",
       "      <td>True</td>\n",
       "      <td>True</td>\n",
       "      <td>True</td>\n",
       "      <td>True</td>\n",
       "    </tr>\n",
       "  </tbody>\n",
       "</table>\n",
       "</div>"
      ],
      "text/plain": [
       "         Date  Ten Hours Non Zero  Steps > Five Hundred  Three Timeblock  \\\n",
       "0  2020-10-18                True                  True             True   \n",
       "1  2020-10-19                True                  True             True   \n",
       "2  2020-10-20                True                  True             True   \n",
       "3  2020-10-21                True                  True             True   \n",
       "4  2020-10-22               False                  True             True   \n",
       "5  2020-10-23               False                  True             True   \n",
       "6  2020-10-24                True                  True             True   \n",
       "\n",
       "   All Three True  \n",
       "0            True  \n",
       "1            True  \n",
       "2            True  \n",
       "3            True  \n",
       "4           False  \n",
       "5           False  \n",
       "6            True  "
      ]
     },
     "execution_count": 6,
     "metadata": {},
     "output_type": "execute_result"
    }
   ],
   "source": [
    "df = dfs[0]\n",
    "tmt = three_method_table(df)[0]\n",
    "tmt"
   ]
  },
  {
   "cell_type": "markdown",
   "metadata": {},
   "source": [
    "We want summary statistics from before, finding the number of days and recorded in the dataset and the proportion of adherence measures followed."
   ]
  },
  {
   "cell_type": "code",
   "execution_count": 7,
   "metadata": {},
   "outputs": [
    {
     "name": "stdout",
     "output_type": "stream",
     "text": [
      "7 0.7142857142857143 1.0 1.0 0.7142857142857143\n"
     ]
    }
   ],
   "source": [
    "N = tmt.shape[0]\n",
    "m1 = np.sum(tmt[\"Ten Hours Non Zero\"])\n",
    "m2 = np.sum(tmt[\"Steps > Five Hundred\"])\n",
    "m3 = np.sum(tmt[\"Three Timeblock\"])\n",
    "m4 = np.sum(tmt[\"All Three True\"])\n",
    "print(N, m1/N, m2/N, m3/N, m4/N)"
   ]
  },
  {
   "cell_type": "markdown",
   "metadata": {},
   "source": [
    "We apply this to every dataset, rounding the results as required."
   ]
  },
  {
   "cell_type": "code",
   "execution_count": 8,
   "metadata": {},
   "outputs": [],
   "source": [
    "tmts = [three_method_table(df)[0] for df in dfs]\n",
    "N = np.array([tmt.shape[0] for tmt in tmts])\n",
    "m1 = np.array([np.sum(tmt[\"Ten Hours Non Zero\"]) for tmt in tmts])\n",
    "m2 = np.array([np.sum(tmt[\"Steps > Five Hundred\"]) for tmt in tmts])\n",
    "m3 = np.array([np.sum(tmt[\"Three Timeblock\"]) for tmt in tmts])\n",
    "m4 = np.array([np.sum(tmt[\"All Three True\"]) for tmt in tmts])"
   ]
  },
  {
   "cell_type": "code",
   "execution_count": 9,
   "metadata": {},
   "outputs": [
    {
     "data": {
      "text/html": [
       "<div>\n",
       "<style scoped>\n",
       "    .dataframe tbody tr th:only-of-type {\n",
       "        vertical-align: middle;\n",
       "    }\n",
       "\n",
       "    .dataframe tbody tr th {\n",
       "        vertical-align: top;\n",
       "    }\n",
       "\n",
       "    .dataframe thead th {\n",
       "        text-align: right;\n",
       "    }\n",
       "</style>\n",
       "<table border=\"1\" class=\"dataframe\">\n",
       "  <thead>\n",
       "    <tr style=\"text-align: right;\">\n",
       "      <th></th>\n",
       "      <th>User</th>\n",
       "      <th>Days Recorded</th>\n",
       "      <th>% Ten Hours</th>\n",
       "      <th>% &gt;500 Steps</th>\n",
       "      <th>% Timeblocks</th>\n",
       "      <th>% All Three</th>\n",
       "    </tr>\n",
       "  </thead>\n",
       "  <tbody>\n",
       "    <tr>\n",
       "      <th>0</th>\n",
       "      <td>participant1</td>\n",
       "      <td>7</td>\n",
       "      <td>71.4</td>\n",
       "      <td>100.0</td>\n",
       "      <td>100.0</td>\n",
       "      <td>71.4</td>\n",
       "    </tr>\n",
       "    <tr>\n",
       "      <th>1</th>\n",
       "      <td>participant2</td>\n",
       "      <td>1114</td>\n",
       "      <td>65.6</td>\n",
       "      <td>95.0</td>\n",
       "      <td>78.0</td>\n",
       "      <td>58.6</td>\n",
       "    </tr>\n",
       "    <tr>\n",
       "      <th>2</th>\n",
       "      <td>participant3</td>\n",
       "      <td>1188</td>\n",
       "      <td>65.1</td>\n",
       "      <td>87.8</td>\n",
       "      <td>72.8</td>\n",
       "      <td>54.5</td>\n",
       "    </tr>\n",
       "    <tr>\n",
       "      <th>3</th>\n",
       "      <td>participant6</td>\n",
       "      <td>7</td>\n",
       "      <td>71.4</td>\n",
       "      <td>71.4</td>\n",
       "      <td>85.7</td>\n",
       "      <td>57.1</td>\n",
       "    </tr>\n",
       "    <tr>\n",
       "      <th>4</th>\n",
       "      <td>participant7</td>\n",
       "      <td>1036</td>\n",
       "      <td>0.0</td>\n",
       "      <td>81.9</td>\n",
       "      <td>0.0</td>\n",
       "      <td>0.0</td>\n",
       "    </tr>\n",
       "    <tr>\n",
       "      <th>5</th>\n",
       "      <td>serena</td>\n",
       "      <td>1784</td>\n",
       "      <td>58.0</td>\n",
       "      <td>91.0</td>\n",
       "      <td>94.5</td>\n",
       "      <td>57.0</td>\n",
       "    </tr>\n",
       "    <tr>\n",
       "      <th>6</th>\n",
       "      <td>user1</td>\n",
       "      <td>1754</td>\n",
       "      <td>26.2</td>\n",
       "      <td>87.4</td>\n",
       "      <td>56.2</td>\n",
       "      <td>23.9</td>\n",
       "    </tr>\n",
       "    <tr>\n",
       "      <th>7</th>\n",
       "      <td>user2</td>\n",
       "      <td>1762</td>\n",
       "      <td>97.6</td>\n",
       "      <td>100.0</td>\n",
       "      <td>96.4</td>\n",
       "      <td>94.8</td>\n",
       "    </tr>\n",
       "  </tbody>\n",
       "</table>\n",
       "</div>"
      ],
      "text/plain": [
       "           User  Days Recorded  % Ten Hours  % >500 Steps  % Timeblocks  \\\n",
       "0  participant1              7         71.4         100.0         100.0   \n",
       "1  participant2           1114         65.6          95.0          78.0   \n",
       "2  participant3           1188         65.1          87.8          72.8   \n",
       "3  participant6              7         71.4          71.4          85.7   \n",
       "4  participant7           1036          0.0          81.9           0.0   \n",
       "5        serena           1784         58.0          91.0          94.5   \n",
       "6         user1           1754         26.2          87.4          56.2   \n",
       "7         user2           1762         97.6         100.0          96.4   \n",
       "\n",
       "   % All Three  \n",
       "0         71.4  \n",
       "1         58.6  \n",
       "2         54.5  \n",
       "3         57.1  \n",
       "4          0.0  \n",
       "5         57.0  \n",
       "6         23.9  \n",
       "7         94.8  "
      ]
     },
     "execution_count": 9,
     "metadata": {},
     "output_type": "execute_result"
    }
   ],
   "source": [
    "d = {'User':names,'Days Recorded':N,\n",
    "     '% Ten Hours':np.round(100*m1/N,1),\n",
    "     '% >500 Steps':np.round(100*m2/N,1),\n",
    "     '% Timeblocks':np.round(100*m3/N,1),\n",
    "     '% All Three':np.round(100*m4/N,1)}\n",
    "adherence_df = pd.DataFrame(data = d)\n",
    "adherence_df"
   ]
  },
  {
   "cell_type": "markdown",
   "metadata": {},
   "source": [
    "### Measure 1 Specificity\n",
    "\n",
    "We want to look at the proportion of days in which each user achieved $n$ hours of non-zero steps for $1\\leq n\\leq 24$. This will tell us which value may be best to choose."
   ]
  },
  {
   "cell_type": "code",
   "execution_count": 31,
   "metadata": {},
   "outputs": [],
   "source": [
    "adherence_nums = []\n",
    "\n",
    "N = [ten_hours_non_zeros(df,10).shape[0] for df in dfs]\n",
    "\n",
    "for df in dfs:\n",
    "    adherence_nums.append([np.sum(ten_hours_non_zeros(df,n)) for n in range(25)])\n",
    "    \n",
    "adherence_nums = [np.array(adherence_nums[i])/N[i]*100 for i in range(len(adherence_nums))]"
   ]
  },
  {
   "cell_type": "markdown",
   "metadata": {},
   "source": [
    "We can now plot each of these in a line plot to get an idea of the distribution."
   ]
  },
  {
   "cell_type": "code",
   "execution_count": 44,
   "metadata": {},
   "outputs": [
    {
     "data": {
      "image/png": "[encoded data removed]",
      "text/plain": [
       "<Figure size 432x288 with 1 Axes>"
      ]
     },
     "metadata": {
      "needs_background": "light"
     },
     "output_type": "display_data"
    }
   ],
   "source": [
    "for i in range(len(adherence_nums)):\n",
    "    plt.plot(adherence_nums[i], label = names[i])\n",
    "\n",
    "plt.xlim((0,24))\n",
    "plt.ylim((0,100))\n",
    "plt.xlabel(\"Hours\")\n",
    "plt.ylabel(\"% Days Adhered\")\n",
    "plt.legend(bbox_to_anchor = (1,1), loc = \"upper left\")\n",
    "plt.show()"
   ]
  },
  {
   "cell_type": "code",
   "execution_count": null,
   "metadata": {},
   "outputs": [],
   "source": []
  }
 ],
 "metadata": {
  "kernelspec": {
   "display_name": "Python 3",
   "language": "python",
   "name": "python3"
  },
  "language_info": {
   "codemirror_mode": {
    "name": "ipython",
    "version": 3
   },
   "file_extension": ".py",
   "mimetype": "text/x-python",
   "name": "python",
   "nbconvert_exporter": "python",
   "pygments_lexer": "ipython3",
   "version": "3.7.3"
  }
 },
 "nbformat": 4,
 "nbformat_minor": 2
}
