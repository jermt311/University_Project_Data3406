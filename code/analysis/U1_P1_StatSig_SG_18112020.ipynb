{
 "cells": [
  {
   "cell_type": "markdown",
   "metadata": {},
   "source": [
    "# Statistical Significance Testing Between User1 and Participant 1\n",
    "\n",
    "Goal = determine the statistical signifance and rigity of Participant 1 and 2 step data. This will segway into our analysis and justify why our findings can be considered valid.\n",
    "\n",
    "Importing needed modules first:"
   ]
  },
  {
   "cell_type": "code",
   "execution_count": 1,
   "metadata": {},
   "outputs": [],
   "source": [
    "import pandas as pd\n",
    "import numpy as np\n",
    "import matplotlib.pyplot as plt\n",
    "from datetime import datetime\n",
    "from scipy.stats import wilcoxon\n",
    "from scipy.stats import mannwhitneyu\n",
    "from scipy.stats import rankdata\n",
    "from statsmodels.graphics.gofplots import qqplot\n",
    "from scipy.stats import shapiro\n",
    "from scipy.stats import normaltest\n",
    "from scipy.stats import spearmanr\n",
    "from scipy.stats import kendalltau"
   ]
  },
  {
   "cell_type": "markdown",
   "metadata": {},
   "source": [
    "Copying over the data cleaning functions written by Martin"
   ]
  },
  {
   "cell_type": "code",
   "execution_count": 2,
   "metadata": {},
   "outputs": [],
   "source": [
    "def read_CLEAN_data(filename):\n",
    "    #Read in CSV file\n",
    "    dat = pd.read_csv(filename)\n",
    "    #Convert datetimes\n",
    "    dat[\"Date\"] = pd.to_datetime(dat[\"Date\"], format = '%Y-%m-%d').dt.date\n",
    "    \n",
    "    return dat\n",
    "\n",
    "def read_step_data(filename, read_type):\n",
    "    read_type = read_type.lower()\n",
    "    print(\"reading: \" + filename)\n",
    "    if read_type == \"pacer\":\n",
    "        return read_Pacer_data(filename)\n",
    "    elif read_type == \"qsaccess\" or read_type == \"qs\":\n",
    "        return read_QS_data(filename)\n",
    "    elif read_type == \"xml\":\n",
    "        return read_XML_data(filename)\n",
    "    elif read_type == \"clean\" or read_type == \"cleaned\":\n",
    "        return read_CLEAN_data(filename)\n",
    "    else:\n",
    "        raise Exception(\"Not a valid file type to read! Use pacer, qs, xml or clean\")"
   ]
  },
  {
   "cell_type": "code",
   "execution_count": 22,
   "metadata": {},
   "outputs": [
    {
     "name": "stdout",
     "output_type": "stream",
     "text": [
      "reading: ../../data/cleaned/participant1.csv\n",
      "reading: ../../data/cleaned/participant2.csv\n"
     ]
    }
   ],
   "source": [
    "part1_data = read_step_data(\"../../data/cleaned/participant1.csv\", 'clean')\n",
    "part2_data = read_step_data(\"../../data/cleaned/participant2.csv\", 'clean')"
   ]
  },
  {
   "cell_type": "markdown",
   "metadata": {},
   "source": [
    "\n",
    "We assume that since people may decide to take different amounts of steps per day, such that there is no true pattern, thus we state that there is no easily identified distribution at play. Hence, we decide to use non-parametric statistics to gauge if this is true.\n",
    "\n",
    "[Non Parametric Statistical Significance Teats](https://machinelearningmastery.com/nonparametric-statistical-significance-tests-in-python/)\n",
    "\n",
    "[Introduction to Non Parametric Statistics](https://machinelearningmastery.com/a-gentle-introduction-to-nonparametric-statistics/)\n",
    "\n",
    "[Normality Tests](https://machinelearningmastery.com/a-gentle-introduction-to-normality-tests-in-python/)\n",
    "\n",
    "\n",
    "#### Creating the Test Datasets\n",
    "From our above data preparations, we first need to create datasets solely containing our daily step counts. This will be used for each nonparametric statistical tool below. \n",
    "\n",
    "We expect that given User 1 and User 2 are different individuals, our statistical tests should discover that each sample was drawn from differing distributions, although there may be some noise"
   ]
  },
  {
   "cell_type": "code",
   "execution_count": 23,
   "metadata": {},
   "outputs": [],
   "source": [
    "# Merging the two datasets to only keep dates where they both have data\n",
    "sample = part1_data.merge(part2_data, how = \"inner\", on = 'Date', suffixes=['_p1', '_p2'])\n",
    "\n",
    "# Renaming our columns to clearly distinguish which is User 1 Data and which is User 2 Data\n",
    "# sample = sample.rename(columns = {'Steps_x':'User2_DailyStep', 'Steps_y':'User1_DailyStep'})\n",
    "\n",
    "# Separate columns into individual lists for Mann-Whitney test analysis. These are our 2 independent samples\n",
    "data1 = sample['Steps_p1']\n",
    "data2 = sample['Steps_p2']"
   ]
  },
  {
   "cell_type": "markdown",
   "metadata": {},
   "source": [
    "Plotting Data 1 and Data 2, we can see that there are multiple peaks, outliers and no defined shape to our daily step counts. \n",
    "\n",
    "Thus, we may need to use nonparametric methods, which although generalised, can still be used for inferences and making claims about findings and results. Please note that they will **not hold the same weight as similar claims with parametric methods** "
   ]
  },
  {
   "cell_type": "code",
   "execution_count": 27,
   "metadata": {},
   "outputs": [
    {
     "data": {
      "text/plain": [
       "[<matplotlib.lines.Line2D at 0x117edbe50>]"
      ]
     },
     "execution_count": 27,
     "metadata": {},
     "output_type": "execute_result"
    },
    {
     "data": {
      "image/png": "[encoded data removed]",
      "text/plain": [
       "<Figure size 432x288 with 2 Axes>"
      ]
     },
     "metadata": {
      "needs_background": "light"
     },
     "output_type": "display_data"
    }
   ],
   "source": [
    "fig, axs= plt.subplots(2)\n",
    "\n",
    "axs[0].plot(data1)\n",
    "axs[1].plot(data2)"
   ]
  },
  {
   "cell_type": "markdown",
   "metadata": {},
   "source": [
    "## Normality Testing\n",
    "\n",
    "We cam use graphical and statistical methods that quantify how Gaussian a sample of data is. \n",
    "\n",
    "If the data fails those tests, we know to use nonparametric methods for Participant 1 and Participant 2"
   ]
  },
  {
   "cell_type": "markdown",
   "metadata": {},
   "source": [
    "### Graphical Methods\n",
    "\n",
    "#### Histogram Plot\n",
    "If our samples of data has a Gaussian distribution, the histogram plot will show a bell shape."
   ]
  },
  {
   "cell_type": "code",
   "execution_count": 32,
   "metadata": {},
   "outputs": [
    {
     "data": {
      "image/png": "[encoded data removed]",
      "text/plain": [
       "<Figure size 432x288 with 2 Axes>"
      ]
     },
     "metadata": {
      "needs_background": "light"
     },
     "output_type": "display_data"
    }
   ],
   "source": [
    "fig, axs= plt.subplots(1,2)\n",
    "\n",
    "axs[0].hist(data1)\n",
    "axs[0].set_title(\"Participant 1\")\n",
    "axs[1].hist(data2)\n",
    "axs[1].set_title(\"Participant 2\")\n",
    "\n",
    "plt.show()"
   ]
  },
  {
   "cell_type": "markdown",
   "metadata": {},
   "source": [
    "**Conclusion**\n",
    "\n",
    "From above, Participant 1 and Participant 2 don't seem to have a bell shape. Thid could be due to the outliers in the data, with them having a tendency to be more than 30,000."
   ]
  },
  {
   "cell_type": "markdown",
   "metadata": {},
   "source": [
    "#### Quantile-Quantile Plots\n",
    "\n",
    "A QQ plot generates its own sample of the idealized distribution that we are comparing with, in this case the Gaussian distribution. The idealized samples are divided into groups, called quantiles. Each data point in the sample is paired with a similar member from the idealized distribution at the same cumulative distribution.\n",
    "\n",
    "The resulting points are plotted as a scatter plot with the idealized value on the x-axis and the data sample on the y-axis.\n",
    "\n",
    "A perfect match for the distribution will be shown by a line of dots on a 45-degree angle from the bottom left of the plot to the top right. Often a line is drawn on the plot to help make this expectation clear. Deviations by the dots from the line shows a deviation from the expected distribution."
   ]
  },
  {
   "cell_type": "code",
   "execution_count": 34,
   "metadata": {},
   "outputs": [
    {
     "data": {
      "image/png": "[encoded data removed]",
      "text/plain": [
       "<Figure size 432x288 with 2 Axes>"
      ]
     },
     "metadata": {
      "needs_background": "light"
     },
     "output_type": "display_data"
    }
   ],
   "source": [
    "fig, axs= plt.subplots(1,2)\n",
    "\n",
    "qqplot(data1, line = 's', ax=axs[0])\n",
    "axs[0].set_title(\"Participant 1\")\n",
    "qqplot(data2, line = 's', ax=axs[1])\n",
    "axs[1].set_title(\"Participant 2\")\n",
    "\n",
    "plt.show()"
   ]
  },
  {
   "cell_type": "markdown",
   "metadata": {},
   "source": [
    "**Conclusion:**\n",
    "\n",
    "There are quite a few large deviations in both Participant 1 and Partcipant 2 at the top and bottom of the plot. From this, we can say for the most part that our distribution is not normal."
   ]
  },
  {
   "cell_type": "markdown",
   "metadata": {},
   "source": [
    "### Statistical Methods\n",
    "To provide an understanding of the terms that would be used:\n",
    "- Statistic: A quantity calculated by the test that can be interpreted in the context of the test via comparing it to critical values from the distribution of the test statistic.\n",
    "- p-value: Used to interpret the test, in this case whether the sample was drawn from a Gaussian distribution.\n",
    "\n",
    "The p-value can be used to quickly and accurately interpret the shown statistics:\n",
    "- **p <= alpha**: reject H0, not normal.\n",
    "- **p > alpha**: fail to reject H0, normal.\n",
    "\n",
    "A result above 5% does not mean that the null hypothesis is true. It means that it is very likely true given available evidence. "
   ]
  },
  {
   "cell_type": "markdown",
   "metadata": {},
   "source": [
    "#### Shapiro-Wilk Test\n",
    "\n",
    "The Shapiro-Wilk test evaluates a data sample and quantifies how likely it is that the data was drawn from a Gaussian distribution\n",
    "\n"
   ]
  },
  {
   "cell_type": "code",
   "execution_count": null,
   "metadata": {},
   "outputs": [],
   "source": []
  }
 ],
 "metadata": {
  "kernelspec": {
   "display_name": "Python [conda env:datasciEnv]",
   "language": "python",
   "name": "conda-env-datasciEnv-py"
  },
  "language_info": {
   "codemirror_mode": {
    "name": "ipython",
    "version": 3
   },
   "file_extension": ".py",
   "mimetype": "text/x-python",
   "name": "python",
   "nbconvert_exporter": "python",
   "pygments_lexer": "ipython3",
   "version": "3.7.6"
  }
 },
 "nbformat": 4,
 "nbformat_minor": 4
}
