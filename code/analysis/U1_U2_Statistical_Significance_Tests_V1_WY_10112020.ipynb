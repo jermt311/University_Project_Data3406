{
 "cells": [
  {
   "cell_type": "markdown",
   "metadata": {},
   "source": [
    "# Done by William\n",
    "\n",
    "#### Objectives:\n",
    "The goal of this notebook is to use statistical methods to determine the statistical signifance and rigity of the User 1 and 2 step data. This will segway into our analysis and justify why our findings can be considered valid."
   ]
  },
  {
   "cell_type": "markdown",
   "metadata": {},
   "source": [
    "#### Loading the Data\n",
    "We first initialise our required datasets so it can be used in our analysis"
   ]
  },
  {
   "cell_type": "code",
   "execution_count": 32,
   "metadata": {},
   "outputs": [],
   "source": [
    "import pandas as pd\n",
    "import numpy as np\n",
    "import matplotlib.pyplot as plt\n",
    "from datetime import datetime\n",
    "from scipy.stats import wilcoxon\n",
    "from scipy.stats import mannwhitneyu\n",
    "from scipy.stats import rankdata\n",
    "from statsmodels.graphics.gofplots import qqplot\n",
    "from scipy.stats import shapiro\n",
    "from scipy.stats import normaltest\n",
    "from scipy.stats import spearmanr\n",
    "from scipy.stats import kendalltau"
   ]
  },
  {
   "cell_type": "code",
   "execution_count": 2,
   "metadata": {},
   "outputs": [],
   "source": [
    "user1_raw_data = pd.read_csv(\"User1.csv\")\n",
    "user2_raw_data = pd.read_csv(\"User2.csv\")"
   ]
  },
  {
   "cell_type": "markdown",
   "metadata": {},
   "source": [
    "A cleaning function is used to remove the duplicates we identified in Compiled_WK8_EDA.ipynb. \n",
    "\n",
    "I have also created a function that would add date and hour features."
   ]
  },
  {
   "cell_type": "code",
   "execution_count": 3,
   "metadata": {},
   "outputs": [],
   "source": [
    "#Re-using Code from Serena\n",
    "def clean_user(raw_df):\n",
    "    raw_df['Start'] = pd.to_datetime(raw_df['Start'], format='%d-%b-%Y %H:%M')\n",
    "    raw_df['Finish'] = pd.to_datetime(raw_df['Finish'], format='%d-%b-%Y %H:%M')\n",
    "    start_counts_3 = raw_df['Start'].value_counts()\n",
    "    multicounts_3 = start_counts_3[start_counts_3 > 1]\n",
    "    \n",
    "    raw_df = raw_df[~ (raw_df['Start'].isin(multicounts_3.index.values) & \n",
    "        raw_df['Finish'].isin(multicounts_3.index.values) )]\n",
    "    \n",
    "    return raw_df\n",
    "\n",
    "def convert_date_time(raw_df):\n",
    "    raw_df = raw_df.copy()\n",
    "    raw_df['Date'] = raw_df['Start'].dt.date\n",
    "    raw_df['Start Time'] = raw_df['Start'].dt.time\n",
    "    raw_df['End Time'] = raw_df['Finish'].dt.time\n",
    "    \n",
    "    return raw_df"
   ]
  },
  {
   "cell_type": "markdown",
   "metadata": {},
   "source": [
    "We run our datasets through this function"
   ]
  },
  {
   "cell_type": "code",
   "execution_count": 4,
   "metadata": {},
   "outputs": [],
   "source": [
    "user1_df = clean_user(user1_raw_data)\n",
    "user1_df = convert_date_time(user1_df)\n",
    "user2_df = clean_user(user2_raw_data)\n",
    "user2_df = convert_date_time(user2_df)"
   ]
  },
  {
   "cell_type": "markdown",
   "metadata": {},
   "source": [
    "#### Preparing the Data for Analysis\n",
    "We only need the date and daily step data for our statistical analysis\n",
    "\n",
    "*User 1*"
   ]
  },
  {
   "cell_type": "code",
   "execution_count": 5,
   "metadata": {},
   "outputs": [
    {
     "data": {
      "text/html": [
       "<div>\n",
       "<style scoped>\n",
       "    .dataframe tbody tr th:only-of-type {\n",
       "        vertical-align: middle;\n",
       "    }\n",
       "\n",
       "    .dataframe tbody tr th {\n",
       "        vertical-align: top;\n",
       "    }\n",
       "\n",
       "    .dataframe thead th {\n",
       "        text-align: right;\n",
       "    }\n",
       "</style>\n",
       "<table border=\"1\" class=\"dataframe\">\n",
       "  <thead>\n",
       "    <tr style=\"text-align: right;\">\n",
       "      <th></th>\n",
       "      <th>Date</th>\n",
       "      <th>Steps</th>\n",
       "    </tr>\n",
       "  </thead>\n",
       "  <tbody>\n",
       "    <tr>\n",
       "      <th>0</th>\n",
       "      <td>2014-12-07</td>\n",
       "      <td>2693.0</td>\n",
       "    </tr>\n",
       "    <tr>\n",
       "      <th>1</th>\n",
       "      <td>2014-12-08</td>\n",
       "      <td>6567.0</td>\n",
       "    </tr>\n",
       "    <tr>\n",
       "      <th>2</th>\n",
       "      <td>2014-12-09</td>\n",
       "      <td>6879.0</td>\n",
       "    </tr>\n",
       "    <tr>\n",
       "      <th>3</th>\n",
       "      <td>2014-12-10</td>\n",
       "      <td>7845.0</td>\n",
       "    </tr>\n",
       "    <tr>\n",
       "      <th>4</th>\n",
       "      <td>2014-12-11</td>\n",
       "      <td>916.0</td>\n",
       "    </tr>\n",
       "  </tbody>\n",
       "</table>\n",
       "</div>"
      ],
      "text/plain": [
       "        Date   Steps\n",
       "0 2014-12-07  2693.0\n",
       "1 2014-12-08  6567.0\n",
       "2 2014-12-09  6879.0\n",
       "3 2014-12-10  7845.0\n",
       "4 2014-12-11   916.0"
      ]
     },
     "execution_count": 5,
     "metadata": {},
     "output_type": "execute_result"
    }
   ],
   "source": [
    "df1 = pd.DataFrame()\n",
    "df1['Date'] = pd.to_datetime(user1_df['Date'])\n",
    "df1['Steps'] = user1_df['Steps (count)']\n",
    "daily_step_data1 = df1.groupby('Date', as_index = False).sum().round(2)\n",
    "daily_step_data1.head(5)"
   ]
  },
  {
   "cell_type": "markdown",
   "metadata": {},
   "source": [
    "*User 2*"
   ]
  },
  {
   "cell_type": "code",
   "execution_count": 6,
   "metadata": {},
   "outputs": [
    {
     "data": {
      "text/html": [
       "<div>\n",
       "<style scoped>\n",
       "    .dataframe tbody tr th:only-of-type {\n",
       "        vertical-align: middle;\n",
       "    }\n",
       "\n",
       "    .dataframe tbody tr th {\n",
       "        vertical-align: top;\n",
       "    }\n",
       "\n",
       "    .dataframe thead th {\n",
       "        text-align: right;\n",
       "    }\n",
       "</style>\n",
       "<table border=\"1\" class=\"dataframe\">\n",
       "  <thead>\n",
       "    <tr style=\"text-align: right;\">\n",
       "      <th></th>\n",
       "      <th>Date</th>\n",
       "      <th>Steps</th>\n",
       "    </tr>\n",
       "  </thead>\n",
       "  <tbody>\n",
       "    <tr>\n",
       "      <th>0</th>\n",
       "      <td>2014-11-29</td>\n",
       "      <td>21427.00</td>\n",
       "    </tr>\n",
       "    <tr>\n",
       "      <th>1</th>\n",
       "      <td>2014-11-30</td>\n",
       "      <td>4321.61</td>\n",
       "    </tr>\n",
       "    <tr>\n",
       "      <th>2</th>\n",
       "      <td>2014-12-01</td>\n",
       "      <td>10473.11</td>\n",
       "    </tr>\n",
       "    <tr>\n",
       "      <th>3</th>\n",
       "      <td>2014-12-02</td>\n",
       "      <td>15784.72</td>\n",
       "    </tr>\n",
       "    <tr>\n",
       "      <th>4</th>\n",
       "      <td>2014-12-03</td>\n",
       "      <td>2783.60</td>\n",
       "    </tr>\n",
       "  </tbody>\n",
       "</table>\n",
       "</div>"
      ],
      "text/plain": [
       "        Date     Steps\n",
       "0 2014-11-29  21427.00\n",
       "1 2014-11-30   4321.61\n",
       "2 2014-12-01  10473.11\n",
       "3 2014-12-02  15784.72\n",
       "4 2014-12-03   2783.60"
      ]
     },
     "execution_count": 6,
     "metadata": {},
     "output_type": "execute_result"
    }
   ],
   "source": [
    "df2 = pd.DataFrame()\n",
    "df2['Date'] = pd.to_datetime(user2_df['Date'])\n",
    "df2['Steps'] = user2_df['Steps (count)']\n",
    "daily_step_data2 = df2.groupby('Date', as_index = False).sum().round(2)\n",
    "daily_step_data2.head(5)"
   ]
  },
  {
   "cell_type": "markdown",
   "metadata": {},
   "source": [
    "## Statistical Tools Applied on User 1 and User 2 Data\n",
    "\n",
    "We assume that since people may decide to take different amounts of steps per day, such that there is no true pattern, thus we state that there is no easily identified distribution at play. Hence, we decide to use non-parametric statistics to gauge if this is true.\n",
    "\n",
    "[Non Parametric Statistical Significance Teats](https://machinelearningmastery.com/nonparametric-statistical-significance-tests-in-python/)\n",
    "\n",
    "[Introduction to Non Parametric Statistics](https://machinelearningmastery.com/a-gentle-introduction-to-nonparametric-statistics/)\n",
    "\n",
    "[Normality Tests](https://machinelearningmastery.com/a-gentle-introduction-to-normality-tests-in-python/)\n",
    "\n",
    "\n",
    "#### Creating the Test Datasets\n",
    "From our above data preparations, we first need to create datasets solely containing our daily step counts. This will be used for each nonparametric statistical tool below. \n",
    "\n",
    "We expect that given User 1 and User 2 are different individuals, our statistical tests should discover that each sample was drawn from differing distributions, although there may be some noise"
   ]
  },
  {
   "cell_type": "code",
   "execution_count": 7,
   "metadata": {},
   "outputs": [],
   "source": [
    "# Merging the two datasets to only keep dates where they both have data\n",
    "sample = daily_step_data2.merge(daily_step_data1, how = \"inner\", on = 'Date')\n",
    "# Renaming our columns to clearly distinguish which is User 1 Data and which is User 2 Data\n",
    "sample = sample.rename(columns = {'Steps_x':'User2_DailyStep', 'Steps_y':'User1_DailyStep'})\n",
    "# Seperate columns into individual lists for Mann-Whitney test analysis. These are our 2 independent samples\n",
    "data1 = sample['User1_DailyStep']\n",
    "data2 = sample['User2_DailyStep']"
   ]
  },
  {
   "cell_type": "markdown",
   "metadata": {},
   "source": [
    "Plotting Data 1 and Data 2, we can see that there are multiple peaks, outliers and no defined shape to our daily step counts. \n",
    "\n",
    "Thus, we may need to use nonparametric methods, which although generalised, can still be used for inferences and making claims about findings and results. Please note that they will **not hold the same weight as similar claims with parametric methods** "
   ]
  },
  {
   "cell_type": "code",
   "execution_count": 8,
   "metadata": {},
   "outputs": [
    {
     "data": {
      "text/plain": [
       "[<matplotlib.lines.Line2D at 0x22df42e3b70>]"
      ]
     },
     "execution_count": 8,
     "metadata": {},
     "output_type": "execute_result"
    },
    {
     "data": {
      "image/png": "[encoded data removed]",
      "text/plain": [
       "<Figure size 432x288 with 1 Axes>"
      ]
     },
     "metadata": {
      "needs_background": "light"
     },
     "output_type": "display_data"
    }
   ],
   "source": [
    "plt.plot(data1)"
   ]
  },
  {
   "cell_type": "code",
   "execution_count": 9,
   "metadata": {},
   "outputs": [
    {
     "data": {
      "text/plain": [
       "[<matplotlib.lines.Line2D at 0x22df46384a8>]"
      ]
     },
     "execution_count": 9,
     "metadata": {},
     "output_type": "execute_result"
    },
    {
     "data": {
      "image/png": "[encoded data removed]",
      "text/plain": [
       "<Figure size 432x288 with 1 Axes>"
      ]
     },
     "metadata": {
      "needs_background": "light"
     },
     "output_type": "display_data"
    }
   ],
   "source": [
    "plt.plot(data2)"
   ]
  },
  {
   "cell_type": "markdown",
   "metadata": {},
   "source": [
    "## Normality Testing\n",
    "\n",
    "We cam use graphical and statistical methods that quantify how Gaussian a sample of data is. \n",
    "\n",
    "If the data fails those tests, we know to use nonparametric methods for User 1 and User 2"
   ]
  },
  {
   "cell_type": "markdown",
   "metadata": {},
   "source": [
    "### Graphical Methods\n",
    "\n",
    "#### Histogram Plot\n",
    "If our samples of data has a Gaussian distribution, the histogram plot will show a bell shape.\n",
    "\n",
    "*User 1*"
   ]
  },
  {
   "cell_type": "code",
   "execution_count": 10,
   "metadata": {},
   "outputs": [
    {
     "data": {
      "image/png": "[encoded data removed]",
      "text/plain": [
       "<Figure size 432x288 with 1 Axes>"
      ]
     },
     "metadata": {
      "needs_background": "light"
     },
     "output_type": "display_data"
    }
   ],
   "source": [
    "plt.hist(data1)\n",
    "plt.show()"
   ]
  },
  {
   "cell_type": "markdown",
   "metadata": {},
   "source": [
    "*User 2*"
   ]
  },
  {
   "cell_type": "code",
   "execution_count": 11,
   "metadata": {},
   "outputs": [
    {
     "data": {
      "image/png": "[encoded data removed]",
      "text/plain": [
       "<Figure size 432x288 with 1 Axes>"
      ]
     },
     "metadata": {
      "needs_background": "light"
     },
     "output_type": "display_data"
    }
   ],
   "source": [
    "plt.hist(data2)\n",
    "plt.show()"
   ]
  },
  {
   "cell_type": "markdown",
   "metadata": {},
   "source": [
    "**Conclusion**\n",
    "\n",
    "From above, User 1 and User 2 don't seem to have a bell shape. Thid could be due to the outliers in the data, with them having a tendency to be more than 30,000."
   ]
  },
  {
   "cell_type": "markdown",
   "metadata": {},
   "source": [
    "#### Quantile-Quantile Plots\n",
    "\n",
    "A QQ plot generates its own sample of the idealized distribution that we are comparing with, in this case the Gaussian distribution. The idealized samples are divided into groups, called quantiles. Each data point in the sample is paired with a similar member from the idealized distribution at the same cumulative distribution.\n",
    "\n",
    "The resulting points are plotted as a scatter plot with the idealized value on the x-axis and the data sample on the y-axis.\n",
    "\n",
    "A perfect match for the distribution will be shown by a line of dots on a 45-degree angle from the bottom left of the plot to the top right. Often a line is drawn on the plot to help make this expectation clear. Deviations by the dots from the line shows a deviation from the expected distribution.\n",
    "\n",
    "*User 1*"
   ]
  },
  {
   "cell_type": "code",
   "execution_count": 12,
   "metadata": {},
   "outputs": [
    {
     "data": {
      "image/png": "[encoded data removed]",
      "text/plain": [
       "<Figure size 432x288 with 1 Axes>"
      ]
     },
     "metadata": {
      "needs_background": "light"
     },
     "output_type": "display_data"
    }
   ],
   "source": [
    "qqplot(data1, line = 's')\n",
    "plt.show()"
   ]
  },
  {
   "cell_type": "markdown",
   "metadata": {},
   "source": [
    "*User 2*"
   ]
  },
  {
   "cell_type": "code",
   "execution_count": 13,
   "metadata": {},
   "outputs": [
    {
     "data": {
      "image/png": "[encoded data removed]",
      "text/plain": [
       "<Figure size 432x288 with 1 Axes>"
      ]
     },
     "metadata": {
      "needs_background": "light"
     },
     "output_type": "display_data"
    }
   ],
   "source": [
    "qqplot(data2, line = 's')\n",
    "plt.show()"
   ]
  },
  {
   "cell_type": "markdown",
   "metadata": {},
   "source": [
    "**Conclusion:**\n",
    "\n",
    "There are quite a few large deviations in both User 1 and User 2 at the top and bottom of the plot. From this, we can say for the most part that our distribution is not normal."
   ]
  },
  {
   "cell_type": "markdown",
   "metadata": {},
   "source": [
    "### Statistical Methods\n",
    "To provide an understanding of the terms that would be used:\n",
    "- Statistic: A quantity calculated by the test that can be interpreted in the context of the test via comparing it to critical values from the distribution of the test statistic.\n",
    "- p-value: Used to interpret the test, in this case whether the sample was drawn from a Gaussian distribution.\n",
    "\n",
    "The p-value can be used to quickly and accurately interpret the shown statistics:\n",
    "- **p <= alpha**: reject H0, not normal.\n",
    "- **p > alpha**: fail to reject H0, normal.\n",
    "\n",
    "A result above 5% does not mean that the null hypothesis is true. It means that it is very likely true given available evidence. "
   ]
  },
  {
   "cell_type": "markdown",
   "metadata": {},
   "source": [
    "#### Shapiro-Wilk Test\n",
    "\n",
    "The Shapiro-Wilk test evaluates a data sample and quantifies how likely it is that the data was drawn from a Gaussian distribution\n",
    "\n",
    "*User 1*"
   ]
  },
  {
   "cell_type": "code",
   "execution_count": 14,
   "metadata": {},
   "outputs": [
    {
     "name": "stdout",
     "output_type": "stream",
     "text": [
      "Statistics=0.904, p=0.000\n",
      "Sample does not look Gaussian (reject H0)\n"
     ]
    }
   ],
   "source": [
    "# Normality Test\n",
    "stat, p = shapiro(data1)\n",
    "print('Statistics=%.3f, p=%.3f' % (stat, p))\n",
    "# interpret\n",
    "alpha = 0.05\n",
    "if p > alpha:\n",
    "    print('Sample looks Gaussian (fail to reject H0)')\n",
    "else:\n",
    "    print('Sample does not look Gaussian (reject H0)')"
   ]
  },
  {
   "cell_type": "markdown",
   "metadata": {},
   "source": [
    "*User 2*"
   ]
  },
  {
   "cell_type": "code",
   "execution_count": 15,
   "metadata": {},
   "outputs": [
    {
     "name": "stdout",
     "output_type": "stream",
     "text": [
      "Statistics=0.937, p=0.000\n",
      "Sample does not look Gaussian (reject H0)\n"
     ]
    }
   ],
   "source": [
    "# Normality Test\n",
    "stat, p = shapiro(data2)\n",
    "print('Statistics=%.3f, p=%.3f' % (stat, p))\n",
    "# interpret\n",
    "alpha = 0.05\n",
    "if p > alpha:\n",
    "    print('Sample looks Gaussian (fail to reject H0)')\n",
    "else:\n",
    "    print('Sample does not look Gaussian (reject H0)')"
   ]
  },
  {
   "cell_type": "markdown",
   "metadata": {},
   "source": [
    "**Conclusion:**\n",
    "\n",
    "User 1 and User 2 are not likely to have a Gaussian/nomral distribution."
   ]
  },
  {
   "cell_type": "markdown",
   "metadata": {},
   "source": [
    "#### D’Agostino’s K^2 Test\n",
    "The D’Agostino’s K^2 test calculates summary statistics from the data, namely kurtosis and skewness, to determine if the data distribution departs from the normal distribution\n",
    "\n",
    "- Skew is a quantification of how much a distribution is pushed left or right, a measure of asymmetry in the distribution.\n",
    "- Kurtosis quantifies how much of the distribution is in the tail. It is a simple and commonly used statistical test for normality.\n",
    "\n",
    "*User 1*"
   ]
  },
  {
   "cell_type": "code",
   "execution_count": 16,
   "metadata": {},
   "outputs": [
    {
     "name": "stdout",
     "output_type": "stream",
     "text": [
      "Statistics=453.997, p=0.000\n",
      "Sample does not look Gaussian (reject H0)\n"
     ]
    }
   ],
   "source": [
    "stat, p = normaltest(data1)\n",
    "print('Statistics=%.3f, p=%.3f' % (stat, p))\n",
    "# interpret\n",
    "alpha = 0.05\n",
    "if p > alpha:\n",
    "    print('Sample looks Gaussian (fail to reject H0)')\n",
    "else:\n",
    "    print('Sample does not look Gaussian (reject H0)')"
   ]
  },
  {
   "cell_type": "markdown",
   "metadata": {},
   "source": [
    "*User 2*"
   ]
  },
  {
   "cell_type": "code",
   "execution_count": 17,
   "metadata": {},
   "outputs": [
    {
     "name": "stdout",
     "output_type": "stream",
     "text": [
      "Statistics=396.106, p=0.000\n",
      "Sample does not look Gaussian (reject H0)\n"
     ]
    }
   ],
   "source": [
    "stat, p = normaltest(data2)\n",
    "print('Statistics=%.3f, p=%.3f' % (stat, p))\n",
    "# interpret\n",
    "alpha = 0.05\n",
    "if p > alpha:\n",
    "    print('Sample looks Gaussian (fail to reject H0)')\n",
    "else:\n",
    "    print('Sample does not look Gaussian (reject H0)')"
   ]
  },
  {
   "cell_type": "markdown",
   "metadata": {},
   "source": [
    "**Conclusion**\n",
    "\n",
    "The p-value is interpreted against an alpha of 5% and we finds that the test dataset significantly deviates from the normal. \n",
    "\n",
    "**We can safely safe from our analysis above that User 1 and User 2 daily step count is not normal. We will now need to use non-parametric tests to ascertain further information**"
   ]
  },
  {
   "cell_type": "markdown",
   "metadata": {},
   "source": [
    "## Ranking the Data\n",
    "Before a nonparametric statistical method can be applied, the data must be converted into a rank format. This allows us to remove all information about the data's distribution.\n",
    "\n",
    "The procedure is as follows:\n",
    "- Sort all data in the sample in ascending order.\n",
    "- Assign an integer rank from 1 to N for each unique value in the data sample."
   ]
  },
  {
   "cell_type": "code",
   "execution_count": 24,
   "metadata": {},
   "outputs": [],
   "source": [
    "ranked_data1 = rankdata(data1)\n",
    "ranked_data2 = rankdata(data2)"
   ]
  },
  {
   "cell_type": "markdown",
   "metadata": {},
   "source": [
    "## Compare Sample Means\n",
    "\n",
    "### Mann-Whitney test\n",
    "The Mann-Whitney test is a nonparametric statistical significance test for determining whether two independent samples were drawn from a population with the same distribution.\n",
    "\n",
    "The default assumption or null hypothesis is that there is no difference between the distributions of the data samples. Rejection of this hypothesis suggests that there is likely some difference between the samples. More specifically, the test determines whether it is equally likely that any randomly selected observation from one sample will be greater or less than a sample in the other distribution. If violated, it suggests differing distributions.\n",
    "\n",
    "- **Fail to Reject H0**: Sample distributions are equal.\n",
    "- **Reject H0**: Sample distributions are not equal.\n",
    "\n",
    "For the test to be effective, it requires at least 20 observations in each data sample."
   ]
  },
  {
   "cell_type": "markdown",
   "metadata": {},
   "source": [
    "Using the mannwhitneyu() SciPy function to return the test statistic and the p-value, and compare our two independent samples. We will corresponding interpret"
   ]
  },
  {
   "cell_type": "code",
   "execution_count": 25,
   "metadata": {
    "scrolled": true
   },
   "outputs": [
    {
     "name": "stdout",
     "output_type": "stream",
     "text": [
      "Statistics=1538258.000, p=0.500\n",
      "Same distribution (fail to reject H0)\n"
     ]
    }
   ],
   "source": [
    "#Compare Samples\n",
    "stat, p = mannwhitneyu(ranked_data1, ranked_data2)\n",
    "print('Statistics=%.3f, p=%.3f' % (stat, p))\n",
    "\n",
    "#Interpret\n",
    "alpha = 0.05\n",
    "if p > alpha:\n",
    "    print('Same distribution (fail to reject H0)')\n",
    "else:\n",
    "    print('Different distribution (reject H0)')"
   ]
  },
  {
   "cell_type": "markdown",
   "metadata": {},
   "source": [
    "**Conclusion:**\n",
    "\n",
    "As the p-value is equal to our alpha, this suggests that the sample distributions are the same.\n",
    "\n",
    "This finding is quite unexpected, as we expect that each individual should have a unique step pattern irrespective of the size of the \"sample\". As the driving question is to find different methods of doing 10hr step calculations and compare them against the paper, this finding places more importance on **how and what we take as inputs**, and allows us to more confidently compare across each method."
   ]
  },
  {
   "cell_type": "markdown",
   "metadata": {},
   "source": [
    "### Wilcoxon Signed-Rank Test\n",
    "The Wilcoxon signed ranks test is a nonparametric statistical procedure for comparing two samples that are paired, or related. It is used to assess whether the two related sample's population mean rank differ. \n",
    "\n",
    "The parametric equivalent to the Wilcoxon signed ranks test goes by names such as the Student’s t-test, t-test for matched pairs, t-test for paired samples, or t-test for dependent samples.\n",
    "\n",
    "The default assumption for the test, the null hypothesis, is that the two samples have the same distribution.\n",
    "\n",
    "- **Fail to Reject H0**: Sample distributions are equal.\n",
    "- **Reject H0**: Sample distributions are not equal.\n",
    "For the test to be effective, it requires at least 20 observations in each data sample.\n",
    "\n",
    "In case our data sample is paired, which can be caused by many reasons: \n",
    "- For example, the samples are related or matched in some way or represent two measurements of the same technique. In other words, although each sample is independent, they could come from the same population.\n",
    "\n",
    "\n",
    "Using the wilcoxon() SciPy function, we will now use this test to take in two samples as arguments (data1, data2) and return the calculated statistic and p-value. "
   ]
  },
  {
   "cell_type": "code",
   "execution_count": 26,
   "metadata": {},
   "outputs": [
    {
     "name": "stdout",
     "output_type": "stream",
     "text": [
      "Statistics=759884.000, p=0.708\n",
      "Same distribution (fail to reject H0)\n"
     ]
    }
   ],
   "source": [
    "stat, p = wilcoxon(ranked_data1,ranked_data2)\n",
    "print('Statistics=%.3f, p=%.3f' % (stat, p))\n",
    "# interpret\n",
    "alpha = 0.05\n",
    "if p > alpha:\n",
    "    print('Same distribution (fail to reject H0)')\n",
    "else:\n",
    "    print('Different distribution (reject H0)')"
   ]
  },
  {
   "cell_type": "markdown",
   "metadata": {},
   "source": [
    "**Conclusion**\n",
    "\n",
    "The p-value is interpreted strongly suggesting that the samples are drawn from the same distributions. "
   ]
  },
  {
   "cell_type": "markdown",
   "metadata": {},
   "source": [
    "## Relationship Between Variables\n",
    "\n",
    "#### What is Correlation?\n",
    "Correlation refers to the association between the observed values of two variables.\n",
    "\n",
    "The variables may have a positive association, meaning that as the values for one variable increase, so do the values of the other variable. The association may also be negative, meaning that as the values of one variable increase, the values of the others decrease. Finally, the association may be neutral, meaning that the variables are not associated.\n",
    "\n",
    "Correlation quantifies this association, often as a measure between the values -1 to 1 for perfectly negatively correlated and perfectly positively correlated. The calculated correlation is referred to as the “correlation coefficient.” This correlation coefficient can then be interpreted to describe the measures.\n",
    "\n",
    "- At coefficient 0, the relationship strength between the variables is none/trivial\n",
    "- At coefficient +- 0.1, the relationship strength between the variables is weak/small\n",
    "- At coefficient +- 0.3, the relationship strength between the variables is moderate/medium\n",
    "- At coefficient +- 0.4, the relationship strength between the variables is strong/large\n",
    "- At coefficient +- 1, the relationship strength between the variables is perfect\n",
    "\n",
    "#### Rank Correlation\n",
    "\n",
    "**Rank correlation** refers to methods that quantify the association between variables using the ordinal relationship between the values rather than the specific values. Ordinal data is data that has label values and has an order or rank relationship; for example: ‘low‘, ‘medium‘, and ‘high‘.\n",
    "\n",
    "Rank correlation can be calculated for real-valued variables. This is done by first converting the values for each variable into rank data. This is where the values are ordered and assigned an integer rank value. Rank correlation coefficients can then be calculated in order to quantify the association between the two ranked variables."
   ]
  },
  {
   "cell_type": "markdown",
   "metadata": {},
   "source": [
    "#### Spearman's Rank Correlation\n",
    "This statistical method quantifies the degree to which ranked variables are associated by a monotonic function, meaning an increasing or decreasing relationship. As a statistical hypothesis test, the method assumes that the samples are uncorrelated (fail to reject H0). The correlation is denoted by the lowercase greek letter rho (p).\n",
    "\n",
    "The intuition for the Spearman’s rank correlation is that it calculates a Pearson’s correlation (e.g. a parametric measure of correlation) using the rank values instead of the real values. Where the Pearson’s correlation is the calculation of the covariance (or expected difference of observations from the mean) between the two variables normalized by the variance or spread of both variables."
   ]
  },
  {
   "cell_type": "code",
   "execution_count": 33,
   "metadata": {},
   "outputs": [
    {
     "name": "stdout",
     "output_type": "stream",
     "text": [
      "Spearmans correlation coefficient: 0.239\n",
      "Samples are correlated (reject H0) p=0.000\n"
     ]
    }
   ],
   "source": [
    "# calculate spearman's correlation\n",
    "coef, p = spearmanr(ranked_data1, ranked_data2)\n",
    "print('Spearmans correlation coefficient: %.3f' % coef)\n",
    "# interpret the significance\n",
    "alpha = 0.05\n",
    "if p > alpha:\n",
    "    print('Samples are uncorrelated (fail to reject H0) p=%.3f' % p)\n",
    "else:\n",
    "    print('Samples are correlated (reject H0) p=%.3f' % p)"
   ]
  },
  {
   "cell_type": "markdown",
   "metadata": {},
   "source": [
    "**Conclusion**\n",
    "\n",
    "The statistical test reports a medium positive correlation with a value of 0.24. The p-value is  zero, which means that the likelihood of observing the data given that the samples are uncorrelated is extremely unlikely (e.g. 95% confidence) and that we can reject the null hypothesis that the samples are uncorrelated"
   ]
  },
  {
   "cell_type": "markdown",
   "metadata": {},
   "source": [
    "**Doing another method as a check**\n",
    "\n",
    "#### Kendall's Rank Correlation\n",
    "The intuition for the test is that it calculates a normalized score for the number of matching or concordant rankings between the two samples. As such, the test is also referred to as Kendall’s concordance test. The coefficient is often referred to by the lowercase Greek letter tau (t)\n",
    "\n",
    "The Kendall’s rank correlation coefficient can be calculated in Python using the kendalltau() SciPy function. The test takes the two data samples as arguments and returns the correlation coefficient and the p-value. As a statistical hypothesis test, the method assumes (H0) that there is no association between the two samples.\n"
   ]
  },
  {
   "cell_type": "code",
   "execution_count": 34,
   "metadata": {},
   "outputs": [
    {
     "name": "stdout",
     "output_type": "stream",
     "text": [
      "Kendall correlation coefficient: 0.163\n",
      "Samples are correlated (reject H0) p=0.000\n"
     ]
    }
   ],
   "source": [
    "# calculate kendall's correlation\n",
    "coef, p = kendalltau(ranked_data1,ranked_data2)\n",
    "print('Kendall correlation coefficient: %.3f' % coef)\n",
    "# interpret the significance\n",
    "alpha = 0.05\n",
    "if p > alpha:\n",
    "    print('Samples are uncorrelated (fail to reject H0) p=%.3f' % p)\n",
    "else:\n",
    "    print('Samples are correlated (reject H0) p=%.3f' % p)"
   ]
  },
  {
   "cell_type": "markdown",
   "metadata": {},
   "source": [
    "**Conclusion**\n",
    "\n",
    "The Kendall's correlation coefficient is at 0.163, indicating a weak/small correlation. The p-value is at zero, meaning that we can confidently reject the null hypothesis that the samples are uncorrelated."
   ]
  },
  {
   "cell_type": "markdown",
   "metadata": {},
   "source": [
    "**Final Words to this Notebook**\n",
    "User 1 and User 2 are statistically significant, as they have the same distribution and are positively correlated to each other (although weak/small to medium). \n",
    "\n",
    "These findings validate that there is a common step pattern amongst individuals, be it through a routine or otherwise, which has caused User 1 and User 2 to have the same distribution. In other words, although User 1 and User 2 are independent to each other, they both take samples from the same population. Secondly, the weak to medium correlation indicates that there is indeed a pattern, although minute at times, since their daily step counts move in the same direction for the same rank/time-periods.\n",
    "\n",
    "Ultimately, as the driving question is to find different methods of doing 10hr step calculations and compare them against the paper, our statisitcal significance tests allows us to be more confident in the validity and results of our comparisions, given they are the same distribution and correlated, across each method. "
   ]
  }
 ],
 "metadata": {
  "kernelspec": {
   "display_name": "Python 3",
   "language": "python",
   "name": "python3"
  },
  "language_info": {
   "codemirror_mode": {
    "name": "ipython",
    "version": 3
   },
   "file_extension": ".py",
   "mimetype": "text/x-python",
   "name": "python",
   "nbconvert_exporter": "python",
   "pygments_lexer": "ipython3",
   "version": "3.7.1"
  }
 },
 "nbformat": 4,
 "nbformat_minor": 2
}
