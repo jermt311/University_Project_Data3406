{
 "cells": [
  {
   "cell_type": "code",
   "execution_count": 1,
   "metadata": {},
   "outputs": [],
   "source": [
    "import xmltodict\n",
    "import pandas as pd\n",
    "import math\n",
    "import numpy as np\n",
    "import seaborn as sns\n",
    "import matplotlib.pyplot as plt\n",
    "%matplotlib inline  \n",
    "import statsmodels as st\n",
    "import statsmodels.api as sm\n",
    "from scipy import stats\n",
    "from pandas import DataFrame\n",
    "from datetime import datetime\n",
    "from sklearn.model_selection import train_test_split\n",
    "from statsmodels.tsa.stattools import adfuller\n",
    "from statsmodels.tsa.stattools import acf, pacf\n",
    "from statsmodels.tsa.arima_model import ARIMA\n",
    "from sklearn.metrics import mean_squared_error, r2_score\n",
    "from dateutil.parser import parse\n",
    "import scipy.stats as scs\n",
    "from pylab import rcParams\n",
    "from sklearn.metrics import mean_squared_error\n",
    "from statsmodels.tools.eval_measures import rmse\n",
    "from statsmodels.tsa.stattools import adfuller\n",
    "from statsmodels.tsa.stattools import acf, pacf\n",
    "from statsmodels.tsa.seasonal import seasonal_decompose\n",
    "from statsmodels.tsa.arima_model import ARIMA\n",
    "from matplotlib.pylab import rcParams\n",
    "\n",
    "#Stop warnings\n",
    "import warnings\n",
    "warnings.filterwarnings(\"ignore\")"
   ]
  },
  {
   "cell_type": "markdown",
   "metadata": {},
   "source": [
    "#### Read Data"
   ]
  },
  {
   "cell_type": "code",
   "execution_count": 2,
   "metadata": {},
   "outputs": [],
   "source": [
    "def read_QS_data(filename):\n",
    "    #Read in CSV file\n",
    "    dat = pd.read_csv(filename)\n",
    "    #Extract datetime information\n",
    "    dat[\"Datetime\"] = pd.to_datetime(dat[\"Start\"], format = '%d-%b-%Y %H:%M')\n",
    "    dat[\"Date\"] = dat[\"Datetime\"].dt.date\n",
    "    dat[\"Hour\"] = dat[\"Datetime\"].dt.hour\n",
    "    #Format columns\n",
    "    dat = dat[[\"Date\", \"Hour\", \"Steps (count)\"]]\n",
    "    dat.columns = [\"Date\", \"Hour\", \"Steps\"]\n",
    "    \n",
    "    return dat\n",
    "\n",
    "def read_Pacer_data(filename):\n",
    "    #Read in the data\n",
    "    dat = pd.read_csv(filename)\n",
    "    #Select necessary columns\n",
    "    dat = dat[[\"date\",\"steps\"]]\n",
    "    #Extract datetime data\n",
    "    dat[\"datetime\"] = pd.to_datetime(dat[\"date\"], format = '%m/%d/%Y, %H:%M:%S %z')\n",
    "    dat[\"Date\"] = dat[\"datetime\"].dt.date\n",
    "    dat[\"Hour\"] = dat[\"datetime\"].dt.hour\n",
    "    dat[\"Min\"] = dat[\"datetime\"].dt.minute\n",
    "    #Aggregate over the hours\n",
    "    dat = dat.groupby([\"Date\",\"Hour\"])[\"steps\"].agg(\"sum\").reset_index()\n",
    "    #Relabel columns\n",
    "    dat.columns = [[\"Date\", \"Hour\", \"Steps\"]]\n",
    "    \n",
    "    return dat\n",
    "\n",
    "def read_XML_data(filename):\n",
    "    #Read in XML file\n",
    "    with open(filename, 'r') as xml_file:\n",
    "        input_data = xmltodict.parse(xml_file.read())\n",
    "    #Extract record data from XML\n",
    "    record_list = input_data['HealthData']['Record']\n",
    "    df = pd.DataFrame(record_list)\n",
    "    #Convert dates to datetime objects and steps to numeric\n",
    "    date_format = '%Y-%m-%d %H:%M:%S %z'\n",
    "    df['@startDate'] = pd.to_datetime(df['@startDate'], format = date_format)\n",
    "    df['@endDate'] = pd.to_datetime(df['@endDate'], format = date_format)\n",
    "    df['@value'] = pd.to_numeric(df['@value'])\n",
    "    #Sum up values for each hour\n",
    "    dat = df.resample(\"H\", on=\"@startDate\").sum().reset_index()\n",
    "    #Extract date and hour information, and relabel columns\n",
    "    dat[\"Date\"] = dat[\"@startDate\"].dt.date\n",
    "    dat[\"Hour\"] = dat[\"@startDate\"].dt.hour\n",
    "    dat[\"Steps\"] = dat[\"@value\"]\n",
    "    dat = dat[[\"Date\",\"Hour\",\"Steps\"]]\n",
    "    \n",
    "    return dat\n",
    "\n",
    "def read_CLEAN_data(filename):\n",
    "    #Read in CSV file\n",
    "    dat = pd.read_csv(filename)\n",
    "    #Convert datetimes\n",
    "    dat[\"Date\"] = pd.to_datetime(dat[\"Date\"], format = '%Y-%m-%d').dt.date\n",
    "    \n",
    "    return dat"
   ]
  },
  {
   "cell_type": "markdown",
   "metadata": {},
   "source": [
    "#### Input Pipeline"
   ]
  },
  {
   "cell_type": "code",
   "execution_count": 3,
   "metadata": {},
   "outputs": [],
   "source": [
    "def read_step_data(filename, read_type):\n",
    "    read_type = read_type.lower()\n",
    "    print(\"reading: \" + filename)\n",
    "    if read_type == \"pacer\":\n",
    "        return read_Pacer_data(filename)\n",
    "    elif read_type == \"qsaccess\" or read_type == \"qs\":\n",
    "        return read_QS_data(filename)\n",
    "    elif read_type == \"xml\":\n",
    "        return read_XML_data(filename)\n",
    "    elif read_type == \"clean\" or read_type == \"cleaned\":\n",
    "        return read_CLEAN_data(filename)\n",
    "    else:\n",
    "        raise Exception(\"Not a valid file type to read! Use pacer, qs, xml or clean\")"
   ]
  },
  {
   "cell_type": "markdown",
   "metadata": {},
   "source": [
    "#### Adherence and Methods"
   ]
  },
  {
   "cell_type": "code",
   "execution_count": 4,
   "metadata": {},
   "outputs": [],
   "source": [
    "# 10 hours of non zeroes \n",
    "def ten_hours_non_zeros(df,hours):\n",
    "    df1 = df.copy()\n",
    "    df1['Not Zero'] = df1['Steps'] > 0\n",
    "    df1 = df1.groupby('Date').sum()\n",
    "    df1 = df1['Not Zero'] > hours \n",
    "    return df1\n",
    "#Greater than 500 steps\n",
    "def greater_than_certain_steps(df,min_steps):\n",
    "    df1 = df.copy()\n",
    "    df1 = df1.groupby('Date').sum()\n",
    "    df1 = df1['Steps']> min_steps\n",
    "    return df1\n",
    "\n",
    "\n",
    "#Active in 3 time blocks \n",
    "def three_time_blocks(df):\n",
    "    df1 = df.copy()\n",
    "    bins = [-1,2,10,14,25,np.inf]\n",
    "    names = ['3','1','2', '4', '5']\n",
    "    df1['3timeblock'] = pd.cut(df1['Hour'],bins, labels = names)\n",
    "    df1 = df1.replace({'3timeblock':r'4'},{'3timeblock':'3'},regex = True)\n",
    "    df1 = df1.replace({'3timeblock':r'5'},{'3timeblock':'3'},regex = True)\n",
    "    df1 = df1.groupby(['Date','3timeblock'], as_index=False)['Steps'].sum()\n",
    "    df1['Steps within timeblock'] = df1['Steps']> 0 \n",
    "    df1 = df1.groupby('Date').sum()\n",
    "    df1 = df1['Steps within timeblock'] ==3 \n",
    "    return df1\n",
    "\n",
    "#Combining it all into 1 dataframe\n",
    "def three_method_table(x):\n",
    "    valid_1= ten_hours_non_zeros(x,10)\n",
    "    valid_2= greater_than_certain_steps(x,500)\n",
    "    valid_3= three_time_blocks(x)\n",
    "    result = pd.concat([valid_1,valid_2,valid_3], axis=1, join='inner')\n",
    "    result.reset_index(level=0, inplace=True)\n",
    "    result.columns = [\"Date\", \"Ten Hours Non Zero\",\"Steps > Five Hundred\",\"Three Timeblock\"]\n",
    "    result['All Three True'] = result[\"Three Timeblock\"]*result[\"Ten Hours Non Zero\"]*result[\"Steps > Five Hundred\"]\n",
    "    result_sum = result.sum()\n",
    "    return result , result_sum\n",
    "\n",
    "def filter_by_adherence(df, measure):\n",
    "    df2 = three_method_table(df)[0]\n",
    "    df3 = df.merge(df2,on ='Date')\n",
    "    if(measure == 1):\n",
    "        mask = (df3['Ten Hours Non Zero'] == True)\n",
    "    elif(measure == 2):\n",
    "        mask = (df3['Steps > Five Hundred'] == True)\n",
    "    elif(measure == 3):\n",
    "        mask = (df3['Three Timeblock'] == True)    \n",
    "    elif(measure == 4):\n",
    "        mask = (df3['All Three True'] == True)\n",
    "    filtered_df = df3.loc[mask].drop(['Ten Hours Non Zero', 'Steps > Five Hundred', 'Three Timeblock', 'All Three True'], axis=1)\n",
    "\n",
    "    return filtered_df\n",
    "\n",
    "# Method 1 calculates daily steps based on all the step activity that is available during the day\n",
    "def all_step_activity(df):\n",
    "    \n",
    "    df[\"Date\"] = pd.to_datetime(df[\"Date\"],format='%Y-%m-%d')\n",
    "    df.index = df[\"Date\"]\n",
    "    daily_step_count = df.drop(['Hour'], axis=1).resample('D').sum(min_count=1).dropna().reset_index()\n",
    "    \n",
    "    return(daily_step_count)\n",
    "\n",
    "# Method 2 calculates daily steps based on the 10 most active hours of the day\n",
    "def top_ten_most_active_hours(df):\n",
    "    \n",
    "    df = df.sort_values(by=[\"Date\", \"Steps\"], ascending=False).groupby('Date').head(10)\n",
    "    df[\"Date\"] = pd.to_datetime(df[\"Date\"],format='%Y-%m-%d')\n",
    "    df.index = df[\"Date\"]\n",
    "    daily_step_count = df.drop(['Hour'], axis=1).resample('D').sum(min_count=1).dropna().reset_index()\n",
    "    \n",
    "    return(daily_step_count)\n",
    "\n",
    "# Method 3 calculates daily steps based on a 10 hour time block during the day\n",
    "def ten_hour_time_block(df, start_hour, end_hour):\n",
    "    \n",
    "    df[\"Date\"] = pd.to_datetime(df[\"Date\"],format='%Y-%m-%d')\n",
    "    mask = (df['Hour'] >= start_hour) & (df['Hour'] <= end_hour)\n",
    "    df = df.loc[mask]\n",
    "    df.index = df[\"Date\"]\n",
    "    daily_step_count = df.drop(['Hour'], axis=1).resample('D').sum(min_count=1).dropna().reset_index()\n",
    "    \n",
    "    return(daily_step_count)\n",
    "\n",
    "def calculate_daily_steps(file_name, read_type, filter_measure, start_time, end_time):\n",
    "        \n",
    "    df = read_step_data(filename, read_type)\n",
    "    filtered_df = filter_by_adherence(df, filter_measure)\n",
    "    \n",
    "    dailysteps_method2 = top_ten_most_active_hours(filtered_df)\n",
    "    dailysteps_method1 = all_step_activity(filtered_df)\n",
    "    dailysteps_method3 = ten_hour_time_block(filtered_df, start_time, end_time)\n",
    "    \n",
    "   \n",
    "    return dailysteps_method1,dailysteps_method2,dailysteps_method3"
   ]
  },
  {
   "cell_type": "markdown",
   "metadata": {},
   "source": [
    "#### Adherance 1"
   ]
  },
  {
   "cell_type": "code",
   "execution_count": 5,
   "metadata": {},
   "outputs": [
    {
     "name": "stdout",
     "output_type": "stream",
     "text": [
      "reading: participant6.csv\n"
     ]
    }
   ],
   "source": [
    "filename = \"participant6.csv\"\n",
    "\n",
    "filter_measure = 1\n",
    "read_type = \"cleaned\"\n",
    "start_time = 8\n",
    "end_time = 18\n",
    "\n",
    "ds_method1, ds_method2, ds_method3 = calculate_daily_steps(filename, read_type, filter_measure, start_time, end_time)"
   ]
  },
  {
   "cell_type": "markdown",
   "metadata": {},
   "source": [
    "#### Method 1"
   ]
  },
  {
   "cell_type": "code",
   "execution_count": 6,
   "metadata": {},
   "outputs": [
    {
     "data": {
      "text/plain": [
       "(5, 1)"
      ]
     },
     "execution_count": 6,
     "metadata": {},
     "output_type": "execute_result"
    }
   ],
   "source": [
    "ds_method1.set_index('Date',inplace=True)\n",
    "ds_method1.shape"
   ]
  },
  {
   "cell_type": "markdown",
   "metadata": {},
   "source": [
    "#### Method 2"
   ]
  },
  {
   "cell_type": "code",
   "execution_count": 7,
   "metadata": {},
   "outputs": [
    {
     "data": {
      "text/plain": [
       "(5, 1)"
      ]
     },
     "execution_count": 7,
     "metadata": {},
     "output_type": "execute_result"
    }
   ],
   "source": [
    "ds_method2.set_index('Date',inplace=True)\n",
    "ds_method2.shape"
   ]
  },
  {
   "cell_type": "markdown",
   "metadata": {},
   "source": [
    "#### Method 3"
   ]
  },
  {
   "cell_type": "code",
   "execution_count": 8,
   "metadata": {},
   "outputs": [
    {
     "data": {
      "text/plain": [
       "(5, 1)"
      ]
     },
     "execution_count": 8,
     "metadata": {},
     "output_type": "execute_result"
    }
   ],
   "source": [
    "ds_method3.set_index('Date',inplace=True)\n",
    "ds_method3.shape"
   ]
  },
  {
   "cell_type": "markdown",
   "metadata": {},
   "source": [
    "**Conclusion**: Insufficient Data for Modelling"
   ]
  },
  {
   "cell_type": "markdown",
   "metadata": {},
   "source": [
    "#### Adherance 2"
   ]
  },
  {
   "cell_type": "code",
   "execution_count": 9,
   "metadata": {},
   "outputs": [
    {
     "name": "stdout",
     "output_type": "stream",
     "text": [
      "reading: participant6.csv\n"
     ]
    }
   ],
   "source": [
    "filename1 = \"participant6.csv\"\n",
    "\n",
    "filter_measure = 2\n",
    "read_type = \"cleaned\"\n",
    "start_time = 8\n",
    "end_time = 18\n",
    "\n",
    "ds_method1, ds_method2, ds_method3 = calculate_daily_steps(filename1, read_type, filter_measure, start_time, end_time)"
   ]
  },
  {
   "cell_type": "markdown",
   "metadata": {},
   "source": [
    "#### Method 1"
   ]
  },
  {
   "cell_type": "code",
   "execution_count": 10,
   "metadata": {},
   "outputs": [
    {
     "data": {
      "text/plain": [
       "(5, 1)"
      ]
     },
     "execution_count": 10,
     "metadata": {},
     "output_type": "execute_result"
    }
   ],
   "source": [
    "ds_method1.set_index('Date',inplace=True)\n",
    "ds_method1.shape"
   ]
  },
  {
   "cell_type": "markdown",
   "metadata": {},
   "source": [
    "#### Method 2"
   ]
  },
  {
   "cell_type": "code",
   "execution_count": 11,
   "metadata": {},
   "outputs": [
    {
     "data": {
      "text/plain": [
       "(5, 1)"
      ]
     },
     "execution_count": 11,
     "metadata": {},
     "output_type": "execute_result"
    }
   ],
   "source": [
    "ds_method2.set_index('Date',inplace=True)\n",
    "ds_method2.shape"
   ]
  },
  {
   "cell_type": "markdown",
   "metadata": {},
   "source": [
    "#### Method 3"
   ]
  },
  {
   "cell_type": "code",
   "execution_count": 12,
   "metadata": {},
   "outputs": [
    {
     "data": {
      "text/plain": [
       "(5, 1)"
      ]
     },
     "execution_count": 12,
     "metadata": {},
     "output_type": "execute_result"
    }
   ],
   "source": [
    "ds_method3.set_index('Date',inplace=True)\n",
    "ds_method3.shape"
   ]
  },
  {
   "cell_type": "markdown",
   "metadata": {},
   "source": [
    "**Conclusion:** Insufficient Data for Modelling"
   ]
  },
  {
   "cell_type": "markdown",
   "metadata": {},
   "source": [
    "#### Adherence 3"
   ]
  },
  {
   "cell_type": "code",
   "execution_count": 13,
   "metadata": {},
   "outputs": [
    {
     "name": "stdout",
     "output_type": "stream",
     "text": [
      "reading: participant6.csv\n"
     ]
    }
   ],
   "source": [
    "filename2 = \"participant6.csv\"\n",
    "\n",
    "filter_measure = 4\n",
    "read_type = \"cleaned\"\n",
    "start_time = 8\n",
    "end_time = 18\n",
    "\n",
    "ds_method1, ds_method2, ds_method3 = calculate_daily_steps(filename2, read_type, filter_measure, start_time, end_time)"
   ]
  },
  {
   "cell_type": "markdown",
   "metadata": {},
   "source": [
    "#### Method 1"
   ]
  },
  {
   "cell_type": "code",
   "execution_count": 14,
   "metadata": {},
   "outputs": [
    {
     "data": {
      "text/plain": [
       "(4, 1)"
      ]
     },
     "execution_count": 14,
     "metadata": {},
     "output_type": "execute_result"
    }
   ],
   "source": [
    "ds_method1.set_index('Date',inplace=True)\n",
    "ds_method1.shape"
   ]
  },
  {
   "cell_type": "markdown",
   "metadata": {},
   "source": [
    "#### Method 2"
   ]
  },
  {
   "cell_type": "code",
   "execution_count": 15,
   "metadata": {},
   "outputs": [
    {
     "data": {
      "text/plain": [
       "(4, 1)"
      ]
     },
     "execution_count": 15,
     "metadata": {},
     "output_type": "execute_result"
    }
   ],
   "source": [
    "ds_method2.set_index('Date',inplace=True)\n",
    "ds_method2.shape"
   ]
  },
  {
   "cell_type": "markdown",
   "metadata": {},
   "source": [
    "#### Method 3"
   ]
  },
  {
   "cell_type": "code",
   "execution_count": 16,
   "metadata": {},
   "outputs": [
    {
     "data": {
      "text/plain": [
       "(4, 1)"
      ]
     },
     "execution_count": 16,
     "metadata": {},
     "output_type": "execute_result"
    }
   ],
   "source": [
    "ds_method3.set_index('Date',inplace=True)\n",
    "ds_method3.shape"
   ]
  },
  {
   "cell_type": "markdown",
   "metadata": {},
   "source": [
    "**Conclusion:** Insufficient Data for Modelling"
   ]
  },
  {
   "cell_type": "markdown",
   "metadata": {},
   "source": [
    "#### Adherence 4"
   ]
  },
  {
   "cell_type": "code",
   "execution_count": 17,
   "metadata": {},
   "outputs": [
    {
     "name": "stdout",
     "output_type": "stream",
     "text": [
      "reading: participant6.csv\n"
     ]
    }
   ],
   "source": [
    "filename2 = \"participant6.csv\"\n",
    "\n",
    "filter_measure = 3\n",
    "read_type = \"cleaned\"\n",
    "start_time = 8\n",
    "end_time = 18\n",
    "\n",
    "ds_method1, ds_method2, ds_method3 = calculate_daily_steps(filename2, read_type, filter_measure, start_time, end_time)"
   ]
  },
  {
   "cell_type": "markdown",
   "metadata": {},
   "source": [
    "#### Method 1"
   ]
  },
  {
   "cell_type": "code",
   "execution_count": 18,
   "metadata": {},
   "outputs": [
    {
     "data": {
      "text/plain": [
       "(6, 1)"
      ]
     },
     "execution_count": 18,
     "metadata": {},
     "output_type": "execute_result"
    }
   ],
   "source": [
    "ds_method1.set_index('Date',inplace=True)\n",
    "ds_method1.shape"
   ]
  },
  {
   "cell_type": "markdown",
   "metadata": {},
   "source": [
    "#### Method 2"
   ]
  },
  {
   "cell_type": "code",
   "execution_count": 19,
   "metadata": {},
   "outputs": [
    {
     "data": {
      "text/plain": [
       "(6, 1)"
      ]
     },
     "execution_count": 19,
     "metadata": {},
     "output_type": "execute_result"
    }
   ],
   "source": [
    "ds_method2.set_index('Date',inplace=True)\n",
    "ds_method2.shape"
   ]
  },
  {
   "cell_type": "markdown",
   "metadata": {},
   "source": [
    "#### Method 3"
   ]
  },
  {
   "cell_type": "code",
   "execution_count": 20,
   "metadata": {},
   "outputs": [
    {
     "data": {
      "text/plain": [
       "(6, 1)"
      ]
     },
     "execution_count": 20,
     "metadata": {},
     "output_type": "execute_result"
    }
   ],
   "source": [
    "ds_method3.set_index('Date',inplace=True)\n",
    "ds_method3.shape"
   ]
  },
  {
   "cell_type": "markdown",
   "metadata": {},
   "source": [
    "**Conclusion:** Insufficient Data for Modelling"
   ]
  }
 ],
 "metadata": {
  "kernelspec": {
   "display_name": "Python 3",
   "language": "python",
   "name": "python3"
  },
  "language_info": {
   "codemirror_mode": {
    "name": "ipython",
    "version": 3
   },
   "file_extension": ".py",
   "mimetype": "text/x-python",
   "name": "python",
   "nbconvert_exporter": "python",
   "pygments_lexer": "ipython3",
   "version": "3.7.1"
  }
 },
 "nbformat": 4,
 "nbformat_minor": 2
}
