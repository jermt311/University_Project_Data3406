{
 "cells": [
  {
   "cell_type": "markdown",
   "metadata": {
    "id": "jKMVIleMRK4o"
   },
   "source": [
    "My(Stanley) part utilises some of data cleaning Martin and Serena has - we are all working to create a central pipeline. The bottom half of this coding file is what I have done.  "
   ]
  },
  {
   "cell_type": "markdown",
   "metadata": {
    "id": "ciD-41Rbk-ay"
   },
   "source": [
    "# Importing QS Access Data (Martin, Serena)\n",
    "\n",
    "Workbook create by Martin Gossow. Some of the code is borrowed or modified from Serena's *Metric Analysis* notebook."
   ]
  },
  {
   "cell_type": "markdown",
   "metadata": {
    "id": "z94gZj-Dk-a0"
   },
   "source": [
    "### Driving Question\n",
    "\n",
    "Develop a pipeline that allows us to input data from a QSAccess CSV file and output a dataframe that gives the date, starting hour and number of steps for each of these hour slots. We also establish a standard format for which the analysis can be run."
   ]
  },
  {
   "cell_type": "markdown",
   "metadata": {
    "id": "4Pw4gNwLk-a0"
   },
   "source": [
    "### Setting up Packages and Filename"
   ]
  },
  {
   "cell_type": "code",
   "execution_count": null,
   "metadata": {},
   "outputs": [],
   "source": []
  },
  {
   "cell_type": "code",
   "execution_count": 35,
   "metadata": {
    "id": "TvcsGT65k-a1"
   },
   "outputs": [],
   "source": [
    "#Import required packages\n",
    "import numpy as np\n",
    "import pandas as pd\n",
    "import matplotlib.pyplot as plt\n",
    "from datetime import datetime"
   ]
  },
  {
   "cell_type": "code",
   "execution_count": 36,
   "metadata": {
    "id": "HGDxL5-ek-a5"
   },
   "outputs": [],
   "source": [
    "#File path for csv file\n",
    "FILEPATH = \"../../data/Participant_ID_A/User1.csv\""
   ]
  },
  {
   "cell_type": "markdown",
   "metadata": {
    "id": "JXc7fSuAk-a9"
   },
   "source": [
    "### Reading the Data\n",
    "\n",
    "We us the pandas `read_csv` function which converts the file straight into a dataframe."
   ]
  },
  {
   "cell_type": "code",
   "execution_count": 37,
   "metadata": {
    "colab": {
     "base_uri": "https://localhost:8080/",
     "height": 297
    },
    "id": "zE6tGzR4k-a9",
    "outputId": "62501220-b8df-4276-b49c-d6052e5cda14"
   },
   "outputs": [
    {
     "data": {
      "text/html": [
       "<div>\n",
       "<style scoped>\n",
       "    .dataframe tbody tr th:only-of-type {\n",
       "        vertical-align: middle;\n",
       "    }\n",
       "\n",
       "    .dataframe tbody tr th {\n",
       "        vertical-align: top;\n",
       "    }\n",
       "\n",
       "    .dataframe thead th {\n",
       "        text-align: right;\n",
       "    }\n",
       "</style>\n",
       "<table border=\"1\" class=\"dataframe\">\n",
       "  <thead>\n",
       "    <tr style=\"text-align: right;\">\n",
       "      <th></th>\n",
       "      <th>Start</th>\n",
       "      <th>Finish</th>\n",
       "      <th>Steps (count)</th>\n",
       "    </tr>\n",
       "  </thead>\n",
       "  <tbody>\n",
       "    <tr>\n",
       "      <th>0</th>\n",
       "      <td>07-Dec-2014 09:00</td>\n",
       "      <td>07-Dec-2014 10:00</td>\n",
       "      <td>941.0</td>\n",
       "    </tr>\n",
       "    <tr>\n",
       "      <th>1</th>\n",
       "      <td>07-Dec-2014 10:00</td>\n",
       "      <td>07-Dec-2014 11:00</td>\n",
       "      <td>408.0</td>\n",
       "    </tr>\n",
       "    <tr>\n",
       "      <th>2</th>\n",
       "      <td>07-Dec-2014 11:00</td>\n",
       "      <td>07-Dec-2014 12:00</td>\n",
       "      <td>157.0</td>\n",
       "    </tr>\n",
       "    <tr>\n",
       "      <th>3</th>\n",
       "      <td>07-Dec-2014 12:00</td>\n",
       "      <td>07-Dec-2014 13:00</td>\n",
       "      <td>1017.0</td>\n",
       "    </tr>\n",
       "    <tr>\n",
       "      <th>4</th>\n",
       "      <td>07-Dec-2014 13:00</td>\n",
       "      <td>07-Dec-2014 14:00</td>\n",
       "      <td>0.0</td>\n",
       "    </tr>\n",
       "    <tr>\n",
       "      <th>5</th>\n",
       "      <td>07-Dec-2014 14:00</td>\n",
       "      <td>07-Dec-2014 15:00</td>\n",
       "      <td>0.0</td>\n",
       "    </tr>\n",
       "    <tr>\n",
       "      <th>6</th>\n",
       "      <td>07-Dec-2014 15:00</td>\n",
       "      <td>07-Dec-2014 16:00</td>\n",
       "      <td>137.0</td>\n",
       "    </tr>\n",
       "    <tr>\n",
       "      <th>7</th>\n",
       "      <td>07-Dec-2014 16:00</td>\n",
       "      <td>07-Dec-2014 17:00</td>\n",
       "      <td>0.0</td>\n",
       "    </tr>\n",
       "  </tbody>\n",
       "</table>\n",
       "</div>"
      ],
      "text/plain": [
       "               Start             Finish  Steps (count)\n",
       "0  07-Dec-2014 09:00  07-Dec-2014 10:00          941.0\n",
       "1  07-Dec-2014 10:00  07-Dec-2014 11:00          408.0\n",
       "2  07-Dec-2014 11:00  07-Dec-2014 12:00          157.0\n",
       "3  07-Dec-2014 12:00  07-Dec-2014 13:00         1017.0\n",
       "4  07-Dec-2014 13:00  07-Dec-2014 14:00            0.0\n",
       "5  07-Dec-2014 14:00  07-Dec-2014 15:00            0.0\n",
       "6  07-Dec-2014 15:00  07-Dec-2014 16:00          137.0\n",
       "7  07-Dec-2014 16:00  07-Dec-2014 17:00            0.0"
      ]
     },
     "execution_count": 37,
     "metadata": {},
     "output_type": "execute_result"
    }
   ],
   "source": [
    "dat = pd.read_csv(FILEPATH)\n",
    "dat.head(8)"
   ]
  },
  {
   "cell_type": "markdown",
   "metadata": {
    "id": "-w3dSX09k-bF"
   },
   "source": [
    "### Formatting the Data\n",
    "\n",
    "There are some things we need to fix up. We want to change the column `Steps (count)` to `Steps`. We also want to extract the `Start` column into datetime format, and extract the date and hour."
   ]
  },
  {
   "cell_type": "code",
   "execution_count": 38,
   "metadata": {
    "colab": {
     "base_uri": "https://localhost:8080/",
     "height": 297
    },
    "id": "1lZ00V2nk-bF",
    "outputId": "6b00eaab-0b93-442c-ff18-a35a87d121a3"
   },
   "outputs": [
    {
     "data": {
      "text/html": [
       "<div>\n",
       "<style scoped>\n",
       "    .dataframe tbody tr th:only-of-type {\n",
       "        vertical-align: middle;\n",
       "    }\n",
       "\n",
       "    .dataframe tbody tr th {\n",
       "        vertical-align: top;\n",
       "    }\n",
       "\n",
       "    .dataframe thead th {\n",
       "        text-align: right;\n",
       "    }\n",
       "</style>\n",
       "<table border=\"1\" class=\"dataframe\">\n",
       "  <thead>\n",
       "    <tr style=\"text-align: right;\">\n",
       "      <th></th>\n",
       "      <th>Start</th>\n",
       "      <th>Finish</th>\n",
       "      <th>Steps (count)</th>\n",
       "      <th>Datetime</th>\n",
       "      <th>Date</th>\n",
       "      <th>Hour</th>\n",
       "    </tr>\n",
       "  </thead>\n",
       "  <tbody>\n",
       "    <tr>\n",
       "      <th>0</th>\n",
       "      <td>07-Dec-2014 09:00</td>\n",
       "      <td>07-Dec-2014 10:00</td>\n",
       "      <td>941.0</td>\n",
       "      <td>2014-12-07 09:00:00</td>\n",
       "      <td>2014-12-07</td>\n",
       "      <td>9</td>\n",
       "    </tr>\n",
       "    <tr>\n",
       "      <th>1</th>\n",
       "      <td>07-Dec-2014 10:00</td>\n",
       "      <td>07-Dec-2014 11:00</td>\n",
       "      <td>408.0</td>\n",
       "      <td>2014-12-07 10:00:00</td>\n",
       "      <td>2014-12-07</td>\n",
       "      <td>10</td>\n",
       "    </tr>\n",
       "    <tr>\n",
       "      <th>2</th>\n",
       "      <td>07-Dec-2014 11:00</td>\n",
       "      <td>07-Dec-2014 12:00</td>\n",
       "      <td>157.0</td>\n",
       "      <td>2014-12-07 11:00:00</td>\n",
       "      <td>2014-12-07</td>\n",
       "      <td>11</td>\n",
       "    </tr>\n",
       "    <tr>\n",
       "      <th>3</th>\n",
       "      <td>07-Dec-2014 12:00</td>\n",
       "      <td>07-Dec-2014 13:00</td>\n",
       "      <td>1017.0</td>\n",
       "      <td>2014-12-07 12:00:00</td>\n",
       "      <td>2014-12-07</td>\n",
       "      <td>12</td>\n",
       "    </tr>\n",
       "    <tr>\n",
       "      <th>4</th>\n",
       "      <td>07-Dec-2014 13:00</td>\n",
       "      <td>07-Dec-2014 14:00</td>\n",
       "      <td>0.0</td>\n",
       "      <td>2014-12-07 13:00:00</td>\n",
       "      <td>2014-12-07</td>\n",
       "      <td>13</td>\n",
       "    </tr>\n",
       "    <tr>\n",
       "      <th>5</th>\n",
       "      <td>07-Dec-2014 14:00</td>\n",
       "      <td>07-Dec-2014 15:00</td>\n",
       "      <td>0.0</td>\n",
       "      <td>2014-12-07 14:00:00</td>\n",
       "      <td>2014-12-07</td>\n",
       "      <td>14</td>\n",
       "    </tr>\n",
       "    <tr>\n",
       "      <th>6</th>\n",
       "      <td>07-Dec-2014 15:00</td>\n",
       "      <td>07-Dec-2014 16:00</td>\n",
       "      <td>137.0</td>\n",
       "      <td>2014-12-07 15:00:00</td>\n",
       "      <td>2014-12-07</td>\n",
       "      <td>15</td>\n",
       "    </tr>\n",
       "    <tr>\n",
       "      <th>7</th>\n",
       "      <td>07-Dec-2014 16:00</td>\n",
       "      <td>07-Dec-2014 17:00</td>\n",
       "      <td>0.0</td>\n",
       "      <td>2014-12-07 16:00:00</td>\n",
       "      <td>2014-12-07</td>\n",
       "      <td>16</td>\n",
       "    </tr>\n",
       "  </tbody>\n",
       "</table>\n",
       "</div>"
      ],
      "text/plain": [
       "               Start             Finish  Steps (count)            Datetime  \\\n",
       "0  07-Dec-2014 09:00  07-Dec-2014 10:00          941.0 2014-12-07 09:00:00   \n",
       "1  07-Dec-2014 10:00  07-Dec-2014 11:00          408.0 2014-12-07 10:00:00   \n",
       "2  07-Dec-2014 11:00  07-Dec-2014 12:00          157.0 2014-12-07 11:00:00   \n",
       "3  07-Dec-2014 12:00  07-Dec-2014 13:00         1017.0 2014-12-07 12:00:00   \n",
       "4  07-Dec-2014 13:00  07-Dec-2014 14:00            0.0 2014-12-07 13:00:00   \n",
       "5  07-Dec-2014 14:00  07-Dec-2014 15:00            0.0 2014-12-07 14:00:00   \n",
       "6  07-Dec-2014 15:00  07-Dec-2014 16:00          137.0 2014-12-07 15:00:00   \n",
       "7  07-Dec-2014 16:00  07-Dec-2014 17:00            0.0 2014-12-07 16:00:00   \n",
       "\n",
       "         Date  Hour  \n",
       "0  2014-12-07     9  \n",
       "1  2014-12-07    10  \n",
       "2  2014-12-07    11  \n",
       "3  2014-12-07    12  \n",
       "4  2014-12-07    13  \n",
       "5  2014-12-07    14  \n",
       "6  2014-12-07    15  \n",
       "7  2014-12-07    16  "
      ]
     },
     "execution_count": 38,
     "metadata": {},
     "output_type": "execute_result"
    }
   ],
   "source": [
    "dat[\"Datetime\"] = pd.to_datetime(dat[\"Start\"], format = '%d-%b-%Y %H:%M')\n",
    "dat[\"Date\"] = dat[\"Datetime\"].dt.date\n",
    "dat[\"Hour\"] = dat[\"Datetime\"].dt.hour\n",
    "dat.head(8)"
   ]
  },
  {
   "cell_type": "markdown",
   "metadata": {
    "id": "WY8mmkO7k-bI"
   },
   "source": [
    "We've extracted the date (as a datetime object) and the hour. Now we remove the columns that are no longer needed and rename the columns as required."
   ]
  },
  {
   "cell_type": "code",
   "execution_count": 39,
   "metadata": {
    "id": "vH5jgvyYk-bI"
   },
   "outputs": [],
   "source": [
    "#Extract needed columns\n",
    "dat = dat[[\"Date\", \"Hour\", \"Steps (count)\"]]\n",
    "#Rename columns\n",
    "dat.columns = [\"Date\", \"Hour\", \"Steps\"]"
   ]
  },
  {
   "cell_type": "markdown",
   "metadata": {
    "id": "nt2vxGssk-bL"
   },
   "source": [
    "### Displaying the dataframe\n",
    "\n",
    "Finally, we display the dataframe in its final standardised format."
   ]
  },
  {
   "cell_type": "code",
   "execution_count": 40,
   "metadata": {
    "colab": {
     "base_uri": "https://localhost:8080/",
     "height": 359
    },
    "id": "akw9fzygk-bL",
    "outputId": "65d55160-ef5d-4fcc-84a8-e0bbefae36b5"
   },
   "outputs": [
    {
     "data": {
      "text/html": [
       "<div>\n",
       "<style scoped>\n",
       "    .dataframe tbody tr th:only-of-type {\n",
       "        vertical-align: middle;\n",
       "    }\n",
       "\n",
       "    .dataframe tbody tr th {\n",
       "        vertical-align: top;\n",
       "    }\n",
       "\n",
       "    .dataframe thead th {\n",
       "        text-align: right;\n",
       "    }\n",
       "</style>\n",
       "<table border=\"1\" class=\"dataframe\">\n",
       "  <thead>\n",
       "    <tr style=\"text-align: right;\">\n",
       "      <th></th>\n",
       "      <th>Date</th>\n",
       "      <th>Hour</th>\n",
       "      <th>Steps</th>\n",
       "    </tr>\n",
       "  </thead>\n",
       "  <tbody>\n",
       "    <tr>\n",
       "      <th>0</th>\n",
       "      <td>2014-12-07</td>\n",
       "      <td>9</td>\n",
       "      <td>941.0</td>\n",
       "    </tr>\n",
       "    <tr>\n",
       "      <th>1</th>\n",
       "      <td>2014-12-07</td>\n",
       "      <td>10</td>\n",
       "      <td>408.0</td>\n",
       "    </tr>\n",
       "    <tr>\n",
       "      <th>2</th>\n",
       "      <td>2014-12-07</td>\n",
       "      <td>11</td>\n",
       "      <td>157.0</td>\n",
       "    </tr>\n",
       "    <tr>\n",
       "      <th>3</th>\n",
       "      <td>2014-12-07</td>\n",
       "      <td>12</td>\n",
       "      <td>1017.0</td>\n",
       "    </tr>\n",
       "    <tr>\n",
       "      <th>4</th>\n",
       "      <td>2014-12-07</td>\n",
       "      <td>13</td>\n",
       "      <td>0.0</td>\n",
       "    </tr>\n",
       "    <tr>\n",
       "      <th>5</th>\n",
       "      <td>2014-12-07</td>\n",
       "      <td>14</td>\n",
       "      <td>0.0</td>\n",
       "    </tr>\n",
       "    <tr>\n",
       "      <th>6</th>\n",
       "      <td>2014-12-07</td>\n",
       "      <td>15</td>\n",
       "      <td>137.0</td>\n",
       "    </tr>\n",
       "    <tr>\n",
       "      <th>7</th>\n",
       "      <td>2014-12-07</td>\n",
       "      <td>16</td>\n",
       "      <td>0.0</td>\n",
       "    </tr>\n",
       "    <tr>\n",
       "      <th>8</th>\n",
       "      <td>2014-12-07</td>\n",
       "      <td>17</td>\n",
       "      <td>33.0</td>\n",
       "    </tr>\n",
       "    <tr>\n",
       "      <th>9</th>\n",
       "      <td>2014-12-07</td>\n",
       "      <td>18</td>\n",
       "      <td>0.0</td>\n",
       "    </tr>\n",
       "  </tbody>\n",
       "</table>\n",
       "</div>"
      ],
      "text/plain": [
       "         Date  Hour   Steps\n",
       "0  2014-12-07     9   941.0\n",
       "1  2014-12-07    10   408.0\n",
       "2  2014-12-07    11   157.0\n",
       "3  2014-12-07    12  1017.0\n",
       "4  2014-12-07    13     0.0\n",
       "5  2014-12-07    14     0.0\n",
       "6  2014-12-07    15   137.0\n",
       "7  2014-12-07    16     0.0\n",
       "8  2014-12-07    17    33.0\n",
       "9  2014-12-07    18     0.0"
      ]
     },
     "execution_count": 40,
     "metadata": {},
     "output_type": "execute_result"
    }
   ],
   "source": [
    "dat.head(10)"
   ]
  },
  {
   "cell_type": "markdown",
   "metadata": {
    "id": "GUMv_JMJk-bP"
   },
   "source": [
    "### Putting everything together\n",
    "\n",
    "We define a single function that takes in the filename and outputs the cleaned filedata. All the code is simply taken from the above cells."
   ]
  },
  {
   "cell_type": "code",
   "execution_count": 41,
   "metadata": {
    "id": "zUblu3cjk-bP"
   },
   "outputs": [],
   "source": [
    "def read_QS_data(filename):\n",
    "    #Read in CSV file\n",
    "    dat = pd.read_csv(filename)\n",
    "    #Extract datetime information\n",
    "    dat[\"Datetime\"] = pd.to_datetime(dat[\"Start\"], format = '%d-%b-%Y %H:%M')\n",
    "    dat[\"Date\"] = dat[\"Datetime\"].dt.date\n",
    "    dat[\"Hour\"] = dat[\"Datetime\"].dt.hour\n",
    "    #Format columns\n",
    "    dat = dat[[\"Date\", \"Hour\", \"Steps (count)\"]]\n",
    "    dat.columns = [\"Date\", \"Hour\", \"Steps\"]\n",
    "    \n",
    "    return dat"
   ]
  },
  {
   "cell_type": "code",
   "execution_count": 42,
   "metadata": {
    "id": "FO6CQhMik-bT"
   },
   "outputs": [],
   "source": [
    " x = read_QS_data(FILEPATH)"
   ]
  },
  {
   "cell_type": "markdown",
   "metadata": {
    "id": "6P70CSCrQtff"
   },
   "source": [
    "# Adherence functions (Stanley)\n"
   ]
  },
  {
   "cell_type": "markdown",
   "metadata": {
    "id": "Zt6bDSbAm8mA"
   },
   "source": [
    "## Driving Question \n",
    "Streamline the data processing with functions to create a pipeline. Using the 3 methods detailed in Tang et al. (Assignment 1 Paper 2), we will apply these measures to determine if a day is valid or not. \n",
    "\n",
    "Each method has its own function- designed to return a list of Trues and Falses for each day. This will help other members of the group if they choose to match these days later on. "
   ]
  },
  {
   "cell_type": "markdown",
   "metadata": {
    "id": "ERDEB14HSZoj"
   },
   "source": [
    "##10 Hours of Non Zeroes\n",
    "\n",
    "The first and foremost measure, it is 10 hours of non-zero step counts, the main measure in the personal informatics assignment."
   ]
  },
  {
   "cell_type": "code",
   "execution_count": 43,
   "metadata": {
    "id": "MN4PNC1ok-bV"
   },
   "outputs": [],
   "source": [
    "# 10 hours of non zeroes \n",
    "def ten_hours_non_zeros(df,hours):\n",
    "    df1 = df.copy()\n",
    "    df1['Not Zero'] = df1['Steps'] > 0\n",
    "    df1 = df1.groupby('Date').sum()\n",
    "    df1 = df1['Not Zero'] > hours \n",
    "    return df1"
   ]
  },
  {
   "cell_type": "markdown",
   "metadata": {
    "id": "QHIqsxy3TUon"
   },
   "source": [
    "##Greater than 500 steps a day\n",
    "\n",
    "The second measure for which a day can be considered is a day where total step count is greater than 500 steps. This can be easily adjusted as we conduct more analysis."
   ]
  },
  {
   "cell_type": "code",
   "execution_count": 44,
   "metadata": {
    "id": "6BMnHx5zpbuw"
   },
   "outputs": [],
   "source": [
    "#Greater than 500 steps\n",
    "def greater_than_certain_steps(df,min_steps):\n",
    "    df1 = df.copy()\n",
    "    df1 = df1.groupby('Date').sum()\n",
    "    df1 = df1['Steps']> min_steps\n",
    "    return df1 "
   ]
  },
  {
   "cell_type": "markdown",
   "metadata": {
    "id": "wZj1wmxsTtor"
   },
   "source": [
    "## Step counter greater than 0 in 3 time blocks\n",
    "\n",
    "The final method is utilising the 3 time blocks, from 3 am to 11am , 11 am to 3 pm and 3pm to 3am. These time blocks was allocated in Tang et al, although there is no explanation into the cut-off points. If there is a steps within  each of these time blocks and for all 3 time blocks a day - it will be considered a valid day. "
   ]
  },
  {
   "cell_type": "code",
   "execution_count": 45,
   "metadata": {
    "id": "zJihDD1pxAIB"
   },
   "outputs": [],
   "source": [
    "#Active in 3 time blocks \n",
    "def three_time_blocks(df):\n",
    "    df1 = df.copy()\n",
    "    bins = [-1,2,10,14,25,np.inf]\n",
    "    names = ['3','1','2', '4', '5']\n",
    "    df1['3timeblock'] = pd.cut(df1['Hour'],bins, labels = names, ordered = False)\n",
    "    df1 = df1.replace({'3timeblock':r'4'},{'3timeblock':'3'},regex = True)\n",
    "    df1 = df1.replace({'3timeblock':r'5'},{'3timeblock':'3'},regex = True)\n",
    "    df1 = df1.groupby(['Date','3timeblock'], as_index=False)['Steps'].sum()\n",
    "    df1['Steps within timeblock'] = df1['Steps']> 0 \n",
    "    df1 = df1.groupby('Date').sum()\n",
    "    df1 = df1['Steps within timeblock'] ==3 \n",
    "    return df1"
   ]
  },
  {
   "cell_type": "markdown",
   "metadata": {
    "id": "R6HJYKU-Uf_K"
   },
   "source": [
    "## Combining it all\n",
    "\n",
    "The function below combines all the results from the above 3 functions into one dataframe that lists the Trues and Falses for each of the day by each measure. The function below also shows how many days satisfy all 3 adherence/valid day measures via the ' All 3 True column'. "
   ]
  },
  {
   "cell_type": "code",
   "execution_count": 46,
   "metadata": {
    "id": "fVxbUuKU_pQJ"
   },
   "outputs": [],
   "source": [
    "#Combining it all into 1 dataframe\n",
    "def three_method_table(x):\n",
    "    valid_1= ten_hours_non_zeros(x,10)\n",
    "    valid_2= greater_than_certain_steps(x,500)\n",
    "    valid_3= three_time_blocks(x)\n",
    "    result = pd.concat([valid_1,valid_2,valid_3], axis=1, join='inner')\n",
    "    result.reset_index(level=0, inplace=True)\n",
    "    result.columns = [\"Date\", \"Ten Hours Non Zero\",\"Steps > Five Hundred\",\"Three Timeblock\"]\n",
    "    result['All Three True'] = result[\"Three Timeblock\"]&result[\"Ten Hours Non Zero\"]&result[\"Steps > Five Hundred\"]\n",
    "    result_sum = result.sum()\n",
    "    return result , result_sum"
   ]
  },
  {
   "cell_type": "markdown",
   "metadata": {
    "id": "LLcdkX7tVLT_"
   },
   "source": [
    "## Actual results\n",
    "\n",
    "Below, we run the central function above. We also obtain the count and percentage for each of the 3 measures to see how many days remain. "
   ]
  },
  {
   "cell_type": "code",
   "execution_count": 47,
   "metadata": {
    "colab": {
     "base_uri": "https://localhost:8080/"
    },
    "id": "Vq7f52k0EMO6",
    "outputId": "febdc77e-dfce-4fd1-ad85-24729b297f40"
   },
   "outputs": [
    {
     "name": "stdout",
     "output_type": "stream",
     "text": [
      "            Date  Ten Hours Non Zero  Steps > Five Hundred  Three Timeblock  \\\n",
      "0     2014-12-07               False                  True             True   \n",
      "1     2014-12-08                True                  True             True   \n",
      "2     2014-12-09               False                  True             True   \n",
      "3     2014-12-10               False                  True             True   \n",
      "4     2014-12-11               False                  True            False   \n",
      "...          ...                 ...                   ...              ...   \n",
      "1749  2019-09-21               False                  True            False   \n",
      "1750  2019-09-22               False                  True            False   \n",
      "1751  2019-09-23               False                  True             True   \n",
      "1752  2019-09-24               False                  True            False   \n",
      "1753  2019-09-25               False                 False            False   \n",
      "\n",
      "      All Three True  \n",
      "0              False  \n",
      "1               True  \n",
      "2              False  \n",
      "3              False  \n",
      "4              False  \n",
      "...              ...  \n",
      "1749           False  \n",
      "1750           False  \n",
      "1751           False  \n",
      "1752           False  \n",
      "1753           False  \n",
      "\n",
      "[1754 rows x 5 columns]\n",
      "\n",
      "Ten Hours Non Zero       459\n",
      "Steps > Five Hundred    1533\n",
      "Three Timeblock          985\n",
      "All Three True           419\n",
      "dtype: int64\n",
      "\n",
      "Ten Hours Non Zero      0.261688\n",
      "Steps > Five Hundred    0.874002\n",
      "Three Timeblock         0.561574\n",
      "All Three True          0.238883\n",
      "dtype: float64\n",
      "\n"
     ]
    }
   ],
   "source": [
    "df_whole = three_method_table(x)[0]\n",
    "df_sum = three_method_table(x)[1]\n",
    "df_sum_pct = df_sum/len(df_whole)\n",
    "print(df_whole)\n",
    "print(\"\")\n",
    "print(df_sum)\n",
    "print(\"\")\n",
    "print(df_sum_pct)\n",
    "print(\"\")\n",
    "\n"
   ]
  },
  {
   "cell_type": "markdown",
   "metadata": {
    "id": "vQ114RgKVz0C"
   },
   "source": [
    "As you can see, the 10 Hour Non Zero Step count has an extremely high cut off rate which is the main measure we are interested in for our project. Other measures are more lenient such as the 3 timeblock and Steps > 500. Only 24% of all days satisfy and pass all 3 measures. This might be slightly concerning for our project. "
   ]
  },
  {
   "cell_type": "code",
   "execution_count": 48,
   "metadata": {
    "id": "wbufsbquWWj4"
   },
   "outputs": [],
   "source": [
    "# 10 hours of non zeroes \n",
    "def ten_hours_non_zeros(df,hours):\n",
    "    df1 = df.copy()\n",
    "    df1['Not Zero'] = df1['Steps'] > 0\n",
    "    df1 = df1.groupby('Date').sum()\n",
    "    df1 = df1['Not Zero'] >= hours\n",
    "    return df1.sum()/len(df1)\n"
   ]
  },
  {
   "cell_type": "code",
   "execution_count": 49,
   "metadata": {
    "id": "JS27xeGunNpp"
   },
   "outputs": [],
   "source": [
    "zero_to_twentyfour_pct = []\n",
    "hour_range = np.arange(0,25,1)\n",
    "for i in hour_range:\n",
    "    zero_to_twentyfour_pct.append(ten_hours_non_zeros(x,i))\n",
    "  "
   ]
  },
  {
   "cell_type": "code",
   "execution_count": 50,
   "metadata": {
    "colab": {
     "base_uri": "https://localhost:8080/",
     "height": 312
    },
    "id": "PsI7QhfVna9k",
    "outputId": "c5f02ced-30db-47ee-bf42-c30a31698813"
   },
   "outputs": [
    {
     "data": {
      "text/plain": [
       "Text(0.5, 1.0, 'Hours Cut-off vs Percentage')"
      ]
     },
     "execution_count": 50,
     "metadata": {},
     "output_type": "execute_result"
    },
    {
     "data": {
      "image/png": "[encoded data removed]",
      "text/plain": [
       "<Figure size 432x288 with 1 Axes>"
      ]
     },
     "metadata": {
      "needs_background": "light"
     },
     "output_type": "display_data"
    }
   ],
   "source": [
    "plt.plot(hour_range,zero_to_twentyfour_pct)\n",
    "plt.xlabel('Hours Cut-off')\n",
    "plt.ylabel('Percentage of dataset that passes the cut-off')\n",
    "plt.title('Hours Cut-off vs Percentage')"
   ]
  },
  {
   "cell_type": "code",
   "execution_count": 51,
   "metadata": {
    "colab": {
     "base_uri": "https://localhost:8080/"
    },
    "id": "_L-Ej894oCLt",
    "outputId": "240013ff-19d0-4a1c-d776-5175f12562aa"
   },
   "outputs": [
    {
     "data": {
      "text/plain": [
       "7204.61132142913"
      ]
     },
     "execution_count": 51,
     "metadata": {},
     "output_type": "execute_result"
    }
   ],
   "source": [
    "#Finding the maximum of the \n",
    "max(x['Steps'])"
   ]
  },
  {
   "cell_type": "code",
   "execution_count": 52,
   "metadata": {
    "id": "d5pYBuVdq8Yd"
   },
   "outputs": [],
   "source": [
    "def greater_than_certain_steps_test(df,min):\n",
    "    df1 = df.copy()\n",
    "    df1 = df1.groupby('Date').sum()\n",
    "    df1 = df1['Steps']> min\n",
    "    return df1.sum()/len(df1)"
   ]
  },
  {
   "cell_type": "code",
   "execution_count": 53,
   "metadata": {
    "id": "XUL_F7eZoLY8"
   },
   "outputs": [],
   "source": [
    "steps_pct = []\n",
    "steps_range = np.arange(0,7204,5)\n",
    "for i in steps_range:\n",
    "    steps_pct.append(greater_than_certain_steps_test(x,i))"
   ]
  },
  {
   "cell_type": "code",
   "execution_count": 54,
   "metadata": {
    "colab": {
     "base_uri": "https://localhost:8080/",
     "height": 282
    },
    "id": "e8of1J2sqdi3",
    "outputId": "5a2c9e10-5bfc-463a-f088-9e1a065de90e"
   },
   "outputs": [
    {
     "data": {
      "text/plain": [
       "[<matplotlib.lines.Line2D at 0x1d70631e208>]"
      ]
     },
     "execution_count": 54,
     "metadata": {},
     "output_type": "execute_result"
    },
    {
     "data": {
      "image/png": "[encoded data removed]",
      "text/plain": [
       "<Figure size 432x288 with 1 Axes>"
      ]
     },
     "metadata": {
      "needs_background": "light"
     },
     "output_type": "display_data"
    }
   ],
   "source": [
    "plt.plot(steps_range,steps_pct)"
   ]
  }
 ],
 "metadata": {
  "colab": {
   "collapsed_sections": [],
   "name": "adherenceQS_V3_SD_3110 with MG code.ipynb",
   "provenance": [],
   "toc_visible": true
  },
  "kernelspec": {
   "display_name": "Python 3",
   "language": "python",
   "name": "python3"
  }
 },
 "nbformat": 4,
 "nbformat_minor": 1
}
