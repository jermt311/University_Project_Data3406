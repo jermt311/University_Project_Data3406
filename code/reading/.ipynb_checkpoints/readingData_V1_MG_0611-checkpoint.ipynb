{
 "cells": [
  {
   "cell_type": "markdown",
   "metadata": {},
   "source": [
    "# Reading Step-Count Data"
   ]
  },
  {
   "cell_type": "markdown",
   "metadata": {},
   "source": [
    "### Driving Question\n",
    "\n",
    "This notebook compiles each of the three methods developed for counting and tabulating step-data from each of the three different data types. We also introduce a method for reading data that has already been cleaned, which means we can simply write the files to csv and skip the preprocessing each time we run the analysis."
   ]
  },
  {
   "cell_type": "code",
   "execution_count": 1,
   "metadata": {},
   "outputs": [],
   "source": [
    "import numpy as np\n",
    "import pandas as pd"
   ]
  },
  {
   "cell_type": "markdown",
   "metadata": {},
   "source": [
    "### Reading data from each source\n",
    "\n",
    "First we present the three functions from the other three booklets for reading data that are in this folder. Each of them take a string input corresponding to the related filename containing the data. The output is a pandas dataframe which always contains the same column headings and data-types."
   ]
  },
  {
   "cell_type": "code",
   "execution_count": 2,
   "metadata": {},
   "outputs": [],
   "source": [
    "def read_Pacer_data(filename):\n",
    "    #Read in the data\n",
    "    dat = pd.read_csv(filename)\n",
    "    #Select necessary columns\n",
    "    dat = dat[[\"date\",\"steps\"]]\n",
    "    #Extract datetime data\n",
    "    dat[\"datetime\"] = pd.to_datetime(dat[\"date\"], format = '%m/%d/%Y, %H:%M:%S %z')\n",
    "    dat[\"Date\"] = dat[\"datetime\"].dt.date\n",
    "    dat[\"Hour\"] = dat[\"datetime\"].dt.hour\n",
    "    dat[\"Min\"] = dat[\"datetime\"].dt.minute\n",
    "    #Aggregate over the hours\n",
    "    dat = dat.groupby([\"Date\",\"Hour\"])[\"steps\"].agg(\"sum\").reset_index()\n",
    "    #Relabel columns\n",
    "    dat.columns = [[\"Date\", \"Hour\", \"Steps\"]]\n",
    "    \n",
    "    return dat"
   ]
  },
  {
   "cell_type": "code",
   "execution_count": 3,
   "metadata": {},
   "outputs": [],
   "source": [
    "def read_QS_data(filename):\n",
    "    #Read in CSV file\n",
    "    dat = pd.read_csv(filename)\n",
    "    #Extract datetime information\n",
    "    dat[\"Datetime\"] = pd.to_datetime(dat[\"Start\"], format = '%d-%b-%Y %H:%M')\n",
    "    dat[\"Date\"] = dat[\"Datetime\"].dt.date\n",
    "    dat[\"Hour\"] = dat[\"Datetime\"].dt.hour\n",
    "    #Format columns\n",
    "    dat = dat[[\"Date\", \"Hour\", \"Steps (count)\"]]\n",
    "    dat.columns = [\"Date\", \"Hour\", \"Steps\"]\n",
    "    \n",
    "    return dat"
   ]
  },
  {
   "cell_type": "code",
   "execution_count": 4,
   "metadata": {},
   "outputs": [],
   "source": [
    "def read_XML_data(filename):\n",
    "    #Read in XML file\n",
    "    with open(filename, 'r') as xml_file:\n",
    "        input_data = xmltodict.parse(xml_file.read())\n",
    "    #Extract record data from XML\n",
    "    record_list = input_data['HealthData']['Record']\n",
    "    df = pd.DataFrame(record_list)\n",
    "    #Convert dates to datetime objects and steps to numeric\n",
    "    date_format = '%Y-%m-%d %H:%M:%S %z'\n",
    "    df['@startDate'] = pd.to_datetime(df['@startDate'], format = date_format)\n",
    "    df['@endDate'] = pd.to_datetime(df['@endDate'], format = date_format)\n",
    "    df['@value'] = pd.to_numeric(df['@value'])\n",
    "    #Sum up values for each hour\n",
    "    dat = df.resample(\"H\", on=\"@startDate\").sum().reset_index()\n",
    "    #Extract date and hour information, and relabel columns\n",
    "    dat[\"Date\"] = dat[\"@startDate\"].dt.date\n",
    "    dat[\"Hour\"] = dat[\"@startDate\"].dt.hour\n",
    "    dat[\"Steps\"] = dat[\"@value\"]\n",
    "    dat = dat[[\"Date\",\"Hour\",\"Steps\"]]\n",
    "    \n",
    "    return dat"
   ]
  },
  {
   "cell_type": "code",
   "execution_count": 5,
   "metadata": {},
   "outputs": [],
   "source": [
    "def read_CLEAN_data(filename):\n",
    "    #Read in CSV file\n",
    "    dat = pd.read_csv(filename)\n",
    "    #Convert datetimes\n",
    "    dat[\"Date\"] = pd.to_datetime(dat[\"Date\"], format = '%Y-%m-%d').dt.date\n",
    "    \n",
    "    return dat"
   ]
  },
  {
   "cell_type": "markdown",
   "metadata": {},
   "source": [
    "### Creating a single function\n",
    "\n",
    "We now want a single function that takes in the filename and the filetype and runs the required of the three above functions and returns the dataframe."
   ]
  },
  {
   "cell_type": "code",
   "execution_count": 6,
   "metadata": {},
   "outputs": [],
   "source": [
    "def read_step_data(filename, read_type):\n",
    "    read_type = read_type.lower()\n",
    "    if read_type == \"pacer\":\n",
    "        return read_Pacer_data(filename)\n",
    "    elif read_type == \"qsaccess\" or read_type == \"qs\":\n",
    "        return read_QS_data(filename)\n",
    "    elif read_type == \"xml\":\n",
    "        return read_XML_data(filename)\n",
    "    elif read_type == \"clean\" or read_type == \"cleaned\":\n",
    "        return read_CLEAN_data(filename)\n",
    "    else:\n",
    "        raise Exception(\"Not a valid file type to read! Use pacer, qs, xml or clean\")"
   ]
  },
  {
   "cell_type": "markdown",
   "metadata": {},
   "source": [
    "### Example and Testing\n",
    "\n",
    "We read in one of the participant files, and make sure the data has been imported correctly. We then write the file to csv and read it through the cleaned function to ensure that this is also functioning as intended."
   ]
  },
  {
   "cell_type": "code",
   "execution_count": 7,
   "metadata": {},
   "outputs": [
    {
     "data": {
      "text/html": [
       "<div>\n",
       "<style scoped>\n",
       "    .dataframe tbody tr th:only-of-type {\n",
       "        vertical-align: middle;\n",
       "    }\n",
       "\n",
       "    .dataframe tbody tr th {\n",
       "        vertical-align: top;\n",
       "    }\n",
       "\n",
       "    .dataframe thead tr th {\n",
       "        text-align: left;\n",
       "    }\n",
       "</style>\n",
       "<table border=\"1\" class=\"dataframe\">\n",
       "  <thead>\n",
       "    <tr>\n",
       "      <th></th>\n",
       "      <th>Date</th>\n",
       "      <th>Hour</th>\n",
       "      <th>Steps</th>\n",
       "    </tr>\n",
       "  </thead>\n",
       "  <tbody>\n",
       "    <tr>\n",
       "      <th>0</th>\n",
       "      <td>2020-10-18</td>\n",
       "      <td>0</td>\n",
       "      <td>1.0</td>\n",
       "    </tr>\n",
       "    <tr>\n",
       "      <th>1</th>\n",
       "      <td>2020-10-18</td>\n",
       "      <td>1</td>\n",
       "      <td>1.0</td>\n",
       "    </tr>\n",
       "    <tr>\n",
       "      <th>2</th>\n",
       "      <td>2020-10-18</td>\n",
       "      <td>2</td>\n",
       "      <td>1.0</td>\n",
       "    </tr>\n",
       "    <tr>\n",
       "      <th>3</th>\n",
       "      <td>2020-10-18</td>\n",
       "      <td>3</td>\n",
       "      <td>1.0</td>\n",
       "    </tr>\n",
       "    <tr>\n",
       "      <th>4</th>\n",
       "      <td>2020-10-18</td>\n",
       "      <td>4</td>\n",
       "      <td>1.0</td>\n",
       "    </tr>\n",
       "    <tr>\n",
       "      <th>5</th>\n",
       "      <td>2020-10-18</td>\n",
       "      <td>5</td>\n",
       "      <td>1.0</td>\n",
       "    </tr>\n",
       "    <tr>\n",
       "      <th>6</th>\n",
       "      <td>2020-10-18</td>\n",
       "      <td>6</td>\n",
       "      <td>1.0</td>\n",
       "    </tr>\n",
       "    <tr>\n",
       "      <th>7</th>\n",
       "      <td>2020-10-18</td>\n",
       "      <td>7</td>\n",
       "      <td>23.0</td>\n",
       "    </tr>\n",
       "    <tr>\n",
       "      <th>8</th>\n",
       "      <td>2020-10-18</td>\n",
       "      <td>8</td>\n",
       "      <td>2.0</td>\n",
       "    </tr>\n",
       "    <tr>\n",
       "      <th>9</th>\n",
       "      <td>2020-10-18</td>\n",
       "      <td>9</td>\n",
       "      <td>40.0</td>\n",
       "    </tr>\n",
       "  </tbody>\n",
       "</table>\n",
       "</div>"
      ],
      "text/plain": [
       "         Date Hour Steps\n",
       "0  2020-10-18    0   1.0\n",
       "1  2020-10-18    1   1.0\n",
       "2  2020-10-18    2   1.0\n",
       "3  2020-10-18    3   1.0\n",
       "4  2020-10-18    4   1.0\n",
       "5  2020-10-18    5   1.0\n",
       "6  2020-10-18    6   1.0\n",
       "7  2020-10-18    7  23.0\n",
       "8  2020-10-18    8   2.0\n",
       "9  2020-10-18    9  40.0"
      ]
     },
     "execution_count": 7,
     "metadata": {},
     "output_type": "execute_result"
    }
   ],
   "source": [
    "READPATH = \"../../data/Participant_ID_01/DetailedSteps_2020_10_24_1932.csv\"\n",
    "dat = read_step_data(READPATH, \"pacer\")\n",
    "dat.head(10)"
   ]
  },
  {
   "cell_type": "markdown",
   "metadata": {},
   "source": [
    "This works perfectly! We now write the dataframe to a new csv file in a \"cleaned data\" folder."
   ]
  },
  {
   "cell_type": "code",
   "execution_count": 8,
   "metadata": {},
   "outputs": [],
   "source": [
    "WRITEPATH = \"../../data/cleaned/participant1.csv\"\n",
    "dat.to_csv(WRITEPATH, index = False)"
   ]
  },
  {
   "cell_type": "markdown",
   "metadata": {},
   "source": [
    "We now read in the data again and check that it matches the dataframe above."
   ]
  },
  {
   "cell_type": "code",
   "execution_count": 9,
   "metadata": {},
   "outputs": [
    {
     "data": {
      "text/html": [
       "<div>\n",
       "<style scoped>\n",
       "    .dataframe tbody tr th:only-of-type {\n",
       "        vertical-align: middle;\n",
       "    }\n",
       "\n",
       "    .dataframe tbody tr th {\n",
       "        vertical-align: top;\n",
       "    }\n",
       "\n",
       "    .dataframe thead th {\n",
       "        text-align: right;\n",
       "    }\n",
       "</style>\n",
       "<table border=\"1\" class=\"dataframe\">\n",
       "  <thead>\n",
       "    <tr style=\"text-align: right;\">\n",
       "      <th></th>\n",
       "      <th>Date</th>\n",
       "      <th>Hour</th>\n",
       "      <th>Steps</th>\n",
       "    </tr>\n",
       "  </thead>\n",
       "  <tbody>\n",
       "    <tr>\n",
       "      <th>0</th>\n",
       "      <td>2020-10-18</td>\n",
       "      <td>0</td>\n",
       "      <td>1.0</td>\n",
       "    </tr>\n",
       "    <tr>\n",
       "      <th>1</th>\n",
       "      <td>2020-10-18</td>\n",
       "      <td>1</td>\n",
       "      <td>1.0</td>\n",
       "    </tr>\n",
       "    <tr>\n",
       "      <th>2</th>\n",
       "      <td>2020-10-18</td>\n",
       "      <td>2</td>\n",
       "      <td>1.0</td>\n",
       "    </tr>\n",
       "    <tr>\n",
       "      <th>3</th>\n",
       "      <td>2020-10-18</td>\n",
       "      <td>3</td>\n",
       "      <td>1.0</td>\n",
       "    </tr>\n",
       "    <tr>\n",
       "      <th>4</th>\n",
       "      <td>2020-10-18</td>\n",
       "      <td>4</td>\n",
       "      <td>1.0</td>\n",
       "    </tr>\n",
       "    <tr>\n",
       "      <th>5</th>\n",
       "      <td>2020-10-18</td>\n",
       "      <td>5</td>\n",
       "      <td>1.0</td>\n",
       "    </tr>\n",
       "    <tr>\n",
       "      <th>6</th>\n",
       "      <td>2020-10-18</td>\n",
       "      <td>6</td>\n",
       "      <td>1.0</td>\n",
       "    </tr>\n",
       "    <tr>\n",
       "      <th>7</th>\n",
       "      <td>2020-10-18</td>\n",
       "      <td>7</td>\n",
       "      <td>23.0</td>\n",
       "    </tr>\n",
       "    <tr>\n",
       "      <th>8</th>\n",
       "      <td>2020-10-18</td>\n",
       "      <td>8</td>\n",
       "      <td>2.0</td>\n",
       "    </tr>\n",
       "    <tr>\n",
       "      <th>9</th>\n",
       "      <td>2020-10-18</td>\n",
       "      <td>9</td>\n",
       "      <td>40.0</td>\n",
       "    </tr>\n",
       "  </tbody>\n",
       "</table>\n",
       "</div>"
      ],
      "text/plain": [
       "         Date  Hour  Steps\n",
       "0  2020-10-18     0    1.0\n",
       "1  2020-10-18     1    1.0\n",
       "2  2020-10-18     2    1.0\n",
       "3  2020-10-18     3    1.0\n",
       "4  2020-10-18     4    1.0\n",
       "5  2020-10-18     5    1.0\n",
       "6  2020-10-18     6    1.0\n",
       "7  2020-10-18     7   23.0\n",
       "8  2020-10-18     8    2.0\n",
       "9  2020-10-18     9   40.0"
      ]
     },
     "execution_count": 9,
     "metadata": {},
     "output_type": "execute_result"
    }
   ],
   "source": [
    "dat1 = read_step_data(WRITEPATH, \"clean\")\n",
    "dat1.head(10)"
   ]
  },
  {
   "cell_type": "code",
   "execution_count": 10,
   "metadata": {},
   "outputs": [
    {
     "name": "stdout",
     "output_type": "stream",
     "text": [
      "Date      object\n",
      "Hour       int64\n",
      "Steps    float64\n",
      "dtype: object\n",
      "\n",
      "Date      object\n",
      "Hour       int64\n",
      "Steps    float64\n",
      "dtype: object\n"
     ]
    }
   ],
   "source": [
    "print(dat.dtypes)\n",
    "print()\n",
    "print(dat1.dtypes)"
   ]
  },
  {
   "cell_type": "markdown",
   "metadata": {},
   "source": [
    "We see that the datasets and types in each data frame agree, and so everything has worked as planned."
   ]
  },
  {
   "cell_type": "code",
   "execution_count": null,
   "metadata": {},
   "outputs": [],
   "source": []
  }
 ],
 "metadata": {
  "kernelspec": {
   "display_name": "Python 3",
   "language": "python",
   "name": "python3"
  },
  "language_info": {
   "codemirror_mode": {
    "name": "ipython",
    "version": 3
   },
   "file_extension": ".py",
   "mimetype": "text/x-python",
   "name": "python",
   "nbconvert_exporter": "python",
   "pygments_lexer": "ipython3",
   "version": "3.7.3"
  }
 },
 "nbformat": 4,
 "nbformat_minor": 2
}
