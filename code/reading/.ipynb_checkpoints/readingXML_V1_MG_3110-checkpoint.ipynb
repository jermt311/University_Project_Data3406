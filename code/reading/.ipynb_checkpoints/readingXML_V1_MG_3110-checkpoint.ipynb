{
 "cells": [
  {
   "cell_type": "markdown",
   "metadata": {},
   "source": [
    "# Reading XML Data\n",
    "\n",
    "Workbook created by Martin Gossow. This code follows the other two reading notebooks."
   ]
  },
  {
   "cell_type": "markdown",
   "metadata": {},
   "source": [
    "### Driving Question\n",
    "\n",
    "Develop a pipeline that allows us to input data from Apple Health's app, which some of the participants used. The data exported in XML format, so we need a different way to process the data. As usual though, we want to change the format into the standard form used in the other two booklets."
   ]
  },
  {
   "cell_type": "markdown",
   "metadata": {},
   "source": [
    "### Setting up Packages and Filename"
   ]
  },
  {
   "cell_type": "code",
   "execution_count": 1,
   "metadata": {},
   "outputs": [],
   "source": [
    "#Import required packages\n",
    "import numpy as np\n",
    "import pandas as pd\n",
    "from datetime import datetime\n",
    "\n",
    "import xmltodict #This will need to be installed in anaconda."
   ]
  },
  {
   "cell_type": "code",
   "execution_count": 2,
   "metadata": {},
   "outputs": [],
   "source": [
    "#File \n",
    "FILEPATH = \"../../data/Participant_ID_02/export.xml\""
   ]
  },
  {
   "cell_type": "markdown",
   "metadata": {},
   "source": [
    "### Reading the Data\n",
    "\n",
    "We use the *xmltodict* package to read in the data, which we will then convert into a csv file. The reading of the data borrows a lot of code from a blogpost by Guido Casiraghi, linked [here](https://medium.com/better-programming/analyze-your-icloud-health-data-with-pandas-dd5e963e902f)."
   ]
  },
  {
   "cell_type": "code",
   "execution_count": 3,
   "metadata": {},
   "outputs": [],
   "source": [
    "with open(FILEPATH, 'r') as xml_file:\n",
    "    input_data = xmltodict.parse(xml_file.read())"
   ]
  },
  {
   "cell_type": "markdown",
   "metadata": {},
   "source": [
    "Now that we have the input data, we can extract the relevant information."
   ]
  },
  {
   "cell_type": "code",
   "execution_count": 4,
   "metadata": {},
   "outputs": [
    {
     "data": {
      "text/plain": [
       "Index(['@type', '@sourceName', '@sourceVersion', '@device', '@unit',\n",
       "       '@creationDate', '@startDate', '@endDate', '@value'],\n",
       "      dtype='object')"
      ]
     },
     "execution_count": 4,
     "metadata": {},
     "output_type": "execute_result"
    }
   ],
   "source": [
    "record_list = input_data['HealthData']['Record']\n",
    "df = pd.DataFrame(record_list)\n",
    "df.columns"
   ]
  },
  {
   "cell_type": "markdown",
   "metadata": {},
   "source": [
    "For the standard data form, we only need the step count (given in @value), and the start and end date, from which we can extract the necessary datetime data."
   ]
  },
  {
   "cell_type": "code",
   "execution_count": 5,
   "metadata": {},
   "outputs": [],
   "source": [
    "#Convert the dates to datetime objects\n",
    "date_format = '%Y-%m-%d %H:%M:%S %z'\n",
    "df['@startDate'] = pd.to_datetime(df['@startDate'],\n",
    "                                    format = date_format)\n",
    "df['@endDate'] = pd.to_datetime(df['@endDate'],\n",
    "                                    format = date_format)\n",
    "df['@value'] = pd.to_numeric(df['@value'])"
   ]
  },
  {
   "cell_type": "markdown",
   "metadata": {},
   "source": [
    "We then extract the three relevant columns and rename the columns for ease of use."
   ]
  },
  {
   "cell_type": "code",
   "execution_count": 6,
   "metadata": {},
   "outputs": [
    {
     "data": {
      "text/html": [
       "<div>\n",
       "<style scoped>\n",
       "    .dataframe tbody tr th:only-of-type {\n",
       "        vertical-align: middle;\n",
       "    }\n",
       "\n",
       "    .dataframe tbody tr th {\n",
       "        vertical-align: top;\n",
       "    }\n",
       "\n",
       "    .dataframe thead th {\n",
       "        text-align: right;\n",
       "    }\n",
       "</style>\n",
       "<table border=\"1\" class=\"dataframe\">\n",
       "  <thead>\n",
       "    <tr style=\"text-align: right;\">\n",
       "      <th></th>\n",
       "      <th>Start</th>\n",
       "      <th>End</th>\n",
       "      <th>Steps</th>\n",
       "    </tr>\n",
       "  </thead>\n",
       "  <tbody>\n",
       "    <tr>\n",
       "      <th>0</th>\n",
       "      <td>2017-10-10 12:18:32+11:00</td>\n",
       "      <td>2017-10-10 12:28:03+11:00</td>\n",
       "      <td>36.0</td>\n",
       "    </tr>\n",
       "    <tr>\n",
       "      <th>1</th>\n",
       "      <td>2017-10-10 12:28:03+11:00</td>\n",
       "      <td>2017-10-10 12:38:03+11:00</td>\n",
       "      <td>450.0</td>\n",
       "    </tr>\n",
       "    <tr>\n",
       "      <th>2</th>\n",
       "      <td>2017-10-10 12:38:03+11:00</td>\n",
       "      <td>2017-10-10 12:44:16+11:00</td>\n",
       "      <td>82.0</td>\n",
       "    </tr>\n",
       "    <tr>\n",
       "      <th>3</th>\n",
       "      <td>2017-10-10 13:04:58+11:00</td>\n",
       "      <td>2017-10-10 13:14:58+11:00</td>\n",
       "      <td>334.0</td>\n",
       "    </tr>\n",
       "    <tr>\n",
       "      <th>4</th>\n",
       "      <td>2017-10-10 13:14:58+11:00</td>\n",
       "      <td>2017-10-10 13:24:50+11:00</td>\n",
       "      <td>918.0</td>\n",
       "    </tr>\n",
       "    <tr>\n",
       "      <th>5</th>\n",
       "      <td>2017-10-10 13:24:50+11:00</td>\n",
       "      <td>2017-10-10 13:34:50+11:00</td>\n",
       "      <td>634.0</td>\n",
       "    </tr>\n",
       "    <tr>\n",
       "      <th>6</th>\n",
       "      <td>2017-10-10 13:34:50+11:00</td>\n",
       "      <td>2017-10-10 13:36:42+11:00</td>\n",
       "      <td>179.0</td>\n",
       "    </tr>\n",
       "    <tr>\n",
       "      <th>7</th>\n",
       "      <td>2017-10-10 13:43:34+11:00</td>\n",
       "      <td>2017-10-10 13:53:34+11:00</td>\n",
       "      <td>366.0</td>\n",
       "    </tr>\n",
       "    <tr>\n",
       "      <th>8</th>\n",
       "      <td>2017-10-10 13:53:34+11:00</td>\n",
       "      <td>2017-10-10 13:59:26+11:00</td>\n",
       "      <td>213.0</td>\n",
       "    </tr>\n",
       "    <tr>\n",
       "      <th>9</th>\n",
       "      <td>2017-10-10 14:04:29+11:00</td>\n",
       "      <td>2017-10-10 14:13:50+11:00</td>\n",
       "      <td>18.0</td>\n",
       "    </tr>\n",
       "    <tr>\n",
       "      <th>10</th>\n",
       "      <td>2017-10-10 14:13:50+11:00</td>\n",
       "      <td>2017-10-10 14:23:49+11:00</td>\n",
       "      <td>200.0</td>\n",
       "    </tr>\n",
       "    <tr>\n",
       "      <th>11</th>\n",
       "      <td>2017-10-10 14:23:49+11:00</td>\n",
       "      <td>2017-10-10 14:33:48+11:00</td>\n",
       "      <td>404.0</td>\n",
       "    </tr>\n",
       "    <tr>\n",
       "      <th>12</th>\n",
       "      <td>2017-10-10 14:33:48+11:00</td>\n",
       "      <td>2017-10-10 14:39:04+11:00</td>\n",
       "      <td>143.0</td>\n",
       "    </tr>\n",
       "    <tr>\n",
       "      <th>13</th>\n",
       "      <td>2017-10-10 15:21:32+11:00</td>\n",
       "      <td>2017-10-10 15:28:52+11:00</td>\n",
       "      <td>54.0</td>\n",
       "    </tr>\n",
       "    <tr>\n",
       "      <th>14</th>\n",
       "      <td>2017-10-10 15:56:18+11:00</td>\n",
       "      <td>2017-10-10 16:04:58+11:00</td>\n",
       "      <td>332.0</td>\n",
       "    </tr>\n",
       "    <tr>\n",
       "      <th>15</th>\n",
       "      <td>2017-10-10 16:04:58+11:00</td>\n",
       "      <td>2017-10-10 16:11:28+11:00</td>\n",
       "      <td>95.0</td>\n",
       "    </tr>\n",
       "    <tr>\n",
       "      <th>16</th>\n",
       "      <td>2017-10-10 16:15:48+11:00</td>\n",
       "      <td>2017-10-10 16:25:47+11:00</td>\n",
       "      <td>336.0</td>\n",
       "    </tr>\n",
       "    <tr>\n",
       "      <th>17</th>\n",
       "      <td>2017-10-10 16:25:47+11:00</td>\n",
       "      <td>2017-10-10 16:35:47+11:00</td>\n",
       "      <td>596.0</td>\n",
       "    </tr>\n",
       "    <tr>\n",
       "      <th>18</th>\n",
       "      <td>2017-10-10 16:35:47+11:00</td>\n",
       "      <td>2017-10-10 16:38:10+11:00</td>\n",
       "      <td>228.0</td>\n",
       "    </tr>\n",
       "    <tr>\n",
       "      <th>19</th>\n",
       "      <td>2017-10-10 16:43:52+11:00</td>\n",
       "      <td>2017-10-10 16:53:51+11:00</td>\n",
       "      <td>472.0</td>\n",
       "    </tr>\n",
       "  </tbody>\n",
       "</table>\n",
       "</div>"
      ],
      "text/plain": [
       "                       Start                       End  Steps\n",
       "0  2017-10-10 12:18:32+11:00 2017-10-10 12:28:03+11:00   36.0\n",
       "1  2017-10-10 12:28:03+11:00 2017-10-10 12:38:03+11:00  450.0\n",
       "2  2017-10-10 12:38:03+11:00 2017-10-10 12:44:16+11:00   82.0\n",
       "3  2017-10-10 13:04:58+11:00 2017-10-10 13:14:58+11:00  334.0\n",
       "4  2017-10-10 13:14:58+11:00 2017-10-10 13:24:50+11:00  918.0\n",
       "5  2017-10-10 13:24:50+11:00 2017-10-10 13:34:50+11:00  634.0\n",
       "6  2017-10-10 13:34:50+11:00 2017-10-10 13:36:42+11:00  179.0\n",
       "7  2017-10-10 13:43:34+11:00 2017-10-10 13:53:34+11:00  366.0\n",
       "8  2017-10-10 13:53:34+11:00 2017-10-10 13:59:26+11:00  213.0\n",
       "9  2017-10-10 14:04:29+11:00 2017-10-10 14:13:50+11:00   18.0\n",
       "10 2017-10-10 14:13:50+11:00 2017-10-10 14:23:49+11:00  200.0\n",
       "11 2017-10-10 14:23:49+11:00 2017-10-10 14:33:48+11:00  404.0\n",
       "12 2017-10-10 14:33:48+11:00 2017-10-10 14:39:04+11:00  143.0\n",
       "13 2017-10-10 15:21:32+11:00 2017-10-10 15:28:52+11:00   54.0\n",
       "14 2017-10-10 15:56:18+11:00 2017-10-10 16:04:58+11:00  332.0\n",
       "15 2017-10-10 16:04:58+11:00 2017-10-10 16:11:28+11:00   95.0\n",
       "16 2017-10-10 16:15:48+11:00 2017-10-10 16:25:47+11:00  336.0\n",
       "17 2017-10-10 16:25:47+11:00 2017-10-10 16:35:47+11:00  596.0\n",
       "18 2017-10-10 16:35:47+11:00 2017-10-10 16:38:10+11:00  228.0\n",
       "19 2017-10-10 16:43:52+11:00 2017-10-10 16:53:51+11:00  472.0"
      ]
     },
     "execution_count": 6,
     "metadata": {},
     "output_type": "execute_result"
    }
   ],
   "source": [
    "dat = df[['@startDate','@endDate','@value']]\n",
    "dat.columns = [\"Start\", \"End\", \"Steps\"]\n",
    "dat.head(20)"
   ]
  },
  {
   "cell_type": "markdown",
   "metadata": {},
   "source": [
    "We immediately see the main issue with this data. The data is not given in standard blocks of time, so to get the number of steps in each hour we will need to do some averaging across hour boundaries. Hence, we will end up with float values for the number of steps, but this is okay since our standard data is in this form."
   ]
  },
  {
   "cell_type": "code",
   "execution_count": 7,
   "metadata": {
    "scrolled": true
   },
   "outputs": [],
   "source": [
    "dat1 = dat.resample(\"H\", on=\"Start\").sum().reset_index()"
   ]
  },
  {
   "cell_type": "markdown",
   "metadata": {},
   "source": [
    "We then extract the day and hour from each of these columns to put everything into standard format."
   ]
  },
  {
   "cell_type": "code",
   "execution_count": 8,
   "metadata": {},
   "outputs": [
    {
     "data": {
      "text/html": [
       "<div>\n",
       "<style scoped>\n",
       "    .dataframe tbody tr th:only-of-type {\n",
       "        vertical-align: middle;\n",
       "    }\n",
       "\n",
       "    .dataframe tbody tr th {\n",
       "        vertical-align: top;\n",
       "    }\n",
       "\n",
       "    .dataframe thead th {\n",
       "        text-align: right;\n",
       "    }\n",
       "</style>\n",
       "<table border=\"1\" class=\"dataframe\">\n",
       "  <thead>\n",
       "    <tr style=\"text-align: right;\">\n",
       "      <th></th>\n",
       "      <th>Date</th>\n",
       "      <th>Hour</th>\n",
       "      <th>Steps</th>\n",
       "    </tr>\n",
       "  </thead>\n",
       "  <tbody>\n",
       "    <tr>\n",
       "      <th>0</th>\n",
       "      <td>2017-10-10</td>\n",
       "      <td>12</td>\n",
       "      <td>568.323630</td>\n",
       "    </tr>\n",
       "    <tr>\n",
       "      <th>1</th>\n",
       "      <td>2017-10-10</td>\n",
       "      <td>13</td>\n",
       "      <td>2645.670897</td>\n",
       "    </tr>\n",
       "    <tr>\n",
       "      <th>2</th>\n",
       "      <td>2017-10-10</td>\n",
       "      <td>14</td>\n",
       "      <td>765.451970</td>\n",
       "    </tr>\n",
       "    <tr>\n",
       "      <th>3</th>\n",
       "      <td>2017-10-10</td>\n",
       "      <td>15</td>\n",
       "      <td>386.225800</td>\n",
       "    </tr>\n",
       "    <tr>\n",
       "      <th>4</th>\n",
       "      <td>2017-10-10</td>\n",
       "      <td>16</td>\n",
       "      <td>2861.893346</td>\n",
       "    </tr>\n",
       "    <tr>\n",
       "      <th>5</th>\n",
       "      <td>2017-10-10</td>\n",
       "      <td>17</td>\n",
       "      <td>371.237020</td>\n",
       "    </tr>\n",
       "    <tr>\n",
       "      <th>6</th>\n",
       "      <td>2017-10-10</td>\n",
       "      <td>18</td>\n",
       "      <td>0.000000</td>\n",
       "    </tr>\n",
       "    <tr>\n",
       "      <th>7</th>\n",
       "      <td>2017-10-10</td>\n",
       "      <td>19</td>\n",
       "      <td>0.000000</td>\n",
       "    </tr>\n",
       "    <tr>\n",
       "      <th>8</th>\n",
       "      <td>2017-10-10</td>\n",
       "      <td>20</td>\n",
       "      <td>0.000000</td>\n",
       "    </tr>\n",
       "    <tr>\n",
       "      <th>9</th>\n",
       "      <td>2017-10-10</td>\n",
       "      <td>21</td>\n",
       "      <td>110.082480</td>\n",
       "    </tr>\n",
       "  </tbody>\n",
       "</table>\n",
       "</div>"
      ],
      "text/plain": [
       "         Date  Hour        Steps\n",
       "0  2017-10-10    12   568.323630\n",
       "1  2017-10-10    13  2645.670897\n",
       "2  2017-10-10    14   765.451970\n",
       "3  2017-10-10    15   386.225800\n",
       "4  2017-10-10    16  2861.893346\n",
       "5  2017-10-10    17   371.237020\n",
       "6  2017-10-10    18     0.000000\n",
       "7  2017-10-10    19     0.000000\n",
       "8  2017-10-10    20     0.000000\n",
       "9  2017-10-10    21   110.082480"
      ]
     },
     "execution_count": 8,
     "metadata": {},
     "output_type": "execute_result"
    }
   ],
   "source": [
    "dat1[\"Date\"] = dat1[\"Start\"].dt.date\n",
    "dat1[\"Hour\"] = dat1[\"Start\"].dt.hour\n",
    "dat1 = dat1[[\"Date\",\"Hour\",\"Steps\"]]\n",
    "dat1.head(10)"
   ]
  },
  {
   "cell_type": "markdown",
   "metadata": {},
   "source": [
    "### Creating a Function"
   ]
  },
  {
   "cell_type": "markdown",
   "metadata": {},
   "source": [
    "As usual, we want to make a single function that reads in the dataset and outputs a dataframe containing all of the step counts in teh standard format."
   ]
  },
  {
   "cell_type": "code",
   "execution_count": 9,
   "metadata": {},
   "outputs": [],
   "source": [
    "def read_XML_data(filename):\n",
    "    #Read in XML file\n",
    "    with open(FILEPATH, 'r') as xml_file:\n",
    "        input_data = xmltodict.parse(xml_file.read())\n",
    "    #Extract record data from XML\n",
    "    record_list = input_data['HealthData']['Record']\n",
    "    df = pd.DataFrame(record_list)\n",
    "    #Convert dates to datetime objects and steps to numeric\n",
    "    date_format = '%Y-%m-%d %H:%M:%S %z'\n",
    "    df['@startDate'] = pd.to_datetime(df['@startDate'], format = date_format)\n",
    "    df['@endDate'] = pd.to_datetime(df['@endDate'], format = date_format)\n",
    "    df['@value'] = pd.to_numeric(df['@value'])\n",
    "    #Sum up values for each hour\n",
    "    dat = df.resample(\"H\", on=\"@startDate\").sum().reset_index()\n",
    "    #Extract date and hour information, and relabel columns\n",
    "    dat[\"Date\"] = dat[\"@startDate\"].dt.date\n",
    "    dat[\"Hour\"] = dat[\"@startDate\"].dt.hour\n",
    "    dat[\"Steps\"] = dat[\"@value\"]\n",
    "    dat = dat[[\"Date\",\"Hour\",\"Steps\"]]\n",
    "    \n",
    "    return dat"
   ]
  },
  {
   "cell_type": "code",
   "execution_count": 10,
   "metadata": {},
   "outputs": [
    {
     "data": {
      "text/html": [
       "<div>\n",
       "<style scoped>\n",
       "    .dataframe tbody tr th:only-of-type {\n",
       "        vertical-align: middle;\n",
       "    }\n",
       "\n",
       "    .dataframe tbody tr th {\n",
       "        vertical-align: top;\n",
       "    }\n",
       "\n",
       "    .dataframe thead th {\n",
       "        text-align: right;\n",
       "    }\n",
       "</style>\n",
       "<table border=\"1\" class=\"dataframe\">\n",
       "  <thead>\n",
       "    <tr style=\"text-align: right;\">\n",
       "      <th></th>\n",
       "      <th>Date</th>\n",
       "      <th>Hour</th>\n",
       "      <th>Steps</th>\n",
       "    </tr>\n",
       "  </thead>\n",
       "  <tbody>\n",
       "    <tr>\n",
       "      <th>0</th>\n",
       "      <td>2017-10-10</td>\n",
       "      <td>12</td>\n",
       "      <td>568.323630</td>\n",
       "    </tr>\n",
       "    <tr>\n",
       "      <th>1</th>\n",
       "      <td>2017-10-10</td>\n",
       "      <td>13</td>\n",
       "      <td>2645.670897</td>\n",
       "    </tr>\n",
       "    <tr>\n",
       "      <th>2</th>\n",
       "      <td>2017-10-10</td>\n",
       "      <td>14</td>\n",
       "      <td>765.451970</td>\n",
       "    </tr>\n",
       "    <tr>\n",
       "      <th>3</th>\n",
       "      <td>2017-10-10</td>\n",
       "      <td>15</td>\n",
       "      <td>386.225800</td>\n",
       "    </tr>\n",
       "    <tr>\n",
       "      <th>4</th>\n",
       "      <td>2017-10-10</td>\n",
       "      <td>16</td>\n",
       "      <td>2861.893346</td>\n",
       "    </tr>\n",
       "    <tr>\n",
       "      <th>5</th>\n",
       "      <td>2017-10-10</td>\n",
       "      <td>17</td>\n",
       "      <td>371.237020</td>\n",
       "    </tr>\n",
       "    <tr>\n",
       "      <th>6</th>\n",
       "      <td>2017-10-10</td>\n",
       "      <td>18</td>\n",
       "      <td>0.000000</td>\n",
       "    </tr>\n",
       "    <tr>\n",
       "      <th>7</th>\n",
       "      <td>2017-10-10</td>\n",
       "      <td>19</td>\n",
       "      <td>0.000000</td>\n",
       "    </tr>\n",
       "    <tr>\n",
       "      <th>8</th>\n",
       "      <td>2017-10-10</td>\n",
       "      <td>20</td>\n",
       "      <td>0.000000</td>\n",
       "    </tr>\n",
       "    <tr>\n",
       "      <th>9</th>\n",
       "      <td>2017-10-10</td>\n",
       "      <td>21</td>\n",
       "      <td>110.082480</td>\n",
       "    </tr>\n",
       "  </tbody>\n",
       "</table>\n",
       "</div>"
      ],
      "text/plain": [
       "         Date  Hour        Steps\n",
       "0  2017-10-10    12   568.323630\n",
       "1  2017-10-10    13  2645.670897\n",
       "2  2017-10-10    14   765.451970\n",
       "3  2017-10-10    15   386.225800\n",
       "4  2017-10-10    16  2861.893346\n",
       "5  2017-10-10    17   371.237020\n",
       "6  2017-10-10    18     0.000000\n",
       "7  2017-10-10    19     0.000000\n",
       "8  2017-10-10    20     0.000000\n",
       "9  2017-10-10    21   110.082480"
      ]
     },
     "execution_count": 10,
     "metadata": {},
     "output_type": "execute_result"
    }
   ],
   "source": [
    "read_XML_data(FILEPATH).head(10)"
   ]
  },
  {
   "cell_type": "code",
   "execution_count": null,
   "metadata": {},
   "outputs": [],
   "source": []
  }
 ],
 "metadata": {
  "kernelspec": {
   "display_name": "Python 3",
   "language": "python",
   "name": "python3"
  },
  "language_info": {
   "codemirror_mode": {
    "name": "ipython",
    "version": 3
   },
   "file_extension": ".py",
   "mimetype": "text/x-python",
   "name": "python",
   "nbconvert_exporter": "python",
   "pygments_lexer": "ipython3",
   "version": "3.7.3"
  }
 },
 "nbformat": 4,
 "nbformat_minor": 2
}
