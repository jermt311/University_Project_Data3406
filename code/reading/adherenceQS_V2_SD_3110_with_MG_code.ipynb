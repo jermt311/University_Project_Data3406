{
 "cells": [
  {
   "cell_type": "markdown",
   "metadata": {
    "id": "ciD-41Rbk-ay"
   },
   "source": [
    "# Importing QS Access Data\n",
    "\n",
    "Workbook create by Martin Gossow. Some of the code is borrowed or modified from Serena's *Metric Analysis* notebook."
   ]
  },
  {
   "cell_type": "markdown",
   "metadata": {
    "id": "z94gZj-Dk-a0"
   },
   "source": [
    "### Driving Question\n",
    "\n",
    "Develop a pipeline that allows us to input data from a QSAccess CSV file and output a dataframe that gives the date, starting hour and number of steps for each of these hour slots. We also establish a standard format for which the analysis can be run."
   ]
  },
  {
   "cell_type": "markdown",
   "metadata": {
    "id": "4Pw4gNwLk-a0"
   },
   "source": [
    "### Setting up Packages and Filename"
   ]
  },
  {
   "cell_type": "code",
   "execution_count": 14,
   "metadata": {
    "id": "TvcsGT65k-a1"
   },
   "outputs": [],
   "source": [
    "#Import required packages\n",
    "import numpy as np\n",
    "import pandas as pd\n",
    "from datetime import datetime"
   ]
  },
  {
   "cell_type": "code",
   "execution_count": 15,
   "metadata": {
    "id": "HGDxL5-ek-a5"
   },
   "outputs": [],
   "source": [
    "#File path for csv file\n",
    "FILEPATH = \"../../data/Participant_ID_A/User1.csv\""
   ]
  },
  {
   "cell_type": "markdown",
   "metadata": {
    "id": "JXc7fSuAk-a9"
   },
   "source": [
    "### Reading the Data\n",
    "\n",
    "We us the pandas `read_csv` function which converts the file straight into a dataframe."
   ]
  },
  {
   "cell_type": "code",
   "execution_count": 16,
   "metadata": {
    "colab": {
     "base_uri": "https://localhost:8080/",
     "height": 297
    },
    "id": "zE6tGzR4k-a9",
    "outputId": "f38f43c4-4b54-4df4-d58a-4fade9ce032b"
   },
   "outputs": [
    {
     "data": {
      "text/html": [
       "<div>\n",
       "<style scoped>\n",
       "    .dataframe tbody tr th:only-of-type {\n",
       "        vertical-align: middle;\n",
       "    }\n",
       "\n",
       "    .dataframe tbody tr th {\n",
       "        vertical-align: top;\n",
       "    }\n",
       "\n",
       "    .dataframe thead th {\n",
       "        text-align: right;\n",
       "    }\n",
       "</style>\n",
       "<table border=\"1\" class=\"dataframe\">\n",
       "  <thead>\n",
       "    <tr style=\"text-align: right;\">\n",
       "      <th></th>\n",
       "      <th>Start</th>\n",
       "      <th>Finish</th>\n",
       "      <th>Steps (count)</th>\n",
       "    </tr>\n",
       "  </thead>\n",
       "  <tbody>\n",
       "    <tr>\n",
       "      <th>0</th>\n",
       "      <td>07-Dec-2014 09:00</td>\n",
       "      <td>07-Dec-2014 10:00</td>\n",
       "      <td>941.0</td>\n",
       "    </tr>\n",
       "    <tr>\n",
       "      <th>1</th>\n",
       "      <td>07-Dec-2014 10:00</td>\n",
       "      <td>07-Dec-2014 11:00</td>\n",
       "      <td>408.0</td>\n",
       "    </tr>\n",
       "    <tr>\n",
       "      <th>2</th>\n",
       "      <td>07-Dec-2014 11:00</td>\n",
       "      <td>07-Dec-2014 12:00</td>\n",
       "      <td>157.0</td>\n",
       "    </tr>\n",
       "    <tr>\n",
       "      <th>3</th>\n",
       "      <td>07-Dec-2014 12:00</td>\n",
       "      <td>07-Dec-2014 13:00</td>\n",
       "      <td>1017.0</td>\n",
       "    </tr>\n",
       "    <tr>\n",
       "      <th>4</th>\n",
       "      <td>07-Dec-2014 13:00</td>\n",
       "      <td>07-Dec-2014 14:00</td>\n",
       "      <td>0.0</td>\n",
       "    </tr>\n",
       "    <tr>\n",
       "      <th>5</th>\n",
       "      <td>07-Dec-2014 14:00</td>\n",
       "      <td>07-Dec-2014 15:00</td>\n",
       "      <td>0.0</td>\n",
       "    </tr>\n",
       "    <tr>\n",
       "      <th>6</th>\n",
       "      <td>07-Dec-2014 15:00</td>\n",
       "      <td>07-Dec-2014 16:00</td>\n",
       "      <td>137.0</td>\n",
       "    </tr>\n",
       "    <tr>\n",
       "      <th>7</th>\n",
       "      <td>07-Dec-2014 16:00</td>\n",
       "      <td>07-Dec-2014 17:00</td>\n",
       "      <td>0.0</td>\n",
       "    </tr>\n",
       "  </tbody>\n",
       "</table>\n",
       "</div>"
      ],
      "text/plain": [
       "               Start             Finish  Steps (count)\n",
       "0  07-Dec-2014 09:00  07-Dec-2014 10:00          941.0\n",
       "1  07-Dec-2014 10:00  07-Dec-2014 11:00          408.0\n",
       "2  07-Dec-2014 11:00  07-Dec-2014 12:00          157.0\n",
       "3  07-Dec-2014 12:00  07-Dec-2014 13:00         1017.0\n",
       "4  07-Dec-2014 13:00  07-Dec-2014 14:00            0.0\n",
       "5  07-Dec-2014 14:00  07-Dec-2014 15:00            0.0\n",
       "6  07-Dec-2014 15:00  07-Dec-2014 16:00          137.0\n",
       "7  07-Dec-2014 16:00  07-Dec-2014 17:00            0.0"
      ]
     },
     "execution_count": 16,
     "metadata": {},
     "output_type": "execute_result"
    }
   ],
   "source": [
    "dat = pd.read_csv(FILEPATH)\n",
    "dat.head(8)"
   ]
  },
  {
   "cell_type": "markdown",
   "metadata": {
    "id": "-w3dSX09k-bF"
   },
   "source": [
    "### Formatting the Data\n",
    "\n",
    "There are some things we need to fix up. We want to change the column `Steps (count)` to `Steps`. We also want to extract the `Start` column into datetime format, and extract the date and hour."
   ]
  },
  {
   "cell_type": "code",
   "execution_count": 17,
   "metadata": {
    "colab": {
     "base_uri": "https://localhost:8080/",
     "height": 297
    },
    "id": "1lZ00V2nk-bF",
    "outputId": "96ae4810-0937-42dd-be32-92354afb77e3"
   },
   "outputs": [
    {
     "data": {
      "text/html": [
       "<div>\n",
       "<style scoped>\n",
       "    .dataframe tbody tr th:only-of-type {\n",
       "        vertical-align: middle;\n",
       "    }\n",
       "\n",
       "    .dataframe tbody tr th {\n",
       "        vertical-align: top;\n",
       "    }\n",
       "\n",
       "    .dataframe thead th {\n",
       "        text-align: right;\n",
       "    }\n",
       "</style>\n",
       "<table border=\"1\" class=\"dataframe\">\n",
       "  <thead>\n",
       "    <tr style=\"text-align: right;\">\n",
       "      <th></th>\n",
       "      <th>Start</th>\n",
       "      <th>Finish</th>\n",
       "      <th>Steps (count)</th>\n",
       "      <th>Datetime</th>\n",
       "      <th>Date</th>\n",
       "      <th>Hour</th>\n",
       "    </tr>\n",
       "  </thead>\n",
       "  <tbody>\n",
       "    <tr>\n",
       "      <th>0</th>\n",
       "      <td>07-Dec-2014 09:00</td>\n",
       "      <td>07-Dec-2014 10:00</td>\n",
       "      <td>941.0</td>\n",
       "      <td>2014-12-07 09:00:00</td>\n",
       "      <td>2014-12-07</td>\n",
       "      <td>9</td>\n",
       "    </tr>\n",
       "    <tr>\n",
       "      <th>1</th>\n",
       "      <td>07-Dec-2014 10:00</td>\n",
       "      <td>07-Dec-2014 11:00</td>\n",
       "      <td>408.0</td>\n",
       "      <td>2014-12-07 10:00:00</td>\n",
       "      <td>2014-12-07</td>\n",
       "      <td>10</td>\n",
       "    </tr>\n",
       "    <tr>\n",
       "      <th>2</th>\n",
       "      <td>07-Dec-2014 11:00</td>\n",
       "      <td>07-Dec-2014 12:00</td>\n",
       "      <td>157.0</td>\n",
       "      <td>2014-12-07 11:00:00</td>\n",
       "      <td>2014-12-07</td>\n",
       "      <td>11</td>\n",
       "    </tr>\n",
       "    <tr>\n",
       "      <th>3</th>\n",
       "      <td>07-Dec-2014 12:00</td>\n",
       "      <td>07-Dec-2014 13:00</td>\n",
       "      <td>1017.0</td>\n",
       "      <td>2014-12-07 12:00:00</td>\n",
       "      <td>2014-12-07</td>\n",
       "      <td>12</td>\n",
       "    </tr>\n",
       "    <tr>\n",
       "      <th>4</th>\n",
       "      <td>07-Dec-2014 13:00</td>\n",
       "      <td>07-Dec-2014 14:00</td>\n",
       "      <td>0.0</td>\n",
       "      <td>2014-12-07 13:00:00</td>\n",
       "      <td>2014-12-07</td>\n",
       "      <td>13</td>\n",
       "    </tr>\n",
       "    <tr>\n",
       "      <th>5</th>\n",
       "      <td>07-Dec-2014 14:00</td>\n",
       "      <td>07-Dec-2014 15:00</td>\n",
       "      <td>0.0</td>\n",
       "      <td>2014-12-07 14:00:00</td>\n",
       "      <td>2014-12-07</td>\n",
       "      <td>14</td>\n",
       "    </tr>\n",
       "    <tr>\n",
       "      <th>6</th>\n",
       "      <td>07-Dec-2014 15:00</td>\n",
       "      <td>07-Dec-2014 16:00</td>\n",
       "      <td>137.0</td>\n",
       "      <td>2014-12-07 15:00:00</td>\n",
       "      <td>2014-12-07</td>\n",
       "      <td>15</td>\n",
       "    </tr>\n",
       "    <tr>\n",
       "      <th>7</th>\n",
       "      <td>07-Dec-2014 16:00</td>\n",
       "      <td>07-Dec-2014 17:00</td>\n",
       "      <td>0.0</td>\n",
       "      <td>2014-12-07 16:00:00</td>\n",
       "      <td>2014-12-07</td>\n",
       "      <td>16</td>\n",
       "    </tr>\n",
       "  </tbody>\n",
       "</table>\n",
       "</div>"
      ],
      "text/plain": [
       "               Start             Finish  Steps (count)            Datetime  \\\n",
       "0  07-Dec-2014 09:00  07-Dec-2014 10:00          941.0 2014-12-07 09:00:00   \n",
       "1  07-Dec-2014 10:00  07-Dec-2014 11:00          408.0 2014-12-07 10:00:00   \n",
       "2  07-Dec-2014 11:00  07-Dec-2014 12:00          157.0 2014-12-07 11:00:00   \n",
       "3  07-Dec-2014 12:00  07-Dec-2014 13:00         1017.0 2014-12-07 12:00:00   \n",
       "4  07-Dec-2014 13:00  07-Dec-2014 14:00            0.0 2014-12-07 13:00:00   \n",
       "5  07-Dec-2014 14:00  07-Dec-2014 15:00            0.0 2014-12-07 14:00:00   \n",
       "6  07-Dec-2014 15:00  07-Dec-2014 16:00          137.0 2014-12-07 15:00:00   \n",
       "7  07-Dec-2014 16:00  07-Dec-2014 17:00            0.0 2014-12-07 16:00:00   \n",
       "\n",
       "         Date  Hour  \n",
       "0  2014-12-07     9  \n",
       "1  2014-12-07    10  \n",
       "2  2014-12-07    11  \n",
       "3  2014-12-07    12  \n",
       "4  2014-12-07    13  \n",
       "5  2014-12-07    14  \n",
       "6  2014-12-07    15  \n",
       "7  2014-12-07    16  "
      ]
     },
     "execution_count": 17,
     "metadata": {},
     "output_type": "execute_result"
    }
   ],
   "source": [
    "dat[\"Datetime\"] = pd.to_datetime(dat[\"Start\"], format = '%d-%b-%Y %H:%M')\n",
    "dat[\"Date\"] = dat[\"Datetime\"].dt.date\n",
    "dat[\"Hour\"] = dat[\"Datetime\"].dt.hour\n",
    "dat.head(8)"
   ]
  },
  {
   "cell_type": "markdown",
   "metadata": {
    "id": "WY8mmkO7k-bI"
   },
   "source": [
    "We've extracted the date (as a datetime object) and the hour. Now we remove the columns that are no longer needed and rename the columns as required."
   ]
  },
  {
   "cell_type": "code",
   "execution_count": 18,
   "metadata": {
    "id": "vH5jgvyYk-bI"
   },
   "outputs": [],
   "source": [
    "#Extract needed columns\n",
    "dat = dat[[\"Date\", \"Hour\", \"Steps (count)\"]]\n",
    "#Rename columns\n",
    "dat.columns = [\"Date\", \"Hour\", \"Steps\"]"
   ]
  },
  {
   "cell_type": "markdown",
   "metadata": {
    "id": "nt2vxGssk-bL"
   },
   "source": [
    "### Displaying the dataframe\n",
    "\n",
    "Finally, we display the dataframe in its final standardised format."
   ]
  },
  {
   "cell_type": "code",
   "execution_count": 19,
   "metadata": {
    "colab": {
     "base_uri": "https://localhost:8080/",
     "height": 359
    },
    "id": "akw9fzygk-bL",
    "outputId": "0f042873-c7bc-44c6-9770-a54d2fe3a499"
   },
   "outputs": [
    {
     "data": {
      "text/html": [
       "<div>\n",
       "<style scoped>\n",
       "    .dataframe tbody tr th:only-of-type {\n",
       "        vertical-align: middle;\n",
       "    }\n",
       "\n",
       "    .dataframe tbody tr th {\n",
       "        vertical-align: top;\n",
       "    }\n",
       "\n",
       "    .dataframe thead th {\n",
       "        text-align: right;\n",
       "    }\n",
       "</style>\n",
       "<table border=\"1\" class=\"dataframe\">\n",
       "  <thead>\n",
       "    <tr style=\"text-align: right;\">\n",
       "      <th></th>\n",
       "      <th>Date</th>\n",
       "      <th>Hour</th>\n",
       "      <th>Steps</th>\n",
       "    </tr>\n",
       "  </thead>\n",
       "  <tbody>\n",
       "    <tr>\n",
       "      <th>0</th>\n",
       "      <td>2014-12-07</td>\n",
       "      <td>9</td>\n",
       "      <td>941.0</td>\n",
       "    </tr>\n",
       "    <tr>\n",
       "      <th>1</th>\n",
       "      <td>2014-12-07</td>\n",
       "      <td>10</td>\n",
       "      <td>408.0</td>\n",
       "    </tr>\n",
       "    <tr>\n",
       "      <th>2</th>\n",
       "      <td>2014-12-07</td>\n",
       "      <td>11</td>\n",
       "      <td>157.0</td>\n",
       "    </tr>\n",
       "    <tr>\n",
       "      <th>3</th>\n",
       "      <td>2014-12-07</td>\n",
       "      <td>12</td>\n",
       "      <td>1017.0</td>\n",
       "    </tr>\n",
       "    <tr>\n",
       "      <th>4</th>\n",
       "      <td>2014-12-07</td>\n",
       "      <td>13</td>\n",
       "      <td>0.0</td>\n",
       "    </tr>\n",
       "    <tr>\n",
       "      <th>5</th>\n",
       "      <td>2014-12-07</td>\n",
       "      <td>14</td>\n",
       "      <td>0.0</td>\n",
       "    </tr>\n",
       "    <tr>\n",
       "      <th>6</th>\n",
       "      <td>2014-12-07</td>\n",
       "      <td>15</td>\n",
       "      <td>137.0</td>\n",
       "    </tr>\n",
       "    <tr>\n",
       "      <th>7</th>\n",
       "      <td>2014-12-07</td>\n",
       "      <td>16</td>\n",
       "      <td>0.0</td>\n",
       "    </tr>\n",
       "    <tr>\n",
       "      <th>8</th>\n",
       "      <td>2014-12-07</td>\n",
       "      <td>17</td>\n",
       "      <td>33.0</td>\n",
       "    </tr>\n",
       "    <tr>\n",
       "      <th>9</th>\n",
       "      <td>2014-12-07</td>\n",
       "      <td>18</td>\n",
       "      <td>0.0</td>\n",
       "    </tr>\n",
       "  </tbody>\n",
       "</table>\n",
       "</div>"
      ],
      "text/plain": [
       "         Date  Hour   Steps\n",
       "0  2014-12-07     9   941.0\n",
       "1  2014-12-07    10   408.0\n",
       "2  2014-12-07    11   157.0\n",
       "3  2014-12-07    12  1017.0\n",
       "4  2014-12-07    13     0.0\n",
       "5  2014-12-07    14     0.0\n",
       "6  2014-12-07    15   137.0\n",
       "7  2014-12-07    16     0.0\n",
       "8  2014-12-07    17    33.0\n",
       "9  2014-12-07    18     0.0"
      ]
     },
     "execution_count": 19,
     "metadata": {},
     "output_type": "execute_result"
    }
   ],
   "source": [
    "dat.head(10)"
   ]
  },
  {
   "cell_type": "markdown",
   "metadata": {
    "id": "GUMv_JMJk-bP"
   },
   "source": [
    "### Putting everything together\n",
    "\n",
    "We define a single function that takes in the filename and outputs the cleaned filedata. All the code is simply taken from the above cells."
   ]
  },
  {
   "cell_type": "code",
   "execution_count": 20,
   "metadata": {
    "id": "zUblu3cjk-bP"
   },
   "outputs": [],
   "source": [
    "def read_QS_data(filename):\n",
    "    #Read in CSV file\n",
    "    dat = pd.read_csv(filename)\n",
    "    #Extract datetime information\n",
    "    dat[\"Datetime\"] = pd.to_datetime(dat[\"Start\"], format = '%d-%b-%Y %H:%M')\n",
    "    dat[\"Date\"] = dat[\"Datetime\"].dt.date\n",
    "    dat[\"Hour\"] = dat[\"Datetime\"].dt.hour\n",
    "    #Format columns\n",
    "    dat = dat[[\"Date\", \"Hour\", \"Steps (count)\"]]\n",
    "    dat.columns = [\"Date\", \"Hour\", \"Steps\"]\n",
    "    \n",
    "    return dat"
   ]
  },
  {
   "cell_type": "code",
   "execution_count": 21,
   "metadata": {
    "id": "FO6CQhMik-bT"
   },
   "outputs": [],
   "source": [
    " x = read_QS_data(FILEPATH)"
   ]
  },
  {
   "cell_type": "markdown",
   "metadata": {
    "id": "Zt6bDSbAm8mA"
   },
   "source": [
    "Now we are going to apply our adherence measure"
   ]
  },
  {
   "cell_type": "code",
   "execution_count": 22,
   "metadata": {
    "id": "MN4PNC1ok-bV"
   },
   "outputs": [],
   "source": [
    "# 10 hours of non zeroes \n",
    "def adherence_check1(df):\n",
    "    df1 = df.copy()\n",
    "    df1['Not Zero'] = df1['Steps'] > 0\n",
    "    df1 = df1.groupby('Date').sum()\n",
    "    df1 = df1['Not Zero'] > 10 \n",
    "    return df1"
   ]
  },
  {
   "cell_type": "code",
   "execution_count": 23,
   "metadata": {
    "id": "6BMnHx5zpbuw"
   },
   "outputs": [],
   "source": [
    "#Greater than 500 steps\n",
    "def adherence_check2(df,min):\n",
    "    df1 = df.copy()\n",
    "    df1 = df1.groupby('Date').sum()\n",
    "    df1 = df1['Steps']> min\n",
    "    return df1 \n",
    "\n"
   ]
  },
  {
   "cell_type": "code",
   "execution_count": 29,
   "metadata": {
    "id": "zJihDD1pxAIB"
   },
   "outputs": [],
   "source": [
    "#Active in 3 time blocks \n",
    "def adherence_check3(df):\n",
    "    df1 = df.copy()\n",
    "    bins = [-1,2,10,14,25,np.inf]\n",
    "    names = ['3','1','2', '3', '3']\n",
    "    df1['3timeblock'] = pd.cut(df1['Hour'], bins, labels = names, ordered = False)\n",
    "    df1 = df1.groupby(['Date','3timeblock'], as_index=False)['Steps'].sum()\n",
    "    df1['Steps within timeblock'] = df1['Steps']> 0 \n",
    "    df1 = df1.groupby('Date').sum()\n",
    "    df1 = df1['Steps within timeblock'] ==3 \n",
    "    return df1"
   ]
  },
  {
   "cell_type": "code",
   "execution_count": 30,
   "metadata": {
    "id": "fVxbUuKU_pQJ"
   },
   "outputs": [],
   "source": [
    "#Combining it all into 1 dataframe\n",
    "def three_method_table(x):\n",
    "  valid_1= adherence_check1(x)\n",
    "  valid_2= adherence_check2(x,500)\n",
    "  valid_3= adherence_check3(x)\n",
    "  result = pd.concat([valid_1,valid_2,valid_3], axis=1, join='inner')\n",
    "  result.reset_index(level=0, inplace=True)\n",
    "  result.columns = [\"Date\", \"10 Hours Non Zero\",\"Steps > 500\",\"3 Timeblock\"]\n",
    "  result['All 3 True'] = result[\"3 Timeblock\"]&result[\"10 Hours Non Zero\"]&result[\"Steps > 500\"]\n",
    "  result_sum = result.sum()\n",
    "  return result , result_sum"
   ]
  },
  {
   "cell_type": "code",
   "execution_count": 31,
   "metadata": {
    "colab": {
     "base_uri": "https://localhost:8080/"
    },
    "id": "Vq7f52k0EMO6",
    "outputId": "a7447a1c-b8dd-4733-e7cc-709564d29664"
   },
   "outputs": [
    {
     "name": "stdout",
     "output_type": "stream",
     "text": [
      "            Date  10 Hours Non Zero  Steps > 500  3 Timeblock  All 3 True\n",
      "0     2014-12-07              False         True         True       False\n",
      "1     2014-12-08               True         True         True        True\n",
      "2     2014-12-09              False         True         True       False\n",
      "3     2014-12-10              False         True         True       False\n",
      "4     2014-12-11              False         True        False       False\n",
      "...          ...                ...          ...          ...         ...\n",
      "1749  2019-09-21              False         True        False       False\n",
      "1750  2019-09-22              False         True        False       False\n",
      "1751  2019-09-23              False         True         True       False\n",
      "1752  2019-09-24              False         True        False       False\n",
      "1753  2019-09-25              False        False        False       False\n",
      "\n",
      "[1754 rows x 5 columns]\n",
      "\n",
      "10 Hours Non Zero     459\n",
      "Steps > 500          1533\n",
      "3 Timeblock           985\n",
      "All 3 True            419\n",
      "dtype: int64\n",
      "\n",
      "10 Hours Non Zero    0.261688\n",
      "Steps > 500          0.874002\n",
      "3 Timeblock          0.561574\n",
      "All 3 True           0.238883\n",
      "dtype: float64\n",
      "\n"
     ]
    }
   ],
   "source": [
    "df_whole = three_method_table(x)[0]\n",
    "df_sum = three_method_table(x)[1]\n",
    "df_sum_pct = df_sum/len(df_whole)\n",
    "print(df_whole)\n",
    "print(\"\")\n",
    "print(df_sum)\n",
    "print(\"\")\n",
    "print(df_sum_pct)\n",
    "print(\"\")\n",
    "\n"
   ]
  },
  {
   "cell_type": "code",
   "execution_count": null,
   "metadata": {
    "id": "51LBr1HYLFvl"
   },
   "outputs": [],
   "source": []
  },
  {
   "cell_type": "code",
   "execution_count": null,
   "metadata": {
    "id": "eIBBL0khXLL1"
   },
   "outputs": [],
   "source": []
  }
 ],
 "metadata": {
  "colab": {
   "collapsed_sections": [],
   "name": "adherenceQS_V1_SD_3110 with MG code.ipynb",
   "provenance": [],
   "toc_visible": true
  },
  "kernelspec": {
   "display_name": "Python 3",
   "language": "python",
   "name": "python3"
  },
  "language_info": {
   "codemirror_mode": {
    "name": "ipython",
    "version": 3
   },
   "file_extension": ".py",
   "mimetype": "text/x-python",
   "name": "python",
   "nbconvert_exporter": "python",
   "pygments_lexer": "ipython3",
   "version": "3.7.3"
  }
 },
 "nbformat": 4,
 "nbformat_minor": 1
}
