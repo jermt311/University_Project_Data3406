{
 "cells": [
  {
   "cell_type": "markdown",
   "metadata": {},
   "source": [
    "# Daily Step Count Methods"
   ]
  },
  {
   "cell_type": "markdown",
   "metadata": {},
   "source": [
    "The goal of this notebook is to explore some different ways to calculate the daily step count of the users using a 10-hour window, and create a robust pipeline to use this method of daily step count in further analysis."
   ]
  },
  {
   "cell_type": "code",
   "execution_count": 27,
   "metadata": {},
   "outputs": [],
   "source": [
    "#Load required modules\n",
    "import pandas as pd\n",
    "import numpy as np"
   ]
  },
  {
   "cell_type": "markdown",
   "metadata": {},
   "source": [
    "Start by analysing the User 1 data set to get a feel for things before moving onto other datasets"
   ]
  },
  {
   "cell_type": "code",
   "execution_count": 28,
   "metadata": {},
   "outputs": [],
   "source": [
    "df_user1 = pd.read_csv(\"../../data//Participant_ID_A/User1.csv\")"
   ]
  },
  {
   "cell_type": "code",
   "execution_count": 29,
   "metadata": {},
   "outputs": [
    {
     "data": {
      "text/html": [
       "<div>\n",
       "<style scoped>\n",
       "    .dataframe tbody tr th:only-of-type {\n",
       "        vertical-align: middle;\n",
       "    }\n",
       "\n",
       "    .dataframe tbody tr th {\n",
       "        vertical-align: top;\n",
       "    }\n",
       "\n",
       "    .dataframe thead th {\n",
       "        text-align: right;\n",
       "    }\n",
       "</style>\n",
       "<table border=\"1\" class=\"dataframe\">\n",
       "  <thead>\n",
       "    <tr style=\"text-align: right;\">\n",
       "      <th></th>\n",
       "      <th>Start</th>\n",
       "      <th>Finish</th>\n",
       "      <th>Steps (count)</th>\n",
       "    </tr>\n",
       "  </thead>\n",
       "  <tbody>\n",
       "    <tr>\n",
       "      <th>0</th>\n",
       "      <td>07-Dec-2014 09:00</td>\n",
       "      <td>07-Dec-2014 10:00</td>\n",
       "      <td>941.0</td>\n",
       "    </tr>\n",
       "    <tr>\n",
       "      <th>1</th>\n",
       "      <td>07-Dec-2014 10:00</td>\n",
       "      <td>07-Dec-2014 11:00</td>\n",
       "      <td>408.0</td>\n",
       "    </tr>\n",
       "    <tr>\n",
       "      <th>2</th>\n",
       "      <td>07-Dec-2014 11:00</td>\n",
       "      <td>07-Dec-2014 12:00</td>\n",
       "      <td>157.0</td>\n",
       "    </tr>\n",
       "    <tr>\n",
       "      <th>3</th>\n",
       "      <td>07-Dec-2014 12:00</td>\n",
       "      <td>07-Dec-2014 13:00</td>\n",
       "      <td>1017.0</td>\n",
       "    </tr>\n",
       "    <tr>\n",
       "      <th>4</th>\n",
       "      <td>07-Dec-2014 13:00</td>\n",
       "      <td>07-Dec-2014 14:00</td>\n",
       "      <td>0.0</td>\n",
       "    </tr>\n",
       "  </tbody>\n",
       "</table>\n",
       "</div>"
      ],
      "text/plain": [
       "               Start             Finish  Steps (count)\n",
       "0  07-Dec-2014 09:00  07-Dec-2014 10:00          941.0\n",
       "1  07-Dec-2014 10:00  07-Dec-2014 11:00          408.0\n",
       "2  07-Dec-2014 11:00  07-Dec-2014 12:00          157.0\n",
       "3  07-Dec-2014 12:00  07-Dec-2014 13:00         1017.0\n",
       "4  07-Dec-2014 13:00  07-Dec-2014 14:00            0.0"
      ]
     },
     "execution_count": 29,
     "metadata": {},
     "output_type": "execute_result"
    }
   ],
   "source": [
    "#Check if was loaded correctly\n",
    "df_user1.head()"
   ]
  },
  {
   "cell_type": "markdown",
   "metadata": {},
   "source": [
    "We can see that the User 1 dataset was loaded correctly and as such we can move on with our analysis"
   ]
  },
  {
   "cell_type": "code",
   "execution_count": 30,
   "metadata": {},
   "outputs": [
    {
     "data": {
      "text/plain": [
       "Start             object\n",
       "Finish            object\n",
       "Steps (count)    float64\n",
       "dtype: object"
      ]
     },
     "execution_count": 30,
     "metadata": {},
     "output_type": "execute_result"
    }
   ],
   "source": [
    "#Look at the datatypes\n",
    "df_user1.dtypes"
   ]
  },
  {
   "cell_type": "markdown",
   "metadata": {},
   "source": [
    "I want to change the Start and Finish times into Datetime objects instead or regular objects as they will be easier to deal with later on"
   ]
  },
  {
   "cell_type": "code",
   "execution_count": 31,
   "metadata": {},
   "outputs": [],
   "source": [
    "# Re-using Code from Jermery\n",
    "format = '%d-%b-%Y %H:%M'\n",
    "df_user1['Start'] = pd.to_datetime(df_user1['Start'],format=format)\n",
    "df_user1['Finish'] = pd.to_datetime(df_user1['Finish'],format=format)"
   ]
  },
  {
   "cell_type": "code",
   "execution_count": 32,
   "metadata": {},
   "outputs": [
    {
     "data": {
      "text/plain": [
       "Start            datetime64[ns]\n",
       "Finish           datetime64[ns]\n",
       "Steps (count)           float64\n",
       "dtype: object"
      ]
     },
     "execution_count": 32,
     "metadata": {},
     "output_type": "execute_result"
    }
   ],
   "source": [
    "#Check dtypes\n",
    "df_user1.dtypes"
   ]
  },
  {
   "cell_type": "markdown",
   "metadata": {},
   "source": [
    "We can see that the datatypes were converted to Datetime objects as expected"
   ]
  },
  {
   "cell_type": "markdown",
   "metadata": {},
   "source": [
    "## Method 1 - Calculate all steps in a Day (Same as the Paper)"
   ]
  },
  {
   "cell_type": "markdown",
   "metadata": {},
   "source": [
    "So we want to try and replicate the paper here, calculating all the steps in the day (with wear time being the first step to the last step) as the daily step count"
   ]
  },
  {
   "cell_type": "markdown",
   "metadata": {},
   "source": [
    "I want to try and group the Start Column by date, and sum the Steps column to get the daily steps"
   ]
  },
  {
   "cell_type": "markdown",
   "metadata": {},
   "source": [
    "The easist way would be to index the df by the start time and resample by the day"
   ]
  },
  {
   "cell_type": "code",
   "execution_count": 33,
   "metadata": {},
   "outputs": [
    {
     "data": {
      "text/html": [
       "<div>\n",
       "<style scoped>\n",
       "    .dataframe tbody tr th:only-of-type {\n",
       "        vertical-align: middle;\n",
       "    }\n",
       "\n",
       "    .dataframe tbody tr th {\n",
       "        vertical-align: top;\n",
       "    }\n",
       "\n",
       "    .dataframe thead th {\n",
       "        text-align: right;\n",
       "    }\n",
       "</style>\n",
       "<table border=\"1\" class=\"dataframe\">\n",
       "  <thead>\n",
       "    <tr style=\"text-align: right;\">\n",
       "      <th></th>\n",
       "      <th>Start</th>\n",
       "      <th>Finish</th>\n",
       "      <th>Steps (count)</th>\n",
       "    </tr>\n",
       "    <tr>\n",
       "      <th>Start</th>\n",
       "      <th></th>\n",
       "      <th></th>\n",
       "      <th></th>\n",
       "    </tr>\n",
       "  </thead>\n",
       "  <tbody>\n",
       "    <tr>\n",
       "      <th>2014-12-07 09:00:00</th>\n",
       "      <td>2014-12-07 09:00:00</td>\n",
       "      <td>2014-12-07 10:00:00</td>\n",
       "      <td>941.0</td>\n",
       "    </tr>\n",
       "    <tr>\n",
       "      <th>2014-12-07 10:00:00</th>\n",
       "      <td>2014-12-07 10:00:00</td>\n",
       "      <td>2014-12-07 11:00:00</td>\n",
       "      <td>408.0</td>\n",
       "    </tr>\n",
       "    <tr>\n",
       "      <th>2014-12-07 11:00:00</th>\n",
       "      <td>2014-12-07 11:00:00</td>\n",
       "      <td>2014-12-07 12:00:00</td>\n",
       "      <td>157.0</td>\n",
       "    </tr>\n",
       "    <tr>\n",
       "      <th>2014-12-07 12:00:00</th>\n",
       "      <td>2014-12-07 12:00:00</td>\n",
       "      <td>2014-12-07 13:00:00</td>\n",
       "      <td>1017.0</td>\n",
       "    </tr>\n",
       "    <tr>\n",
       "      <th>2014-12-07 13:00:00</th>\n",
       "      <td>2014-12-07 13:00:00</td>\n",
       "      <td>2014-12-07 14:00:00</td>\n",
       "      <td>0.0</td>\n",
       "    </tr>\n",
       "  </tbody>\n",
       "</table>\n",
       "</div>"
      ],
      "text/plain": [
       "                                  Start              Finish  Steps (count)\n",
       "Start                                                                     \n",
       "2014-12-07 09:00:00 2014-12-07 09:00:00 2014-12-07 10:00:00          941.0\n",
       "2014-12-07 10:00:00 2014-12-07 10:00:00 2014-12-07 11:00:00          408.0\n",
       "2014-12-07 11:00:00 2014-12-07 11:00:00 2014-12-07 12:00:00          157.0\n",
       "2014-12-07 12:00:00 2014-12-07 12:00:00 2014-12-07 13:00:00         1017.0\n",
       "2014-12-07 13:00:00 2014-12-07 13:00:00 2014-12-07 14:00:00            0.0"
      ]
     },
     "execution_count": 33,
     "metadata": {},
     "output_type": "execute_result"
    }
   ],
   "source": [
    "df_user1.index = df_user1['Start']\n",
    "df_user1.head()"
   ]
  },
  {
   "cell_type": "markdown",
   "metadata": {},
   "source": [
    "Re-indexing worked as expected. Now we can sum each day by the steps count."
   ]
  },
  {
   "cell_type": "code",
   "execution_count": 34,
   "metadata": {},
   "outputs": [
    {
     "data": {
      "text/html": [
       "<div>\n",
       "<style scoped>\n",
       "    .dataframe tbody tr th:only-of-type {\n",
       "        vertical-align: middle;\n",
       "    }\n",
       "\n",
       "    .dataframe tbody tr th {\n",
       "        vertical-align: top;\n",
       "    }\n",
       "\n",
       "    .dataframe thead th {\n",
       "        text-align: right;\n",
       "    }\n",
       "</style>\n",
       "<table border=\"1\" class=\"dataframe\">\n",
       "  <thead>\n",
       "    <tr style=\"text-align: right;\">\n",
       "      <th></th>\n",
       "      <th>Steps (count)</th>\n",
       "    </tr>\n",
       "    <tr>\n",
       "      <th>Start</th>\n",
       "      <th></th>\n",
       "    </tr>\n",
       "  </thead>\n",
       "  <tbody>\n",
       "    <tr>\n",
       "      <th>2014-12-07</th>\n",
       "      <td>2693.0</td>\n",
       "    </tr>\n",
       "    <tr>\n",
       "      <th>2014-12-08</th>\n",
       "      <td>6567.0</td>\n",
       "    </tr>\n",
       "    <tr>\n",
       "      <th>2014-12-09</th>\n",
       "      <td>6879.0</td>\n",
       "    </tr>\n",
       "    <tr>\n",
       "      <th>2014-12-10</th>\n",
       "      <td>7845.0</td>\n",
       "    </tr>\n",
       "    <tr>\n",
       "      <th>2014-12-11</th>\n",
       "      <td>916.0</td>\n",
       "    </tr>\n",
       "  </tbody>\n",
       "</table>\n",
       "</div>"
      ],
      "text/plain": [
       "            Steps (count)\n",
       "Start                    \n",
       "2014-12-07         2693.0\n",
       "2014-12-08         6567.0\n",
       "2014-12-09         6879.0\n",
       "2014-12-10         7845.0\n",
       "2014-12-11          916.0"
      ]
     },
     "execution_count": 34,
     "metadata": {},
     "output_type": "execute_result"
    }
   ],
   "source": [
    "# Assign the Daily Step Count as a seperate dataframe\n",
    "daily_step_count_user1 = df_user1.resample('D').sum()\n",
    "\n",
    "#Have a look at the creation\n",
    "daily_step_count_user1.head()"
   ]
  },
  {
   "cell_type": "markdown",
   "metadata": {},
   "source": [
    "From the brief look at the datatable, it looks like we have completed the job of calculating the daily step counts from grouping the dates together"
   ]
  },
  {
   "cell_type": "code",
   "execution_count": 35,
   "metadata": {},
   "outputs": [
    {
     "data": {
      "text/html": [
       "<div>\n",
       "<style scoped>\n",
       "    .dataframe tbody tr th:only-of-type {\n",
       "        vertical-align: middle;\n",
       "    }\n",
       "\n",
       "    .dataframe tbody tr th {\n",
       "        vertical-align: top;\n",
       "    }\n",
       "\n",
       "    .dataframe thead th {\n",
       "        text-align: right;\n",
       "    }\n",
       "</style>\n",
       "<table border=\"1\" class=\"dataframe\">\n",
       "  <thead>\n",
       "    <tr style=\"text-align: right;\">\n",
       "      <th></th>\n",
       "      <th>Steps (count)</th>\n",
       "    </tr>\n",
       "  </thead>\n",
       "  <tbody>\n",
       "    <tr>\n",
       "      <th>count</th>\n",
       "      <td>1754.000000</td>\n",
       "    </tr>\n",
       "    <tr>\n",
       "      <th>mean</th>\n",
       "      <td>4873.111880</td>\n",
       "    </tr>\n",
       "    <tr>\n",
       "      <th>std</th>\n",
       "      <td>4059.530686</td>\n",
       "    </tr>\n",
       "    <tr>\n",
       "      <th>min</th>\n",
       "      <td>0.000000</td>\n",
       "    </tr>\n",
       "    <tr>\n",
       "      <th>25%</th>\n",
       "      <td>1753.000000</td>\n",
       "    </tr>\n",
       "    <tr>\n",
       "      <th>50%</th>\n",
       "      <td>4210.500000</td>\n",
       "    </tr>\n",
       "    <tr>\n",
       "      <th>75%</th>\n",
       "      <td>6828.480169</td>\n",
       "    </tr>\n",
       "    <tr>\n",
       "      <th>max</th>\n",
       "      <td>30234.470106</td>\n",
       "    </tr>\n",
       "  </tbody>\n",
       "</table>\n",
       "</div>"
      ],
      "text/plain": [
       "       Steps (count)\n",
       "count    1754.000000\n",
       "mean     4873.111880\n",
       "std      4059.530686\n",
       "min         0.000000\n",
       "25%      1753.000000\n",
       "50%      4210.500000\n",
       "75%      6828.480169\n",
       "max     30234.470106"
      ]
     },
     "execution_count": 35,
     "metadata": {},
     "output_type": "execute_result"
    }
   ],
   "source": [
    "#Have a look at some of the details we can find from the daily step counts\n",
    "daily_step_count_user1.describe()"
   ]
  },
  {
   "cell_type": "markdown",
   "metadata": {},
   "source": [
    "From this, we can see the average step count is 4873 steps a day, with an std of 4059 (which is quite high). Also the max of around 30,000 steps looks very high but plausible for a high acitvity day. "
   ]
  },
  {
   "cell_type": "markdown",
   "metadata": {},
   "source": [
    "I will not look into this data any further becuase the analysis of the daily steps will come in a different workbook."
   ]
  },
  {
   "cell_type": "markdown",
   "metadata": {},
   "source": [
    "## Method 2 - 10 hour window by taking the 10 highest hours of step counts from each day"
   ]
  },
  {
   "cell_type": "markdown",
   "metadata": {},
   "source": [
    "So will again try and calculate the daily step counts for the user, but instead of taking all values, I will try only take 10 hours worth of data from each day by looking at the hours with the highest step counts and then summing them together to form the day"
   ]
  },
  {
   "cell_type": "code",
   "execution_count": 36,
   "metadata": {},
   "outputs": [],
   "source": [
    "#Drop the index\n",
    "df_user1 = df_user1.reset_index(drop=True)"
   ]
  },
  {
   "cell_type": "code",
   "execution_count": 37,
   "metadata": {},
   "outputs": [],
   "source": [
    "# Create a new df for this method\n",
    "df_method2 = df_user1"
   ]
  },
  {
   "cell_type": "markdown",
   "metadata": {},
   "source": [
    "Create a Date column for the dataframe"
   ]
  },
  {
   "cell_type": "code",
   "execution_count": 38,
   "metadata": {},
   "outputs": [],
   "source": [
    "df_method2[\"Date\"] = df_method2[\"Start\"].dt.date"
   ]
  },
  {
   "cell_type": "markdown",
   "metadata": {},
   "source": [
    "Going to order the dataframe by Date, then by step count"
   ]
  },
  {
   "cell_type": "code",
   "execution_count": 39,
   "metadata": {},
   "outputs": [
    {
     "data": {
      "text/html": [
       "<div>\n",
       "<style scoped>\n",
       "    .dataframe tbody tr th:only-of-type {\n",
       "        vertical-align: middle;\n",
       "    }\n",
       "\n",
       "    .dataframe tbody tr th {\n",
       "        vertical-align: top;\n",
       "    }\n",
       "\n",
       "    .dataframe thead th {\n",
       "        text-align: right;\n",
       "    }\n",
       "</style>\n",
       "<table border=\"1\" class=\"dataframe\">\n",
       "  <thead>\n",
       "    <tr style=\"text-align: right;\">\n",
       "      <th></th>\n",
       "      <th>Start</th>\n",
       "      <th>Finish</th>\n",
       "      <th>Steps (count)</th>\n",
       "      <th>Date</th>\n",
       "    </tr>\n",
       "  </thead>\n",
       "  <tbody>\n",
       "    <tr>\n",
       "      <th>42064</th>\n",
       "      <td>2019-09-25 00:00:00</td>\n",
       "      <td>2019-09-25 01:00:00</td>\n",
       "      <td>0.0</td>\n",
       "      <td>2019-09-25</td>\n",
       "    </tr>\n",
       "    <tr>\n",
       "      <th>42065</th>\n",
       "      <td>2019-09-25 01:00:00</td>\n",
       "      <td>2019-09-25 02:00:00</td>\n",
       "      <td>0.0</td>\n",
       "      <td>2019-09-25</td>\n",
       "    </tr>\n",
       "    <tr>\n",
       "      <th>42066</th>\n",
       "      <td>2019-09-25 02:00:00</td>\n",
       "      <td>2019-09-25 03:00:00</td>\n",
       "      <td>0.0</td>\n",
       "      <td>2019-09-25</td>\n",
       "    </tr>\n",
       "    <tr>\n",
       "      <th>42067</th>\n",
       "      <td>2019-09-25 03:00:00</td>\n",
       "      <td>2019-09-25 04:00:00</td>\n",
       "      <td>0.0</td>\n",
       "      <td>2019-09-25</td>\n",
       "    </tr>\n",
       "    <tr>\n",
       "      <th>42068</th>\n",
       "      <td>2019-09-25 04:00:00</td>\n",
       "      <td>2019-09-25 05:00:00</td>\n",
       "      <td>0.0</td>\n",
       "      <td>2019-09-25</td>\n",
       "    </tr>\n",
       "    <tr>\n",
       "      <th>...</th>\n",
       "      <td>...</td>\n",
       "      <td>...</td>\n",
       "      <td>...</td>\n",
       "      <td>...</td>\n",
       "    </tr>\n",
       "    <tr>\n",
       "      <th>10</th>\n",
       "      <td>2014-12-07 19:00:00</td>\n",
       "      <td>2014-12-07 20:00:00</td>\n",
       "      <td>0.0</td>\n",
       "      <td>2014-12-07</td>\n",
       "    </tr>\n",
       "    <tr>\n",
       "      <th>11</th>\n",
       "      <td>2014-12-07 20:00:00</td>\n",
       "      <td>2014-12-07 21:00:00</td>\n",
       "      <td>0.0</td>\n",
       "      <td>2014-12-07</td>\n",
       "    </tr>\n",
       "    <tr>\n",
       "      <th>12</th>\n",
       "      <td>2014-12-07 21:00:00</td>\n",
       "      <td>2014-12-07 22:00:00</td>\n",
       "      <td>0.0</td>\n",
       "      <td>2014-12-07</td>\n",
       "    </tr>\n",
       "    <tr>\n",
       "      <th>13</th>\n",
       "      <td>2014-12-07 22:00:00</td>\n",
       "      <td>2014-12-07 23:00:00</td>\n",
       "      <td>0.0</td>\n",
       "      <td>2014-12-07</td>\n",
       "    </tr>\n",
       "    <tr>\n",
       "      <th>14</th>\n",
       "      <td>2014-12-07 23:00:00</td>\n",
       "      <td>2014-12-08 00:00:00</td>\n",
       "      <td>0.0</td>\n",
       "      <td>2014-12-07</td>\n",
       "    </tr>\n",
       "  </tbody>\n",
       "</table>\n",
       "<p>42076 rows × 4 columns</p>\n",
       "</div>"
      ],
      "text/plain": [
       "                    Start              Finish  Steps (count)        Date\n",
       "42064 2019-09-25 00:00:00 2019-09-25 01:00:00            0.0  2019-09-25\n",
       "42065 2019-09-25 01:00:00 2019-09-25 02:00:00            0.0  2019-09-25\n",
       "42066 2019-09-25 02:00:00 2019-09-25 03:00:00            0.0  2019-09-25\n",
       "42067 2019-09-25 03:00:00 2019-09-25 04:00:00            0.0  2019-09-25\n",
       "42068 2019-09-25 04:00:00 2019-09-25 05:00:00            0.0  2019-09-25\n",
       "...                   ...                 ...            ...         ...\n",
       "10    2014-12-07 19:00:00 2014-12-07 20:00:00            0.0  2014-12-07\n",
       "11    2014-12-07 20:00:00 2014-12-07 21:00:00            0.0  2014-12-07\n",
       "12    2014-12-07 21:00:00 2014-12-07 22:00:00            0.0  2014-12-07\n",
       "13    2014-12-07 22:00:00 2014-12-07 23:00:00            0.0  2014-12-07\n",
       "14    2014-12-07 23:00:00 2014-12-08 00:00:00            0.0  2014-12-07\n",
       "\n",
       "[42076 rows x 4 columns]"
      ]
     },
     "execution_count": 39,
     "metadata": {},
     "output_type": "execute_result"
    }
   ],
   "source": [
    "df_method2.sort_values(by=[\"Date\", \"Steps (count)\"], ascending=False)"
   ]
  },
  {
   "cell_type": "raw",
   "metadata": {},
   "source": [
    "I can see that we have acheived our goal by sorting by first the date column, then the step count column"
   ]
  },
  {
   "cell_type": "markdown",
   "metadata": {},
   "source": [
    "Need to work out a way to only keep the top 10 values for each date"
   ]
  },
  {
   "cell_type": "code",
   "execution_count": 40,
   "metadata": {},
   "outputs": [
    {
     "data": {
      "text/html": [
       "<div>\n",
       "<style scoped>\n",
       "    .dataframe tbody tr th:only-of-type {\n",
       "        vertical-align: middle;\n",
       "    }\n",
       "\n",
       "    .dataframe tbody tr th {\n",
       "        vertical-align: top;\n",
       "    }\n",
       "\n",
       "    .dataframe thead th {\n",
       "        text-align: right;\n",
       "    }\n",
       "</style>\n",
       "<table border=\"1\" class=\"dataframe\">\n",
       "  <thead>\n",
       "    <tr style=\"text-align: right;\">\n",
       "      <th></th>\n",
       "      <th>Start</th>\n",
       "      <th>Finish</th>\n",
       "      <th>Steps (count)</th>\n",
       "      <th>Date</th>\n",
       "    </tr>\n",
       "  </thead>\n",
       "  <tbody>\n",
       "    <tr>\n",
       "      <th>42064</th>\n",
       "      <td>2019-09-25 00:00:00</td>\n",
       "      <td>2019-09-25 01:00:00</td>\n",
       "      <td>0.0</td>\n",
       "      <td>2019-09-25</td>\n",
       "    </tr>\n",
       "    <tr>\n",
       "      <th>42065</th>\n",
       "      <td>2019-09-25 01:00:00</td>\n",
       "      <td>2019-09-25 02:00:00</td>\n",
       "      <td>0.0</td>\n",
       "      <td>2019-09-25</td>\n",
       "    </tr>\n",
       "    <tr>\n",
       "      <th>42066</th>\n",
       "      <td>2019-09-25 02:00:00</td>\n",
       "      <td>2019-09-25 03:00:00</td>\n",
       "      <td>0.0</td>\n",
       "      <td>2019-09-25</td>\n",
       "    </tr>\n",
       "    <tr>\n",
       "      <th>42067</th>\n",
       "      <td>2019-09-25 03:00:00</td>\n",
       "      <td>2019-09-25 04:00:00</td>\n",
       "      <td>0.0</td>\n",
       "      <td>2019-09-25</td>\n",
       "    </tr>\n",
       "    <tr>\n",
       "      <th>42068</th>\n",
       "      <td>2019-09-25 04:00:00</td>\n",
       "      <td>2019-09-25 05:00:00</td>\n",
       "      <td>0.0</td>\n",
       "      <td>2019-09-25</td>\n",
       "    </tr>\n",
       "    <tr>\n",
       "      <th>...</th>\n",
       "      <td>...</td>\n",
       "      <td>...</td>\n",
       "      <td>...</td>\n",
       "      <td>...</td>\n",
       "    </tr>\n",
       "    <tr>\n",
       "      <th>8</th>\n",
       "      <td>2014-12-07 17:00:00</td>\n",
       "      <td>2014-12-07 18:00:00</td>\n",
       "      <td>33.0</td>\n",
       "      <td>2014-12-07</td>\n",
       "    </tr>\n",
       "    <tr>\n",
       "      <th>4</th>\n",
       "      <td>2014-12-07 13:00:00</td>\n",
       "      <td>2014-12-07 14:00:00</td>\n",
       "      <td>0.0</td>\n",
       "      <td>2014-12-07</td>\n",
       "    </tr>\n",
       "    <tr>\n",
       "      <th>5</th>\n",
       "      <td>2014-12-07 14:00:00</td>\n",
       "      <td>2014-12-07 15:00:00</td>\n",
       "      <td>0.0</td>\n",
       "      <td>2014-12-07</td>\n",
       "    </tr>\n",
       "    <tr>\n",
       "      <th>7</th>\n",
       "      <td>2014-12-07 16:00:00</td>\n",
       "      <td>2014-12-07 17:00:00</td>\n",
       "      <td>0.0</td>\n",
       "      <td>2014-12-07</td>\n",
       "    </tr>\n",
       "    <tr>\n",
       "      <th>9</th>\n",
       "      <td>2014-12-07 18:00:00</td>\n",
       "      <td>2014-12-07 19:00:00</td>\n",
       "      <td>0.0</td>\n",
       "      <td>2014-12-07</td>\n",
       "    </tr>\n",
       "  </tbody>\n",
       "</table>\n",
       "<p>17540 rows × 4 columns</p>\n",
       "</div>"
      ],
      "text/plain": [
       "                    Start              Finish  Steps (count)        Date\n",
       "42064 2019-09-25 00:00:00 2019-09-25 01:00:00            0.0  2019-09-25\n",
       "42065 2019-09-25 01:00:00 2019-09-25 02:00:00            0.0  2019-09-25\n",
       "42066 2019-09-25 02:00:00 2019-09-25 03:00:00            0.0  2019-09-25\n",
       "42067 2019-09-25 03:00:00 2019-09-25 04:00:00            0.0  2019-09-25\n",
       "42068 2019-09-25 04:00:00 2019-09-25 05:00:00            0.0  2019-09-25\n",
       "...                   ...                 ...            ...         ...\n",
       "8     2014-12-07 17:00:00 2014-12-07 18:00:00           33.0  2014-12-07\n",
       "4     2014-12-07 13:00:00 2014-12-07 14:00:00            0.0  2014-12-07\n",
       "5     2014-12-07 14:00:00 2014-12-07 15:00:00            0.0  2014-12-07\n",
       "7     2014-12-07 16:00:00 2014-12-07 17:00:00            0.0  2014-12-07\n",
       "9     2014-12-07 18:00:00 2014-12-07 19:00:00            0.0  2014-12-07\n",
       "\n",
       "[17540 rows x 4 columns]"
      ]
     },
     "execution_count": 40,
     "metadata": {},
     "output_type": "execute_result"
    }
   ],
   "source": [
    "n_largest_hours = df_method2.sort_values(by=[\"Date\", \"Steps (count)\"], ascending=False).groupby('Date').head(10)\n",
    "n_largest_hours"
   ]
  },
  {
   "cell_type": "markdown",
   "metadata": {},
   "source": [
    "As you can see, we were successful in just get the 10 largest values for each day. Now we just need to sum and find the total for each of the days"
   ]
  },
  {
   "cell_type": "code",
   "execution_count": 41,
   "metadata": {},
   "outputs": [
    {
     "data": {
      "text/html": [
       "<div>\n",
       "<style scoped>\n",
       "    .dataframe tbody tr th:only-of-type {\n",
       "        vertical-align: middle;\n",
       "    }\n",
       "\n",
       "    .dataframe tbody tr th {\n",
       "        vertical-align: top;\n",
       "    }\n",
       "\n",
       "    .dataframe thead th {\n",
       "        text-align: right;\n",
       "    }\n",
       "</style>\n",
       "<table border=\"1\" class=\"dataframe\">\n",
       "  <thead>\n",
       "    <tr style=\"text-align: right;\">\n",
       "      <th></th>\n",
       "      <th>Start</th>\n",
       "      <th>Finish</th>\n",
       "      <th>Steps (count)</th>\n",
       "      <th>Date</th>\n",
       "    </tr>\n",
       "    <tr>\n",
       "      <th>Start</th>\n",
       "      <th></th>\n",
       "      <th></th>\n",
       "      <th></th>\n",
       "      <th></th>\n",
       "    </tr>\n",
       "  </thead>\n",
       "  <tbody>\n",
       "    <tr>\n",
       "      <th>2019-09-25 00:00:00</th>\n",
       "      <td>2019-09-25 00:00:00</td>\n",
       "      <td>2019-09-25 01:00:00</td>\n",
       "      <td>0.0</td>\n",
       "      <td>2019-09-25</td>\n",
       "    </tr>\n",
       "    <tr>\n",
       "      <th>2019-09-25 01:00:00</th>\n",
       "      <td>2019-09-25 01:00:00</td>\n",
       "      <td>2019-09-25 02:00:00</td>\n",
       "      <td>0.0</td>\n",
       "      <td>2019-09-25</td>\n",
       "    </tr>\n",
       "    <tr>\n",
       "      <th>2019-09-25 02:00:00</th>\n",
       "      <td>2019-09-25 02:00:00</td>\n",
       "      <td>2019-09-25 03:00:00</td>\n",
       "      <td>0.0</td>\n",
       "      <td>2019-09-25</td>\n",
       "    </tr>\n",
       "    <tr>\n",
       "      <th>2019-09-25 03:00:00</th>\n",
       "      <td>2019-09-25 03:00:00</td>\n",
       "      <td>2019-09-25 04:00:00</td>\n",
       "      <td>0.0</td>\n",
       "      <td>2019-09-25</td>\n",
       "    </tr>\n",
       "    <tr>\n",
       "      <th>2019-09-25 04:00:00</th>\n",
       "      <td>2019-09-25 04:00:00</td>\n",
       "      <td>2019-09-25 05:00:00</td>\n",
       "      <td>0.0</td>\n",
       "      <td>2019-09-25</td>\n",
       "    </tr>\n",
       "  </tbody>\n",
       "</table>\n",
       "</div>"
      ],
      "text/plain": [
       "                                  Start              Finish  Steps (count)  \\\n",
       "Start                                                                        \n",
       "2019-09-25 00:00:00 2019-09-25 00:00:00 2019-09-25 01:00:00            0.0   \n",
       "2019-09-25 01:00:00 2019-09-25 01:00:00 2019-09-25 02:00:00            0.0   \n",
       "2019-09-25 02:00:00 2019-09-25 02:00:00 2019-09-25 03:00:00            0.0   \n",
       "2019-09-25 03:00:00 2019-09-25 03:00:00 2019-09-25 04:00:00            0.0   \n",
       "2019-09-25 04:00:00 2019-09-25 04:00:00 2019-09-25 05:00:00            0.0   \n",
       "\n",
       "                           Date  \n",
       "Start                            \n",
       "2019-09-25 00:00:00  2019-09-25  \n",
       "2019-09-25 01:00:00  2019-09-25  \n",
       "2019-09-25 02:00:00  2019-09-25  \n",
       "2019-09-25 03:00:00  2019-09-25  \n",
       "2019-09-25 04:00:00  2019-09-25  "
      ]
     },
     "execution_count": 41,
     "metadata": {},
     "output_type": "execute_result"
    }
   ],
   "source": [
    "# Set the date as the column and resample by the date as done in the first method\n",
    "n_largest_hours.index = n_largest_hours['Start']\n",
    "n_largest_hours.head()"
   ]
  },
  {
   "cell_type": "code",
   "execution_count": 42,
   "metadata": {},
   "outputs": [
    {
     "data": {
      "text/html": [
       "<div>\n",
       "<style scoped>\n",
       "    .dataframe tbody tr th:only-of-type {\n",
       "        vertical-align: middle;\n",
       "    }\n",
       "\n",
       "    .dataframe tbody tr th {\n",
       "        vertical-align: top;\n",
       "    }\n",
       "\n",
       "    .dataframe thead th {\n",
       "        text-align: right;\n",
       "    }\n",
       "</style>\n",
       "<table border=\"1\" class=\"dataframe\">\n",
       "  <thead>\n",
       "    <tr style=\"text-align: right;\">\n",
       "      <th></th>\n",
       "      <th>Steps (count)</th>\n",
       "    </tr>\n",
       "    <tr>\n",
       "      <th>Start</th>\n",
       "      <th></th>\n",
       "    </tr>\n",
       "  </thead>\n",
       "  <tbody>\n",
       "    <tr>\n",
       "      <th>2014-12-07</th>\n",
       "      <td>2693.0</td>\n",
       "    </tr>\n",
       "    <tr>\n",
       "      <th>2014-12-08</th>\n",
       "      <td>6550.0</td>\n",
       "    </tr>\n",
       "    <tr>\n",
       "      <th>2014-12-09</th>\n",
       "      <td>6879.0</td>\n",
       "    </tr>\n",
       "    <tr>\n",
       "      <th>2014-12-10</th>\n",
       "      <td>7845.0</td>\n",
       "    </tr>\n",
       "    <tr>\n",
       "      <th>2014-12-11</th>\n",
       "      <td>916.0</td>\n",
       "    </tr>\n",
       "  </tbody>\n",
       "</table>\n",
       "</div>"
      ],
      "text/plain": [
       "            Steps (count)\n",
       "Start                    \n",
       "2014-12-07         2693.0\n",
       "2014-12-08         6550.0\n",
       "2014-12-09         6879.0\n",
       "2014-12-10         7845.0\n",
       "2014-12-11          916.0"
      ]
     },
     "execution_count": 42,
     "metadata": {},
     "output_type": "execute_result"
    }
   ],
   "source": [
    "# Assign the Daily Step Count as a seperate dataframe\n",
    "daily_step_count_method2 = n_largest_hours.resample('D').sum()\n",
    "\n",
    "#Have a look at the creation\n",
    "daily_step_count_method2.head()"
   ]
  },
  {
   "cell_type": "markdown",
   "metadata": {},
   "source": [
    "Using the same strategy as in Method 1, I was successfully able to calculate the daily steps of the user by using the top 10 hours of each day"
   ]
  },
  {
   "cell_type": "code",
   "execution_count": 43,
   "metadata": {},
   "outputs": [
    {
     "data": {
      "text/html": [
       "<div>\n",
       "<style scoped>\n",
       "    .dataframe tbody tr th:only-of-type {\n",
       "        vertical-align: middle;\n",
       "    }\n",
       "\n",
       "    .dataframe tbody tr th {\n",
       "        vertical-align: top;\n",
       "    }\n",
       "\n",
       "    .dataframe thead th {\n",
       "        text-align: right;\n",
       "    }\n",
       "</style>\n",
       "<table border=\"1\" class=\"dataframe\">\n",
       "  <thead>\n",
       "    <tr style=\"text-align: right;\">\n",
       "      <th></th>\n",
       "      <th>Steps (count)</th>\n",
       "    </tr>\n",
       "  </thead>\n",
       "  <tbody>\n",
       "    <tr>\n",
       "      <th>count</th>\n",
       "      <td>1754.000000</td>\n",
       "    </tr>\n",
       "    <tr>\n",
       "      <th>mean</th>\n",
       "      <td>4677.100134</td>\n",
       "    </tr>\n",
       "    <tr>\n",
       "      <th>std</th>\n",
       "      <td>3915.520534</td>\n",
       "    </tr>\n",
       "    <tr>\n",
       "      <th>min</th>\n",
       "      <td>0.000000</td>\n",
       "    </tr>\n",
       "    <tr>\n",
       "      <th>25%</th>\n",
       "      <td>1753.000000</td>\n",
       "    </tr>\n",
       "    <tr>\n",
       "      <th>50%</th>\n",
       "      <td>3975.000000</td>\n",
       "    </tr>\n",
       "    <tr>\n",
       "      <th>75%</th>\n",
       "      <td>6675.919855</td>\n",
       "    </tr>\n",
       "    <tr>\n",
       "      <th>max</th>\n",
       "      <td>28359.000000</td>\n",
       "    </tr>\n",
       "  </tbody>\n",
       "</table>\n",
       "</div>"
      ],
      "text/plain": [
       "       Steps (count)\n",
       "count    1754.000000\n",
       "mean     4677.100134\n",
       "std      3915.520534\n",
       "min         0.000000\n",
       "25%      1753.000000\n",
       "50%      3975.000000\n",
       "75%      6675.919855\n",
       "max     28359.000000"
      ]
     },
     "execution_count": 43,
     "metadata": {},
     "output_type": "execute_result"
    }
   ],
   "source": [
    "#Have a look at some of the details we can find from the daily step counts\n",
    "daily_step_count_method2.describe()"
   ]
  },
  {
   "cell_type": "markdown",
   "metadata": {},
   "source": [
    "From this, we can see the average step count has reduced slightly, 4677 steps a day, with a smaller std of 3915 (which is still quite high). Also the max has reduced slightly to of around 28,000 steps which still looks very high but plausible for a high acitvity day. "
   ]
  },
  {
   "cell_type": "markdown",
   "metadata": {},
   "source": [
    "Just from these intial analysis, taking the top 10 hours of activity as the daily step count doesn't seem to change the results from method 1. More analysis is required."
   ]
  },
  {
   "cell_type": "markdown",
   "metadata": {},
   "source": [
    "## Method 3 - 10 hours in a set window"
   ]
  },
  {
   "cell_type": "markdown",
   "metadata": {},
   "source": [
    "For method 3, we will try and calculate the daily step counts by only taking in daily steps coutns that occured during a 10 hour window of time."
   ]
  },
  {
   "cell_type": "markdown",
   "metadata": {},
   "source": [
    "To start, we should try and identify a good window of time to pick, hopefully the one with the most activity"
   ]
  },
  {
   "cell_type": "code",
   "execution_count": 44,
   "metadata": {},
   "outputs": [],
   "source": [
    "# Create a new df for this method\n",
    "df_method3 = df_user1\n",
    "\n",
    "# Get the hour column from the data (re-using Serena's code)\n",
    "df_method3[\"Hour\"] = df_method3[\"Start\"].dt.hour"
   ]
  },
  {
   "cell_type": "markdown",
   "metadata": {},
   "source": [
    "I want to now calculate the daily number of steps between the hours 10am to 6pm. Firstly, I need to remove all the rows that lie outside that time."
   ]
  },
  {
   "cell_type": "code",
   "execution_count": 45,
   "metadata": {},
   "outputs": [],
   "source": [
    "#Create a mask greater than the start hour and smaller than the end hour\n",
    "start_hour = 10\n",
    "end_hour = 20\n",
    "mask = (df_method3['Hour'] >= start_hour) & (df_method3['Hour'] <= end_hour)"
   ]
  },
  {
   "cell_type": "code",
   "execution_count": 46,
   "metadata": {},
   "outputs": [
    {
     "data": {
      "text/html": [
       "<div>\n",
       "<style scoped>\n",
       "    .dataframe tbody tr th:only-of-type {\n",
       "        vertical-align: middle;\n",
       "    }\n",
       "\n",
       "    .dataframe tbody tr th {\n",
       "        vertical-align: top;\n",
       "    }\n",
       "\n",
       "    .dataframe thead th {\n",
       "        text-align: right;\n",
       "    }\n",
       "</style>\n",
       "<table border=\"1\" class=\"dataframe\">\n",
       "  <thead>\n",
       "    <tr style=\"text-align: right;\">\n",
       "      <th></th>\n",
       "      <th>Start</th>\n",
       "      <th>Finish</th>\n",
       "      <th>Steps (count)</th>\n",
       "      <th>Date</th>\n",
       "      <th>Hour</th>\n",
       "    </tr>\n",
       "  </thead>\n",
       "  <tbody>\n",
       "    <tr>\n",
       "      <th>1</th>\n",
       "      <td>2014-12-07 10:00:00</td>\n",
       "      <td>2014-12-07 11:00:00</td>\n",
       "      <td>408.0</td>\n",
       "      <td>2014-12-07</td>\n",
       "      <td>10</td>\n",
       "    </tr>\n",
       "    <tr>\n",
       "      <th>2</th>\n",
       "      <td>2014-12-07 11:00:00</td>\n",
       "      <td>2014-12-07 12:00:00</td>\n",
       "      <td>157.0</td>\n",
       "      <td>2014-12-07</td>\n",
       "      <td>11</td>\n",
       "    </tr>\n",
       "    <tr>\n",
       "      <th>3</th>\n",
       "      <td>2014-12-07 12:00:00</td>\n",
       "      <td>2014-12-07 13:00:00</td>\n",
       "      <td>1017.0</td>\n",
       "      <td>2014-12-07</td>\n",
       "      <td>12</td>\n",
       "    </tr>\n",
       "    <tr>\n",
       "      <th>4</th>\n",
       "      <td>2014-12-07 13:00:00</td>\n",
       "      <td>2014-12-07 14:00:00</td>\n",
       "      <td>0.0</td>\n",
       "      <td>2014-12-07</td>\n",
       "      <td>13</td>\n",
       "    </tr>\n",
       "    <tr>\n",
       "      <th>5</th>\n",
       "      <td>2014-12-07 14:00:00</td>\n",
       "      <td>2014-12-07 15:00:00</td>\n",
       "      <td>0.0</td>\n",
       "      <td>2014-12-07</td>\n",
       "      <td>14</td>\n",
       "    </tr>\n",
       "  </tbody>\n",
       "</table>\n",
       "</div>"
      ],
      "text/plain": [
       "                Start              Finish  Steps (count)        Date  Hour\n",
       "1 2014-12-07 10:00:00 2014-12-07 11:00:00          408.0  2014-12-07    10\n",
       "2 2014-12-07 11:00:00 2014-12-07 12:00:00          157.0  2014-12-07    11\n",
       "3 2014-12-07 12:00:00 2014-12-07 13:00:00         1017.0  2014-12-07    12\n",
       "4 2014-12-07 13:00:00 2014-12-07 14:00:00            0.0  2014-12-07    13\n",
       "5 2014-12-07 14:00:00 2014-12-07 15:00:00            0.0  2014-12-07    14"
      ]
     },
     "execution_count": 46,
     "metadata": {},
     "output_type": "execute_result"
    }
   ],
   "source": [
    "# Apply mask to df and check results\n",
    "df_method3 = df_method3.loc[mask]\n",
    "\n",
    "df_method3.head()"
   ]
  },
  {
   "cell_type": "markdown",
   "metadata": {},
   "source": [
    "Great, it looks like the mask worked and we are getting the rows starting from the 10th hour"
   ]
  },
  {
   "cell_type": "markdown",
   "metadata": {},
   "source": [
    "Now we can perform the same sets as the other methods to get the daily step counts"
   ]
  },
  {
   "cell_type": "code",
   "execution_count": 47,
   "metadata": {},
   "outputs": [
    {
     "data": {
      "text/html": [
       "<div>\n",
       "<style scoped>\n",
       "    .dataframe tbody tr th:only-of-type {\n",
       "        vertical-align: middle;\n",
       "    }\n",
       "\n",
       "    .dataframe tbody tr th {\n",
       "        vertical-align: top;\n",
       "    }\n",
       "\n",
       "    .dataframe thead th {\n",
       "        text-align: right;\n",
       "    }\n",
       "</style>\n",
       "<table border=\"1\" class=\"dataframe\">\n",
       "  <thead>\n",
       "    <tr style=\"text-align: right;\">\n",
       "      <th></th>\n",
       "      <th>Steps (count)</th>\n",
       "    </tr>\n",
       "    <tr>\n",
       "      <th>Start</th>\n",
       "      <th></th>\n",
       "    </tr>\n",
       "  </thead>\n",
       "  <tbody>\n",
       "    <tr>\n",
       "      <th>2014-12-07</th>\n",
       "      <td>1752.000000</td>\n",
       "    </tr>\n",
       "    <tr>\n",
       "      <th>2014-12-08</th>\n",
       "      <td>6509.000000</td>\n",
       "    </tr>\n",
       "    <tr>\n",
       "      <th>2014-12-09</th>\n",
       "      <td>6176.892578</td>\n",
       "    </tr>\n",
       "    <tr>\n",
       "      <th>2014-12-10</th>\n",
       "      <td>7744.000000</td>\n",
       "    </tr>\n",
       "    <tr>\n",
       "      <th>2014-12-11</th>\n",
       "      <td>719.000000</td>\n",
       "    </tr>\n",
       "  </tbody>\n",
       "</table>\n",
       "</div>"
      ],
      "text/plain": [
       "            Steps (count)\n",
       "Start                    \n",
       "2014-12-07    1752.000000\n",
       "2014-12-08    6509.000000\n",
       "2014-12-09    6176.892578\n",
       "2014-12-10    7744.000000\n",
       "2014-12-11     719.000000"
      ]
     },
     "execution_count": 47,
     "metadata": {},
     "output_type": "execute_result"
    }
   ],
   "source": [
    "#Re-index the df\n",
    "df_method3.index = df_method3['Start']\n",
    "\n",
    "# Assign the Daily Step Count as a seperate dataframe\n",
    "daily_step_count_method3 = df_method3.drop(['Hour'], axis=1).resample('D').sum()\n",
    "\n",
    "#Have a look at the creation\n",
    "daily_step_count_method3.head()"
   ]
  },
  {
   "cell_type": "markdown",
   "metadata": {},
   "source": [
    "Great, looks like the procedures all work, now we can do some simple analysis to compare"
   ]
  },
  {
   "cell_type": "code",
   "execution_count": 48,
   "metadata": {},
   "outputs": [
    {
     "data": {
      "text/html": [
       "<div>\n",
       "<style scoped>\n",
       "    .dataframe tbody tr th:only-of-type {\n",
       "        vertical-align: middle;\n",
       "    }\n",
       "\n",
       "    .dataframe tbody tr th {\n",
       "        vertical-align: top;\n",
       "    }\n",
       "\n",
       "    .dataframe thead th {\n",
       "        text-align: right;\n",
       "    }\n",
       "</style>\n",
       "<table border=\"1\" class=\"dataframe\">\n",
       "  <thead>\n",
       "    <tr style=\"text-align: right;\">\n",
       "      <th></th>\n",
       "      <th>Steps (count)</th>\n",
       "    </tr>\n",
       "  </thead>\n",
       "  <tbody>\n",
       "    <tr>\n",
       "      <th>count</th>\n",
       "      <td>1754.000000</td>\n",
       "    </tr>\n",
       "    <tr>\n",
       "      <th>mean</th>\n",
       "      <td>3389.789295</td>\n",
       "    </tr>\n",
       "    <tr>\n",
       "      <th>std</th>\n",
       "      <td>3045.602837</td>\n",
       "    </tr>\n",
       "    <tr>\n",
       "      <th>min</th>\n",
       "      <td>0.000000</td>\n",
       "    </tr>\n",
       "    <tr>\n",
       "      <th>25%</th>\n",
       "      <td>791.991845</td>\n",
       "    </tr>\n",
       "    <tr>\n",
       "      <th>50%</th>\n",
       "      <td>2896.736473</td>\n",
       "    </tr>\n",
       "    <tr>\n",
       "      <th>75%</th>\n",
       "      <td>5087.750000</td>\n",
       "    </tr>\n",
       "    <tr>\n",
       "      <th>max</th>\n",
       "      <td>19829.102528</td>\n",
       "    </tr>\n",
       "  </tbody>\n",
       "</table>\n",
       "</div>"
      ],
      "text/plain": [
       "       Steps (count)\n",
       "count    1754.000000\n",
       "mean     3389.789295\n",
       "std      3045.602837\n",
       "min         0.000000\n",
       "25%       791.991845\n",
       "50%      2896.736473\n",
       "75%      5087.750000\n",
       "max     19829.102528"
      ]
     },
     "execution_count": 48,
     "metadata": {},
     "output_type": "execute_result"
    }
   ],
   "source": [
    "#Have a look at some of the details we can find from the daily step counts\n",
    "daily_step_count_method3.describe()"
   ]
  },
  {
   "cell_type": "markdown",
   "metadata": {},
   "source": [
    "From this, we can see the average step count has reduced a lot to 3389 steps a day, with a smaller std of 3045. Also the max has reduced a lot to of around 20,000 steps.\n",
    "\n",
    "As such, it looks like this time window had a big impact on how we caluculate the daily step data of a user and would be useful to use to compare how the resulting analysis will change with the different daily step count methods"
   ]
  },
  {
   "cell_type": "markdown",
   "metadata": {},
   "source": [
    "## Data Pipeline"
   ]
  },
  {
   "cell_type": "markdown",
   "metadata": {},
   "source": [
    "Now that we have our 3 methods created, it is now my aim to create a function that will convert any input dataset into the daily_step_count df using the 3 methods described."
   ]
  },
  {
   "cell_type": "markdown",
   "metadata": {},
   "source": [
    "Creating a function for the first method"
   ]
  },
  {
   "cell_type": "code",
   "execution_count": 49,
   "metadata": {},
   "outputs": [],
   "source": [
    "def run_method_1(df, time_format, start_col_name):\n",
    "    df[start_col_name] = pd.to_datetime(df[start_col_name],format=time_format)\n",
    "    df.index = df[start_col_name]\n",
    "    daily_step_count = df.resample('D').sum()\n",
    "    \n",
    "    return(daily_step_count)"
   ]
  },
  {
   "cell_type": "code",
   "execution_count": 50,
   "metadata": {},
   "outputs": [
    {
     "data": {
      "text/html": [
       "<div>\n",
       "<style scoped>\n",
       "    .dataframe tbody tr th:only-of-type {\n",
       "        vertical-align: middle;\n",
       "    }\n",
       "\n",
       "    .dataframe tbody tr th {\n",
       "        vertical-align: top;\n",
       "    }\n",
       "\n",
       "    .dataframe thead th {\n",
       "        text-align: right;\n",
       "    }\n",
       "</style>\n",
       "<table border=\"1\" class=\"dataframe\">\n",
       "  <thead>\n",
       "    <tr style=\"text-align: right;\">\n",
       "      <th></th>\n",
       "      <th>Steps (count)</th>\n",
       "    </tr>\n",
       "    <tr>\n",
       "      <th>Start</th>\n",
       "      <th></th>\n",
       "    </tr>\n",
       "  </thead>\n",
       "  <tbody>\n",
       "    <tr>\n",
       "      <th>2014-12-07</th>\n",
       "      <td>2693.0</td>\n",
       "    </tr>\n",
       "    <tr>\n",
       "      <th>2014-12-08</th>\n",
       "      <td>6567.0</td>\n",
       "    </tr>\n",
       "    <tr>\n",
       "      <th>2014-12-09</th>\n",
       "      <td>6879.0</td>\n",
       "    </tr>\n",
       "    <tr>\n",
       "      <th>2014-12-10</th>\n",
       "      <td>7845.0</td>\n",
       "    </tr>\n",
       "    <tr>\n",
       "      <th>2014-12-11</th>\n",
       "      <td>916.0</td>\n",
       "    </tr>\n",
       "  </tbody>\n",
       "</table>\n",
       "</div>"
      ],
      "text/plain": [
       "            Steps (count)\n",
       "Start                    \n",
       "2014-12-07         2693.0\n",
       "2014-12-08         6567.0\n",
       "2014-12-09         6879.0\n",
       "2014-12-10         7845.0\n",
       "2014-12-11          916.0"
      ]
     },
     "execution_count": 50,
     "metadata": {},
     "output_type": "execute_result"
    }
   ],
   "source": [
    "# Test the above function using raw data\n",
    "user1 = pd.read_csv(\"../../data/Participant_ID_A/User1.csv\")\n",
    "\n",
    "time_format = '%d-%b-%Y %H:%M'\n",
    "start_col_name = 'Start'\n",
    "\n",
    "user1_method1 = run_method_1(user1, time_format, start_col_name)\n",
    "user1_method1.head()"
   ]
  },
  {
   "cell_type": "markdown",
   "metadata": {},
   "source": [
    "We can see that the function work as expected. Now to create and test for the other two methods."
   ]
  },
  {
   "cell_type": "code",
   "execution_count": 51,
   "metadata": {},
   "outputs": [],
   "source": [
    "def run_method_2(df, time_format, start_col_name, step_count_col):\n",
    "    df[start_col_name] = pd.to_datetime(df[start_col_name],format=time_format)\n",
    "    \n",
    "    df[\"Date\"] = df[start_col_name].dt.date\n",
    "    df2 = df.sort_values(by=[\"Date\", step_count_col], ascending=False).groupby('Date').head(10)\n",
    "\n",
    "    df2.index = df2[start_col_name]\n",
    "    daily_step_count = df2.resample('D').sum()\n",
    "    \n",
    "    return(daily_step_count)"
   ]
  },
  {
   "cell_type": "code",
   "execution_count": 52,
   "metadata": {},
   "outputs": [
    {
     "data": {
      "text/html": [
       "<div>\n",
       "<style scoped>\n",
       "    .dataframe tbody tr th:only-of-type {\n",
       "        vertical-align: middle;\n",
       "    }\n",
       "\n",
       "    .dataframe tbody tr th {\n",
       "        vertical-align: top;\n",
       "    }\n",
       "\n",
       "    .dataframe thead th {\n",
       "        text-align: right;\n",
       "    }\n",
       "</style>\n",
       "<table border=\"1\" class=\"dataframe\">\n",
       "  <thead>\n",
       "    <tr style=\"text-align: right;\">\n",
       "      <th></th>\n",
       "      <th>Steps (count)</th>\n",
       "    </tr>\n",
       "    <tr>\n",
       "      <th>Start</th>\n",
       "      <th></th>\n",
       "    </tr>\n",
       "  </thead>\n",
       "  <tbody>\n",
       "    <tr>\n",
       "      <th>2014-12-07</th>\n",
       "      <td>2693.0</td>\n",
       "    </tr>\n",
       "    <tr>\n",
       "      <th>2014-12-08</th>\n",
       "      <td>6550.0</td>\n",
       "    </tr>\n",
       "    <tr>\n",
       "      <th>2014-12-09</th>\n",
       "      <td>6879.0</td>\n",
       "    </tr>\n",
       "    <tr>\n",
       "      <th>2014-12-10</th>\n",
       "      <td>7845.0</td>\n",
       "    </tr>\n",
       "    <tr>\n",
       "      <th>2014-12-11</th>\n",
       "      <td>916.0</td>\n",
       "    </tr>\n",
       "  </tbody>\n",
       "</table>\n",
       "</div>"
      ],
      "text/plain": [
       "            Steps (count)\n",
       "Start                    \n",
       "2014-12-07         2693.0\n",
       "2014-12-08         6550.0\n",
       "2014-12-09         6879.0\n",
       "2014-12-10         7845.0\n",
       "2014-12-11          916.0"
      ]
     },
     "execution_count": 52,
     "metadata": {},
     "output_type": "execute_result"
    }
   ],
   "source": [
    "# Test the above function using raw data\n",
    "time_format = '%d-%b-%Y %H:%M'\n",
    "start_col_name = 'Start'\n",
    "step_count_col = 'Steps (count)'\n",
    "\n",
    "user1_method2 = run_method_2(user1, time_format, start_col_name,step_count_col)\n",
    "user1_method2.head()"
   ]
  },
  {
   "cell_type": "markdown",
   "metadata": {},
   "source": [
    "Works as expected. Now for the final function."
   ]
  },
  {
   "cell_type": "code",
   "execution_count": 53,
   "metadata": {},
   "outputs": [],
   "source": [
    "def run_method_3(df, time_format, start_col_name, start_hour, end_hour):\n",
    "    df[start_col_name] = pd.to_datetime(df[start_col_name],format=time_format)\n",
    "    \n",
    "    df[\"Hour\"] = df[start_col_name].dt.hour\n",
    "    mask = (df['Hour'] >= start_hour) & (df['Hour'] <= end_hour)\n",
    "    df = df.loc[mask]\n",
    "\n",
    "    df.index = df[start_col_name]\n",
    "    daily_step_count = df.drop(['Hour'], axis=1).resample('D').sum()\n",
    "    \n",
    "    return(daily_step_count)"
   ]
  },
  {
   "cell_type": "code",
   "execution_count": 54,
   "metadata": {},
   "outputs": [
    {
     "data": {
      "text/html": [
       "<div>\n",
       "<style scoped>\n",
       "    .dataframe tbody tr th:only-of-type {\n",
       "        vertical-align: middle;\n",
       "    }\n",
       "\n",
       "    .dataframe tbody tr th {\n",
       "        vertical-align: top;\n",
       "    }\n",
       "\n",
       "    .dataframe thead th {\n",
       "        text-align: right;\n",
       "    }\n",
       "</style>\n",
       "<table border=\"1\" class=\"dataframe\">\n",
       "  <thead>\n",
       "    <tr style=\"text-align: right;\">\n",
       "      <th></th>\n",
       "      <th>Steps (count)</th>\n",
       "    </tr>\n",
       "    <tr>\n",
       "      <th>Start</th>\n",
       "      <th></th>\n",
       "    </tr>\n",
       "  </thead>\n",
       "  <tbody>\n",
       "    <tr>\n",
       "      <th>2014-12-07</th>\n",
       "      <td>1752.000000</td>\n",
       "    </tr>\n",
       "    <tr>\n",
       "      <th>2014-12-08</th>\n",
       "      <td>6509.000000</td>\n",
       "    </tr>\n",
       "    <tr>\n",
       "      <th>2014-12-09</th>\n",
       "      <td>6176.892578</td>\n",
       "    </tr>\n",
       "    <tr>\n",
       "      <th>2014-12-10</th>\n",
       "      <td>7744.000000</td>\n",
       "    </tr>\n",
       "    <tr>\n",
       "      <th>2014-12-11</th>\n",
       "      <td>719.000000</td>\n",
       "    </tr>\n",
       "  </tbody>\n",
       "</table>\n",
       "</div>"
      ],
      "text/plain": [
       "            Steps (count)\n",
       "Start                    \n",
       "2014-12-07    1752.000000\n",
       "2014-12-08    6509.000000\n",
       "2014-12-09    6176.892578\n",
       "2014-12-10    7744.000000\n",
       "2014-12-11     719.000000"
      ]
     },
     "execution_count": 54,
     "metadata": {},
     "output_type": "execute_result"
    }
   ],
   "source": [
    "# Test the above function using raw data\n",
    "time_format = '%d-%b-%Y %H:%M'\n",
    "start_col_name = 'Start'\n",
    "start_hour = 10\n",
    "end_hour = 20\n",
    "\n",
    "user1_method3 = run_method_3(user1, time_format, start_col_name,start_hour, end_hour)\n",
    "user1_method3.head()"
   ]
  },
  {
   "cell_type": "markdown",
   "metadata": {},
   "source": [
    "Function looks to be working as expected"
   ]
  },
  {
   "cell_type": "markdown",
   "metadata": {},
   "source": [
    "Using these function, the next step would be to test them on new datasets when they come in to see they they really can be generalised to any dataset that has been formated to a useable standard."
   ]
  },
  {
   "cell_type": "code",
   "execution_count": null,
   "metadata": {},
   "outputs": [],
   "source": []
  }
 ],
 "metadata": {
  "kernelspec": {
   "display_name": "Python 3",
   "language": "python",
   "name": "python3"
  },
  "language_info": {
   "codemirror_mode": {
    "name": "ipython",
    "version": 3
   },
   "file_extension": ".py",
   "mimetype": "text/x-python",
   "name": "python",
   "nbconvert_exporter": "python",
   "pygments_lexer": "ipython3",
   "version": "3.7.3"
  }
 },
 "nbformat": 4,
 "nbformat_minor": 2
}
