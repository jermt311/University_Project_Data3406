{
 "cells": [
  {
   "cell_type": "markdown",
   "metadata": {},
   "source": [
    "# Daily Step Count Methods V3"
   ]
  },
  {
   "cell_type": "markdown",
   "metadata": {},
   "source": [
    "Workbook created by Benjamin Winiarski, re-using code from serval other notebooks."
   ]
  },
  {
   "cell_type": "markdown",
   "metadata": {},
   "source": [
    "Goal of this workbook is to create a pipeline of functions to that will transform any dataset into a daily step count table with different calculation methods and the adherence added to it"
   ]
  },
  {
   "cell_type": "code",
   "execution_count": 1,
   "metadata": {},
   "outputs": [],
   "source": [
    "# Importing required functions\n",
    "import pandas as pd\n",
    "import numpy as np\n",
    "from datetime import datetime"
   ]
  },
  {
   "cell_type": "markdown",
   "metadata": {},
   "source": [
    "Loading in the reading data functions that were created in Martin's notebooks"
   ]
  },
  {
   "cell_type": "code",
   "execution_count": 2,
   "metadata": {},
   "outputs": [],
   "source": [
    "def read_CLEAN_data(filename):\n",
    "    #Read in CSV file\n",
    "    dat = pd.read_csv(filename)\n",
    "    #Convert datetimes\n",
    "    dat[\"Date\"] = pd.to_datetime(dat[\"Date\"], format = '%Y-%m-%d').dt.date\n",
    "    \n",
    "    return dat"
   ]
  },
  {
   "cell_type": "markdown",
   "metadata": {},
   "source": [
    "Load in the adherence measures from Stanley's code"
   ]
  },
  {
   "cell_type": "code",
   "execution_count": 11,
   "metadata": {},
   "outputs": [],
   "source": [
    "# 10 hours of non zeroes \n",
    "def ten_hours_non_zeros(df,hours):\n",
    "    df1 = df.copy()\n",
    "    df1['Not Zero'] = df1['Steps'] > 0\n",
    "    df1 = df1.groupby('Date').sum()\n",
    "    df1 = df1['Not Zero'] > hours \n",
    "    return df1\n",
    "\n",
    "#Greater than 500 steps\n",
    "def greater_than_certain_steps(df,min_steps):\n",
    "    df1 = df.copy()\n",
    "    df1 = df1.groupby('Date').sum()\n",
    "    df1 = df1['Steps']> min_steps\n",
    "    return df1 \n",
    "\n",
    "#Active in 3 time blocks \n",
    "def three_time_blocks(df):\n",
    "    df1 = df.copy()\n",
    "    bins = [-1,2,10,14,25,np.inf]\n",
    "    names = ['3','1','2', '4', '5']\n",
    "    df1['3timeblock'] = pd.cut(df1['Hour'],bins, labels = names)\n",
    "    df1 = df1.replace({'3timeblock':r'4'},{'3timeblock':'3'},regex = True)\n",
    "    df1 = df1.replace({'3timeblock':r'5'},{'3timeblock':'3'},regex = True)\n",
    "    df1 = df1.groupby(['Date','3timeblock'], as_index=False)['Steps'].sum()\n",
    "    df1['Steps within timeblock'] = df1['Steps']> 0 \n",
    "    df1 = df1.groupby('Date').sum()\n",
    "    df1 = df1['Steps within timeblock'] ==3 \n",
    "    return df1\n",
    "\n",
    "#Combining it all into 1 dataframe\n",
    "def three_method_table(x):\n",
    "    valid_1= ten_hours_non_zeros(x,10)\n",
    "    valid_2= greater_than_certain_steps(x,500)\n",
    "    valid_3= three_time_blocks(x)\n",
    "    result = pd.concat([valid_1,valid_2,valid_3], axis=1, join='inner')\n",
    "    result.reset_index(level=0, inplace=True)\n",
    "    result.columns = [\"Date\", \"Ten Hours Non Zero\",\"Steps > Five Hundred\",\"Three Timeblock\"]\n",
    "    result['All Three True'] = result[\"Three Timeblock\"]&result[\"Ten Hours Non Zero\"]&result[\"Steps > Five Hundred\"]\n",
    "    result_sum = result.sum()\n",
    "    return result , result_sum"
   ]
  },
  {
   "cell_type": "code",
   "execution_count": 12,
   "metadata": {},
   "outputs": [
    {
     "data": {
      "text/html": [
       "<div>\n",
       "<style scoped>\n",
       "    .dataframe tbody tr th:only-of-type {\n",
       "        vertical-align: middle;\n",
       "    }\n",
       "\n",
       "    .dataframe tbody tr th {\n",
       "        vertical-align: top;\n",
       "    }\n",
       "\n",
       "    .dataframe thead th {\n",
       "        text-align: right;\n",
       "    }\n",
       "</style>\n",
       "<table border=\"1\" class=\"dataframe\">\n",
       "  <thead>\n",
       "    <tr style=\"text-align: right;\">\n",
       "      <th></th>\n",
       "      <th>Date</th>\n",
       "      <th>Hour</th>\n",
       "      <th>Steps</th>\n",
       "    </tr>\n",
       "  </thead>\n",
       "  <tbody>\n",
       "    <tr>\n",
       "      <th>0</th>\n",
       "      <td>2014-12-07</td>\n",
       "      <td>9</td>\n",
       "      <td>941.0</td>\n",
       "    </tr>\n",
       "    <tr>\n",
       "      <th>1</th>\n",
       "      <td>2014-12-07</td>\n",
       "      <td>10</td>\n",
       "      <td>408.0</td>\n",
       "    </tr>\n",
       "    <tr>\n",
       "      <th>2</th>\n",
       "      <td>2014-12-07</td>\n",
       "      <td>11</td>\n",
       "      <td>157.0</td>\n",
       "    </tr>\n",
       "    <tr>\n",
       "      <th>3</th>\n",
       "      <td>2014-12-07</td>\n",
       "      <td>12</td>\n",
       "      <td>1017.0</td>\n",
       "    </tr>\n",
       "    <tr>\n",
       "      <th>4</th>\n",
       "      <td>2014-12-07</td>\n",
       "      <td>13</td>\n",
       "      <td>0.0</td>\n",
       "    </tr>\n",
       "  </tbody>\n",
       "</table>\n",
       "</div>"
      ],
      "text/plain": [
       "         Date  Hour   Steps\n",
       "0  2014-12-07     9   941.0\n",
       "1  2014-12-07    10   408.0\n",
       "2  2014-12-07    11   157.0\n",
       "3  2014-12-07    12  1017.0\n",
       "4  2014-12-07    13     0.0"
      ]
     },
     "execution_count": 12,
     "metadata": {},
     "output_type": "execute_result"
    }
   ],
   "source": [
    "filename = \"../../data/cleaned/User1.csv\"\n",
    "df = read_CLEAN_data(filename)\n",
    "df.head()"
   ]
  },
  {
   "cell_type": "code",
   "execution_count": 13,
   "metadata": {},
   "outputs": [
    {
     "data": {
      "text/html": [
       "<div>\n",
       "<style scoped>\n",
       "    .dataframe tbody tr th:only-of-type {\n",
       "        vertical-align: middle;\n",
       "    }\n",
       "\n",
       "    .dataframe tbody tr th {\n",
       "        vertical-align: top;\n",
       "    }\n",
       "\n",
       "    .dataframe thead th {\n",
       "        text-align: right;\n",
       "    }\n",
       "</style>\n",
       "<table border=\"1\" class=\"dataframe\">\n",
       "  <thead>\n",
       "    <tr style=\"text-align: right;\">\n",
       "      <th></th>\n",
       "      <th>Date</th>\n",
       "      <th>Ten Hours Non Zero</th>\n",
       "      <th>Steps &gt; Five Hundred</th>\n",
       "      <th>Three Timeblock</th>\n",
       "      <th>All Three True</th>\n",
       "    </tr>\n",
       "  </thead>\n",
       "  <tbody>\n",
       "    <tr>\n",
       "      <th>0</th>\n",
       "      <td>2014-12-07</td>\n",
       "      <td>False</td>\n",
       "      <td>True</td>\n",
       "      <td>True</td>\n",
       "      <td>False</td>\n",
       "    </tr>\n",
       "    <tr>\n",
       "      <th>1</th>\n",
       "      <td>2014-12-08</td>\n",
       "      <td>True</td>\n",
       "      <td>True</td>\n",
       "      <td>True</td>\n",
       "      <td>True</td>\n",
       "    </tr>\n",
       "    <tr>\n",
       "      <th>2</th>\n",
       "      <td>2014-12-09</td>\n",
       "      <td>False</td>\n",
       "      <td>True</td>\n",
       "      <td>True</td>\n",
       "      <td>False</td>\n",
       "    </tr>\n",
       "    <tr>\n",
       "      <th>3</th>\n",
       "      <td>2014-12-10</td>\n",
       "      <td>False</td>\n",
       "      <td>True</td>\n",
       "      <td>True</td>\n",
       "      <td>False</td>\n",
       "    </tr>\n",
       "    <tr>\n",
       "      <th>4</th>\n",
       "      <td>2014-12-11</td>\n",
       "      <td>False</td>\n",
       "      <td>True</td>\n",
       "      <td>False</td>\n",
       "      <td>False</td>\n",
       "    </tr>\n",
       "  </tbody>\n",
       "</table>\n",
       "</div>"
      ],
      "text/plain": [
       "         Date  Ten Hours Non Zero  Steps > Five Hundred  Three Timeblock  \\\n",
       "0  2014-12-07               False                  True             True   \n",
       "1  2014-12-08                True                  True             True   \n",
       "2  2014-12-09               False                  True             True   \n",
       "3  2014-12-10               False                  True             True   \n",
       "4  2014-12-11               False                  True            False   \n",
       "\n",
       "   All Three True  \n",
       "0           False  \n",
       "1            True  \n",
       "2           False  \n",
       "3           False  \n",
       "4           False  "
      ]
     },
     "execution_count": 13,
     "metadata": {},
     "output_type": "execute_result"
    }
   ],
   "source": [
    "df2 = three_method_table(df)[0]\n",
    "df2.head()"
   ]
  },
  {
   "cell_type": "code",
   "execution_count": 14,
   "metadata": {},
   "outputs": [
    {
     "data": {
      "text/html": [
       "<div>\n",
       "<style scoped>\n",
       "    .dataframe tbody tr th:only-of-type {\n",
       "        vertical-align: middle;\n",
       "    }\n",
       "\n",
       "    .dataframe tbody tr th {\n",
       "        vertical-align: top;\n",
       "    }\n",
       "\n",
       "    .dataframe thead th {\n",
       "        text-align: right;\n",
       "    }\n",
       "</style>\n",
       "<table border=\"1\" class=\"dataframe\">\n",
       "  <thead>\n",
       "    <tr style=\"text-align: right;\">\n",
       "      <th></th>\n",
       "      <th>Date</th>\n",
       "      <th>Hour</th>\n",
       "      <th>Steps</th>\n",
       "      <th>Ten Hours Non Zero</th>\n",
       "      <th>Steps &gt; Five Hundred</th>\n",
       "      <th>Three Timeblock</th>\n",
       "      <th>All Three True</th>\n",
       "    </tr>\n",
       "  </thead>\n",
       "  <tbody>\n",
       "    <tr>\n",
       "      <th>0</th>\n",
       "      <td>2014-12-07</td>\n",
       "      <td>9</td>\n",
       "      <td>941.0</td>\n",
       "      <td>False</td>\n",
       "      <td>True</td>\n",
       "      <td>True</td>\n",
       "      <td>False</td>\n",
       "    </tr>\n",
       "    <tr>\n",
       "      <th>1</th>\n",
       "      <td>2014-12-07</td>\n",
       "      <td>10</td>\n",
       "      <td>408.0</td>\n",
       "      <td>False</td>\n",
       "      <td>True</td>\n",
       "      <td>True</td>\n",
       "      <td>False</td>\n",
       "    </tr>\n",
       "    <tr>\n",
       "      <th>2</th>\n",
       "      <td>2014-12-07</td>\n",
       "      <td>11</td>\n",
       "      <td>157.0</td>\n",
       "      <td>False</td>\n",
       "      <td>True</td>\n",
       "      <td>True</td>\n",
       "      <td>False</td>\n",
       "    </tr>\n",
       "    <tr>\n",
       "      <th>3</th>\n",
       "      <td>2014-12-07</td>\n",
       "      <td>12</td>\n",
       "      <td>1017.0</td>\n",
       "      <td>False</td>\n",
       "      <td>True</td>\n",
       "      <td>True</td>\n",
       "      <td>False</td>\n",
       "    </tr>\n",
       "    <tr>\n",
       "      <th>4</th>\n",
       "      <td>2014-12-07</td>\n",
       "      <td>13</td>\n",
       "      <td>0.0</td>\n",
       "      <td>False</td>\n",
       "      <td>True</td>\n",
       "      <td>True</td>\n",
       "      <td>False</td>\n",
       "    </tr>\n",
       "  </tbody>\n",
       "</table>\n",
       "</div>"
      ],
      "text/plain": [
       "         Date  Hour   Steps  Ten Hours Non Zero  Steps > Five Hundred  \\\n",
       "0  2014-12-07     9   941.0               False                  True   \n",
       "1  2014-12-07    10   408.0               False                  True   \n",
       "2  2014-12-07    11   157.0               False                  True   \n",
       "3  2014-12-07    12  1017.0               False                  True   \n",
       "4  2014-12-07    13     0.0               False                  True   \n",
       "\n",
       "   Three Timeblock  All Three True  \n",
       "0             True           False  \n",
       "1             True           False  \n",
       "2             True           False  \n",
       "3             True           False  \n",
       "4             True           False  "
      ]
     },
     "execution_count": 14,
     "metadata": {},
     "output_type": "execute_result"
    }
   ],
   "source": [
    "df3 = df.merge(df2,on ='Date')\n",
    "df3.head()"
   ]
  },
  {
   "cell_type": "markdown",
   "metadata": {},
   "source": [
    "## Create a Function to return the daily steps with one of the adherence measures used"
   ]
  },
  {
   "cell_type": "code",
   "execution_count": 15,
   "metadata": {},
   "outputs": [],
   "source": [
    "def filter_by_adherence(df, measure):\n",
    "    df2 = three_method_table(df)[0]\n",
    "    df3 = df.merge(df2,on ='Date')\n",
    "    if(measure == 1):\n",
    "        mask = (df3['Ten Hours Non Zero'] == True)\n",
    "    elif(measure == 2):\n",
    "        mask = (df3['Steps > Five Hundred'] == True)\n",
    "    elif(measure == 3):\n",
    "        mask = (df3['Three Timeblock'] == True)    \n",
    "    elif(measure == 4):\n",
    "        mask = (df3['All Three True'] == True)\n",
    "    filtered_df = df3.loc[mask].drop(['Ten Hours Non Zero', 'Steps > Five Hundred', 'Three Timeblock', 'All Three True'], axis=1)\n",
    "    #filtered_df = filtered_df.drop('index', axis=1)\n",
    "    return filtered_df"
   ]
  },
  {
   "cell_type": "markdown",
   "metadata": {},
   "source": [
    "Test filter function"
   ]
  },
  {
   "cell_type": "code",
   "execution_count": 16,
   "metadata": {},
   "outputs": [
    {
     "data": {
      "text/html": [
       "<div>\n",
       "<style scoped>\n",
       "    .dataframe tbody tr th:only-of-type {\n",
       "        vertical-align: middle;\n",
       "    }\n",
       "\n",
       "    .dataframe tbody tr th {\n",
       "        vertical-align: top;\n",
       "    }\n",
       "\n",
       "    .dataframe thead th {\n",
       "        text-align: right;\n",
       "    }\n",
       "</style>\n",
       "<table border=\"1\" class=\"dataframe\">\n",
       "  <thead>\n",
       "    <tr style=\"text-align: right;\">\n",
       "      <th></th>\n",
       "      <th>Date</th>\n",
       "      <th>Hour</th>\n",
       "      <th>Steps</th>\n",
       "    </tr>\n",
       "  </thead>\n",
       "  <tbody>\n",
       "    <tr>\n",
       "      <th>15</th>\n",
       "      <td>2014-12-08</td>\n",
       "      <td>0</td>\n",
       "      <td>0.0</td>\n",
       "    </tr>\n",
       "    <tr>\n",
       "      <th>16</th>\n",
       "      <td>2014-12-08</td>\n",
       "      <td>1</td>\n",
       "      <td>0.0</td>\n",
       "    </tr>\n",
       "    <tr>\n",
       "      <th>17</th>\n",
       "      <td>2014-12-08</td>\n",
       "      <td>2</td>\n",
       "      <td>0.0</td>\n",
       "    </tr>\n",
       "    <tr>\n",
       "      <th>18</th>\n",
       "      <td>2014-12-08</td>\n",
       "      <td>3</td>\n",
       "      <td>0.0</td>\n",
       "    </tr>\n",
       "    <tr>\n",
       "      <th>19</th>\n",
       "      <td>2014-12-08</td>\n",
       "      <td>4</td>\n",
       "      <td>0.0</td>\n",
       "    </tr>\n",
       "  </tbody>\n",
       "</table>\n",
       "</div>"
      ],
      "text/plain": [
       "          Date  Hour  Steps\n",
       "15  2014-12-08     0    0.0\n",
       "16  2014-12-08     1    0.0\n",
       "17  2014-12-08     2    0.0\n",
       "18  2014-12-08     3    0.0\n",
       "19  2014-12-08     4    0.0"
      ]
     },
     "execution_count": 16,
     "metadata": {},
     "output_type": "execute_result"
    }
   ],
   "source": [
    "filename = \"../../data/cleaned/User1.csv\"\n",
    "df = read_CLEAN_data(filename)\n",
    "measure = 1\n",
    "df2 = filter_by_adherence(df, measure)\n",
    "df2.head()"
   ]
  },
  {
   "cell_type": "markdown",
   "metadata": {},
   "source": [
    "Works, so create the full function"
   ]
  },
  {
   "cell_type": "code",
   "execution_count": 26,
   "metadata": {},
   "outputs": [],
   "source": [
    "# First I need my method functions\n",
    "\n",
    "# Method 1 calculates daily steps based on all the step activity that is available during the day\n",
    "def all_step_activity(df):\n",
    "    df = df.copy()\n",
    "    df[\"Date\"] = pd.to_datetime(df[\"Date\"],format='%Y-%m-%d')\n",
    "    df.index = df[\"Date\"]\n",
    "    daily_step_count = df.drop(['Hour'], axis=1).resample('D').sum(min_count=1).dropna().reset_index()\n",
    "    \n",
    "    return(daily_step_count)\n",
    "\n",
    "# Method 2 calculates daily steps based on the 10 most active hours of the day\n",
    "def top_ten_most_active_hours(df):\n",
    "    df = df.copy()\n",
    "    df = df.sort_values(by=[\"Date\", \"Steps\"], ascending=False).groupby('Date').head(10)\n",
    "    df[\"Date\"] = pd.to_datetime(df[\"Date\"],format='%Y-%m-%d')\n",
    "    df.index = df[\"Date\"]\n",
    "    daily_step_count = df.drop(['Hour'], axis=1).resample('D').sum(min_count=1).dropna().reset_index()\n",
    "    \n",
    "    return(daily_step_count)\n",
    "\n",
    "# Method 3 calculates daily steps based on a 10 hour time block during the day\n",
    "def ten_hour_time_block(df, start_hour, end_hour):\n",
    "    df = df.copy()\n",
    "    df[\"Date\"] = pd.to_datetime(df[\"Date\"],format='%Y-%m-%d')\n",
    "    mask = (df['Hour'] >= start_hour) & (df['Hour'] <= end_hour)\n",
    "    df = df.loc[mask]\n",
    "    df.index = df[\"Date\"]\n",
    "    daily_step_count = df.drop(['Hour'], axis=1).resample('D').sum(min_count=1).dropna().reset_index()\n",
    "    \n",
    "    return(daily_step_count)"
   ]
  },
  {
   "cell_type": "code",
   "execution_count": 27,
   "metadata": {},
   "outputs": [
    {
     "data": {
      "text/plain": [
       "Date\n",
       "2014-12-08    True\n",
       "2014-12-12    True\n",
       "2014-12-17    True\n",
       "2014-12-25    True\n",
       "2015-01-05    True\n",
       "Name: Not Zero, dtype: bool"
      ]
     },
     "execution_count": 27,
     "metadata": {},
     "output_type": "execute_result"
    }
   ],
   "source": [
    "# Test the methods out\n",
    "dailysteps1 = ten_hours_non_zeros(df2, 10)\n",
    "dailysteps1.head()"
   ]
  },
  {
   "cell_type": "markdown",
   "metadata": {},
   "source": [
    "Method looks to work well"
   ]
  },
  {
   "cell_type": "markdown",
   "metadata": {},
   "source": [
    "### Full Pipeline Function"
   ]
  },
  {
   "cell_type": "code",
   "execution_count": 28,
   "metadata": {},
   "outputs": [],
   "source": [
    "def calculate_daily_steps(file_name, filter_measure, start_time, end_time):\n",
    "    \n",
    "    df = read_CLEAN_data(filename)\n",
    "    filtered_df = filter_by_adherence(df, filter_measure)\n",
    "    \n",
    "    \n",
    "    dailysteps_method1 = all_step_activity(filtered_df)\n",
    "    dailysteps_method2 = top_ten_most_active_hours(filtered_df)\n",
    "    dailysteps_method3 = ten_hour_time_block(filtered_df, start_time, end_time)\n",
    "    \n",
    "    dailysteps_merged = dailysteps_method1.merge(dailysteps_method2,on ='Date').merge(dailysteps_method3,on ='Date')\n",
    "    dailysteps_merged.columns = [[\"Date\", \"all_step_activity\", \"top_ten_most_active_hours\", \"ten_hour_time_block\"]]\n",
    "    \n",
    "    return (dailysteps_merged)\n",
    "    "
   ]
  },
  {
   "cell_type": "markdown",
   "metadata": {},
   "source": [
    "Test Pipeline Function out"
   ]
  },
  {
   "cell_type": "code",
   "execution_count": 29,
   "metadata": {},
   "outputs": [
    {
     "data": {
      "text/html": [
       "<div>\n",
       "<style scoped>\n",
       "    .dataframe tbody tr th:only-of-type {\n",
       "        vertical-align: middle;\n",
       "    }\n",
       "\n",
       "    .dataframe tbody tr th {\n",
       "        vertical-align: top;\n",
       "    }\n",
       "\n",
       "    .dataframe thead tr th {\n",
       "        text-align: left;\n",
       "    }\n",
       "</style>\n",
       "<table border=\"1\" class=\"dataframe\">\n",
       "  <thead>\n",
       "    <tr>\n",
       "      <th></th>\n",
       "      <th>Date</th>\n",
       "      <th>all_step_activity</th>\n",
       "      <th>top_ten_most_active_hours</th>\n",
       "      <th>ten_hour_time_block</th>\n",
       "    </tr>\n",
       "  </thead>\n",
       "  <tbody>\n",
       "    <tr>\n",
       "      <th>0</th>\n",
       "      <td>2014-12-08</td>\n",
       "      <td>6567.0</td>\n",
       "      <td>6550.000000</td>\n",
       "      <td>6173.0</td>\n",
       "    </tr>\n",
       "    <tr>\n",
       "      <th>1</th>\n",
       "      <td>2014-12-12</td>\n",
       "      <td>5978.0</td>\n",
       "      <td>5886.460839</td>\n",
       "      <td>5034.0</td>\n",
       "    </tr>\n",
       "    <tr>\n",
       "      <th>2</th>\n",
       "      <td>2014-12-17</td>\n",
       "      <td>7192.0</td>\n",
       "      <td>6999.000000</td>\n",
       "      <td>4773.0</td>\n",
       "    </tr>\n",
       "    <tr>\n",
       "      <th>3</th>\n",
       "      <td>2014-12-25</td>\n",
       "      <td>7227.0</td>\n",
       "      <td>7122.000000</td>\n",
       "      <td>6939.0</td>\n",
       "    </tr>\n",
       "    <tr>\n",
       "      <th>4</th>\n",
       "      <td>2015-01-05</td>\n",
       "      <td>8010.0</td>\n",
       "      <td>7836.000000</td>\n",
       "      <td>6913.0</td>\n",
       "    </tr>\n",
       "  </tbody>\n",
       "</table>\n",
       "</div>"
      ],
      "text/plain": [
       "        Date all_step_activity top_ten_most_active_hours ten_hour_time_block\n",
       "0 2014-12-08            6567.0               6550.000000              6173.0\n",
       "1 2014-12-12            5978.0               5886.460839              5034.0\n",
       "2 2014-12-17            7192.0               6999.000000              4773.0\n",
       "3 2014-12-25            7227.0               7122.000000              6939.0\n",
       "4 2015-01-05            8010.0               7836.000000              6913.0"
      ]
     },
     "execution_count": 29,
     "metadata": {},
     "output_type": "execute_result"
    }
   ],
   "source": [
    "filename_user1 = \"../../data/cleaned/user1.csv\"\n",
    "\n",
    "filter_measure = 4\n",
    "start_time = 8\n",
    "end_time = 18\n",
    "\n",
    "daily_steps_user1 = calculate_daily_steps(filename_user1, filter_measure, start_time, end_time)\n",
    "daily_steps_user1.head()"
   ]
  },
  {
   "cell_type": "code",
   "execution_count": 30,
   "metadata": {},
   "outputs": [
    {
     "data": {
      "text/html": [
       "<div>\n",
       "<style scoped>\n",
       "    .dataframe tbody tr th:only-of-type {\n",
       "        vertical-align: middle;\n",
       "    }\n",
       "\n",
       "    .dataframe tbody tr th {\n",
       "        vertical-align: top;\n",
       "    }\n",
       "\n",
       "    .dataframe thead tr th {\n",
       "        text-align: left;\n",
       "    }\n",
       "</style>\n",
       "<table border=\"1\" class=\"dataframe\">\n",
       "  <thead>\n",
       "    <tr>\n",
       "      <th></th>\n",
       "      <th>all_step_activity</th>\n",
       "      <th>top_ten_most_active_hours</th>\n",
       "      <th>ten_hour_time_block</th>\n",
       "    </tr>\n",
       "  </thead>\n",
       "  <tbody>\n",
       "    <tr>\n",
       "      <th>count</th>\n",
       "      <td>419.000000</td>\n",
       "      <td>419.000000</td>\n",
       "      <td>419.000000</td>\n",
       "    </tr>\n",
       "    <tr>\n",
       "      <th>mean</th>\n",
       "      <td>8399.615993</td>\n",
       "      <td>7600.989275</td>\n",
       "      <td>6556.824145</td>\n",
       "    </tr>\n",
       "    <tr>\n",
       "      <th>std</th>\n",
       "      <td>3828.483717</td>\n",
       "      <td>3934.168360</td>\n",
       "      <td>3505.329823</td>\n",
       "    </tr>\n",
       "    <tr>\n",
       "      <th>min</th>\n",
       "      <td>751.000000</td>\n",
       "      <td>717.000000</td>\n",
       "      <td>440.000000</td>\n",
       "    </tr>\n",
       "    <tr>\n",
       "      <th>25%</th>\n",
       "      <td>5904.763502</td>\n",
       "      <td>4814.230510</td>\n",
       "      <td>4006.080856</td>\n",
       "    </tr>\n",
       "    <tr>\n",
       "      <th>50%</th>\n",
       "      <td>7477.000000</td>\n",
       "      <td>7009.659578</td>\n",
       "      <td>5927.726869</td>\n",
       "    </tr>\n",
       "    <tr>\n",
       "      <th>75%</th>\n",
       "      <td>10296.338990</td>\n",
       "      <td>9713.649943</td>\n",
       "      <td>8610.886991</td>\n",
       "    </tr>\n",
       "    <tr>\n",
       "      <th>max</th>\n",
       "      <td>30234.470106</td>\n",
       "      <td>27521.159646</td>\n",
       "      <td>22032.174027</td>\n",
       "    </tr>\n",
       "  </tbody>\n",
       "</table>\n",
       "</div>"
      ],
      "text/plain": [
       "      all_step_activity top_ten_most_active_hours ten_hour_time_block\n",
       "count        419.000000                419.000000          419.000000\n",
       "mean        8399.615993               7600.989275         6556.824145\n",
       "std         3828.483717               3934.168360         3505.329823\n",
       "min          751.000000                717.000000          440.000000\n",
       "25%         5904.763502               4814.230510         4006.080856\n",
       "50%         7477.000000               7009.659578         5927.726869\n",
       "75%        10296.338990               9713.649943         8610.886991\n",
       "max        30234.470106              27521.159646        22032.174027"
      ]
     },
     "execution_count": 30,
     "metadata": {},
     "output_type": "execute_result"
    }
   ],
   "source": [
    "daily_steps_user1.describe()"
   ]
  },
  {
   "cell_type": "markdown",
   "metadata": {},
   "source": [
    "As you can see, by addding the adherence measure, we are getting very different results when comparing the 3 methods"
   ]
  }
 ],
 "metadata": {
  "kernelspec": {
   "display_name": "Python 3",
   "language": "python",
   "name": "python3"
  }
 },
 "nbformat": 4,
 "nbformat_minor": 2
}
