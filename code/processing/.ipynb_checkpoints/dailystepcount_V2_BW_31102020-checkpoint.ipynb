{
 "cells": [
  {
   "cell_type": "markdown",
   "metadata": {},
   "source": [
    "# Daily Step Count Methods"
   ]
  },
  {
   "cell_type": "markdown",
   "metadata": {},
   "source": [
    "Workbook created by Benjamin Winiarski, re-using code from serval other notebooks."
   ]
  },
  {
   "cell_type": "markdown",
   "metadata": {},
   "source": [
    "Goal of this workbook is to create a pipeline of functions to that will transfrom any dataset into a daily step count table with different calculation methods"
   ]
  },
  {
   "cell_type": "code",
   "execution_count": 7,
   "metadata": {},
   "outputs": [],
   "source": [
    "# Importing required functions\n",
    "import pandas as pd\n",
    "import numpy as np\n",
    "from datetime import datetime"
   ]
  },
  {
   "cell_type": "markdown",
   "metadata": {},
   "source": [
    "Loading in the reading data functions that were created in Martin's notebooks"
   ]
  },
  {
   "cell_type": "code",
   "execution_count": 8,
   "metadata": {},
   "outputs": [],
   "source": [
    "# Loading reading data functions from Martin's workbooks\n",
    "def read_Pacer_data(filename):\n",
    "    #Read in the data\n",
    "    dat = pd.read_csv(filename)\n",
    "    #Select necessary columns\n",
    "    dat = dat[[\"date\",\"steps\"]]\n",
    "    #Extract datetime data\n",
    "    dat[\"datetime\"] = pd.to_datetime(dat[\"date\"], format = '%m/%d/%Y, %H:%M:%S %z')\n",
    "    dat[\"Date\"] = dat[\"datetime\"].dt.date\n",
    "    dat[\"Hour\"] = dat[\"datetime\"].dt.hour\n",
    "    dat[\"Min\"] = dat[\"datetime\"].dt.minute\n",
    "    #Aggregate over the hours\n",
    "    dat = dat.groupby([\"Date\",\"Hour\"])[\"steps\"].agg(\"sum\").reset_index()\n",
    "    #Relabel columns\n",
    "    dat.columns = [[\"Date\", \"Hour\", \"Steps\"]]\n",
    "    \n",
    "    return dat\n",
    "\n",
    "def read_QS_data(filename):\n",
    "    #Read in CSV file\n",
    "    dat = pd.read_csv(filename)\n",
    "    #Extract datetime information\n",
    "    dat[\"Datetime\"] = pd.to_datetime(dat[\"Start\"], format = '%d-%b-%Y %H:%M')\n",
    "    dat[\"Date\"] = dat[\"Datetime\"].dt.date\n",
    "    dat[\"Hour\"] = dat[\"Datetime\"].dt.hour\n",
    "    #Format columns\n",
    "    dat = dat[[\"Date\", \"Hour\", \"Steps (count)\"]]\n",
    "    dat.columns = [\"Date\", \"Hour\", \"Steps\"]\n",
    "    \n",
    "    return dat"
   ]
  },
  {
   "cell_type": "markdown",
   "metadata": {},
   "source": [
    "Loading in the run method functions from V1 of this notebook"
   ]
  },
  {
   "cell_type": "code",
   "execution_count": 13,
   "metadata": {},
   "outputs": [],
   "source": [
    "# Method 1 calculates daily steps based on all the step acitivity that is available during the day\n",
    "def run_method_1(df):\n",
    "    \n",
    "    df = df.copy()\n",
    "    df[\"Date\"] = pd.to_datetime(df[\"Date\"],format='%Y-%m-%d')\n",
    "    df.index = df[\"Date\"]\n",
    "    daily_step_count = df.drop(['Hour'], axis=1).resample('D').sum().reset_index()\n",
    "    \n",
    "    return(daily_step_count)\n",
    "\n",
    "# Method 2 calculates daily steps based on the 10 most active hours of the day\n",
    "def run_method_2(df):\n",
    "    \n",
    "    df = df.copy().sort_values(by=[\"Date\", \"Steps\"], ascending=False).groupby('Date').head(10)\n",
    "    df[\"Date\"] = pd.to_datetime(df[\"Date\"],format='%Y-%m-%d')\n",
    "    df.index = df[\"Date\"]\n",
    "    daily_step_count = df.drop(['Hour'], axis=1).resample('D').sum().reset_index()\n",
    "    \n",
    "    return(daily_step_count)\n",
    "\n",
    "# Method 3 calculates daily steps based on a 10 hour time block during the day\n",
    "def run_method_3(df, start_hour, end_hour):\n",
    "    \n",
    "    df = df.copy()\n",
    "    df[\"Date\"] = pd.to_datetime(df[\"Date\"],format='%Y-%m-%d')\n",
    "    mask = (df['Hour'] >= start_hour) & (df['Hour'] <= end_hour)\n",
    "    df = df.loc[mask]\n",
    "    df.index = df[\"Date\"]\n",
    "    daily_step_count = df.drop(['Hour'], axis=1).resample('D').sum().reset_index()\n",
    "    \n",
    "    return(daily_step_count)"
   ]
  },
  {
   "cell_type": "markdown",
   "metadata": {},
   "source": [
    "## Test the functions on a few datasets"
   ]
  },
  {
   "cell_type": "markdown",
   "metadata": {},
   "source": [
    "I want to testing the sequence of functions on the User1 dataset to see if it is behaving correctly"
   ]
  },
  {
   "cell_type": "code",
   "execution_count": 14,
   "metadata": {},
   "outputs": [],
   "source": [
    "filename_user1 = \"../../data/Participant_ID_A/User1.csv\"\n",
    "df_user1 = read_QS_data(filename_user1)\n",
    "\n",
    "dailysteps_user1_method1 = run_method_1(df_user1)\n",
    "dailysteps_user1_method2 = run_method_2(df_user1)\n",
    "\n",
    "#Set Start and End Time Range\n",
    "start_time = 8\n",
    "end_time = 18\n",
    "dailysteps_user1_method3 = run_method_3(df_user1, start_time, end_time)\n"
   ]
  },
  {
   "cell_type": "markdown",
   "metadata": {},
   "source": [
    "Viewing the results of this test"
   ]
  },
  {
   "cell_type": "code",
   "execution_count": 15,
   "metadata": {},
   "outputs": [
    {
     "data": {
      "text/html": [
       "<div>\n",
       "<style scoped>\n",
       "    .dataframe tbody tr th:only-of-type {\n",
       "        vertical-align: middle;\n",
       "    }\n",
       "\n",
       "    .dataframe tbody tr th {\n",
       "        vertical-align: top;\n",
       "    }\n",
       "\n",
       "    .dataframe thead th {\n",
       "        text-align: right;\n",
       "    }\n",
       "</style>\n",
       "<table border=\"1\" class=\"dataframe\">\n",
       "  <thead>\n",
       "    <tr style=\"text-align: right;\">\n",
       "      <th></th>\n",
       "      <th>Date</th>\n",
       "      <th>Steps</th>\n",
       "    </tr>\n",
       "  </thead>\n",
       "  <tbody>\n",
       "    <tr>\n",
       "      <th>0</th>\n",
       "      <td>2014-12-07</td>\n",
       "      <td>2693.0</td>\n",
       "    </tr>\n",
       "    <tr>\n",
       "      <th>1</th>\n",
       "      <td>2014-12-08</td>\n",
       "      <td>6567.0</td>\n",
       "    </tr>\n",
       "    <tr>\n",
       "      <th>2</th>\n",
       "      <td>2014-12-09</td>\n",
       "      <td>6879.0</td>\n",
       "    </tr>\n",
       "    <tr>\n",
       "      <th>3</th>\n",
       "      <td>2014-12-10</td>\n",
       "      <td>7845.0</td>\n",
       "    </tr>\n",
       "    <tr>\n",
       "      <th>4</th>\n",
       "      <td>2014-12-11</td>\n",
       "      <td>916.0</td>\n",
       "    </tr>\n",
       "  </tbody>\n",
       "</table>\n",
       "</div>"
      ],
      "text/plain": [
       "        Date   Steps\n",
       "0 2014-12-07  2693.0\n",
       "1 2014-12-08  6567.0\n",
       "2 2014-12-09  6879.0\n",
       "3 2014-12-10  7845.0\n",
       "4 2014-12-11   916.0"
      ]
     },
     "execution_count": 15,
     "metadata": {},
     "output_type": "execute_result"
    }
   ],
   "source": [
    "dailysteps_user1_method1.head()"
   ]
  },
  {
   "cell_type": "markdown",
   "metadata": {},
   "source": [
    "We can see that method 1 function worked well, but I feel like there should be someway that we can merge the three dataframes so we can view all the results from the different methods in one data frame."
   ]
  },
  {
   "cell_type": "code",
   "execution_count": 16,
   "metadata": {},
   "outputs": [
    {
     "data": {
      "text/html": [
       "<div>\n",
       "<style scoped>\n",
       "    .dataframe tbody tr th:only-of-type {\n",
       "        vertical-align: middle;\n",
       "    }\n",
       "\n",
       "    .dataframe tbody tr th {\n",
       "        vertical-align: top;\n",
       "    }\n",
       "\n",
       "    .dataframe thead tr th {\n",
       "        text-align: left;\n",
       "    }\n",
       "</style>\n",
       "<table border=\"1\" class=\"dataframe\">\n",
       "  <thead>\n",
       "    <tr>\n",
       "      <th></th>\n",
       "      <th>Date</th>\n",
       "      <th>Method_1</th>\n",
       "      <th>Method_2</th>\n",
       "      <th>Method_3</th>\n",
       "    </tr>\n",
       "  </thead>\n",
       "  <tbody>\n",
       "    <tr>\n",
       "      <th>0</th>\n",
       "      <td>2014-12-07</td>\n",
       "      <td>2693.0</td>\n",
       "      <td>2693.0</td>\n",
       "      <td>2693.0</td>\n",
       "    </tr>\n",
       "    <tr>\n",
       "      <th>1</th>\n",
       "      <td>2014-12-08</td>\n",
       "      <td>6567.0</td>\n",
       "      <td>6550.0</td>\n",
       "      <td>6173.0</td>\n",
       "    </tr>\n",
       "    <tr>\n",
       "      <th>2</th>\n",
       "      <td>2014-12-09</td>\n",
       "      <td>6879.0</td>\n",
       "      <td>6879.0</td>\n",
       "      <td>6651.0</td>\n",
       "    </tr>\n",
       "    <tr>\n",
       "      <th>3</th>\n",
       "      <td>2014-12-10</td>\n",
       "      <td>7845.0</td>\n",
       "      <td>7845.0</td>\n",
       "      <td>7528.0</td>\n",
       "    </tr>\n",
       "    <tr>\n",
       "      <th>4</th>\n",
       "      <td>2014-12-11</td>\n",
       "      <td>916.0</td>\n",
       "      <td>916.0</td>\n",
       "      <td>895.0</td>\n",
       "    </tr>\n",
       "  </tbody>\n",
       "</table>\n",
       "</div>"
      ],
      "text/plain": [
       "        Date Method_1 Method_2 Method_3\n",
       "0 2014-12-07   2693.0   2693.0   2693.0\n",
       "1 2014-12-08   6567.0   6550.0   6173.0\n",
       "2 2014-12-09   6879.0   6879.0   6651.0\n",
       "3 2014-12-10   7845.0   7845.0   7528.0\n",
       "4 2014-12-11    916.0    916.0    895.0"
      ]
     },
     "execution_count": 16,
     "metadata": {},
     "output_type": "execute_result"
    }
   ],
   "source": [
    "# Merge the datasets together\n",
    "dailysteps_user1_merged = dailysteps_user1_method1.merge(dailysteps_user1_method2,on ='Date').merge(dailysteps_user1_method3,on ='Date')\n",
    "dailysteps_user1_merged.columns = [[\"Date\", \"Method_1\", \"Method_2\", \"Method_3\"]]\n",
    "dailysteps_user1_merged.head()"
   ]
  },
  {
   "cell_type": "markdown",
   "metadata": {},
   "source": [
    "Merging the data frames worked really well. Now when we run our final analysis we will have the results from all three emthods all in the same object which will make it easier for our graphics. "
   ]
  },
  {
   "cell_type": "markdown",
   "metadata": {},
   "source": [
    "Also want to test some inital analysis of the data"
   ]
  },
  {
   "cell_type": "code",
   "execution_count": 17,
   "metadata": {},
   "outputs": [
    {
     "data": {
      "text/html": [
       "<div>\n",
       "<style scoped>\n",
       "    .dataframe tbody tr th:only-of-type {\n",
       "        vertical-align: middle;\n",
       "    }\n",
       "\n",
       "    .dataframe tbody tr th {\n",
       "        vertical-align: top;\n",
       "    }\n",
       "\n",
       "    .dataframe thead tr th {\n",
       "        text-align: left;\n",
       "    }\n",
       "</style>\n",
       "<table border=\"1\" class=\"dataframe\">\n",
       "  <thead>\n",
       "    <tr>\n",
       "      <th></th>\n",
       "      <th>Method_1</th>\n",
       "      <th>Method_2</th>\n",
       "      <th>Method_3</th>\n",
       "    </tr>\n",
       "  </thead>\n",
       "  <tbody>\n",
       "    <tr>\n",
       "      <th>count</th>\n",
       "      <td>1754.000000</td>\n",
       "      <td>1754.000000</td>\n",
       "      <td>1754.000000</td>\n",
       "    </tr>\n",
       "    <tr>\n",
       "      <th>mean</th>\n",
       "      <td>4873.111880</td>\n",
       "      <td>4677.100134</td>\n",
       "      <td>3637.647143</td>\n",
       "    </tr>\n",
       "    <tr>\n",
       "      <th>std</th>\n",
       "      <td>4059.530686</td>\n",
       "      <td>3915.520534</td>\n",
       "      <td>3206.934810</td>\n",
       "    </tr>\n",
       "    <tr>\n",
       "      <th>min</th>\n",
       "      <td>0.000000</td>\n",
       "      <td>0.000000</td>\n",
       "      <td>0.000000</td>\n",
       "    </tr>\n",
       "    <tr>\n",
       "      <th>25%</th>\n",
       "      <td>1753.000000</td>\n",
       "      <td>1753.000000</td>\n",
       "      <td>1036.204984</td>\n",
       "    </tr>\n",
       "    <tr>\n",
       "      <th>50%</th>\n",
       "      <td>4210.500000</td>\n",
       "      <td>3975.000000</td>\n",
       "      <td>3025.000000</td>\n",
       "    </tr>\n",
       "    <tr>\n",
       "      <th>75%</th>\n",
       "      <td>6828.480169</td>\n",
       "      <td>6675.919855</td>\n",
       "      <td>5336.903594</td>\n",
       "    </tr>\n",
       "    <tr>\n",
       "      <th>max</th>\n",
       "      <td>30234.470106</td>\n",
       "      <td>28359.000000</td>\n",
       "      <td>22032.174027</td>\n",
       "    </tr>\n",
       "  </tbody>\n",
       "</table>\n",
       "</div>"
      ],
      "text/plain": [
       "           Method_1      Method_2      Method_3\n",
       "count   1754.000000   1754.000000   1754.000000\n",
       "mean    4873.111880   4677.100134   3637.647143\n",
       "std     4059.530686   3915.520534   3206.934810\n",
       "min        0.000000      0.000000      0.000000\n",
       "25%     1753.000000   1753.000000   1036.204984\n",
       "50%     4210.500000   3975.000000   3025.000000\n",
       "75%     6828.480169   6675.919855   5336.903594\n",
       "max    30234.470106  28359.000000  22032.174027"
      ]
     },
     "execution_count": 17,
     "metadata": {},
     "output_type": "execute_result"
    }
   ],
   "source": [
    "dailysteps_user1_merged.describe()"
   ]
  },
  {
   "cell_type": "markdown",
   "metadata": {},
   "source": [
    "From the describe function we can see that there are some differents to the results measured by the different methods. While the difference is small at the moment, I feel that once we add the adherence into the picture we will see a drastic difference between the methods."
   ]
  },
  {
   "cell_type": "markdown",
   "metadata": {},
   "source": [
    "Finally, we should create a function to create and merge the three methods"
   ]
  },
  {
   "cell_type": "code",
   "execution_count": 22,
   "metadata": {},
   "outputs": [],
   "source": [
    "def calculate_daily_steps(file_name, file_type, start_time, end_time):\n",
    "    \n",
    "    if(file_type == \"QS\"):\n",
    "        df = read_QS_data(file_name)\n",
    "    elif (file_type == \"Pacer\"):\n",
    "        df = read_Pacer_data(file_name)\n",
    "    \n",
    "    dailysteps_method1 = run_method_1(df)\n",
    "    dailysteps_method2 = run_method_2(df)\n",
    "    dailysteps_method3 = run_method_3(df, start_time, end_time)\n",
    "    \n",
    "    dailysteps_merged = dailysteps_method1.merge(dailysteps_method2,on ='Date').merge(dailysteps_method3,on ='Date')\n",
    "    dailysteps_merged.columns = [[\"Date\", \"Method_1\", \"Method_2\", \"Method_3\"]]\n",
    "    \n",
    "    return (dailysteps_merged)\n",
    "    "
   ]
  },
  {
   "cell_type": "markdown",
   "metadata": {},
   "source": [
    "Test this pipeline function out on user 1 again"
   ]
  },
  {
   "cell_type": "code",
   "execution_count": 26,
   "metadata": {},
   "outputs": [
    {
     "data": {
      "text/html": [
       "<div>\n",
       "<style scoped>\n",
       "    .dataframe tbody tr th:only-of-type {\n",
       "        vertical-align: middle;\n",
       "    }\n",
       "\n",
       "    .dataframe tbody tr th {\n",
       "        vertical-align: top;\n",
       "    }\n",
       "\n",
       "    .dataframe thead tr th {\n",
       "        text-align: left;\n",
       "    }\n",
       "</style>\n",
       "<table border=\"1\" class=\"dataframe\">\n",
       "  <thead>\n",
       "    <tr>\n",
       "      <th></th>\n",
       "      <th>Date</th>\n",
       "      <th>Method_1</th>\n",
       "      <th>Method_2</th>\n",
       "      <th>Method_3</th>\n",
       "    </tr>\n",
       "  </thead>\n",
       "  <tbody>\n",
       "    <tr>\n",
       "      <th>0</th>\n",
       "      <td>2014-12-07</td>\n",
       "      <td>2693.0</td>\n",
       "      <td>2693.0</td>\n",
       "      <td>2693.0</td>\n",
       "    </tr>\n",
       "    <tr>\n",
       "      <th>1</th>\n",
       "      <td>2014-12-08</td>\n",
       "      <td>6567.0</td>\n",
       "      <td>6550.0</td>\n",
       "      <td>6173.0</td>\n",
       "    </tr>\n",
       "    <tr>\n",
       "      <th>2</th>\n",
       "      <td>2014-12-09</td>\n",
       "      <td>6879.0</td>\n",
       "      <td>6879.0</td>\n",
       "      <td>6651.0</td>\n",
       "    </tr>\n",
       "    <tr>\n",
       "      <th>3</th>\n",
       "      <td>2014-12-10</td>\n",
       "      <td>7845.0</td>\n",
       "      <td>7845.0</td>\n",
       "      <td>7528.0</td>\n",
       "    </tr>\n",
       "    <tr>\n",
       "      <th>4</th>\n",
       "      <td>2014-12-11</td>\n",
       "      <td>916.0</td>\n",
       "      <td>916.0</td>\n",
       "      <td>895.0</td>\n",
       "    </tr>\n",
       "  </tbody>\n",
       "</table>\n",
       "</div>"
      ],
      "text/plain": [
       "        Date Method_1 Method_2 Method_3\n",
       "0 2014-12-07   2693.0   2693.0   2693.0\n",
       "1 2014-12-08   6567.0   6550.0   6173.0\n",
       "2 2014-12-09   6879.0   6879.0   6651.0\n",
       "3 2014-12-10   7845.0   7845.0   7528.0\n",
       "4 2014-12-11    916.0    916.0    895.0"
      ]
     },
     "execution_count": 26,
     "metadata": {},
     "output_type": "execute_result"
    }
   ],
   "source": [
    "filename_user1 = \"../../data/Participant_ID_A/User1.csv\"\n",
    "\n",
    "start_time = 8\n",
    "end_time = 18\n",
    "\n",
    "daily_steps_user1 = calculate_daily_steps(filename_user1, \"QS\", start_time, end_time)\n",
    "daily_steps_user1.head()"
   ]
  },
  {
   "cell_type": "markdown",
   "metadata": {},
   "source": [
    "Results is excatly as we expected, making it far easier to get this data frame!"
   ]
  },
  {
   "cell_type": "markdown",
   "metadata": {},
   "source": [
    "Test it all out again on another dataset to make sure it is robust"
   ]
  },
  {
   "cell_type": "code",
   "execution_count": 28,
   "metadata": {},
   "outputs": [
    {
     "data": {
      "text/html": [
       "<div>\n",
       "<style scoped>\n",
       "    .dataframe tbody tr th:only-of-type {\n",
       "        vertical-align: middle;\n",
       "    }\n",
       "\n",
       "    .dataframe tbody tr th {\n",
       "        vertical-align: top;\n",
       "    }\n",
       "\n",
       "    .dataframe thead tr th {\n",
       "        text-align: left;\n",
       "    }\n",
       "</style>\n",
       "<table border=\"1\" class=\"dataframe\">\n",
       "  <thead>\n",
       "    <tr>\n",
       "      <th></th>\n",
       "      <th>Date</th>\n",
       "      <th>Method_1</th>\n",
       "      <th>Method_2</th>\n",
       "      <th>Method_3</th>\n",
       "    </tr>\n",
       "  </thead>\n",
       "  <tbody>\n",
       "    <tr>\n",
       "      <th>0</th>\n",
       "      <td>2015-11-28</td>\n",
       "      <td>145.0</td>\n",
       "      <td>145.000000</td>\n",
       "      <td>145.000000</td>\n",
       "    </tr>\n",
       "    <tr>\n",
       "      <th>1</th>\n",
       "      <td>2015-11-29</td>\n",
       "      <td>4233.0</td>\n",
       "      <td>4115.703713</td>\n",
       "      <td>4080.573591</td>\n",
       "    </tr>\n",
       "    <tr>\n",
       "      <th>2</th>\n",
       "      <td>2015-11-30</td>\n",
       "      <td>4162.0</td>\n",
       "      <td>4013.000000</td>\n",
       "      <td>3906.552367</td>\n",
       "    </tr>\n",
       "    <tr>\n",
       "      <th>3</th>\n",
       "      <td>2015-12-01</td>\n",
       "      <td>3209.0</td>\n",
       "      <td>3191.000000</td>\n",
       "      <td>2979.000000</td>\n",
       "    </tr>\n",
       "    <tr>\n",
       "      <th>4</th>\n",
       "      <td>2015-12-02</td>\n",
       "      <td>2773.0</td>\n",
       "      <td>2724.000000</td>\n",
       "      <td>2544.000000</td>\n",
       "    </tr>\n",
       "  </tbody>\n",
       "</table>\n",
       "</div>"
      ],
      "text/plain": [
       "        Date Method_1     Method_2     Method_3\n",
       "0 2015-11-28    145.0   145.000000   145.000000\n",
       "1 2015-11-29   4233.0  4115.703713  4080.573591\n",
       "2 2015-11-30   4162.0  4013.000000  3906.552367\n",
       "3 2015-12-01   3209.0  3191.000000  2979.000000\n",
       "4 2015-12-02   2773.0  2724.000000  2544.000000"
      ]
     },
     "execution_count": 28,
     "metadata": {},
     "output_type": "execute_result"
    }
   ],
   "source": [
    "filename_user2 = \"../../data/Participant_ID_C/User3.csv\"\n",
    "\n",
    "start_time = 8\n",
    "end_time = 18\n",
    "\n",
    "daily_steps_user2 = calculate_daily_steps(filename_user2, \"QS\", start_time, end_time)\n",
    "daily_steps_user2.head()"
   ]
  },
  {
   "cell_type": "markdown",
   "metadata": {},
   "source": [
    "From this, we can see the function is robust. We can now do a inital analysis on this user."
   ]
  },
  {
   "cell_type": "code",
   "execution_count": 29,
   "metadata": {},
   "outputs": [
    {
     "data": {
      "text/html": [
       "<div>\n",
       "<style scoped>\n",
       "    .dataframe tbody tr th:only-of-type {\n",
       "        vertical-align: middle;\n",
       "    }\n",
       "\n",
       "    .dataframe tbody tr th {\n",
       "        vertical-align: top;\n",
       "    }\n",
       "\n",
       "    .dataframe thead tr th {\n",
       "        text-align: left;\n",
       "    }\n",
       "</style>\n",
       "<table border=\"1\" class=\"dataframe\">\n",
       "  <thead>\n",
       "    <tr>\n",
       "      <th></th>\n",
       "      <th>Method_1</th>\n",
       "      <th>Method_2</th>\n",
       "      <th>Method_3</th>\n",
       "    </tr>\n",
       "  </thead>\n",
       "  <tbody>\n",
       "    <tr>\n",
       "      <th>count</th>\n",
       "      <td>1784.000000</td>\n",
       "      <td>1784.000000</td>\n",
       "      <td>1784.000000</td>\n",
       "    </tr>\n",
       "    <tr>\n",
       "      <th>mean</th>\n",
       "      <td>4676.801009</td>\n",
       "      <td>4616.481099</td>\n",
       "      <td>4009.699816</td>\n",
       "    </tr>\n",
       "    <tr>\n",
       "      <th>std</th>\n",
       "      <td>3437.520580</td>\n",
       "      <td>3362.922941</td>\n",
       "      <td>2942.759397</td>\n",
       "    </tr>\n",
       "    <tr>\n",
       "      <th>min</th>\n",
       "      <td>8.000000</td>\n",
       "      <td>8.000000</td>\n",
       "      <td>8.000000</td>\n",
       "    </tr>\n",
       "    <tr>\n",
       "      <th>25%</th>\n",
       "      <td>2111.250000</td>\n",
       "      <td>2105.750000</td>\n",
       "      <td>1741.500000</td>\n",
       "    </tr>\n",
       "    <tr>\n",
       "      <th>50%</th>\n",
       "      <td>4167.000000</td>\n",
       "      <td>4111.758886</td>\n",
       "      <td>3651.000000</td>\n",
       "    </tr>\n",
       "    <tr>\n",
       "      <th>75%</th>\n",
       "      <td>6532.250000</td>\n",
       "      <td>6448.142595</td>\n",
       "      <td>5741.715108</td>\n",
       "    </tr>\n",
       "    <tr>\n",
       "      <th>max</th>\n",
       "      <td>20913.000000</td>\n",
       "      <td>20829.000000</td>\n",
       "      <td>20699.000000</td>\n",
       "    </tr>\n",
       "  </tbody>\n",
       "</table>\n",
       "</div>"
      ],
      "text/plain": [
       "           Method_1      Method_2      Method_3\n",
       "count   1784.000000   1784.000000   1784.000000\n",
       "mean    4676.801009   4616.481099   4009.699816\n",
       "std     3437.520580   3362.922941   2942.759397\n",
       "min        8.000000      8.000000      8.000000\n",
       "25%     2111.250000   2105.750000   1741.500000\n",
       "50%     4167.000000   4111.758886   3651.000000\n",
       "75%     6532.250000   6448.142595   5741.715108\n",
       "max    20913.000000  20829.000000  20699.000000"
      ]
     },
     "execution_count": 29,
     "metadata": {},
     "output_type": "execute_result"
    }
   ],
   "source": [
    "daily_steps_user2.describe()"
   ]
  },
  {
   "cell_type": "markdown",
   "metadata": {},
   "source": [
    "From here we can see that there is less change between the methods than there was in user 1. If this is the case even after adding in the adherence component, we might need to investigate a new method for calculating the daily steps."
   ]
  }
 ],
 "metadata": {
  "kernelspec": {
   "display_name": "Python 3",
   "language": "python",
   "name": "python3"
  },
  "language_info": {
   "codemirror_mode": {
    "name": "ipython",
    "version": 3
   },
   "file_extension": ".py",
   "mimetype": "text/x-python",
   "name": "python",
   "nbconvert_exporter": "python",
   "pygments_lexer": "ipython3",
   "version": "3.7.3"
  }
 },
 "nbformat": 4,
 "nbformat_minor": 2
}
